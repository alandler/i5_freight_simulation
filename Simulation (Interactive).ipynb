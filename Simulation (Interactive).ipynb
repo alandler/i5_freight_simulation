{
 "cells": [
  {
   "cell_type": "markdown",
   "metadata": {},
   "source": [
    "# Import"
   ]
  },
  {
   "cell_type": "code",
   "execution_count": 44,
   "metadata": {},
   "outputs": [],
   "source": [
    "import networkx as nx\n",
    "import numpy as np\n",
    "import pandas as pd\n",
    "import matplotlib.pyplot as plt\n",
    "\n",
    "import random\n",
    "import copy\n",
    "\n",
    "import scipy.stats as ss\n",
    "from scipy.stats import norm\n",
    "from scipy.stats import poisson\n",
    "\n",
    "import simulation\n",
    "from replicate_graph import layer_graph\n",
    "import data\n",
    "from data import get_station_G, stations_df, distances_df"
   ]
  },
  {
   "cell_type": "markdown",
   "metadata": {},
   "source": [
    "# Create graphs from csv's"
   ]
  },
  {
   "cell_type": "code",
   "execution_count": 45,
   "metadata": {},
   "outputs": [
    {
     "name": "stderr",
     "output_type": "stream",
     "text": [
      "100%|██████████| 116882/116882 [00:01<00:00, 75893.55it/s]\n",
      "100%|██████████| 484/484 [00:00<00:00, 12632.82it/s]\n"
     ]
    }
   ],
   "source": [
    "station_G = get_station_G()\n",
    "G = layer_graph(station_G)"
   ]
  },
  {
   "cell_type": "markdown",
   "metadata": {},
   "source": [
    "# Visualize general data structure"
   ]
  },
  {
   "cell_type": "code",
   "execution_count": 46,
   "metadata": {},
   "outputs": [
    {
     "data": {
      "text/html": [
       "<div>\n",
       "<style scoped>\n",
       "    .dataframe tbody tr th:only-of-type {\n",
       "        vertical-align: middle;\n",
       "    }\n",
       "\n",
       "    .dataframe tbody tr th {\n",
       "        vertical-align: top;\n",
       "    }\n",
       "\n",
       "    .dataframe thead th {\n",
       "        text-align: right;\n",
       "    }\n",
       "</style>\n",
       "<table border=\"1\" class=\"dataframe\">\n",
       "  <thead>\n",
       "    <tr style=\"text-align: right;\">\n",
       "      <th></th>\n",
       "      <th>OID_</th>\n",
       "      <th>OBJECTID</th>\n",
       "      <th>station_na</th>\n",
       "      <th>fuel_type_</th>\n",
       "      <th>status_cod</th>\n",
       "      <th>street_add</th>\n",
       "      <th>city</th>\n",
       "      <th>st_prv_cod</th>\n",
       "      <th>zip</th>\n",
       "      <th>station_ph</th>\n",
       "      <th>access_day</th>\n",
       "      <th>groups_wit</th>\n",
       "      <th>cards_acce</th>\n",
       "      <th>longitude</th>\n",
       "      <th>latitude</th>\n",
       "    </tr>\n",
       "  </thead>\n",
       "  <tbody>\n",
       "    <tr>\n",
       "      <th>0</th>\n",
       "      <td>1</td>\n",
       "      <td>14</td>\n",
       "      <td>Scripps Green Hospital</td>\n",
       "      <td>ELEC</td>\n",
       "      <td>AVBL</td>\n",
       "      <td>10666 N Torrey Pines Rd</td>\n",
       "      <td>La Jolla</td>\n",
       "      <td>CA</td>\n",
       "      <td>92037</td>\n",
       "      <td>858-554-9100</td>\n",
       "      <td>24 hours daily</td>\n",
       "      <td>Public</td>\n",
       "      <td></td>\n",
       "      <td>-117.243</td>\n",
       "      <td>32.89947</td>\n",
       "    </tr>\n",
       "  </tbody>\n",
       "</table>\n",
       "</div>"
      ],
      "text/plain": [
       "   OID_  OBJECTID              station_na fuel_type_ status_cod  \\\n",
       "0     1        14  Scripps Green Hospital       ELEC       AVBL   \n",
       "\n",
       "                street_add      city st_prv_cod    zip    station_ph  \\\n",
       "0  10666 N Torrey Pines Rd  La Jolla         CA  92037  858-554-9100   \n",
       "\n",
       "       access_day groups_wit cards_acce  longitude  latitude  \n",
       "0  24 hours daily     Public              -117.243  32.89947  "
      ]
     },
     "execution_count": 46,
     "metadata": {},
     "output_type": "execute_result"
    }
   ],
   "source": [
    "stations_df.head(1)"
   ]
  },
  {
   "cell_type": "code",
   "execution_count": 47,
   "metadata": {},
   "outputs": [],
   "source": [
    "# Set colors\n",
    "for node in station_G.nodes:\n",
    "    station_G.nodes[node][\"color\"] = \"green\"\n",
    "    station_G.nodes[node][\"node_size\"] = 4\n",
    "    \n",
    "station_G.nodes[464][\"color\"] = \"blue\" \n",
    "station_G.nodes[1][\"color\"] = \"blue\" \n",
    "station_G.nodes[464][\"node_size\"] = 70 \n",
    "station_G.nodes[1][\"node_size\"] = 70 "
   ]
  },
  {
   "cell_type": "code",
   "execution_count": 48,
   "metadata": {},
   "outputs": [
    {
     "data": {
      "image/png": "[encoded data removed]",
      "text/plain": [
       "<Figure size 432x288 with 1 Axes>"
      ]
     },
     "metadata": {},
     "output_type": "display_data"
    }
   ],
   "source": [
    "pos=nx.get_node_attributes(station_G,'pos')\n",
    "color = nx.get_node_attributes(station_G,'color').values()\n",
    "node_size = list(nx.get_node_attributes(station_G,'node_size').values())\n",
    "nx.draw(station_G, pos = pos, node_size=node_size, width=.00001, node_color=color)"
   ]
  },
  {
   "cell_type": "markdown",
   "metadata": {},
   "source": [
    "# Simulation"
   ]
  },
  {
   "cell_type": "code",
   "execution_count": null,
   "metadata": {},
   "outputs": [],
   "source": []
  }
 ],
 "metadata": {
  "kernelspec": {
   "display_name": "Python 3 (ipykernel)",
   "language": "python",
   "name": "python3"
  },
  "language_info": {
   "codemirror_mode": {
    "name": "ipython",
    "version": 3
   },
   "file_extension": ".py",
   "mimetype": "text/x-python",
   "name": "python",
   "nbconvert_exporter": "python",
   "pygments_lexer": "ipython3",
   "version": "3.7.4"
  }
 },
 "nbformat": 4,
 "nbformat_minor": 4
}
