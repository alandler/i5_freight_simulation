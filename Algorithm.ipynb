{
 "cells": [
  {
   "cell_type": "code",
   "execution_count": 1,
   "id": "demanding-norman",
   "metadata": {},
   "outputs": [],
   "source": [
    "from multiprocessing.sharedctypes import Value\n",
    "import networkx as nx\n",
    "import numpy as np\n",
    "import random\n",
    "import pandas as pd\n",
    "\n",
    "from tqdm import tqdm\n",
    "from datetime import datetime\n",
    "import pickle\n",
    "\n",
    "# File imports\n",
    "import data\n",
    "from data import select_dataset, get_station_g, ingest_electricity_data, set_random_speed_columns, ingest_pems\n",
    "from replicate_graph import layer_graph\n",
    "from vehicle import Vehicle\n",
    "from simulation import Simulation\n",
    "from visualization import set_draw_attributes"
   ]
  },
  {
   "cell_type": "markdown",
   "id": "surprising-boost",
   "metadata": {},
   "source": [
    "## Ingest pems for the whole graph (all charging and parking stops)\n",
    "### commented out because it only needs to be done once. Csv already saved."
   ]
  },
  {
   "cell_type": "code",
   "execution_count": 3,
   "id": "resistant-acrobat",
   "metadata": {},
   "outputs": [
    {
     "name": "stderr",
     "output_type": "stream",
     "text": [
      "100%|██████████████████████████████████████████████████████████████████████████████████| 24/24 [34:35<00:00, 86.47s/it]\n"
     ]
    }
   ],
   "source": [
    "# all_graph = ingest_pems(\"data/charging_parking_stations_lonlat.csv\", \"data/charging_parking_distances.csv\")"
   ]
  },
  {
   "cell_type": "code",
   "execution_count": 14,
   "id": "sonic-therapy",
   "metadata": {},
   "outputs": [],
   "source": [
    "# #save the new csv with all the speeds (from pems ingest above), which will be used for the algorithm\n",
    "# all_graph[1].to_csv(\"data/charging_parking_distances_pemsingested.csv\")"
   ]
  },
  {
   "cell_type": "markdown",
   "id": "little-finland",
   "metadata": {},
   "source": [
    "## Run the algorithm"
   ]
  },
  {
   "cell_type": "code",
   "execution_count": 2,
   "id": "welcome-daily",
   "metadata": {
    "scrolled": false
   },
   "outputs": [
    {
     "name": "stdout",
     "output_type": "stream",
     "text": [
      "------- SCENARIO 0 -------\n"
     ]
    },
    {
     "name": "stderr",
     "output_type": "stream",
     "text": [
      "100%|██████████████████████████████████████████████████████████████████████████████████| 12/12 [01:05<00:00,  5.48s/it]\n"
     ]
    },
    {
     "name": "stdout",
     "output_type": "stream",
     "text": [
      "scenario0_wcctci\n",
      "station_utilization_disp_of_avg:   17.42682291666667\n",
      "station_utilization_avg_of_disp:   17.4359375\n",
      "electricity:   0\n",
      "percent_delay:   (1.0, 1.081176268014861, 4.645865529389639, 1.3455363922829928, 0.7322992289386983)\n",
      "hours_spent_in_queues:   (0.0, 0.0, 7.0, 0.34711864406779663, 1.086207912874594)\n",
      "hours_spent_charging:   (0, 0.0, 24, 2.4101694915254237, 6.128944801354659)\n",
      "____________________\n"
     ]
    },
    {
     "name": "stderr",
     "output_type": "stream",
     "text": [
      "<ipython-input-2-15e4afd591bb>:93: SettingWithCopyWarning: \n",
      "A value is trying to be set on a copy of a slice from a DataFrame.\n",
      "Try using .loc[row_indexer,col_indexer] = value instead\n",
      "\n",
      "See the caveats in the documentation: https://pandas.pydata.org/pandas-docs/stable/user_guide/indexing.html#returning-a-view-versus-a-copy\n",
      "  new_map_loc['charging_rate'] = scenario[0]\n",
      "<ipython-input-2-15e4afd591bb>:94: SettingWithCopyWarning: \n",
      "A value is trying to be set on a copy of a slice from a DataFrame.\n",
      "Try using .loc[row_indexer,col_indexer] = value instead\n",
      "\n",
      "See the caveats in the documentation: https://pandas.pydata.org/pandas-docs/stable/user_guide/indexing.html#returning-a-view-versus-a-copy\n",
      "  new_map_loc['physical_capacity'] = 8\n",
      "100%|██████████████████████████████████████████████████████████████████████████████████| 12/12 [01:21<00:00,  6.76s/it]\n"
     ]
    },
    {
     "name": "stdout",
     "output_type": "stream",
     "text": [
      "scenario0_algorithm_1\n",
      "station_utilization_disp_of_avg:   14.521354166666669\n",
      "station_utilization_avg_of_disp:   14.551822916666667\n",
      "electricity:   0\n",
      "percent_delay:   (1.3259882524244162, 1.5730789851367193, 4.948856749458465, 1.6879051831443552, 0.5947427810779189)\n",
      "hours_spent_in_queues:   (0.0, 0.0, 5.6, 0.3889273356401383, 1.048387404745609)\n",
      "hours_spent_charging:   (0, 0.0, 24, 1.2802768166089966, 3.8077945818218457)\n",
      "____________________\n"
     ]
    },
    {
     "name": "stderr",
     "output_type": "stream",
     "text": [
      "<ipython-input-2-15e4afd591bb>:93: SettingWithCopyWarning: \n",
      "A value is trying to be set on a copy of a slice from a DataFrame.\n",
      "Try using .loc[row_indexer,col_indexer] = value instead\n",
      "\n",
      "See the caveats in the documentation: https://pandas.pydata.org/pandas-docs/stable/user_guide/indexing.html#returning-a-view-versus-a-copy\n",
      "  new_map_loc['charging_rate'] = scenario[0]\n",
      "<ipython-input-2-15e4afd591bb>:94: SettingWithCopyWarning: \n",
      "A value is trying to be set on a copy of a slice from a DataFrame.\n",
      "Try using .loc[row_indexer,col_indexer] = value instead\n",
      "\n",
      "See the caveats in the documentation: https://pandas.pydata.org/pandas-docs/stable/user_guide/indexing.html#returning-a-view-versus-a-copy\n",
      "  new_map_loc['physical_capacity'] = 8\n",
      "100%|██████████████████████████████████████████████████████████████████████████████████| 12/12 [00:27<00:00,  2.30s/it]\n"
     ]
    },
    {
     "name": "stdout",
     "output_type": "stream",
     "text": [
      "scenario0_algorithm_2\n",
      "station_utilization_disp_of_avg:   14.877083333333333\n",
      "station_utilization_avg_of_disp:   14.879427083333333\n",
      "electricity:   0\n",
      "percent_delay:   (1.2166331243308481, 1.5730789851367193, 4.948856749458465, 1.5757182531923417, 0.6222815482387589)\n",
      "hours_spent_in_queues:   (0.0, 0.0, 5.2, 0.23661971830985917, 0.9024597742382928)\n",
      "hours_spent_charging:   (0, 0.0, 24, 1.1549295774647887, 4.033828389249337)\n",
      "____________________\n"
     ]
    },
    {
     "name": "stderr",
     "output_type": "stream",
     "text": [
      "<ipython-input-2-15e4afd591bb>:93: SettingWithCopyWarning: \n",
      "A value is trying to be set on a copy of a slice from a DataFrame.\n",
      "Try using .loc[row_indexer,col_indexer] = value instead\n",
      "\n",
      "See the caveats in the documentation: https://pandas.pydata.org/pandas-docs/stable/user_guide/indexing.html#returning-a-view-versus-a-copy\n",
      "  new_map_loc['charging_rate'] = scenario[0]\n",
      "<ipython-input-2-15e4afd591bb>:94: SettingWithCopyWarning: \n",
      "A value is trying to be set on a copy of a slice from a DataFrame.\n",
      "Try using .loc[row_indexer,col_indexer] = value instead\n",
      "\n",
      "See the caveats in the documentation: https://pandas.pydata.org/pandas-docs/stable/user_guide/indexing.html#returning-a-view-versus-a-copy\n",
      "  new_map_loc['physical_capacity'] = 8\n",
      "100%|██████████████████████████████████████████████████████████████████████████████████| 12/12 [00:29<00:00,  2.45s/it]\n"
     ]
    },
    {
     "name": "stdout",
     "output_type": "stream",
     "text": [
      "scenario0_algorithm_3\n",
      "station_utilization_disp_of_avg:   14.888281249999999\n",
      "station_utilization_avg_of_disp:   14.890104166666667\n",
      "electricity:   0\n",
      "percent_delay:   (1.2166331243308481, 1.5730789851367193, 3.90977064103651, 1.5362665075521957, 0.5399678917840401)\n",
      "hours_spent_in_queues:   (0.0, 0.0, 5.2, 0.1675090252707581, 0.6921623659902882)\n",
      "hours_spent_charging:   (0, 0.0, 24, 1.1913357400722022, 4.507057925075535)\n",
      "____________________\n"
     ]
    },
    {
     "name": "stderr",
     "output_type": "stream",
     "text": [
      "<ipython-input-2-15e4afd591bb>:93: SettingWithCopyWarning: \n",
      "A value is trying to be set on a copy of a slice from a DataFrame.\n",
      "Try using .loc[row_indexer,col_indexer] = value instead\n",
      "\n",
      "See the caveats in the documentation: https://pandas.pydata.org/pandas-docs/stable/user_guide/indexing.html#returning-a-view-versus-a-copy\n",
      "  new_map_loc['charging_rate'] = scenario[0]\n",
      "<ipython-input-2-15e4afd591bb>:94: SettingWithCopyWarning: \n",
      "A value is trying to be set on a copy of a slice from a DataFrame.\n",
      "Try using .loc[row_indexer,col_indexer] = value instead\n",
      "\n",
      "See the caveats in the documentation: https://pandas.pydata.org/pandas-docs/stable/user_guide/indexing.html#returning-a-view-versus-a-copy\n",
      "  new_map_loc['physical_capacity'] = 8\n",
      "100%|██████████████████████████████████████████████████████████████████████████████████| 12/12 [00:31<00:00,  2.59s/it]\n"
     ]
    },
    {
     "name": "stdout",
     "output_type": "stream",
     "text": [
      "scenario0_algorithm_4\n",
      "station_utilization_disp_of_avg:   14.482812500000001\n",
      "station_utilization_avg_of_disp:   14.48671875\n",
      "electricity:   0\n",
      "percent_delay:   (1.2166331243308481, 1.5730789851367193, 4.5448684433802224, 1.5407161798197102, 0.5785964365698943)\n",
      "hours_spent_in_queues:   (0.0, 0.0, 4.4, 0.2054421768707483, 0.796914313792414)\n",
      "hours_spent_charging:   (0, 0.0, 24, 0.8945578231292517, 3.838460616773401)\n",
      "____________________\n"
     ]
    },
    {
     "name": "stderr",
     "output_type": "stream",
     "text": [
      "<ipython-input-2-15e4afd591bb>:93: SettingWithCopyWarning: \n",
      "A value is trying to be set on a copy of a slice from a DataFrame.\n",
      "Try using .loc[row_indexer,col_indexer] = value instead\n",
      "\n",
      "See the caveats in the documentation: https://pandas.pydata.org/pandas-docs/stable/user_guide/indexing.html#returning-a-view-versus-a-copy\n",
      "  new_map_loc['charging_rate'] = scenario[0]\n",
      "<ipython-input-2-15e4afd591bb>:94: SettingWithCopyWarning: \n",
      "A value is trying to be set on a copy of a slice from a DataFrame.\n",
      "Try using .loc[row_indexer,col_indexer] = value instead\n",
      "\n",
      "See the caveats in the documentation: https://pandas.pydata.org/pandas-docs/stable/user_guide/indexing.html#returning-a-view-versus-a-copy\n",
      "  new_map_loc['physical_capacity'] = 8\n",
      "  0%|                                                                                           | 0/12 [00:01<?, ?it/s]\n"
     ]
    },
    {
     "ename": "NetworkXNoPath",
     "evalue": "No path between Long Beach and San Diego.",
     "output_type": "error",
     "traceback": [
      "\u001b[1;31m---------------------------------------------------------------------------\u001b[0m",
      "\u001b[1;31mNetworkXNoPath\u001b[0m                            Traceback (most recent call last)",
      "\u001b[1;32m<ipython-input-2-15e4afd591bb>\u001b[0m in \u001b[0;36m<module>\u001b[1;34m\u001b[0m\n\u001b[0;32m    115\u001b[0m     \u001b[0msim\u001b[0m \u001b[1;33m=\u001b[0m \u001b[0mSimulation\u001b[0m\u001b[1;33m(\u001b[0m\u001b[0mname\u001b[0m\u001b[1;33m,\u001b[0m \u001b[0mstations_path\u001b[0m\u001b[1;33m,\u001b[0m \u001b[0mdistances_path\u001b[0m\u001b[1;33m,\u001b[0m \u001b[0msimulation_length\u001b[0m\u001b[1;33m,\u001b[0m \u001b[0mbattery_interval\u001b[0m\u001b[1;33m,\u001b[0m \u001b[0mkwh_per_km\u001b[0m\u001b[1;33m,\u001b[0m \u001b[0mbattery_capacity\u001b[0m\u001b[1;33m)\u001b[0m\u001b[1;33m\u001b[0m\u001b[1;33m\u001b[0m\u001b[0m\n\u001b[0;32m    116\u001b[0m     \u001b[0msim\u001b[0m\u001b[1;33m.\u001b[0m\u001b[0madd_demand_nodes\u001b[0m\u001b[1;33m(\u001b[0m\u001b[1;33m)\u001b[0m\u001b[1;33m\u001b[0m\u001b[1;33m\u001b[0m\u001b[0m\n\u001b[1;32m--> 117\u001b[1;33m     \u001b[0msim\u001b[0m\u001b[1;33m.\u001b[0m\u001b[0mrun\u001b[0m\u001b[1;33m(\u001b[0m\u001b[1;33m)\u001b[0m\u001b[1;33m\u001b[0m\u001b[1;33m\u001b[0m\u001b[0m\n\u001b[0m\u001b[0;32m    118\u001b[0m \u001b[1;33m\u001b[0m\u001b[0m\n\u001b[0;32m    119\u001b[0m \u001b[1;33m\u001b[0m\u001b[0m\n",
      "\u001b[1;32m~\\Desktop\\MIT\\1.013\\GitHub Directory\\i5_freight_simulation\\simulation.py\u001b[0m in \u001b[0;36mrun\u001b[1;34m(self)\u001b[0m\n\u001b[0;32m    362\u001b[0m             \u001b[0mself\u001b[0m\u001b[1;33m.\u001b[0m\u001b[0mupdate_hourly_road_time\u001b[0m\u001b[1;33m(\u001b[0m\u001b[0mh_step\u001b[0m\u001b[1;33m)\u001b[0m\u001b[1;33m\u001b[0m\u001b[1;33m\u001b[0m\u001b[0m\n\u001b[0;32m    363\u001b[0m             \u001b[1;32mfor\u001b[0m \u001b[0mi_step\u001b[0m \u001b[1;32min\u001b[0m \u001b[0mrange\u001b[0m\u001b[1;33m(\u001b[0m\u001b[0mint\u001b[0m\u001b[1;33m(\u001b[0m\u001b[1;36m1\u001b[0m\u001b[1;33m/\u001b[0m\u001b[0mself\u001b[0m\u001b[1;33m.\u001b[0m\u001b[0mtime_interval\u001b[0m\u001b[1;33m)\u001b[0m\u001b[1;33m)\u001b[0m\u001b[1;33m:\u001b[0m \u001b[1;31m# go in interval segments\u001b[0m\u001b[1;33m\u001b[0m\u001b[1;33m\u001b[0m\u001b[0m\n\u001b[1;32m--> 364\u001b[1;33m                 \u001b[0mself\u001b[0m\u001b[1;33m.\u001b[0m\u001b[0mstep\u001b[0m\u001b[1;33m(\u001b[0m\u001b[0mh_step\u001b[0m\u001b[1;33m,\u001b[0m\u001b[0mi_step\u001b[0m\u001b[1;33m)\u001b[0m\u001b[1;33m\u001b[0m\u001b[1;33m\u001b[0m\u001b[0m\n\u001b[0m\u001b[0;32m    365\u001b[0m                 \u001b[0mself\u001b[0m\u001b[1;33m.\u001b[0m\u001b[0msimulation_index\u001b[0m \u001b[1;33m+=\u001b[0m \u001b[1;36m1\u001b[0m\u001b[1;33m\u001b[0m\u001b[1;33m\u001b[0m\u001b[0m\n\u001b[0;32m    366\u001b[0m                 \u001b[0mself\u001b[0m\u001b[1;33m.\u001b[0m\u001b[0mrecord_data\u001b[0m\u001b[1;33m(\u001b[0m\u001b[1;33m)\u001b[0m\u001b[1;33m\u001b[0m\u001b[1;33m\u001b[0m\u001b[0m\n",
      "\u001b[1;32m~\\Desktop\\MIT\\1.013\\GitHub Directory\\i5_freight_simulation\\simulation.py\u001b[0m in \u001b[0;36mstep\u001b[1;34m(self, h_step, i_step)\u001b[0m\n\u001b[0;32m    351\u001b[0m \u001b[1;33m\u001b[0m\u001b[0m\n\u001b[0;32m    352\u001b[0m                 \u001b[1;31m# proceed with adding vehicle\u001b[0m\u001b[1;33m\u001b[0m\u001b[1;33m\u001b[0m\u001b[1;33m\u001b[0m\u001b[0m\n\u001b[1;32m--> 353\u001b[1;33m                 \u001b[0mtruck\u001b[0m \u001b[1;33m=\u001b[0m \u001b[0mVehicle\u001b[0m\u001b[1;33m(\u001b[0m\u001b[0mself\u001b[0m\u001b[1;33m,\u001b[0m \u001b[0msrc\u001b[0m\u001b[1;33m,\u001b[0m \u001b[0mdestinations\u001b[0m\u001b[1;33m[\u001b[0m\u001b[0mtruck_i\u001b[0m\u001b[1;33m]\u001b[0m\u001b[1;33m,\u001b[0m \u001b[0mself\u001b[0m\u001b[1;33m.\u001b[0m\u001b[0msimulation_index\u001b[0m\u001b[1;33m)\u001b[0m\u001b[1;33m\u001b[0m\u001b[1;33m\u001b[0m\u001b[0m\n\u001b[0m\u001b[0;32m    354\u001b[0m                 \u001b[0mself\u001b[0m\u001b[1;33m.\u001b[0m\u001b[0mvehicle_list\u001b[0m\u001b[1;33m.\u001b[0m\u001b[0mappend\u001b[0m\u001b[1;33m(\u001b[0m\u001b[0mtruck\u001b[0m\u001b[1;33m)\u001b[0m\u001b[1;33m\u001b[0m\u001b[1;33m\u001b[0m\u001b[0m\n\u001b[0;32m    355\u001b[0m                 \u001b[0mshortest_path\u001b[0m \u001b[1;33m=\u001b[0m \u001b[0mnx\u001b[0m\u001b[1;33m.\u001b[0m\u001b[0mshortest_path\u001b[0m\u001b[1;33m(\u001b[0m\u001b[0mself\u001b[0m\u001b[1;33m.\u001b[0m\u001b[0mbattery_g\u001b[0m\u001b[1;33m,\u001b[0m \u001b[0msrc\u001b[0m\u001b[1;33m,\u001b[0m \u001b[0mdestinations\u001b[0m\u001b[1;33m[\u001b[0m\u001b[0mtruck_i\u001b[0m\u001b[1;33m]\u001b[0m\u001b[1;33m)\u001b[0m\u001b[1;33m\u001b[0m\u001b[1;33m\u001b[0m\u001b[0m\n",
      "\u001b[1;32m~\\Desktop\\MIT\\1.013\\GitHub Directory\\i5_freight_simulation\\vehicle.py\u001b[0m in \u001b[0;36m__init__\u001b[1;34m(self, simulation, src, dst, start_time)\u001b[0m\n\u001b[0;32m     13\u001b[0m \u001b[1;33m\u001b[0m\u001b[0m\n\u001b[0;32m     14\u001b[0m         \u001b[1;31m# calculated\u001b[0m\u001b[1;33m\u001b[0m\u001b[1;33m\u001b[0m\u001b[1;33m\u001b[0m\u001b[0m\n\u001b[1;32m---> 15\u001b[1;33m         \u001b[0mself\u001b[0m\u001b[1;33m.\u001b[0m\u001b[0mpath\u001b[0m \u001b[1;33m=\u001b[0m \u001b[0mself\u001b[0m\u001b[1;33m.\u001b[0m\u001b[0mget_shortest_path\u001b[0m\u001b[1;33m(\u001b[0m\u001b[1;33m)\u001b[0m\u001b[1;33m\u001b[0m\u001b[1;33m\u001b[0m\u001b[0m\n\u001b[0m\u001b[0;32m     16\u001b[0m         \u001b[0mself\u001b[0m\u001b[1;33m.\u001b[0m\u001b[0mbaseline_time\u001b[0m \u001b[1;33m=\u001b[0m \u001b[0mself\u001b[0m\u001b[1;33m.\u001b[0m\u001b[0mget_baseline_travel_time\u001b[0m\u001b[1;33m(\u001b[0m\u001b[1;33m)\u001b[0m\u001b[1;33m\u001b[0m\u001b[1;33m\u001b[0m\u001b[0m\n\u001b[0;32m     17\u001b[0m \u001b[1;33m\u001b[0m\u001b[0m\n",
      "\u001b[1;32m~\\Desktop\\MIT\\1.013\\GitHub Directory\\i5_freight_simulation\\vehicle.py\u001b[0m in \u001b[0;36mget_shortest_path\u001b[1;34m(self)\u001b[0m\n\u001b[0;32m    103\u001b[0m         \u001b[1;34m'''Calculate shortest path'''\u001b[0m\u001b[1;33m\u001b[0m\u001b[1;33m\u001b[0m\u001b[0m\n\u001b[0;32m    104\u001b[0m         \u001b[0mG\u001b[0m \u001b[1;33m=\u001b[0m \u001b[0mself\u001b[0m\u001b[1;33m.\u001b[0m\u001b[0msimulation\u001b[0m\u001b[1;33m.\u001b[0m\u001b[0mbattery_g\u001b[0m\u001b[1;33m\u001b[0m\u001b[1;33m\u001b[0m\u001b[0m\n\u001b[1;32m--> 105\u001b[1;33m         \u001b[1;32mreturn\u001b[0m \u001b[0mnx\u001b[0m\u001b[1;33m.\u001b[0m\u001b[0mshortest_path\u001b[0m\u001b[1;33m(\u001b[0m\u001b[0mG\u001b[0m\u001b[1;33m,\u001b[0m \u001b[0mself\u001b[0m\u001b[1;33m.\u001b[0m\u001b[0msrc\u001b[0m\u001b[1;33m,\u001b[0m \u001b[0mself\u001b[0m\u001b[1;33m.\u001b[0m\u001b[0mdst\u001b[0m\u001b[1;33m)\u001b[0m\u001b[1;33m\u001b[0m\u001b[1;33m\u001b[0m\u001b[0m\n\u001b[0m\u001b[0;32m    106\u001b[0m \u001b[1;33m\u001b[0m\u001b[0m\n\u001b[0;32m    107\u001b[0m     \u001b[1;32mdef\u001b[0m \u001b[0mget_baseline_travel_time\u001b[0m\u001b[1;33m(\u001b[0m\u001b[0mself\u001b[0m\u001b[1;33m)\u001b[0m\u001b[1;33m:\u001b[0m\u001b[1;33m\u001b[0m\u001b[1;33m\u001b[0m\u001b[0m\n",
      "\u001b[1;32m~\\.julia\\conda\\3\\lib\\site-packages\\networkx\\algorithms\\shortest_paths\\generic.py\u001b[0m in \u001b[0;36mshortest_path\u001b[1;34m(G, source, target, weight, method)\u001b[0m\n\u001b[0;32m    163\u001b[0m             \u001b[1;31m# Find shortest source-target path.\u001b[0m\u001b[1;33m\u001b[0m\u001b[1;33m\u001b[0m\u001b[1;33m\u001b[0m\u001b[0m\n\u001b[0;32m    164\u001b[0m             \u001b[1;32mif\u001b[0m \u001b[0mmethod\u001b[0m \u001b[1;33m==\u001b[0m \u001b[1;34m\"unweighted\"\u001b[0m\u001b[1;33m:\u001b[0m\u001b[1;33m\u001b[0m\u001b[1;33m\u001b[0m\u001b[0m\n\u001b[1;32m--> 165\u001b[1;33m                 \u001b[0mpaths\u001b[0m \u001b[1;33m=\u001b[0m \u001b[0mnx\u001b[0m\u001b[1;33m.\u001b[0m\u001b[0mbidirectional_shortest_path\u001b[0m\u001b[1;33m(\u001b[0m\u001b[0mG\u001b[0m\u001b[1;33m,\u001b[0m \u001b[0msource\u001b[0m\u001b[1;33m,\u001b[0m \u001b[0mtarget\u001b[0m\u001b[1;33m)\u001b[0m\u001b[1;33m\u001b[0m\u001b[1;33m\u001b[0m\u001b[0m\n\u001b[0m\u001b[0;32m    166\u001b[0m             \u001b[1;32melif\u001b[0m \u001b[0mmethod\u001b[0m \u001b[1;33m==\u001b[0m \u001b[1;34m\"dijkstra\"\u001b[0m\u001b[1;33m:\u001b[0m\u001b[1;33m\u001b[0m\u001b[1;33m\u001b[0m\u001b[0m\n\u001b[0;32m    167\u001b[0m                 \u001b[0m_\u001b[0m\u001b[1;33m,\u001b[0m \u001b[0mpaths\u001b[0m \u001b[1;33m=\u001b[0m \u001b[0mnx\u001b[0m\u001b[1;33m.\u001b[0m\u001b[0mbidirectional_dijkstra\u001b[0m\u001b[1;33m(\u001b[0m\u001b[0mG\u001b[0m\u001b[1;33m,\u001b[0m \u001b[0msource\u001b[0m\u001b[1;33m,\u001b[0m \u001b[0mtarget\u001b[0m\u001b[1;33m,\u001b[0m \u001b[0mweight\u001b[0m\u001b[1;33m)\u001b[0m\u001b[1;33m\u001b[0m\u001b[1;33m\u001b[0m\u001b[0m\n",
      "\u001b[1;32m~\\.julia\\conda\\3\\lib\\site-packages\\networkx\\algorithms\\shortest_paths\\unweighted.py\u001b[0m in \u001b[0;36mbidirectional_shortest_path\u001b[1;34m(G, source, target)\u001b[0m\n\u001b[0;32m    222\u001b[0m \u001b[1;33m\u001b[0m\u001b[0m\n\u001b[0;32m    223\u001b[0m     \u001b[1;31m# call helper to do the real work\u001b[0m\u001b[1;33m\u001b[0m\u001b[1;33m\u001b[0m\u001b[1;33m\u001b[0m\u001b[0m\n\u001b[1;32m--> 224\u001b[1;33m     \u001b[0mresults\u001b[0m \u001b[1;33m=\u001b[0m \u001b[0m_bidirectional_pred_succ\u001b[0m\u001b[1;33m(\u001b[0m\u001b[0mG\u001b[0m\u001b[1;33m,\u001b[0m \u001b[0msource\u001b[0m\u001b[1;33m,\u001b[0m \u001b[0mtarget\u001b[0m\u001b[1;33m)\u001b[0m\u001b[1;33m\u001b[0m\u001b[1;33m\u001b[0m\u001b[0m\n\u001b[0m\u001b[0;32m    225\u001b[0m     \u001b[0mpred\u001b[0m\u001b[1;33m,\u001b[0m \u001b[0msucc\u001b[0m\u001b[1;33m,\u001b[0m \u001b[0mw\u001b[0m \u001b[1;33m=\u001b[0m \u001b[0mresults\u001b[0m\u001b[1;33m\u001b[0m\u001b[1;33m\u001b[0m\u001b[0m\n\u001b[0;32m    226\u001b[0m \u001b[1;33m\u001b[0m\u001b[0m\n",
      "\u001b[1;32m~\\.julia\\conda\\3\\lib\\site-packages\\networkx\\algorithms\\shortest_paths\\unweighted.py\u001b[0m in \u001b[0;36m_bidirectional_pred_succ\u001b[1;34m(G, source, target)\u001b[0m\n\u001b[0;32m    290\u001b[0m                         \u001b[1;32mreturn\u001b[0m \u001b[0mpred\u001b[0m\u001b[1;33m,\u001b[0m \u001b[0msucc\u001b[0m\u001b[1;33m,\u001b[0m \u001b[0mw\u001b[0m\u001b[1;33m\u001b[0m\u001b[1;33m\u001b[0m\u001b[0m\n\u001b[0;32m    291\u001b[0m \u001b[1;33m\u001b[0m\u001b[0m\n\u001b[1;32m--> 292\u001b[1;33m     \u001b[1;32mraise\u001b[0m \u001b[0mnx\u001b[0m\u001b[1;33m.\u001b[0m\u001b[0mNetworkXNoPath\u001b[0m\u001b[1;33m(\u001b[0m\u001b[1;34mf\"No path between {source} and {target}.\"\u001b[0m\u001b[1;33m)\u001b[0m\u001b[1;33m\u001b[0m\u001b[1;33m\u001b[0m\u001b[0m\n\u001b[0m\u001b[0;32m    293\u001b[0m \u001b[1;33m\u001b[0m\u001b[0m\n\u001b[0;32m    294\u001b[0m \u001b[1;33m\u001b[0m\u001b[0m\n",
      "\u001b[1;31mNetworkXNoPath\u001b[0m: No path between Long Beach and San Diego."
     ]
    }
   ],
   "source": [
    "number_of_iterations = 5\n",
    "kwh_per_km = 1.9\n",
    "\n",
    "#scenario list: each list inside has three params : charging rate, kwh per km, and battery capacity.\n",
    "scenario_list = [[45,1.9,215],[90,1.9,215],[45,0.95,215],[45,1.9,430],[90,0.95,430]] \n",
    "\n",
    "for scenario, s in zip(scenario_list, range(0,len(scenario_list))):\n",
    "    \n",
    "    print('------- SCENARIO '+str(s)+' -------')\n",
    "    #initialize for wcctici\n",
    "    simulation_length = 12\n",
    "    battery_interval = 20\n",
    "    kwh_per_km = scenario[1]\n",
    "    battery_capacity = scenario[2]\n",
    "    stations_path = \"data/wcctci_stations-updated.csv\"\n",
    "    distances_path = \"data/wcctci_coord_distances.csv\"\n",
    "    name = \"scenario\"+str(s)+\"_wcctci\" \n",
    "    \n",
    "    for n in range(0, number_of_iterations):\n",
    "\n",
    "        sim = Simulation(name, stations_path, distances_path, simulation_length, battery_interval, kwh_per_km, battery_capacity)\n",
    "        sim.add_demand_nodes()\n",
    "        sim.run()\n",
    "\n",
    "        ### Print metrics\n",
    "\n",
    "        #print name of this simulation\n",
    "        print(name, )\n",
    "        print(\"station_utilization_disp_of_avg:  \", sim.metrics['station_utilization_disp_of_avg'])\n",
    "        print(\"station_utilization_avg_of_disp:  \", sim.metrics['station_utilization_avg_of_disp'])\n",
    "        print(\"electricity:  \", sim.metrics['electricity'])\n",
    "        print(\"percent_delay:  \", sim.metrics['percent_delay'])\n",
    "        print(\"hours_spent_in_queues:  \", sim.metrics['hours_spent_in_queues'])\n",
    "        print(\"hours_spent_charging:  \", sim.metrics['hours_spent_charging'])\n",
    "        print('____________________')\n",
    "\n",
    "\n",
    "        ### get station utilization\n",
    "\n",
    "        #get the station ids in order \n",
    "        current_stations = [int(j) for j in sim.station_g.nodes]\n",
    "\n",
    "        #get the utilization rate of the stations\n",
    "        utilization = sim.metrics['station_utilization']\n",
    "\n",
    "        #get the station that has the highest utilization.\n",
    "        h_st = current_stations[np.argmax(utilization)]\n",
    "\n",
    "        #get the station that has the lowest utilization.\n",
    "        l_st = current_stations[np.argmin(utilization)]\n",
    "\n",
    "\n",
    "        ### Find the unused location that is closest to the highly utilized station\n",
    "\n",
    "        #get the map of all parking areas and stations\n",
    "        full_map_dist = pd.read_csv(\"data/charging_parking_distances_pemsingested.csv\")\n",
    "        full_map_loc = pd.read_csv(\"data/charging_parking_stations.csv\")\n",
    "\n",
    "        #keep only the roads that start or end with the high utilization station\n",
    "        h_map = full_map_dist[(full_map_dist.loc[:, 'OriginID'] == h_st) | (full_map_dist.loc[:, 'DestinationID'] == h_st)]\n",
    "\n",
    "        #then we eliminate all of the stations that are already being used.\n",
    "        using_st = current_stations.copy()\n",
    "        using_st.remove(h_st)\n",
    "        h_map = h_map[(~ h_map.loc[:, 'OriginID'].isin(using_st)) & (~ h_map.loc[:, 'DestinationID'].isin(using_st))]\n",
    "\n",
    "        #then we remove the case where we go from h_st to h_st\n",
    "        h_map = h_map[~ ((h_map.loc[:, 'OriginID'] == h_st) & (h_map.loc[:, 'DestinationID'] == h_st))]\n",
    "\n",
    "        #find the shortest edge. If there is more than one, we choose the first one that comes up (hence the 'reset_index' and [0] bellow)\n",
    "\n",
    "        new_origin = h_map[h_map.Total_TravelTime==h_map.Total_TravelTime.min()].reset_index()['OriginID'][0]\n",
    "        new_destination = h_map[h_map.Total_TravelTime==h_map.Total_TravelTime.min()].reset_index()['DestinationID'][0]\n",
    "\n",
    "        #one of the two will be h_st and the other will be the new station location. \n",
    "        if new_origin == h_st:\n",
    "            new_station = new_destination\n",
    "        else:\n",
    "            new_station = new_origin\n",
    "\n",
    "\n",
    "        ### create the new maps with the locations and the distances of the stations that we will be using next\n",
    "\n",
    "        new_stations_list = current_stations + [new_station]\n",
    "        new_stations_list.remove(l_st)\n",
    "\n",
    "        #now we reduce these to the new set of stations. All origins and destinations should be in this list.\n",
    "        new_map_dist = full_map_dist[(full_map_dist.loc[:, 'OriginID'].isin(new_stations_list)) & (full_map_dist.loc[:, 'DestinationID'].isin(new_stations_list))]\n",
    "        new_map_loc = full_map_loc[full_map_loc.loc[:, 'OID_'].isin(new_stations_list)]\n",
    "\n",
    "        #we add the charging rates and capacity- assuming that they are the same as the others (set to 45 and 8)\n",
    "        #TO DO: check this\n",
    "        new_map_loc['charging_rate'] = scenario[0]\n",
    "        new_map_loc['physical_capacity'] = 8\n",
    "\n",
    "        #we change the snapX and snapY columns to lon and lat \n",
    "        new_map_loc = new_map_loc.rename(columns = {'SnapX': 'longitude', 'SnapY': 'latitude'})\n",
    "\n",
    "        #now we save them. \n",
    "        new_map_loc.to_csv(\"data/algorithm_\"+str(n+1)+\"_stations.csv\") \n",
    "        new_map_dist.to_csv(\"data/algorithm_\"+str(n+1)+\"_distances.csv\")\n",
    "\n",
    "\n",
    "        #reset the variables for the next iteration\n",
    "        stations_path = \"data/algorithm_\"+str(n+1)+\"_stations.csv\"\n",
    "        distances_path = \"data/algorithm_\"+str(n+1)+\"_distances.csv\"\n",
    "        name = \"scenario\"+str(s)+\"_algorithm_\"+str(n+1)\n",
    "    \n",
    "    \n",
    "\n",
    "    #we run the simulation for the final alocation\n",
    "\n",
    "    ### run the simulation\n",
    "\n",
    "    sim = Simulation(name, stations_path, distances_path, simulation_length, battery_interval, kwh_per_km, battery_capacity)\n",
    "    sim.add_demand_nodes()\n",
    "    sim.run()\n",
    "\n",
    "\n",
    "    ### Print metrics\n",
    "\n",
    "    #print name of this simulation\n",
    "    print(name)\n",
    "    print(\"station_utilization_disp_of_avg:  \", sim.metrics['station_utilization_disp_of_avg'])\n",
    "    print(\"station_utilization_avg_of_disp:  \", sim.metrics['station_utilization_avg_of_disp'])\n",
    "    print(\"electricity:  \", sim.metrics['electricity'])\n",
    "    print(\"percent_delay:  \", sim.metrics['percent_delay'])\n",
    "    print(\"hours_spent_in_queues:  \", sim.metrics['hours_spent_in_queues'])\n",
    "    print(\"hours_spent_charging:  \", sim.metrics['hours_spent_charging'])"
   ]
  },
  {
   "cell_type": "markdown",
   "id": "green-button",
   "metadata": {},
   "source": [
    "## Bellow this is  just code I used to think about/ build the algorithm above (Just ignore).\n",
    "### I was thinking about just one iteration, starting from the wcctci pickle."
   ]
  },
  {
   "cell_type": "code",
   "execution_count": 2,
   "id": "constitutional-quick",
   "metadata": {},
   "outputs": [],
   "source": [
    "#open the pickle\n",
    "with open('trials/wcctci_04_04_2022_12_15_28.pkl', 'rb') as inp:\n",
    "    res = pickle.load(inp)"
   ]
  },
  {
   "cell_type": "markdown",
   "id": "ecological-adoption",
   "metadata": {},
   "source": [
    "Get the highest and lowest utilized stations:"
   ]
  },
  {
   "cell_type": "code",
   "execution_count": 7,
   "id": "occupied-employer",
   "metadata": {},
   "outputs": [],
   "source": [
    "#get station utilization\n",
    "\n",
    "#get the station ids in order \n",
    "current_stations = list(res.station_g.nodes)\n",
    "\n",
    "#get the utilization rate of the stations\n",
    "utilization = res.metrics['station_utilization']\n",
    "\n",
    "#get the station that has the highest utilization.\n",
    "h_st = current_stations[np.argmax(utilization)]\n",
    "\n",
    "#get the station that has the lowest utilization.\n",
    "l_st = current_stations[np.argmin(utilization)]"
   ]
  },
  {
   "cell_type": "markdown",
   "id": "arbitrary-grocery",
   "metadata": {},
   "source": [
    "Find the unused location that is closest to the highly utilized station:"
   ]
  },
  {
   "cell_type": "code",
   "execution_count": 41,
   "id": "shaped-logging",
   "metadata": {},
   "outputs": [],
   "source": [
    "#get the map of all parking areas and stations\n",
    "full_map_dist = pd.read_csv(\"data/charging_parking_distances.csv\")\n",
    "\n",
    "#keep only the roads that start or end with the high utilization station\n",
    "h_map = full_map_dist[(full_map_dist.loc[:, 'OriginID'] == h_st) | (full_map_dist.loc[:, 'DestinationID'] == h_st)]\n",
    "\n",
    "#then we eliminate all of the stations that are already being used.\n",
    "using_st = current_stations.copy()\n",
    "using_st.remove(h_st)\n",
    "h_map = h_map[(~ h_map.loc[:, 'OriginID'].isin(using_st)) & (~ h_map.loc[:, 'DestinationID'].isin(using_st))]\n",
    "\n",
    "#then we remove the case where we go from h_st to h_st\n",
    "h_map = h_map[~ ((h_map.loc[:, 'OriginID'] == h_st) & (h_map.loc[:, 'DestinationID'] == h_st))]\n",
    "\n",
    "#find the shortest edge. If there is more than one, we choose the first one that comes up (hence the 'reset_index' and [0] bellow)\n",
    "\n",
    "new_origin = h_map[h_map.Total_TravelTime==h_map.Total_TravelTime.min()].reset_index()['OriginID'][0]\n",
    "new_destination = h_map[h_map.Total_TravelTime==h_map.Total_TravelTime.min()].reset_index()['DestinationID'][0]\n",
    "\n",
    "#one of the two will be h_st and the other will be the new station location. \n",
    "if new_origin == h_st:\n",
    "    new_station = new_destination\n",
    "else:\n",
    "    new_station = new_origin"
   ]
  },
  {
   "cell_type": "markdown",
   "id": "capital-programmer",
   "metadata": {},
   "source": [
    "Now we start to think about re-runing the simulation with this swap (taking out l_st and adding new_station). To do this, we need to create a new map with the locations and the distances of the stations that we will be using next."
   ]
  },
  {
   "cell_type": "code",
   "execution_count": null,
   "id": "environmental-demographic",
   "metadata": {},
   "outputs": [],
   "source": [
    "new_stations_list = current_stations + [new_station]"
   ]
  },
  {
   "cell_type": "code",
   "execution_count": null,
   "id": "danish-musician",
   "metadata": {},
   "outputs": [],
   "source": [
    "#we have \"full_map_dist\" (distances map)\n",
    "#and we need the locations map\n",
    "full_map_loc = pd.read_csv(\"data/charging_parking_stations.csv\")\n",
    "\n",
    "#now we reduce these to the new set of stations. All origins and destinations should be in this list.\n",
    "new_map_dist = full_map_dist[(full_map_dist.loc[:, 'OriginID'].isin(new_stations_list)) & (full_map_dist.loc[:, 'DestinationID'].isin(new_stations_list))]\n",
    "new_map_loc = full_map_loc[(full_map_loc.loc[:, 'OriginID'].isin(new_stations_list)) & (full_map_loc.loc[:, 'DestinationID'].isin(new_stations_list))]"
   ]
  },
  {
   "cell_type": "code",
   "execution_count": null,
   "id": "plain-hampton",
   "metadata": {},
   "outputs": [],
   "source": [
    "#now we save them. \n",
    "new_map_loc.to_csv(\"data/algorithm_\"+str(1)+\"_stations.csv\") ########change the 1\n",
    "new_map_dist.to_csv(\"data/algorithm_\"+str(1)+\"_distances.csv\")"
   ]
  },
  {
   "cell_type": "markdown",
   "id": "operating-hotel",
   "metadata": {},
   "source": [
    "Now we can run the next simulation"
   ]
  },
  {
   "cell_type": "code",
   "execution_count": null,
   "id": "monthly-width",
   "metadata": {},
   "outputs": [],
   "source": [
    "simulation_length = 12\n",
    "battery_interval = 20\n",
    "km_per_percent = 3.13\n",
    "\n",
    "sim = Simulation(\"data/algorithm_\"+str(1)+\"_stations.csv\", \"data/algorithm_\"+str(1)+\"_distances.csv\", simulation_length, battery_interval, km_per_percent)"
   ]
  },
  {
   "cell_type": "markdown",
   "id": "fixed-cement",
   "metadata": {},
   "source": [
    "# Anna"
   ]
  },
  {
   "cell_type": "code",
   "execution_count": 17,
   "id": "constitutional-accordance",
   "metadata": {},
   "outputs": [],
   "source": [
    "stations_path = \"data/wcctci_stations-updated.csv\"\n",
    "distances_path = \"data/wcctci_coord_distances.csv\"\n",
    "# stations_df, distances_df = select_dataset(stations_csv_path, distances_csv_path)\n",
    "# station_g = get_station_g(stations_df, distances_df)\n",
    "# battery_g = layer_graph(station_g, 20, km_per_percent= 1.9)\n",
    "simulation_length = 24\n",
    "battery_interval = 20\n",
    "kwh_per_km = 1.9\n",
    "battery_capacity = 215\n",
    "name = 'hi'\n",
    "sim = Simulation(name, stations_path, distances_path, simulation_length, battery_interval, kwh_per_km, battery_capacity)\n",
    "sim.add_demand_nodes()"
   ]
  },
  {
   "cell_type": "code",
   "execution_count": 18,
   "id": "passing-tyler",
   "metadata": {},
   "outputs": [
    {
     "data": {
      "text/plain": [
       "NodeView(('1_0_in', '2_0_in', '3_0_in', '4_0_in', '5_0_in', '6_0_in', '7_0_in', '8_0_in', '9_0_in', '10_0_in', '11_0_in', '12_0_in', '13_0_in', '14_0_in', '15_0_in', '16_0_in', '17_0_in', '18_0_in', '19_0_in', '20_0_in', '21_0_in', '22_0_in', '23_0_in', '24_0_in', '25_0_in', '26_0_in', '27_0_in', '28_0_in', '29_0_in', '30_0_in', '31_0_in', '32_0_in', '33_0_in', '34_0_in', '35_0_in', '36_0_in', '37_0_in', '38_0_in', '39_0_in', '40_0_in', '41_0_in', '42_0_in', '43_0_in', '1_20_in', '2_20_in', '3_20_in', '4_20_in', '5_20_in', '6_20_in', '7_20_in', '8_20_in', '9_20_in', '10_20_in', '11_20_in', '12_20_in', '13_20_in', '14_20_in', '15_20_in', '16_20_in', '17_20_in', '18_20_in', '19_20_in', '20_20_in', '21_20_in', '22_20_in', '23_20_in', '24_20_in', '25_20_in', '26_20_in', '27_20_in', '28_20_in', '29_20_in', '30_20_in', '31_20_in', '32_20_in', '33_20_in', '34_20_in', '35_20_in', '36_20_in', '37_20_in', '38_20_in', '39_20_in', '40_20_in', '41_20_in', '42_20_in', '43_20_in', '1_40_in', '2_40_in', '3_40_in', '4_40_in', '5_40_in', '6_40_in', '7_40_in', '8_40_in', '9_40_in', '10_40_in', '11_40_in', '12_40_in', '13_40_in', '14_40_in', '15_40_in', '16_40_in', '17_40_in', '18_40_in', '19_40_in', '20_40_in', '21_40_in', '22_40_in', '23_40_in', '24_40_in', '25_40_in', '26_40_in', '27_40_in', '28_40_in', '29_40_in', '30_40_in', '31_40_in', '32_40_in', '33_40_in', '34_40_in', '35_40_in', '36_40_in', '37_40_in', '38_40_in', '39_40_in', '40_40_in', '41_40_in', '42_40_in', '43_40_in', '1_60_in', '2_60_in', '3_60_in', '4_60_in', '5_60_in', '6_60_in', '7_60_in', '8_60_in', '9_60_in', '10_60_in', '11_60_in', '12_60_in', '13_60_in', '14_60_in', '15_60_in', '16_60_in', '17_60_in', '18_60_in', '19_60_in', '20_60_in', '21_60_in', '22_60_in', '23_60_in', '24_60_in', '25_60_in', '26_60_in', '27_60_in', '28_60_in', '29_60_in', '30_60_in', '31_60_in', '32_60_in', '33_60_in', '34_60_in', '35_60_in', '36_60_in', '37_60_in', '38_60_in', '39_60_in', '40_60_in', '41_60_in', '42_60_in', '43_60_in', '1_80_in', '2_80_in', '3_80_in', '4_80_in', '5_80_in', '6_80_in', '7_80_in', '8_80_in', '9_80_in', '10_80_in', '11_80_in', '12_80_in', '13_80_in', '14_80_in', '15_80_in', '16_80_in', '17_80_in', '18_80_in', '19_80_in', '20_80_in', '21_80_in', '22_80_in', '23_80_in', '24_80_in', '25_80_in', '26_80_in', '27_80_in', '28_80_in', '29_80_in', '30_80_in', '31_80_in', '32_80_in', '33_80_in', '34_80_in', '35_80_in', '36_80_in', '37_80_in', '38_80_in', '39_80_in', '40_80_in', '41_80_in', '42_80_in', '43_80_in', '1_100_in', '2_100_in', '3_100_in', '4_100_in', '5_100_in', '6_100_in', '7_100_in', '8_100_in', '9_100_in', '10_100_in', '11_100_in', '12_100_in', '13_100_in', '14_100_in', '15_100_in', '16_100_in', '17_100_in', '18_100_in', '19_100_in', '20_100_in', '21_100_in', '22_100_in', '23_100_in', '24_100_in', '25_100_in', '26_100_in', '27_100_in', '28_100_in', '29_100_in', '30_100_in', '31_100_in', '32_100_in', '33_100_in', '34_100_in', '35_100_in', '36_100_in', '37_100_in', '38_100_in', '39_100_in', '40_100_in', '41_100_in', '42_100_in', '43_100_in', '1_0_out', '2_0_out', '3_0_out', '4_0_out', '5_0_out', '6_0_out', '7_0_out', '8_0_out', '9_0_out', '10_0_out', '11_0_out', '12_0_out', '13_0_out', '14_0_out', '15_0_out', '16_0_out', '17_0_out', '18_0_out', '19_0_out', '20_0_out', '21_0_out', '22_0_out', '23_0_out', '24_0_out', '25_0_out', '26_0_out', '27_0_out', '28_0_out', '29_0_out', '30_0_out', '31_0_out', '32_0_out', '33_0_out', '34_0_out', '35_0_out', '36_0_out', '37_0_out', '38_0_out', '39_0_out', '40_0_out', '41_0_out', '42_0_out', '43_0_out', '1_20_out', '2_20_out', '3_20_out', '4_20_out', '5_20_out', '6_20_out', '7_20_out', '8_20_out', '9_20_out', '10_20_out', '11_20_out', '12_20_out', '13_20_out', '14_20_out', '15_20_out', '16_20_out', '17_20_out', '18_20_out', '19_20_out', '20_20_out', '21_20_out', '22_20_out', '23_20_out', '24_20_out', '25_20_out', '26_20_out', '27_20_out', '28_20_out', '29_20_out', '30_20_out', '31_20_out', '32_20_out', '33_20_out', '34_20_out', '35_20_out', '36_20_out', '37_20_out', '38_20_out', '39_20_out', '40_20_out', '41_20_out', '42_20_out', '43_20_out', '1_40_out', '2_40_out', '3_40_out', '4_40_out', '5_40_out', '6_40_out', '7_40_out', '8_40_out', '9_40_out', '10_40_out', '11_40_out', '12_40_out', '13_40_out', '14_40_out', '15_40_out', '16_40_out', '17_40_out', '18_40_out', '19_40_out', '20_40_out', '21_40_out', '22_40_out', '23_40_out', '24_40_out', '25_40_out', '26_40_out', '27_40_out', '28_40_out', '29_40_out', '30_40_out', '31_40_out', '32_40_out', '33_40_out', '34_40_out', '35_40_out', '36_40_out', '37_40_out', '38_40_out', '39_40_out', '40_40_out', '41_40_out', '42_40_out', '43_40_out', '1_60_out', '2_60_out', '3_60_out', '4_60_out', '5_60_out', '6_60_out', '7_60_out', '8_60_out', '9_60_out', '10_60_out', '11_60_out', '12_60_out', '13_60_out', '14_60_out', '15_60_out', '16_60_out', '17_60_out', '18_60_out', '19_60_out', '20_60_out', '21_60_out', '22_60_out', '23_60_out', '24_60_out', '25_60_out', '26_60_out', '27_60_out', '28_60_out', '29_60_out', '30_60_out', '31_60_out', '32_60_out', '33_60_out', '34_60_out', '35_60_out', '36_60_out', '37_60_out', '38_60_out', '39_60_out', '40_60_out', '41_60_out', '42_60_out', '43_60_out', '1_80_out', '2_80_out', '3_80_out', '4_80_out', '5_80_out', '6_80_out', '7_80_out', '8_80_out', '9_80_out', '10_80_out', '11_80_out', '12_80_out', '13_80_out', '14_80_out', '15_80_out', '16_80_out', '17_80_out', '18_80_out', '19_80_out', '20_80_out', '21_80_out', '22_80_out', '23_80_out', '24_80_out', '25_80_out', '26_80_out', '27_80_out', '28_80_out', '29_80_out', '30_80_out', '31_80_out', '32_80_out', '33_80_out', '34_80_out', '35_80_out', '36_80_out', '37_80_out', '38_80_out', '39_80_out', '40_80_out', '41_80_out', '42_80_out', '43_80_out', '1_100_out', '2_100_out', '3_100_out', '4_100_out', '5_100_out', '6_100_out', '7_100_out', '8_100_out', '9_100_out', '10_100_out', '11_100_out', '12_100_out', '13_100_out', '14_100_out', '15_100_out', '16_100_out', '17_100_out', '18_100_out', '19_100_out', '20_100_out', '21_100_out', '22_100_out', '23_100_out', '24_100_out', '25_100_out', '26_100_out', '27_100_out', '28_100_out', '29_100_out', '30_100_out', '31_100_out', '32_100_out', '33_100_out', '34_100_out', '35_100_out', '36_100_out', '37_100_out', '38_100_out', '39_100_out', '40_100_out', '41_100_out', '42_100_out', '43_100_out', '1', '2', '3', '4', '5', '6', '7', '8', '9', '10', '11', '12', '13', '14', '15', '16', '17', '18', '19', '20', '21', '22', '23', '24', '25', '26', '27', '28', '29', '30', '31', '32', '33', '34', '35', '36', '37', '38', '39', '40', '41', '42', '43', 'Oakland', 'Long Beach', 'San Diego', 'Fresno', 'Sacramento', 'Reno', 'Oregon'))"
      ]
     },
     "execution_count": 18,
     "metadata": {},
     "output_type": "execute_result"
    }
   ],
   "source": [
    "sim.battery_g.nodes"
   ]
  },
  {
   "cell_type": "code",
   "execution_count": 22,
   "id": "obvious-teach",
   "metadata": {},
   "outputs": [
    {
     "data": {
      "text/plain": [
       "['Long Beach',\n",
       " '9',\n",
       " '9_100_in',\n",
       " '9_100_out',\n",
       " '10_0_in',\n",
       " '10_100_out',\n",
       " '2_0_in',\n",
       " '2_80_out',\n",
       " '31_0_in',\n",
       " '31_80_out',\n",
       " '32_0_in',\n",
       " '32_80_out',\n",
       " '33_0_in',\n",
       " '33_80_out',\n",
       " '34_0_in',\n",
       " '34_80_out',\n",
       " '35_0_in',\n",
       " '35_100_out',\n",
       " '5_0_in',\n",
       " '5_100_out',\n",
       " '37_0_in',\n",
       " '37_80_out',\n",
       " '38_20_in',\n",
       " '38_20_out',\n",
       " '38',\n",
       " 'Reno']"
      ]
     },
     "execution_count": 22,
     "metadata": {},
     "output_type": "execute_result"
    }
   ],
   "source": [
    "nx.shortest_path(sim.battery_g, \"Long Beach\", \"Reno\")"
   ]
  },
  {
   "cell_type": "code",
   "execution_count": null,
   "id": "neutral-webster",
   "metadata": {},
   "outputs": [],
   "source": []
  }
 ],
 "metadata": {
  "kernelspec": {
   "display_name": "Python 3",
   "language": "python",
   "name": "python3"
  },
  "language_info": {
   "codemirror_mode": {
    "name": "ipython",
    "version": 3
   },
   "file_extension": ".py",
   "mimetype": "text/x-python",
   "name": "python",
   "nbconvert_exporter": "python",
   "pygments_lexer": "ipython3",
   "version": "3.8.5"
  }
 },
 "nbformat": 4,
 "nbformat_minor": 5
}
