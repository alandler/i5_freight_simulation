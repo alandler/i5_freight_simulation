{
 "cells": [
  {
   "cell_type": "code",
   "execution_count": 1,
   "id": "6f1d6415",
   "metadata": {},
   "outputs": [],
   "source": [
    "from multiprocessing.sharedctypes import Value\n",
    "import networkx as nx\n",
    "import numpy as np\n",
    "import random\n",
    "import pandas as pd\n",
    "\n",
    "from tqdm import tqdm\n",
    "from datetime import datetime\n",
    "import pickle\n",
    "\n",
    "# File imports\n",
    "import data\n",
    "from data import select_dataset, get_station_g, ingest_electricity_data, set_random_speed_columns, ingest_pems\n",
    "from replicate_graph import layer_graph\n",
    "from vehicle import Vehicle\n",
    "from simulation import Simulation\n",
    "from visualization import set_draw_attributes\n",
    "from vehicle_list_data import get_utilization"
   ]
  },
  {
   "cell_type": "markdown",
   "id": "f100ce1c",
   "metadata": {},
   "source": [
    "## Ingest pems for the whole graph (all charging and parking stops)\n",
    "### commented out because it only needs to be done once. Csv already saved."
   ]
  },
  {
   "cell_type": "code",
   "execution_count": 2,
   "id": "318684ca",
   "metadata": {},
   "outputs": [],
   "source": [
    "# all_graph = ingest_pems(\"data/charging_parking_stations_lonlat.csv\", \"data/charging_parking_distances.csv\")"
   ]
  },
  {
   "cell_type": "code",
   "execution_count": 3,
   "id": "fa4c69ed",
   "metadata": {},
   "outputs": [],
   "source": [
    "# #save the new csv with all the speeds (from pems ingest above), which will be used for the algorithm\n",
    "# all_graph[1].to_csv(\"data/charging_parking_distances_pemsingested.csv\")"
   ]
  },
  {
   "cell_type": "markdown",
   "id": "d1816bfc",
   "metadata": {},
   "source": [
    "## Run the algorithm"
   ]
  },
  {
   "cell_type": "code",
   "execution_count": 4,
   "id": "880c81e9",
   "metadata": {
    "scrolled": false
   },
   "outputs": [
    {
     "name": "stdout",
     "output_type": "stream",
     "text": [
      "------- SCENARIO 0 -------\n"
     ]
    },
    {
     "name": "stderr",
     "output_type": "stream",
     "text": [
      "100%|██████████| 24/24 [17:02<00:00, 42.61s/it] \n"
     ]
    },
    {
     "name": "stdout",
     "output_type": "stream",
     "text": [
      "True : name:  full_day_scenario0_algorithm_0\n",
      "station_utilization_disp_of_avg:   39.33841145833333\n",
      "station_utilization_avg_of_disp:   43.05455729166667\n",
      "electricity:   0\n",
      "percent_delay:   (1.0, 1.0, 2.6847547623266417, 1.0520741823128044, 0.200978947575907)\n",
      "hours_spent_in_queues:   (0.0, 0.0, 10.2, 0.2670044331855605, 1.147689328331051)\n",
      "hours_spent_charging:   (0, 0.0, 18, 0.5021110407430863, 1.7150397624742577)\n",
      "________________________________________\n",
      "Highest: 33\n",
      "Lowest: 1\n",
      "New Station: 212\n"
     ]
    },
    {
     "name": "stderr",
     "output_type": "stream",
     "text": [
      "/Users/alandler/.local/lib/python3.7/site-packages/ipykernel_launcher.py:144: SettingWithCopyWarning: \n",
      "A value is trying to be set on a copy of a slice from a DataFrame.\n",
      "Try using .loc[row_indexer,col_indexer] = value instead\n",
      "\n",
      "See the caveats in the documentation: https://pandas.pydata.org/pandas-docs/stable/user_guide/indexing.html#returning-a-view-versus-a-copy\n",
      "/Users/alandler/.local/lib/python3.7/site-packages/ipykernel_launcher.py:145: SettingWithCopyWarning: \n",
      "A value is trying to be set on a copy of a slice from a DataFrame.\n",
      "Try using .loc[row_indexer,col_indexer] = value instead\n",
      "\n",
      "See the caveats in the documentation: https://pandas.pydata.org/pandas-docs/stable/user_guide/indexing.html#returning-a-view-versus-a-copy\n",
      "100%|██████████| 24/24 [03:41<00:00,  9.25s/it]\n"
     ]
    },
    {
     "name": "stdout",
     "output_type": "stream",
     "text": [
      "True : name:  full_day_scenario0_algorithm_1\n",
      "station_utilization_disp_of_avg:   28.151171875000003\n",
      "station_utilization_avg_of_disp:   30.073828125\n",
      "electricity:   0\n",
      "percent_delay:   (1.0, 1.4144666935267889, 2.8428959403815246, 1.421593338943374, 0.23594508043340104)\n",
      "hours_spent_in_queues:   (0.0, 0.0, 8.6, 0.2763451337014182, 0.9504471185733995)\n",
      "hours_spent_charging:   (0, 0.0, 10, 0.43542275630616, 1.191827829512946)\n",
      "________________________________________\n",
      "Highest: 11\n",
      "Lowest: 2\n",
      "New Station: 267\n"
     ]
    },
    {
     "name": "stderr",
     "output_type": "stream",
     "text": [
      "100%|██████████| 24/24 [03:38<00:00,  9.12s/it]\n"
     ]
    },
    {
     "name": "stdout",
     "output_type": "stream",
     "text": [
      "True : name:  full_day_scenario0_algorithm_2\n",
      "station_utilization_disp_of_avg:   28.36510416666667\n",
      "station_utilization_avg_of_disp:   31.207942708333334\n",
      "electricity:   0\n",
      "percent_delay:   (1.0, 1.4144666935267889, 2.907495339976774, 1.4361234962028535, 0.2573329961441832)\n",
      "hours_spent_in_queues:   (0.0, 0.0, 9.4, 0.3181159420289855, 1.1048228837581884)\n",
      "hours_spent_charging:   (0, 0.0, 8, 0.3556214317083882, 1.0240381683592346)\n",
      "________________________________________\n",
      "Highest: 267\n",
      "Lowest: 3\n",
      "New Station: 268\n"
     ]
    },
    {
     "name": "stderr",
     "output_type": "stream",
     "text": [
      "100%|██████████| 24/24 [03:49<00:00,  9.56s/it]\n"
     ]
    },
    {
     "name": "stdout",
     "output_type": "stream",
     "text": [
      "True : name:  full_day_scenario0_algorithm_3\n",
      "station_utilization_disp_of_avg:   28.064322916666665\n",
      "station_utilization_avg_of_disp:   30.080729166666668\n",
      "electricity:   0\n",
      "percent_delay:   (1.0, 1.4242191861435973, 2.8428959403815246, 1.4440930508495635, 0.2626466081657204)\n",
      "hours_spent_in_queues:   (0.0, 0.0, 8.2, 0.34144921285313773, 1.1131193128088823)\n",
      "hours_spent_charging:   (0, 0.0, 9, 0.4560060383868881, 1.1796085028234349)\n",
      "________________________________________\n",
      "Highest: 267\n",
      "Lowest: 4\n",
      "New Station: 219\n"
     ]
    },
    {
     "name": "stderr",
     "output_type": "stream",
     "text": [
      "100%|██████████| 24/24 [03:39<00:00,  9.14s/it]\n"
     ]
    },
    {
     "name": "stdout",
     "output_type": "stream",
     "text": [
      "True : name:  full_day_scenario0_algorithm_4\n",
      "station_utilization_disp_of_avg:   28.586328125\n",
      "station_utilization_avg_of_disp:   30.20546875\n",
      "electricity:   0\n",
      "percent_delay:   (1.0, 1.4242191861435973, 3.0644202993722933, 1.437401140573659, 0.24875277709902172)\n",
      "hours_spent_in_queues:   (0.0, 0.0, 9.2, 0.31248258866388084, 1.0141163600335175)\n",
      "hours_spent_charging:   (0, 0.0, 10, 0.43019393549769636, 1.1665987650248295)\n",
      "________________________________________\n",
      "Highest: 267\n",
      "Lowest: 5\n",
      "New Station: 158\n"
     ]
    },
    {
     "name": "stderr",
     "output_type": "stream",
     "text": [
      "100%|██████████| 24/24 [03:29<00:00,  8.74s/it]\n"
     ]
    },
    {
     "name": "stdout",
     "output_type": "stream",
     "text": [
      "True : name:  full_day_scenario0_algorithm_5\n",
      "station_utilization_disp_of_avg:   23.891796875\n",
      "station_utilization_avg_of_disp:   26.59140625\n",
      "electricity:   0\n",
      "percent_delay:   (1.0, 1.4144666935267889, 2.8126857093253568, 1.435827611191068, 0.24868983375080636)\n",
      "hours_spent_in_queues:   (0.0, 0.0, 9.0, 0.3271392081736909, 1.0392263626026643)\n",
      "hours_spent_charging:   (0, 0.0, 9, 0.44880800340570454, 1.1891366810217219)\n",
      "________________________________________\n",
      "Highest: 158\n",
      "Lowest: 6\n",
      "New Station: 117\n"
     ]
    },
    {
     "name": "stderr",
     "output_type": "stream",
     "text": [
      "100%|██████████| 24/24 [03:10<00:00,  7.93s/it]\n"
     ]
    },
    {
     "name": "stdout",
     "output_type": "stream",
     "text": [
      "True : name:  full_day_scenario0_algorithm_6\n",
      "station_utilization_disp_of_avg:   25.141406250000003\n",
      "station_utilization_avg_of_disp:   26.915885416666665\n",
      "electricity:   0\n",
      "percent_delay:   (1.0, 1.4144666935267889, 2.806712508890624, 1.430056576981551, 0.2297655041373499)\n",
      "hours_spent_in_queues:   (0.0, 0.0, 9.4, 0.25254292901673414, 0.8949967494626812)\n",
      "hours_spent_charging:   (0, 0.0, 9, 0.409493601662474, 1.127294333342533)\n",
      "________________________________________\n",
      "Highest: 12\n",
      "Lowest: 7\n",
      "New Station: 130\n"
     ]
    },
    {
     "name": "stderr",
     "output_type": "stream",
     "text": [
      "100%|██████████| 24/24 [03:39<00:00,  9.14s/it]\n"
     ]
    },
    {
     "name": "stdout",
     "output_type": "stream",
     "text": [
      "True : name:  full_day_scenario0_algorithm_7\n",
      "station_utilization_disp_of_avg:   21.426953124999997\n",
      "station_utilization_avg_of_disp:   23.814322916666665\n",
      "electricity:   0\n",
      "percent_delay:   (1.0, 1.3398788883582944, 2.781082499108218, 1.375587308624701, 0.2293848213231663)\n",
      "hours_spent_in_queues:   (0.0, 0.0, 8.8, 0.20164052086537476, 0.9395844850675934)\n",
      "hours_spent_charging:   (0, 0.0, 9, 0.30021531836358045, 1.063307740763155)\n",
      "________________________________________\n",
      "Highest: 31\n",
      "Lowest: 8\n",
      "New Station: 232\n"
     ]
    },
    {
     "name": "stderr",
     "output_type": "stream",
     "text": [
      "100%|██████████| 24/24 [03:27<00:00,  8.65s/it]\n"
     ]
    },
    {
     "name": "stdout",
     "output_type": "stream",
     "text": [
      "True : name:  full_day_scenario0_algorithm_8\n",
      "station_utilization_disp_of_avg:   20.35\n",
      "station_utilization_avg_of_disp:   22.625911458333334\n",
      "electricity:   0\n",
      "percent_delay:   (1.0, 1.3400081471804794, 2.6250935438382355, 1.3803072083058183, 0.2171007058126052)\n",
      "hours_spent_in_queues:   (0.0, 0.0, 7.4, 0.19363209901187745, 0.7641922481853249)\n",
      "hours_spent_charging:   (0, 0.0, 8, 0.35023455434674117, 1.0984126388847368)\n",
      "________________________________________\n",
      "Highest: 130\n",
      "Lowest: 9\n",
      "New Station: 277\n"
     ]
    },
    {
     "name": "stderr",
     "output_type": "stream",
     "text": [
      "100%|██████████| 24/24 [03:32<00:00,  8.86s/it]\n"
     ]
    },
    {
     "name": "stdout",
     "output_type": "stream",
     "text": [
      "True : name:  full_day_scenario0_algorithm_9\n",
      "station_utilization_disp_of_avg:   22.319140625\n",
      "station_utilization_avg_of_disp:   24.183072916666667\n",
      "electricity:   0\n",
      "percent_delay:   (1.0, 1.3589387170427312, 2.749479288891074, 1.4038801295032026, 0.21698632991201233)\n",
      "hours_spent_in_queues:   (0.0, 0.0, 8.6, 0.19839624486602778, 0.8072411927567721)\n",
      "hours_spent_charging:   (0, 0.0, 12, 0.4560923137101506, 1.3850358887582774)\n",
      "________________________________________\n",
      "Highest: 12\n",
      "Lowest: 10\n",
      "------- SCENARIO 1 -------\n"
     ]
    },
    {
     "name": "stderr",
     "output_type": "stream",
     "text": [
      "100%|██████████| 24/24 [02:48<00:00,  7.00s/it]\n"
     ]
    },
    {
     "name": "stdout",
     "output_type": "stream",
     "text": [
      "True : name:  full_day_scenario1_algorithm_0\n",
      "station_utilization_disp_of_avg:   68.51549479166667\n",
      "station_utilization_avg_of_disp:   69.88619791666666\n",
      "electricity:   0\n",
      "percent_delay:   (1.0, 1.0, 5.487123099741697, 1.2159853043168456, 0.7105243206636901)\n",
      "hours_spent_in_queues:   (0.0, 0.0, 15.2, 0.6392367322599881, 2.2038209112438323)\n",
      "hours_spent_charging:   (0, 0.0, 21, 0.7465712581991651, 2.355709994767652)\n",
      "________________________________________\n",
      "Highest: 10\n",
      "Lowest: 1\n",
      "New Station: 54\n"
     ]
    },
    {
     "name": "stderr",
     "output_type": "stream",
     "text": [
      "100%|██████████| 24/24 [02:41<00:00,  6.74s/it]\n"
     ]
    },
    {
     "name": "stdout",
     "output_type": "stream",
     "text": [
      "True : name:  full_day_scenario1_algorithm_1\n",
      "station_utilization_disp_of_avg:   58.358463541666666\n",
      "station_utilization_avg_of_disp:   60.48684895833333\n",
      "electricity:   0\n",
      "percent_delay:   (1.0, 1.2754746876427756, 5.653914801313348, 1.4183769905007835, 0.6152937986262812)\n",
      "hours_spent_in_queues:   (0.0, 0.0, 12.2, 0.4237801111797405, 1.6163969237994809)\n",
      "hours_spent_charging:   (0, 0.0, 20, 0.6809759110562076, 2.2850757922212357)\n",
      "________________________________________\n",
      "Highest: 54\n",
      "Lowest: 2\n",
      "New Station: 163\n"
     ]
    },
    {
     "name": "stderr",
     "output_type": "stream",
     "text": [
      "100%|██████████| 24/24 [02:43<00:00,  6.82s/it]\n"
     ]
    },
    {
     "name": "stdout",
     "output_type": "stream",
     "text": [
      "True : name:  full_day_scenario1_algorithm_2\n",
      "station_utilization_disp_of_avg:   59.27981770833333\n",
      "station_utilization_avg_of_disp:   61.934895833333336\n",
      "electricity:   0\n",
      "percent_delay:   (1.0, 1.2940535242590467, 5.678534336375629, 1.4224033577610455, 0.6533789148320405)\n",
      "hours_spent_in_queues:   (0.0, 0.0, 12.6, 0.49719462302746925, 1.806801963092338)\n",
      "hours_spent_charging:   (0, 0.0, 21, 0.7253068381063705, 2.4491191911252117)\n",
      "________________________________________\n",
      "Highest: 4\n",
      "Lowest: 3\n",
      "New Station: 142\n"
     ]
    },
    {
     "name": "stderr",
     "output_type": "stream",
     "text": [
      "100%|██████████| 24/24 [02:40<00:00,  6.71s/it]\n"
     ]
    },
    {
     "name": "stdout",
     "output_type": "stream",
     "text": [
      "True : name:  full_day_scenario1_algorithm_3\n",
      "station_utilization_disp_of_avg:   54.71718750000001\n",
      "station_utilization_avg_of_disp:   59.01393229166667\n",
      "electricity:   0\n",
      "percent_delay:   (1.0, 1.2754746876427756, 5.3595155534331775, 1.4069375559081816, 0.6309839943159551)\n",
      "hours_spent_in_queues:   (0.0, 0.0, 13.2, 0.4391975308641976, 1.762834935654576)\n",
      "hours_spent_charging:   (0, 0.0, 22, 0.6135802469135803, 2.150667601571503)\n",
      "________________________________________\n",
      "Highest: 54\n",
      "Lowest: 4\n",
      "New Station: 185\n"
     ]
    },
    {
     "name": "stderr",
     "output_type": "stream",
     "text": [
      "100%|██████████| 24/24 [02:43<00:00,  6.82s/it]\n"
     ]
    },
    {
     "name": "stdout",
     "output_type": "stream",
     "text": [
      "True : name:  full_day_scenario1_algorithm_4\n",
      "station_utilization_disp_of_avg:   52.44791666666667\n",
      "station_utilization_avg_of_disp:   55.324869791666664\n",
      "electricity:   0\n",
      "percent_delay:   (1.0, 1.2940535242590467, 6.238802539380245, 1.4643197338428628, 0.7133612527909347)\n",
      "hours_spent_in_queues:   (0.0, 0.0, 14.0, 0.6038789303555686, 1.9821380453222406)\n",
      "hours_spent_charging:   (0, 0.0, 19, 0.652071701439906, 2.024682609512869)\n",
      "________________________________________\n",
      "Highest: 142\n",
      "Lowest: 5\n",
      "New Station: 229\n"
     ]
    },
    {
     "name": "stderr",
     "output_type": "stream",
     "text": [
      "100%|██████████| 24/24 [02:38<00:00,  6.60s/it]\n"
     ]
    },
    {
     "name": "stdout",
     "output_type": "stream",
     "text": [
      "True : name:  full_day_scenario1_algorithm_5\n",
      "station_utilization_disp_of_avg:   47.64140625\n",
      "station_utilization_avg_of_disp:   51.927734375\n",
      "electricity:   0\n",
      "percent_delay:   (1.0, 1.2356299794963432, 6.078252530936913, 1.43432408105176, 0.6912232593855266)\n",
      "hours_spent_in_queues:   (0.0, 0.0, 13.6, 0.5340412621359223, 1.89580052723754)\n",
      "hours_spent_charging:   (0, 0.0, 21, 0.7606189320388349, 2.466162284408639)\n",
      "________________________________________\n",
      "Highest: 13\n",
      "Lowest: 6\n",
      "New Station: 138\n"
     ]
    },
    {
     "name": "stderr",
     "output_type": "stream",
     "text": [
      "100%|██████████| 24/24 [02:40<00:00,  6.68s/it]\n"
     ]
    },
    {
     "name": "stdout",
     "output_type": "stream",
     "text": [
      "True : name:  full_day_scenario1_algorithm_6\n",
      "station_utilization_disp_of_avg:   48.782421875\n",
      "station_utilization_avg_of_disp:   51.84518229166667\n",
      "electricity:   0\n",
      "percent_delay:   (1.0, 1.2940535242590467, 5.781026343545674, 1.4279507679002166, 0.6681498198776368)\n",
      "hours_spent_in_queues:   (0.0, 0.0, 12.8, 0.47612250966399045, 1.8244150372726564)\n",
      "hours_spent_charging:   (0, 0.0, 20, 0.6889681831697889, 2.2148003710928266)\n",
      "________________________________________\n",
      "Highest: 54\n",
      "Lowest: 7\n",
      "New Station: 87\n"
     ]
    },
    {
     "name": "stderr",
     "output_type": "stream",
     "text": [
      "100%|██████████| 24/24 [02:44<00:00,  6.86s/it]\n"
     ]
    },
    {
     "name": "stdout",
     "output_type": "stream",
     "text": [
      "True : name:  full_day_scenario1_algorithm_7\n",
      "station_utilization_disp_of_avg:   57.688671875\n",
      "station_utilization_avg_of_disp:   62.28463541666667\n",
      "electricity:   0\n",
      "percent_delay:   (1.0, 1.2940535242590467, 5.652559091466882, 1.5445704129101048, 0.7989656308811578)\n",
      "hours_spent_in_queues:   (0.0, 0.0, 12.4, 0.8060247747747747, 2.2494588356847665)\n",
      "hours_spent_charging:   (0, 0.0, 21, 1.009009009009009, 2.7504970738162933)\n",
      "________________________________________\n",
      "Highest: 31\n",
      "Lowest: 8\n",
      "New Station: 232\n"
     ]
    },
    {
     "name": "stderr",
     "output_type": "stream",
     "text": [
      "100%|██████████| 24/24 [02:43<00:00,  6.82s/it]\n"
     ]
    },
    {
     "name": "stdout",
     "output_type": "stream",
     "text": [
      "True : name:  full_day_scenario1_algorithm_8\n",
      "station_utilization_disp_of_avg:   53.83216145833333\n",
      "station_utilization_avg_of_disp:   59.06953125\n",
      "electricity:   0\n",
      "percent_delay:   (1.0, 1.2940535242590467, 5.909493595624467, 1.501572742726199, 0.7141408798379137)\n",
      "hours_spent_in_queues:   (0.0, 0.0, 13.2, 0.6326029798422438, 1.9796187266951117)\n",
      "hours_spent_charging:   (0, 0.0, 18, 0.9515045281916448, 2.605862609413829)\n",
      "________________________________________\n",
      "Highest: 232\n",
      "Lowest: 9\n",
      "New Station: 55\n"
     ]
    },
    {
     "name": "stderr",
     "output_type": "stream",
     "text": [
      "100%|██████████| 24/24 [02:48<00:00,  7.04s/it]\n"
     ]
    },
    {
     "name": "stdout",
     "output_type": "stream",
     "text": [
      "True : name:  full_day_scenario1_algorithm_9\n",
      "station_utilization_disp_of_avg:   51.38893229166666\n",
      "station_utilization_avg_of_disp:   56.05625\n",
      "electricity:   0\n",
      "percent_delay:   (1.0, 1.3307952268444259, 5.742338092964118, 1.553299653854205, 0.6499461472600684)\n",
      "hours_spent_in_queues:   (0.0, 0.0, 15.2, 0.6100581395348837, 1.8763283657597565)\n",
      "hours_spent_charging:   (0, 0.0, 23, 1.1386627906976745, 3.120210648488504)\n",
      "________________________________________\n",
      "Highest: 232\n",
      "Lowest: 10\n",
      "------- SCENARIO 2 -------\n"
     ]
    },
    {
     "name": "stderr",
     "output_type": "stream",
     "text": [
      "100%|██████████| 24/24 [02:39<00:00,  6.65s/it]\n"
     ]
    },
    {
     "name": "stdout",
     "output_type": "stream",
     "text": [
      "True : name:  full_day_scenario2_algorithm_0\n",
      "station_utilization_disp_of_avg:   69.00989583333333\n",
      "station_utilization_avg_of_disp:   70.383203125\n",
      "electricity:   0\n",
      "percent_delay:   (1.0, 1.0, 5.783889879663246, 1.2264223794112077, 0.7328877491981002)\n",
      "hours_spent_in_queues:   (0.0, 0.0, 15.4, 0.6767723342939481, 2.305379490796106)\n",
      "hours_spent_charging:   (0, 0.0, 28, 0.7717579250720461, 2.5143525917836085)\n",
      "________________________________________\n",
      "Highest: 2\n",
      "Lowest: 1\n",
      "New Station: 230\n"
     ]
    },
    {
     "name": "stderr",
     "output_type": "stream",
     "text": [
      "100%|██████████| 24/24 [02:43<00:00,  6.82s/it]\n"
     ]
    },
    {
     "name": "stdout",
     "output_type": "stream",
     "text": [
      "True : name:  full_day_scenario2_algorithm_1\n",
      "station_utilization_disp_of_avg:   54.86536458333333\n",
      "station_utilization_avg_of_disp:   58.917578125\n",
      "electricity:   0\n",
      "percent_delay:   (1.0, 1.2940535242590467, 5.933749362729589, 1.3913858723117662, 0.5906463566348721)\n",
      "hours_spent_in_queues:   (0.0, 0.0, 14.0, 0.4163352707249924, 1.712306569832771)\n",
      "hours_spent_charging:   (0, 0.0, 19, 0.6482104619149587, 2.2642392658020256)\n",
      "________________________________________\n",
      "Highest: 4\n",
      "Lowest: 2\n",
      "New Station: 142\n"
     ]
    },
    {
     "name": "stderr",
     "output_type": "stream",
     "text": [
      "100%|██████████| 24/24 [08:19<00:00, 20.83s/it] \n"
     ]
    },
    {
     "name": "stdout",
     "output_type": "stream",
     "text": [
      "True : name:  full_day_scenario2_algorithm_2\n",
      "station_utilization_disp_of_avg:   56.4171875\n",
      "station_utilization_avg_of_disp:   60.61145833333333\n",
      "electricity:   0\n",
      "percent_delay:   (1.0, 1.2940535242590467, 5.496292182230187, 1.4423254878711476, 0.6392109568202147)\n",
      "hours_spent_in_queues:   (0.0, 0.0, 12.2, 0.5042785482443198, 1.7065361272385973)\n",
      "hours_spent_charging:   (0, 0.0, 26, 0.7506639126586013, 2.287683097119533)\n",
      "________________________________________\n",
      "Highest: 230\n",
      "Lowest: 3\n",
      "New Station: 238\n"
     ]
    },
    {
     "name": "stderr",
     "output_type": "stream",
     "text": [
      "100%|██████████| 24/24 [40:01<00:00, 100.04s/it]  \n"
     ]
    },
    {
     "name": "stdout",
     "output_type": "stream",
     "text": [
      "True : name:  full_day_scenario2_algorithm_3\n",
      "station_utilization_disp_of_avg:   48.85494791666667\n",
      "station_utilization_avg_of_disp:   53.95677083333333\n",
      "electricity:   0\n",
      "percent_delay:   (1.0, 1.2706754583368658, 5.913864907120857, 1.3907577711695776, 0.5799771959648988)\n",
      "hours_spent_in_queues:   (0.0, 0.0, 14.0, 0.39758308157099703, 1.5809802940667421)\n",
      "hours_spent_charging:   (0, 0.0, 29, 0.6945619335347432, 2.4679334478388633)\n",
      "________________________________________\n",
      "Highest: 230\n",
      "Lowest: 4\n",
      "New Station: 2\n"
     ]
    },
    {
     "name": "stderr",
     "output_type": "stream",
     "text": [
      "100%|██████████| 24/24 [02:42<00:00,  6.78s/it]\n"
     ]
    },
    {
     "name": "stdout",
     "output_type": "stream",
     "text": [
      "True : name:  full_day_scenario2_algorithm_4\n",
      "station_utilization_disp_of_avg:   50.69752604166666\n",
      "station_utilization_avg_of_disp:   55.799609375\n",
      "electricity:   0\n",
      "percent_delay:   (1.0, 1.2754746876427756, 5.827604232949596, 1.4351652598005895, 0.6733157885224909)\n",
      "hours_spent_in_queues:   (0.0, 0.0, 14.4, 0.5304848484848486, 1.8670291767243832)\n",
      "hours_spent_charging:   (0, 0.0, 19, 0.6957575757575758, 2.2343421922658977)\n",
      "________________________________________\n",
      "Highest: 238\n",
      "Lowest: 2\n",
      "New Station: 170\n"
     ]
    },
    {
     "name": "stderr",
     "output_type": "stream",
     "text": [
      "100%|██████████| 24/24 [02:56<00:00,  7.35s/it]\n"
     ]
    },
    {
     "name": "stdout",
     "output_type": "stream",
     "text": [
      "True : name:  full_day_scenario2_algorithm_5\n",
      "station_utilization_disp_of_avg:   52.29453125\n",
      "station_utilization_avg_of_disp:   56.905859375\n",
      "electricity:   0\n",
      "percent_delay:   (1.0, 1.2940535242590467, 5.4589522219577145, 1.4382499755526763, 0.6455750159809133)\n",
      "hours_spent_in_queues:   (0.0, 0.0, 14.0, 0.4987028657616893, 1.7602434034283594)\n",
      "hours_spent_charging:   (0, 0.0, 20, 0.7070889894419307, 2.3568892892527438)\n",
      "________________________________________\n",
      "Highest: 13\n",
      "Lowest: 5\n",
      "New Station: 138\n"
     ]
    },
    {
     "name": "stderr",
     "output_type": "stream",
     "text": [
      "100%|██████████| 24/24 [02:53<00:00,  7.22s/it]\n"
     ]
    },
    {
     "name": "stdout",
     "output_type": "stream",
     "text": [
      "True : name:  full_day_scenario2_algorithm_6\n",
      "station_utilization_disp_of_avg:   46.80130208333333\n",
      "station_utilization_avg_of_disp:   53.83177083333333\n",
      "electricity:   0\n",
      "percent_delay:   (1.0, 1.2754746876427756, 5.933749362729589, 1.4175598177369046, 0.6487347640632134)\n",
      "hours_spent_in_queues:   (0.0, 0.0, 13.4, 0.4810262529832935, 1.7545026688673264)\n",
      "hours_spent_charging:   (0, 0.0, 26, 0.7825178997613366, 2.5925848656271833)\n",
      "________________________________________\n",
      "Highest: 142\n",
      "Lowest: 6\n",
      "New Station: 229\n"
     ]
    },
    {
     "name": "stderr",
     "output_type": "stream",
     "text": [
      "100%|██████████| 24/24 [02:52<00:00,  7.17s/it]\n"
     ]
    },
    {
     "name": "stdout",
     "output_type": "stream",
     "text": [
      "True : name:  full_day_scenario2_algorithm_7\n",
      "station_utilization_disp_of_avg:   44.074609375\n",
      "station_utilization_avg_of_disp:   50.042317708333336\n",
      "electricity:   0\n",
      "percent_delay:   (1.0, 1.2706754583368658, 6.024863177723856, 1.4227312673674983, 0.6686449280364485)\n",
      "hours_spent_in_queues:   (0.0, 0.0, 13.4, 0.46974595842956113, 1.7929768504560215)\n",
      "hours_spent_charging:   (0, 0.0, 20, 0.7170900692840647, 2.3892772074151774)\n",
      "________________________________________\n",
      "Highest: 142\n",
      "Lowest: 7\n",
      "New Station: 190\n"
     ]
    },
    {
     "name": "stderr",
     "output_type": "stream",
     "text": [
      "100%|██████████| 24/24 [02:50<00:00,  7.12s/it]\n"
     ]
    },
    {
     "name": "stdout",
     "output_type": "stream",
     "text": [
      "True : name:  full_day_scenario2_algorithm_8\n",
      "station_utilization_disp_of_avg:   47.085546875\n",
      "station_utilization_avg_of_disp:   52.795833333333334\n",
      "electricity:   0\n",
      "percent_delay:   (1.0, 1.2940535242590467, 5.5121088647260805, 1.4939396665358464, 0.7275888042185168)\n",
      "hours_spent_in_queues:   (0.0, 0.0, 12.0, 0.6539906103286384, 2.0353958307182562)\n",
      "hours_spent_charging:   (0, 0.0, 18, 0.9533450704225352, 2.602228069016996)\n",
      "________________________________________\n",
      "Highest: 170\n",
      "Lowest: 8\n",
      "New Station: 2\n"
     ]
    },
    {
     "name": "stderr",
     "output_type": "stream",
     "text": [
      "100%|██████████| 24/24 [02:53<00:00,  7.25s/it]\n"
     ]
    },
    {
     "name": "stdout",
     "output_type": "stream",
     "text": [
      "True : name:  full_day_scenario2_algorithm_9\n",
      "station_utilization_disp_of_avg:   44.84010416666667\n",
      "station_utilization_avg_of_disp:   50.91393229166667\n",
      "electricity:   0\n",
      "percent_delay:   (1.0, 1.2940535242590467, 5.383920286476638, 1.514493816208823, 0.7174929147134839)\n",
      "hours_spent_in_queues:   (0.0, 0.0, 12.4, 0.661663856098932, 1.9406447406849177)\n",
      "hours_spent_charging:   (0, 0.0, 22, 1.0390668915120855, 2.7826234331840434)\n",
      "________________________________________\n",
      "Highest: 229\n",
      "Lowest: 2\n",
      "------- SCENARIO 3 -------\n"
     ]
    },
    {
     "name": "stderr",
     "output_type": "stream",
     "text": [
      "100%|██████████| 24/24 [02:46<00:00,  6.93s/it]\n"
     ]
    },
    {
     "name": "stdout",
     "output_type": "stream",
     "text": [
      "True : name:  full_day_scenario3_algorithm_0\n",
      "station_utilization_disp_of_avg:   119.359375\n",
      "station_utilization_avg_of_disp:   119.462109375\n",
      "electricity:   0\n",
      "percent_delay:   (1.0, 1.0, 9.796716442408588, 1.7088798672560237, 1.692535387810379)\n",
      "hours_spent_in_queues:   (0.0, 0.0, 16.8, 1.42, 3.5042348007035056)\n",
      "hours_spent_charging:   (0, 0.0, 21, 1.2523076923076923, 3.5808511103585716)\n",
      "________________________________________\n",
      "Highest: 8\n",
      "Lowest: 1\n",
      "New Station: 246\n"
     ]
    },
    {
     "name": "stderr",
     "output_type": "stream",
     "text": [
      "100%|██████████| 24/24 [02:54<00:00,  7.27s/it]\n"
     ]
    },
    {
     "name": "stdout",
     "output_type": "stream",
     "text": [
      "True : name:  full_day_scenario3_algorithm_1\n",
      "station_utilization_disp_of_avg:   106.47864583333335\n",
      "station_utilization_avg_of_disp:   106.732421875\n",
      "electricity:   0\n",
      "percent_delay:   (1.0, 1.178656224377259, 8.584751504162643, 2.0755424263453532, 1.7758838842624594)\n",
      "hours_spent_in_queues:   (0.0, 0.0, 15.2, 1.8627118644067795, 3.6560195355521086)\n",
      "hours_spent_charging:   (0, 0.0, 20, 1.4406779661016949, 2.78520677510152)\n",
      "________________________________________\n",
      "Highest: 10\n",
      "Lowest: 2\n",
      "New Station: 54\n"
     ]
    },
    {
     "name": "stderr",
     "output_type": "stream",
     "text": [
      "100%|██████████| 24/24 [02:22<00:00,  5.94s/it]\n"
     ]
    },
    {
     "name": "stdout",
     "output_type": "stream",
     "text": [
      "True : name:  full_day_scenario3_algorithm_2\n",
      "station_utilization_disp_of_avg:   104.36002604166667\n",
      "station_utilization_avg_of_disp:   105.107421875\n",
      "electricity:   0\n",
      "percent_delay:   (1.0, 1.3259882524244162, 8.965942275223396, 2.6542732243910248, 2.1427479893202483)\n",
      "hours_spent_in_queues:   (0.0, 0.0, 16.4, 3.044430844553243, 4.435845857379596)\n",
      "hours_spent_charging:   (0, 0.0, 20, 1.3990208078335373, 2.0212818795337624)\n",
      "________________________________________\n",
      "Highest: 8\n",
      "Lowest: 3\n",
      "New Station: 247\n"
     ]
    },
    {
     "name": "stderr",
     "output_type": "stream",
     "text": [
      "100%|██████████| 24/24 [02:06<00:00,  5.28s/it]\n"
     ]
    },
    {
     "name": "stdout",
     "output_type": "stream",
     "text": [
      "True : name:  full_day_scenario3_algorithm_3\n",
      "station_utilization_disp_of_avg:   98.51223958333333\n",
      "station_utilization_avg_of_disp:   99.24361979166666\n",
      "electricity:   0\n",
      "percent_delay:   (1.0, 1.743608429504808, 9.392728116319129, 2.9170252305905624, 2.2262285350769706)\n",
      "hours_spent_in_queues:   (0.0, 0.8, 15.8, 3.567079463364293, 4.613017189451694)\n",
      "hours_spent_charging:   (0, 2.0, 12, 1.6609907120743035, 2.087887187828514)\n",
      "________________________________________\n",
      "Highest: 37\n",
      "Lowest: 4\n",
      "New Station: 292\n"
     ]
    },
    {
     "name": "stderr",
     "output_type": "stream",
     "text": [
      "100%|██████████| 24/24 [02:03<00:00,  5.17s/it]\n"
     ]
    },
    {
     "name": "stdout",
     "output_type": "stream",
     "text": [
      "True : name:  full_day_scenario3_algorithm_4\n",
      "station_utilization_disp_of_avg:   95.59192708333333\n",
      "station_utilization_avg_of_disp:   96.492578125\n",
      "electricity:   0\n",
      "percent_delay:   (1.0, 1.5487906921376562, 9.089736886760445, 2.7030735311878873, 2.025787143220611)\n",
      "hours_spent_in_queues:   (0.0, 0.4, 14.8, 3.0855736090595762, 4.178666559211219)\n",
      "hours_spent_charging:   (0, 2.0, 11, 1.6824224519940916, 2.0888867369654363)\n",
      "________________________________________\n",
      "Highest: 246\n",
      "Lowest: 5\n",
      "New Station: 62\n"
     ]
    },
    {
     "name": "stderr",
     "output_type": "stream",
     "text": [
      "100%|██████████| 24/24 [02:30<00:00,  6.27s/it]\n"
     ]
    },
    {
     "name": "stdout",
     "output_type": "stream",
     "text": [
      "True : name:  full_day_scenario3_algorithm_5\n",
      "station_utilization_disp_of_avg:   90.22760416666667\n",
      "station_utilization_avg_of_disp:   91.05911458333334\n",
      "electricity:   0\n",
      "percent_delay:   (1.0, 1.7310013618009097, 8.309201486227261, 2.728393887890693, 1.9736237149990485)\n",
      "hours_spent_in_queues:   (0.0, 0.8, 15.6, 3.087365967365967, 3.9900194610595974)\n",
      "hours_spent_charging:   (0, 2.0, 9, 1.7547785547785548, 1.9286834428585957)\n",
      "________________________________________\n",
      "Highest: 34\n",
      "Lowest: 6\n",
      "New Station: 102\n"
     ]
    },
    {
     "name": "stderr",
     "output_type": "stream",
     "text": [
      "100%|██████████| 24/24 [02:11<00:00,  5.47s/it]\n"
     ]
    },
    {
     "name": "stdout",
     "output_type": "stream",
     "text": [
      "True : name:  full_day_scenario3_algorithm_6\n",
      "station_utilization_disp_of_avg:   81.57526041666667\n",
      "station_utilization_avg_of_disp:   82.61432291666667\n",
      "electricity:   0\n",
      "percent_delay:   (1.0, 1.9132120314641634, 8.211446174624587, 2.797420349001607, 2.018382257603094)\n",
      "hours_spent_in_queues:   (0.0, 1.0, 14.2, 3.2039503904455677, 4.074628018543571)\n",
      "hours_spent_charging:   (0, 2.0, 11, 1.8520900321543408, 2.0479297040522195)\n",
      "________________________________________\n",
      "Highest: 62\n",
      "Lowest: 7\n",
      "New Station: 69\n"
     ]
    },
    {
     "name": "stderr",
     "output_type": "stream",
     "text": [
      "100%|██████████| 24/24 [02:11<00:00,  5.46s/it]\n"
     ]
    },
    {
     "name": "stdout",
     "output_type": "stream",
     "text": [
      "True : name:  full_day_scenario3_algorithm_7\n",
      "station_utilization_disp_of_avg:   78.91549479166666\n",
      "station_utilization_avg_of_disp:   80.0\n",
      "electricity:   0\n",
      "percent_delay:   (1.0, 2.1790918342320205, 8.685748580682203, 2.9072819801875505, 1.9068356827444086)\n",
      "hours_spent_in_queues:   (0.0, 1.6, 14.6, 3.4221641791044775, 3.8116359283983514)\n",
      "hours_spent_charging:   (0, 1.0, 15, 1.5932835820895523, 2.104249352498807)\n",
      "________________________________________\n",
      "Highest: 247\n",
      "Lowest: 8\n",
      "New Station: 76\n"
     ]
    },
    {
     "name": "stderr",
     "output_type": "stream",
     "text": [
      "100%|██████████| 24/24 [02:16<00:00,  5.68s/it]\n"
     ]
    },
    {
     "name": "stdout",
     "output_type": "stream",
     "text": [
      "True : name:  full_day_scenario3_algorithm_8\n",
      "station_utilization_disp_of_avg:   88.95078125\n",
      "station_utilization_avg_of_disp:   89.77734375\n",
      "electricity:   0\n",
      "percent_delay:   (1.0, 1.800119341322102, 9.025425890606847, 3.0022041572544897, 2.2672811423555133)\n",
      "hours_spent_in_queues:   (0.0, 0.8, 15.6, 3.5655544651619238, 4.495494523685895)\n",
      "hours_spent_charging:   (0, 2.0, 15, 1.8307163886162905, 2.295684088413347)\n",
      "________________________________________\n",
      "Highest: 247\n",
      "Lowest: 9\n",
      "New Station: 8\n"
     ]
    },
    {
     "name": "stderr",
     "output_type": "stream",
     "text": [
      "100%|██████████| 24/24 [02:17<00:00,  5.72s/it]\n"
     ]
    },
    {
     "name": "stdout",
     "output_type": "stream",
     "text": [
      "True : name:  full_day_scenario3_algorithm_9\n",
      "station_utilization_disp_of_avg:   85.3515625\n",
      "station_utilization_avg_of_disp:   86.348828125\n",
      "electricity:   0\n",
      "percent_delay:   (1.0, 1.647085851472335, 9.768777703974575, 2.7252888843568157, 2.099530497406231)\n",
      "hours_spent_in_queues:   (0.0, 0.0, 15.0, 3.011074561403509, 4.178325987263811)\n",
      "hours_spent_charging:   (0, 2.0, 15, 2.1546052631578947, 2.6493131884506624)\n",
      "________________________________________\n",
      "Highest: 247\n",
      "Lowest: 8\n",
      "------- SCENARIO 4 -------\n"
     ]
    },
    {
     "name": "stderr",
     "output_type": "stream",
     "text": [
      "100%|██████████| 24/24 [02:49<00:00,  7.05s/it]\n"
     ]
    },
    {
     "name": "stdout",
     "output_type": "stream",
     "text": [
      "True : name:  full_day_scenario4_algorithm_0\n",
      "station_utilization_disp_of_avg:   120.68958333333335\n",
      "station_utilization_avg_of_disp:   120.78880208333334\n",
      "electricity:   0\n",
      "percent_delay:   (1.0, 1.0, 9.285705290818232, 1.4878254316663393, 1.3612774890031896)\n",
      "hours_spent_in_queues:   (0.0, 0.0, 16.6, 0.9548489666136726, 2.783758742336609)\n",
      "hours_spent_charging:   (0, 0.0, 20, 1.0381558028616853, 3.1980429878095906)\n",
      "________________________________________\n",
      "Highest: 8\n",
      "Lowest: 1\n",
      "New Station: 246\n"
     ]
    },
    {
     "name": "stderr",
     "output_type": "stream",
     "text": [
      "100%|██████████| 24/24 [02:43<00:00,  6.81s/it]\n"
     ]
    },
    {
     "name": "stdout",
     "output_type": "stream",
     "text": [
      "True : name:  full_day_scenario4_algorithm_1\n",
      "station_utilization_disp_of_avg:   109.36822916666668\n",
      "station_utilization_avg_of_disp:   109.5953125\n",
      "electricity:   0\n",
      "percent_delay:   (1.0, 1.178656224377259, 8.873509880633465, 1.7940436683470544, 1.5137894802956615)\n",
      "hours_spent_in_queues:   (0.0, 0.0, 15.4, 1.1872670807453414, 2.85224538062148)\n",
      "hours_spent_charging:   (0, 0.0, 20, 1.5341614906832297, 3.6086181452212616)\n",
      "________________________________________\n",
      "Highest: 10\n",
      "Lowest: 2\n",
      "New Station: 54\n"
     ]
    },
    {
     "name": "stderr",
     "output_type": "stream",
     "text": [
      "100%|██████████| 24/24 [02:28<00:00,  6.17s/it]\n"
     ]
    },
    {
     "name": "stdout",
     "output_type": "stream",
     "text": [
      "True : name:  full_day_scenario4_algorithm_2\n",
      "station_utilization_disp_of_avg:   108.31223958333334\n",
      "station_utilization_avg_of_disp:   109.06393229166666\n",
      "electricity:   0\n",
      "percent_delay:   (1.0, 1.178656224377259, 9.493725192838689, 2.341273137815745, 2.1354366571475922)\n",
      "hours_spent_in_queues:   (0.0, 0.0, 16.2, 2.288749016522423, 4.174350240447758)\n",
      "hours_spent_charging:   (0, 0.0, 20, 1.954366640440598, 3.6873647426308573)\n",
      "________________________________________\n",
      "Highest: 8\n",
      "Lowest: 3\n",
      "New Station: 247\n"
     ]
    },
    {
     "name": "stderr",
     "output_type": "stream",
     "text": [
      "100%|██████████| 24/24 [02:31<00:00,  6.30s/it]\n"
     ]
    },
    {
     "name": "stdout",
     "output_type": "stream",
     "text": [
      "True : name:  full_day_scenario4_algorithm_3\n",
      "station_utilization_disp_of_avg:   102.56953125000001\n",
      "station_utilization_avg_of_disp:   103.3\n",
      "electricity:   0\n",
      "percent_delay:   (1.0, 1.178656224377259, 9.335671853583124, 2.3659666354482525, 2.01380423285212)\n",
      "hours_spent_in_queues:   (0.0, 0.0, 15.4, 2.3152374202693125, 3.8884683313850474)\n",
      "hours_spent_charging:   (0, 0.0, 20, 2.179305457122608, 3.7014406871401726)\n",
      "________________________________________\n",
      "Highest: 37\n",
      "Lowest: 4\n",
      "New Station: 292\n"
     ]
    },
    {
     "name": "stderr",
     "output_type": "stream",
     "text": [
      "100%|██████████| 24/24 [02:34<00:00,  6.44s/it]\n"
     ]
    },
    {
     "name": "stdout",
     "output_type": "stream",
     "text": [
      "True : name:  full_day_scenario4_algorithm_4\n",
      "station_utilization_disp_of_avg:   101.54088541666665\n",
      "station_utilization_avg_of_disp:   102.12434895833333\n",
      "electricity:   0\n",
      "percent_delay:   (1.0, 1.2356299794963432, 9.089736886760445, 2.6016582536882455, 2.204066078246616)\n",
      "hours_spent_in_queues:   (0.0, 0.0, 15.8, 2.7156424581005587, 4.25810184133238)\n",
      "hours_spent_charging:   (0, 0.0, 20, 2.293296089385475, 3.5152119188064304)\n",
      "________________________________________\n",
      "Highest: 8\n",
      "Lowest: 5\n",
      "New Station: 62\n"
     ]
    },
    {
     "name": "stderr",
     "output_type": "stream",
     "text": [
      "100%|██████████| 24/24 [02:22<00:00,  5.95s/it]\n"
     ]
    },
    {
     "name": "stdout",
     "output_type": "stream",
     "text": [
      "True : name:  full_day_scenario4_algorithm_5\n",
      "station_utilization_disp_of_avg:   93.49661458333333\n",
      "station_utilization_avg_of_disp:   94.25338541666666\n",
      "electricity:   0\n",
      "percent_delay:   (1.0, 1.178656224377259, 9.188999290651324, 2.396009300801677, 1.960580517825913)\n",
      "hours_spent_in_queues:   (0.0, 0.0, 15.6, 2.2932717678100265, 3.7748692835911952)\n",
      "hours_spent_charging:   (0, 0.0, 20, 2.5547493403693933, 3.7319889195988774)\n",
      "________________________________________\n",
      "Highest: 34\n",
      "Lowest: 6\n",
      "New Station: 102\n"
     ]
    },
    {
     "name": "stderr",
     "output_type": "stream",
     "text": [
      "100%|██████████| 24/24 [02:35<00:00,  6.48s/it]\n"
     ]
    },
    {
     "name": "stdout",
     "output_type": "stream",
     "text": [
      "True : name:  full_day_scenario4_algorithm_6\n",
      "station_utilization_disp_of_avg:   88.19596354166667\n",
      "station_utilization_avg_of_disp:   89.22473958333333\n",
      "electricity:   0\n",
      "percent_delay:   (1.0, 1.2356299794963432, 9.243239458993191, 2.592590978660001, 2.1182529679285187)\n",
      "hours_spent_in_queues:   (0.0, 0.0, 16.2, 2.6652454780361765, 4.072217127060075)\n",
      "hours_spent_charging:   (0, 0.0, 20, 2.603359173126615, 3.672340793985544)\n",
      "________________________________________\n",
      "Highest: 247\n",
      "Lowest: 7\n",
      "New Station: 69\n"
     ]
    },
    {
     "name": "stderr",
     "output_type": "stream",
     "text": [
      "100%|██████████| 24/24 [02:44<00:00,  6.84s/it]\n"
     ]
    },
    {
     "name": "stdout",
     "output_type": "stream",
     "text": [
      "True : name:  full_day_scenario4_algorithm_7\n",
      "station_utilization_disp_of_avg:   86.49726562500001\n",
      "station_utilization_avg_of_disp:   87.79114583333333\n",
      "electricity:   0\n",
      "percent_delay:   (1.0, 1.7053762180946246, 9.515938167270264, 2.9477683673843096, 2.3542255890292876)\n",
      "hours_spent_in_queues:   (0.0, 0.6, 16.2, 3.3380234505862645, 4.504462741692754)\n",
      "hours_spent_charging:   (0, 2.0, 19, 2.1825795644891124, 3.103221114510782)\n",
      "________________________________________\n",
      "Highest: 247\n",
      "Lowest: 8\n",
      "New Station: 76\n"
     ]
    },
    {
     "name": "stderr",
     "output_type": "stream",
     "text": [
      "100%|██████████| 24/24 [02:35<00:00,  6.46s/it]\n"
     ]
    },
    {
     "name": "stdout",
     "output_type": "stream",
     "text": [
      "True : name:  full_day_scenario4_algorithm_8\n",
      "station_utilization_disp_of_avg:   97.426171875\n",
      "station_utilization_avg_of_disp:   98.62213541666667\n",
      "electricity:   0\n",
      "percent_delay:   (1.0, 1.178656224377259, 9.515938167270264, 2.506431640249842, 2.3561075813433057)\n",
      "hours_spent_in_queues:   (0.0, 0.0, 15.6, 2.464034458004307, 4.394917129265661)\n",
      "hours_spent_charging:   (0, 0.0, 19, 2.1572146446518308, 3.4872931055115233)\n",
      "________________________________________\n",
      "Highest: 247\n",
      "Lowest: 9\n",
      "New Station: 8\n"
     ]
    },
    {
     "name": "stderr",
     "output_type": "stream",
     "text": [
      "100%|██████████| 24/24 [02:24<00:00,  6.04s/it]\n"
     ]
    },
    {
     "name": "stdout",
     "output_type": "stream",
     "text": [
      "True : name:  full_day_scenario4_algorithm_9\n",
      "station_utilization_disp_of_avg:   89.74296875\n",
      "station_utilization_avg_of_disp:   90.59986979166666\n",
      "electricity:   0\n",
      "percent_delay:   (1.0, 1.178656224377259, 8.584751504162643, 2.404242979520444, 2.124845282572404)\n",
      "hours_spent_in_queues:   (0.0, 0.0, 14.6, 2.2171606864274573, 3.9454097091343785)\n",
      "hours_spent_charging:   (0, 0.0, 19, 2.645865834633385, 4.175482175200392)\n",
      "________________________________________\n",
      "Highest: 247\n",
      "Lowest: 8\n"
     ]
    }
   ],
   "source": [
    "number_of_iterations = 10\n",
    "kwh_per_km = 1.9\n",
    "\n",
    "#scenario list: each list inside has three params : charging rate, kwh per km, and battery capacity.\n",
    "# scenario_list = [[45,1.9,215],[90,1.9,215],[45,0.95,215],[45,1.9,430],[90,0.95,430]] \n",
    "scenario_list = [[90,0.95,430], [45,1.9,430], [45,0.95,215], [90,1.9,215], [45,1.9,215]] \n",
    "\n",
    "columns = [\"scenario_number\", \"iteration\", \"charging_rate\", \"km_per_kwh\", \"battery_capacity\", \"success\",\n",
    "           \"station_utilization_disp_of_avg\", \"station_utilization_avg_of_disp\", \"electricity\",\n",
    "           \"percent_delay\", \"hours_spent_in_queues\", \"hours_spent_charging\", \n",
    "           \"most_utilized_node\", \"least_utilized_node\",\n",
    "          \"strongly_connected_components\", \"weakly_connected_components\"]\n",
    "results = [columns]\n",
    "\n",
    "saving_path = \"trials/full_day_results/\"\n",
    "\n",
    "def print_results(sim, scenario, s, n, success=True):\n",
    "    print(success, \": name: \", sim.name)\n",
    "    \n",
    "    if success==True:\n",
    "        print(\"station_utilization_disp_of_avg:  \", sim.metrics['station_utilization_disp_of_avg'])\n",
    "        print(\"station_utilization_avg_of_disp:  \", sim.metrics['station_utilization_avg_of_disp'])\n",
    "        print(\"electricity:  \", sim.metrics['electricity'])\n",
    "        print(\"percent_delay:  \", sim.metrics['percent_delay'])\n",
    "        print(\"hours_spent_in_queues:  \", sim.metrics['hours_spent_in_queues'])\n",
    "        print(\"hours_spent_charging:  \", sim.metrics['hours_spent_charging'])\n",
    "        print(\"________________________________________\")\n",
    "        \n",
    "\n",
    "for scenario, s in zip(scenario_list, range(0,len(scenario_list))):\n",
    "    \n",
    "    print('------- SCENARIO '+str(s)+' -------')\n",
    "    #initialize for wcctici\n",
    "    simulation_length = 24\n",
    "    battery_interval = 20\n",
    "    kwh_per_km = scenario[1]\n",
    "    battery_capacity = scenario[2]\n",
    "    stations_path = \"data/wcctci_stations-updated.csv\"\n",
    "    distances_path = \"data/wcctci_coord_distances.csv\"\n",
    "    basename = \"full_day\"\n",
    "    \n",
    "    for n in range(0, number_of_iterations):\n",
    "        \n",
    "        #reset the variables for the next iteration\n",
    "        if n==0:\n",
    "            stations_path = \"data/wcctci_stations-updated.csv\"\n",
    "            distances_path = \"data/wcctci_coord_distances.csv\"\n",
    "        else:\n",
    "            stations_path = \"data/algorithm_\"+str(n)+\"_stations.csv\"\n",
    "            distances_path = \"data/algorithm_\"+str(n)+\"_distances.csv\"\n",
    "        name = basename+\"_scenario\"+str(s)+\"_algorithm_\"+str(n)\n",
    "        \n",
    "        ### run and print metrics\n",
    "        sim = Simulation(name, stations_path, distances_path, simulation_length, battery_interval, kwh_per_km, battery_capacity, saving_path)\n",
    "        sim.add_demand_nodes()\n",
    "        success = True\n",
    "        try:\n",
    "            sim.run()\n",
    "            print_results(sim, scenario, s, n, success)\n",
    "        except Exception as e: \n",
    "            print(e)\n",
    "            success = False\n",
    "            print_results(sim, scenario, s, n, success)\n",
    "            continue # don't attempt data analysis on failed iteration, but continue loop\n",
    "\n",
    "        ### get station utilization\n",
    "\n",
    "        #get the station ids in order \n",
    "        current_stations = [int(j) for j in sim.station_g.nodes]\n",
    "\n",
    "#         #get the utilization rate of the stations\n",
    "#         utilization = sim.metrics['station_utilization']\n",
    "        \n",
    "        # Alternative utilization calculation \n",
    "        utilization = get_utilization(sim)\n",
    "        \n",
    "        avg_utilization = {}\n",
    "        for node in current_stations:\n",
    "            avg_utilization[node] = 0\n",
    "            for i in range(len(utilization)):\n",
    "                use_i = utilization[i]\n",
    "                try:\n",
    "                    avg_utilization[node] += use_i[str(node)]\n",
    "                except:\n",
    "                    avg_utilization[node] += 0\n",
    "\n",
    "            avg_utilization[node] = avg_utilization[node]/len(utilization)\n",
    "\n",
    "        utilization = [i for i in avg_utilization.values()]\n",
    "\n",
    "        #get the station that has the highest utilization.\n",
    "        h_st = current_stations[np.argmax(utilization)]\n",
    "\n",
    "        #get the station that has the lowest utilization.\n",
    "        l_st = current_stations[np.argmin(utilization)]\n",
    "\n",
    "        print(\"Highest:\", h_st)\n",
    "        print(\"Lowest:\", l_st)\n",
    "        \n",
    "        # If that was the last iteration, do not do prep for next iteration\n",
    "        if n==number_of_iterations-1:\n",
    "            break\n",
    "        \n",
    "        ### Find the unused location that is closest to the highly utilized station\n",
    "\n",
    "        #get the map of all parking areas and stations\n",
    "        full_map_dist = pd.read_csv(\"data/charging_parking_distances_pemsingested.csv\")\n",
    "        full_map_loc = pd.read_csv(\"data/charging_parking_stations.csv\")\n",
    "\n",
    "        #keep only the roads that start or end with the high utilization station\n",
    "        h_map = full_map_dist[(full_map_dist.loc[:, 'OriginID'] == h_st) | (full_map_dist.loc[:, 'DestinationID'] == h_st)]\n",
    "\n",
    "        #then we eliminate all of the stations that are already being used.\n",
    "        using_st = current_stations.copy()\n",
    "        using_st.remove(h_st)\n",
    "        h_map = h_map[(~ h_map.loc[:, 'OriginID'].isin(using_st)) & (~ h_map.loc[:, 'DestinationID'].isin(using_st))]\n",
    "\n",
    "        #then we remove the case where we go from h_st to h_st\n",
    "        h_map = h_map[~ ((h_map.loc[:, 'OriginID'] == h_st) & (h_map.loc[:, 'DestinationID'] == h_st))]\n",
    "\n",
    "        #find the shortest edge. If there is more than one, we choose the first one that comes up (hence the 'reset_index' and [0] bellow)\n",
    "\n",
    "        new_origin = h_map[h_map.Total_TravelTime==h_map.Total_TravelTime.min()].reset_index()['OriginID'][0]\n",
    "        new_destination = h_map[h_map.Total_TravelTime==h_map.Total_TravelTime.min()].reset_index()['DestinationID'][0]\n",
    "\n",
    "        #one of the two will be h_st and the other will be the new station location. \n",
    "        if new_origin == h_st:\n",
    "            new_station = new_destination\n",
    "        else:\n",
    "            new_station = new_origin\n",
    "\n",
    "        print(\"New Station:\", new_station)\n",
    "        ### create the new maps with the locations and the distances of the stations that we will be using next\n",
    "\n",
    "        new_stations_list = current_stations + [new_station]\n",
    "        new_stations_list.remove(l_st)\n",
    "\n",
    "        #now we reduce these to the new set of stations. All origins and destinations should be in this list.\n",
    "        new_map_dist = full_map_dist[(full_map_dist.loc[:, 'OriginID'].isin(new_stations_list)) & (full_map_dist.loc[:, 'DestinationID'].isin(new_stations_list))]\n",
    "        new_map_loc = full_map_loc[full_map_loc.loc[:, 'OID_'].isin(new_stations_list)]\n",
    "\n",
    "        #we add the charging rates and capacity- assuming that they are the same as the others (set to 45 and 8)\n",
    "        #TO DO: check this\n",
    "        new_map_loc['charging_rate'] = scenario[0]\n",
    "        new_map_loc['physical_capacity'] = 8\n",
    "\n",
    "        #we change the snapX and snapY columns to lon and lat \n",
    "        new_map_loc = new_map_loc.rename(columns = {'SnapX': 'longitude', 'SnapY': 'latitude'})\n",
    "\n",
    "        #now we save them. \n",
    "        new_map_loc.to_csv(\"data/algorithm_\"+str(n+1)+\"_stations.csv\") \n",
    "        new_map_dist.to_csv(\"data/algorithm_\"+str(n+1)+\"_distances.csv\")\n",
    "        \n",
    "        # record the results (including highest + lowest utilized nodes)\n",
    "        result = [s, n, scenario[0], scenario[1], scenario[2], True,\n",
    "           sim.metrics['station_utilization_disp_of_avg'], sim.metrics['station_utilization_avg_of_disp'], \n",
    "           sim.metrics['electricity'], sim.metrics['percent_delay'],\n",
    "           sim.metrics['hours_spent_in_queues'], sim.metrics['hours_spent_charging'],\n",
    "           h_st, l_st, \n",
    "           nx.number_strongly_connected_components(sim.battery_g), nx.number_weakly_connected_components(sim.battery_g)]\n",
    "        result = [s, n, scenario[0], scenario[1], scenario[2], False, None, None, None, None, None, None, None, None, None, None]\n",
    "        results.append(result)\n",
    "        \n",
    "\n",
    "pd.DataFrame(results).to_csv(saving_path+basename+\".csv\")"
   ]
  },
  {
   "cell_type": "code",
   "execution_count": 5,
   "id": "c605678f",
   "metadata": {
    "scrolled": true
   },
   "outputs": [
    {
     "data": {
      "text/plain": [
       "[0.0,\n",
       " 0.0,\n",
       " 0.0,\n",
       " 0.0,\n",
       " 48.27291666666667,\n",
       " 23.189583333333335,\n",
       " 80.84375,\n",
       " 0.0,\n",
       " 0.0,\n",
       " 0.0,\n",
       " 0.0,\n",
       " 0.0,\n",
       " 0.0,\n",
       " 0.0,\n",
       " 0.0,\n",
       " 0.0,\n",
       " 0.0,\n",
       " 0.0,\n",
       " 96.39791666666666,\n",
       " 0.0,\n",
       " 0.0,\n",
       " 0.0,\n",
       " 0.0,\n",
       " 0.0,\n",
       " 0.0,\n",
       " 54.327083333333334,\n",
       " 50.697916666666664,\n",
       " 59.630208333333336,\n",
       " 77.61354166666666,\n",
       " 0.0,\n",
       " 23.885416666666668,\n",
       " 13.491666666666667,\n",
       " 0.0,\n",
       " 0.007291666666666667,\n",
       " 54.371875,\n",
       " 0.0,\n",
       " 0.0,\n",
       " 0.0,\n",
       " 0.0,\n",
       " 55.97604166666667,\n",
       " 87.80729166666667,\n",
       " 150.7,\n",
       " 78.93229166666667]"
      ]
     },
     "execution_count": 5,
     "metadata": {},
     "output_type": "execute_result"
    }
   ],
   "source": [
    "utilization"
   ]
  },
  {
   "cell_type": "code",
   "execution_count": 6,
   "id": "59ae31df",
   "metadata": {},
   "outputs": [],
   "source": [
    "# avg_utilization = {}\n",
    "# for node in current_stations:\n",
    "#     avg_utilization[node] = 0\n",
    "#     for i in range(len(utilization)):\n",
    "#         use_i = utilization[i]\n",
    "#         try:\n",
    "#             avg_utilization[node] += use_i[str(node)]\n",
    "#         except:\n",
    "#             avg_utilization[node] += 0\n",
    "    \n",
    "#     avg_utilization[node] = avg_utilization[node]/len(utilization)\n",
    "\n",
    "# utilization_list = [i for i in avg_utilization.values()]"
   ]
  },
  {
   "cell_type": "markdown",
   "id": "d8e445d9",
   "metadata": {},
   "source": [
    "## Bellow this is  just code I used to think about/ build the algorithm above (Just ignore).\n",
    "### I was thinking about just one iteration, starting from the wcctci pickle."
   ]
  },
  {
   "cell_type": "code",
   "execution_count": 7,
   "id": "ecc00961",
   "metadata": {},
   "outputs": [],
   "source": [
    "#open the pickle\n",
    "with open('trials/wcctci_04_04_2022_12_15_28.pkl', 'rb') as inp:\n",
    "    res = pickle.load(inp)"
   ]
  },
  {
   "cell_type": "markdown",
   "id": "91560706",
   "metadata": {},
   "source": [
    "Get the highest and lowest utilized stations:"
   ]
  },
  {
   "cell_type": "code",
   "execution_count": 8,
   "id": "2887bbae",
   "metadata": {},
   "outputs": [
    {
     "ename": "TypeError",
     "evalue": "'NoneType' object is not subscriptable",
     "output_type": "error",
     "traceback": [
      "\u001b[0;31m---------------------------------------------------------------------------\u001b[0m",
      "\u001b[0;31mTypeError\u001b[0m                                 Traceback (most recent call last)",
      "\u001b[0;32m<ipython-input-8-0e98f0a31bbc>\u001b[0m in \u001b[0;36m<module>\u001b[0;34m\u001b[0m\n\u001b[1;32m      5\u001b[0m \u001b[0;34m\u001b[0m\u001b[0m\n\u001b[1;32m      6\u001b[0m \u001b[0;31m#get the utilization rate of the stations\u001b[0m\u001b[0;34m\u001b[0m\u001b[0;34m\u001b[0m\u001b[0;34m\u001b[0m\u001b[0m\n\u001b[0;32m----> 7\u001b[0;31m \u001b[0mutilization\u001b[0m \u001b[0;34m=\u001b[0m \u001b[0mres\u001b[0m\u001b[0;34m.\u001b[0m\u001b[0mmetrics\u001b[0m\u001b[0;34m[\u001b[0m\u001b[0;34m'station_utilization'\u001b[0m\u001b[0;34m]\u001b[0m\u001b[0;34m\u001b[0m\u001b[0;34m\u001b[0m\u001b[0m\n\u001b[0m\u001b[1;32m      8\u001b[0m \u001b[0;34m\u001b[0m\u001b[0m\n\u001b[1;32m      9\u001b[0m \u001b[0;31m#get the station that has the highest utilization.\u001b[0m\u001b[0;34m\u001b[0m\u001b[0;34m\u001b[0m\u001b[0;34m\u001b[0m\u001b[0m\n",
      "\u001b[0;31mTypeError\u001b[0m: 'NoneType' object is not subscriptable"
     ]
    }
   ],
   "source": [
    "#get station utilization\n",
    "\n",
    "#get the station ids in order \n",
    "current_stations = list(res.station_g.nodes)\n",
    "\n",
    "#get the utilization rate of the stations\n",
    "utilization = res.metrics['station_utilization']\n",
    "\n",
    "#get the station that has the highest utilization.\n",
    "h_st = current_stations[np.argmax(utilization)]\n",
    "\n",
    "#get the station that has the lowest utilization.\n",
    "l_st = current_stations[np.argmin(utilization)]"
   ]
  },
  {
   "cell_type": "markdown",
   "id": "42b52f0a",
   "metadata": {},
   "source": [
    "Find the unused location that is closest to the highly utilized station:"
   ]
  },
  {
   "cell_type": "code",
   "execution_count": null,
   "id": "634f88f5",
   "metadata": {},
   "outputs": [],
   "source": [
    "#get the map of all parking areas and stations\n",
    "full_map_dist = pd.read_csv(\"data/charging_parking_distances.csv\")\n",
    "\n",
    "#keep only the roads that start or end with the high utilization station\n",
    "h_map = full_map_dist[(full_map_dist.loc[:, 'OriginID'] == h_st) | (full_map_dist.loc[:, 'DestinationID'] == h_st)]\n",
    "\n",
    "#then we eliminate all of the stations that are already being used.\n",
    "using_st = current_stations.copy()\n",
    "using_st.remove(h_st)\n",
    "h_map = h_map[(~ h_map.loc[:, 'OriginID'].isin(using_st)) & (~ h_map.loc[:, 'DestinationID'].isin(using_st))]\n",
    "\n",
    "#then we remove the case where we go from h_st to h_st\n",
    "h_map = h_map[~ ((h_map.loc[:, 'OriginID'] == h_st) & (h_map.loc[:, 'DestinationID'] == h_st))]\n",
    "\n",
    "#find the shortest edge. If there is more than one, we choose the first one that comes up (hence the 'reset_index' and [0] bellow)\n",
    "\n",
    "new_origin = h_map[h_map.Total_TravelTime==h_map.Total_TravelTime.min()].reset_index()['OriginID'][0]\n",
    "new_destination = h_map[h_map.Total_TravelTime==h_map.Total_TravelTime.min()].reset_index()['DestinationID'][0]\n",
    "\n",
    "#one of the two will be h_st and the other will be the new station location. \n",
    "if new_origin == h_st:\n",
    "    new_station = new_destination\n",
    "else:\n",
    "    new_station = new_origin"
   ]
  },
  {
   "cell_type": "markdown",
   "id": "135323d6",
   "metadata": {},
   "source": [
    "Now we start to think about re-runing the simulation with this swap (taking out l_st and adding new_station). To do this, we need to create a new map with the locations and the distances of the stations that we will be using next."
   ]
  },
  {
   "cell_type": "code",
   "execution_count": null,
   "id": "ac180c97",
   "metadata": {},
   "outputs": [],
   "source": [
    "new_stations_list = current_stations + [new_station]"
   ]
  },
  {
   "cell_type": "code",
   "execution_count": null,
   "id": "e3446cb6",
   "metadata": {},
   "outputs": [],
   "source": [
    "#we have \"full_map_dist\" (distances map)\n",
    "#and we need the locations map\n",
    "full_map_loc = pd.read_csv(\"data/charging_parking_stations.csv\")\n",
    "\n",
    "#now we reduce these to the new set of stations. All origins and destinations should be in this list.\n",
    "new_map_dist = full_map_dist[(full_map_dist.loc[:, 'OriginID'].isin(new_stations_list)) & (full_map_dist.loc[:, 'DestinationID'].isin(new_stations_list))]\n",
    "new_map_loc = full_map_loc[(full_map_loc.loc[:, 'OriginID'].isin(new_stations_list)) & (full_map_loc.loc[:, 'DestinationID'].isin(new_stations_list))]"
   ]
  },
  {
   "cell_type": "code",
   "execution_count": null,
   "id": "df54e7f5",
   "metadata": {},
   "outputs": [],
   "source": [
    "#now we save them. \n",
    "new_map_loc.to_csv(\"data/algorithm_\"+str(1)+\"_stations.csv\") ########change the 1\n",
    "new_map_dist.to_csv(\"data/algorithm_\"+str(1)+\"_distances.csv\")"
   ]
  },
  {
   "cell_type": "markdown",
   "id": "e5aaee2b",
   "metadata": {},
   "source": [
    "Now we can run the next simulation"
   ]
  },
  {
   "cell_type": "code",
   "execution_count": null,
   "id": "99c13442",
   "metadata": {},
   "outputs": [],
   "source": [
    "simulation_length = 12\n",
    "battery_interval = 20\n",
    "km_per_percent = 3.13\n",
    "\n",
    "sim = Simulation(\"data/algorithm_\"+str(1)+\"_stations.csv\", \"data/algorithm_\"+str(1)+\"_distances.csv\", simulation_length, battery_interval, km_per_percent)"
   ]
  },
  {
   "cell_type": "markdown",
   "id": "08db5eeb",
   "metadata": {},
   "source": [
    "# Anna"
   ]
  },
  {
   "cell_type": "code",
   "execution_count": null,
   "id": "aa713156",
   "metadata": {},
   "outputs": [],
   "source": [
    "stations_path = \"data/wcctci_stations-updated.csv\"\n",
    "distances_path = \"data/wcctci_coord_distances.csv\"\n",
    "# stations_df, distances_df = select_dataset(stations_csv_path, distances_csv_path)\n",
    "# station_g = get_station_g(stations_df, distances_df)\n",
    "# battery_g = layer_graph(station_g, 20, km_per_percent= 1.9)\n",
    "simulation_length = 24\n",
    "battery_interval = 20\n",
    "kwh_per_km = 1.9\n",
    "battery_capacity = 215\n",
    "name = 'hi'\n",
    "sim = Simulation(name, stations_path, distances_path, simulation_length, battery_interval, kwh_per_km, battery_capacity)\n",
    "sim.add_demand_nodes()"
   ]
  },
  {
   "cell_type": "code",
   "execution_count": null,
   "id": "171b8748",
   "metadata": {},
   "outputs": [],
   "source": [
    "sim.battery_g.nodes"
   ]
  },
  {
   "cell_type": "code",
   "execution_count": null,
   "id": "00638c0d",
   "metadata": {},
   "outputs": [],
   "source": [
    "nx.shortest_path(sim.battery_g, \"Long Beach\", \"Reno\")"
   ]
  },
  {
   "cell_type": "code",
   "execution_count": null,
   "id": "10798fad",
   "metadata": {},
   "outputs": [],
   "source": []
  }
 ],
 "metadata": {
  "kernelspec": {
   "display_name": "Python 3 (ipykernel)",
   "language": "python",
   "name": "python3"
  },
  "language_info": {
   "codemirror_mode": {
    "name": "ipython",
    "version": 3
   },
   "file_extension": ".py",
   "mimetype": "text/x-python",
   "name": "python",
   "nbconvert_exporter": "python",
   "pygments_lexer": "ipython3",
   "version": "3.7.4"
  }
 },
 "nbformat": 4,
 "nbformat_minor": 5
}
