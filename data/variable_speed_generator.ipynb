{
 "cells": [
  {
   "cell_type": "code",
   "execution_count": 1,
   "id": "8e62198f",
   "metadata": {},
   "outputs": [],
   "source": [
    "import pandas as pd\n",
    "import numpy as np\n",
    "import random"
   ]
  },
  {
   "cell_type": "markdown",
   "id": "f3d4cfd3",
   "metadata": {},
   "source": [
    "# Function Definiton"
   ]
  },
  {
   "cell_type": "code",
   "execution_count": 29,
   "id": "8ada557d",
   "metadata": {},
   "outputs": [],
   "source": [
    "def gen_24hr_speed_dist(edges):\n",
    "    ''' Generate a distribution of speed along the edge througout the day'''\n",
    "    # Initialize 24 hour weighting of road speed\n",
    "    speed_weight = [1.2, 1.2, 1.2, 1.2, 1.2, 1.15, 1.05, 0.95,\n",
    "                    0.9, 1.02, 1.02, 1.0, 1.0, 1.0, 0.99, 0.98, \n",
    "                    0.97, 0.93, 0.92, 0.90, 0.95, 1.05, 1.1, 1.15]\n",
    "    \n",
    "    # Add column of weighted speed for each hour\n",
    "    for hr in range(24):\n",
    "        # km/hr*speed weight\n",
    "        edges[f'speed_{hr}'] = edges['Total_Kilometers']/(edges['Total_TravelTime']/60)*speed_weight[hr]\n",
    "        \n",
    "    # Replace with 0 for case where edge is a self loop\n",
    "    edges.fillna(0, inplace=True)\n",
    "    return edges "
   ]
  },
  {
   "cell_type": "markdown",
   "id": "df45fe5c",
   "metadata": {},
   "source": [
    "# Data Manipulations"
   ]
  },
  {
   "cell_type": "markdown",
   "id": "d1beee56",
   "metadata": {},
   "source": [
    "## Test Data"
   ]
  },
  {
   "cell_type": "code",
   "execution_count": 22,
   "id": "72e22ea9",
   "metadata": {},
   "outputs": [],
   "source": [
    "filepath = '../data_test/distances.csv'\n",
    "data_test = pd.read_csv(filepath)"
   ]
  },
  {
   "cell_type": "code",
   "execution_count": 30,
   "id": "899398e4",
   "metadata": {},
   "outputs": [],
   "source": [
    "# Run and save\n",
    "distances = gen_24hr_speed_dist(data_test)\n",
    "distances.to_csv((filepath))"
   ]
  },
  {
   "cell_type": "code",
   "execution_count": 32,
   "id": "62e04710",
   "metadata": {},
   "outputs": [],
   "source": [
    "# distances = distances.drop(columns=['Unnamed: 0', 'Unnamed: 0.1'])"
   ]
  },
  {
   "cell_type": "code",
   "execution_count": 37,
   "id": "afebcc15",
   "metadata": {},
   "outputs": [],
   "source": [
    "filepath = '../data_test/distances.csv'\n",
    "distances_df = pd.read_csv(filepath)\n",
    "h_index = 12\n",
    "src = 1\n",
    "dst = 1\n",
    "src_dest_df = distances_df[(distances_df['OriginID']==src) & (distances_df['DestinationID']==dst)]\n",
    "# Get speed at time-of-day = h_index (use \"speed_\"+h_index) \n",
    "avg_speed = src_dest_df[\"speed_\"+str(h_index)][0]"
   ]
  },
  {
   "cell_type": "code",
   "execution_count": 38,
   "id": "b401a614",
   "metadata": {},
   "outputs": [
    {
     "data": {
      "text/plain": [
       "0    0.0\n",
       "Name: speed_12, dtype: float64"
      ]
     },
     "execution_count": 38,
     "metadata": {},
     "output_type": "execute_result"
    }
   ],
   "source": [
    "avg_speed"
   ]
  },
  {
   "cell_type": "code",
   "execution_count": null,
   "id": "b26ea7ae",
   "metadata": {},
   "outputs": [],
   "source": []
  }
 ],
 "metadata": {
  "kernelspec": {
   "display_name": "Python 3 (ipykernel)",
   "language": "python",
   "name": "python3"
  },
  "language_info": {
   "codemirror_mode": {
    "name": "ipython",
    "version": 3
   },
   "file_extension": ".py",
   "mimetype": "text/x-python",
   "name": "python",
   "nbconvert_exporter": "python",
   "pygments_lexer": "ipython3",
   "version": "3.8.8"
  }
 },
 "nbformat": 4,
 "nbformat_minor": 5
}
