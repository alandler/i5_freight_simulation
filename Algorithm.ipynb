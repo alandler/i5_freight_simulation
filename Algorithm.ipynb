{
 "cells": [
  {
   "cell_type": "code",
   "execution_count": 1,
   "id": "demanding-norman",
   "metadata": {},
   "outputs": [],
   "source": [
    "from multiprocessing.sharedctypes import Value\n",
    "import networkx as nx\n",
    "import numpy as np\n",
    "import random\n",
    "import pandas as pd\n",
    "\n",
    "from tqdm import tqdm\n",
    "from datetime import datetime\n",
    "import pickle\n",
    "\n",
    "# File imports\n",
    "import data\n",
    "from data import select_dataset, get_station_g, ingest_electricity_data, set_random_speed_columns\n",
    "from replicate_graph import layer_graph\n",
    "from vehicle import Vehicle\n",
    "from simulation import Simulation\n",
    "from visualization import set_draw_attributes"
   ]
  },
  {
   "cell_type": "code",
   "execution_count": 2,
   "id": "welcome-daily",
   "metadata": {},
   "outputs": [
    {
     "name": "stderr",
     "output_type": "stream",
     "text": [
      "100%|██████████████████████████████████████████████████████████████████████████████████| 12/12 [00:25<00:00,  2.16s/it]\n"
     ]
    },
    {
     "name": "stdout",
     "output_type": "stream",
     "text": [
      "wcctci\n",
      "station_utilization_disp_of_avg:   7.4078125\n",
      "station_utilization_avg_of_disp:   7.409635416666666\n",
      "electricity:   0\n",
      "percent_delay:   (1.0, 1.0, 2.1620440424106673, 1.0560713883536805, 0.13829063132137182)\n",
      "hours_spent_in_queues:   (0.0, 0.0, 3.6, 0.027795527156549524, 0.2578987276393834)\n",
      "hours_spent_charging:   (0, 0.0, 21, 0.6190095846645367, 2.735587789237221)\n",
      "____________________\n"
     ]
    },
    {
     "name": "stderr",
     "output_type": "stream",
     "text": [
      "<ipython-input-2-788fb58b9d10>:88: SettingWithCopyWarning: \n",
      "A value is trying to be set on a copy of a slice from a DataFrame.\n",
      "Try using .loc[row_indexer,col_indexer] = value instead\n",
      "\n",
      "See the caveats in the documentation: https://pandas.pydata.org/pandas-docs/stable/user_guide/indexing.html#returning-a-view-versus-a-copy\n",
      "  new_map_loc['charging_rate'] = 45\n",
      "<ipython-input-2-788fb58b9d10>:89: SettingWithCopyWarning: \n",
      "A value is trying to be set on a copy of a slice from a DataFrame.\n",
      "Try using .loc[row_indexer,col_indexer] = value instead\n",
      "\n",
      "See the caveats in the documentation: https://pandas.pydata.org/pandas-docs/stable/user_guide/indexing.html#returning-a-view-versus-a-copy\n",
      "  new_map_loc['physical_capacity'] = 8\n",
      "  0%|                                                                                           | 0/12 [00:00<?, ?it/s]\n"
     ]
    },
    {
     "ename": "KeyError",
     "evalue": "'speed_0'",
     "output_type": "error",
     "traceback": [
      "\u001b[1;31m---------------------------------------------------------------------------\u001b[0m",
      "\u001b[1;31mKeyError\u001b[0m                                  Traceback (most recent call last)",
      "\u001b[1;32m~\\.julia\\conda\\3\\lib\\site-packages\\pandas\\core\\indexes\\base.py\u001b[0m in \u001b[0;36mget_loc\u001b[1;34m(self, key, method, tolerance)\u001b[0m\n\u001b[0;32m   3079\u001b[0m             \u001b[1;32mtry\u001b[0m\u001b[1;33m:\u001b[0m\u001b[1;33m\u001b[0m\u001b[1;33m\u001b[0m\u001b[0m\n\u001b[1;32m-> 3080\u001b[1;33m                 \u001b[1;32mreturn\u001b[0m \u001b[0mself\u001b[0m\u001b[1;33m.\u001b[0m\u001b[0m_engine\u001b[0m\u001b[1;33m.\u001b[0m\u001b[0mget_loc\u001b[0m\u001b[1;33m(\u001b[0m\u001b[0mcasted_key\u001b[0m\u001b[1;33m)\u001b[0m\u001b[1;33m\u001b[0m\u001b[1;33m\u001b[0m\u001b[0m\n\u001b[0m\u001b[0;32m   3081\u001b[0m             \u001b[1;32mexcept\u001b[0m \u001b[0mKeyError\u001b[0m \u001b[1;32mas\u001b[0m \u001b[0merr\u001b[0m\u001b[1;33m:\u001b[0m\u001b[1;33m\u001b[0m\u001b[1;33m\u001b[0m\u001b[0m\n",
      "\u001b[1;32mpandas\\_libs\\index.pyx\u001b[0m in \u001b[0;36mpandas._libs.index.IndexEngine.get_loc\u001b[1;34m()\u001b[0m\n",
      "\u001b[1;32mpandas\\_libs\\index.pyx\u001b[0m in \u001b[0;36mpandas._libs.index.IndexEngine.get_loc\u001b[1;34m()\u001b[0m\n",
      "\u001b[1;32mpandas\\_libs\\hashtable_class_helper.pxi\u001b[0m in \u001b[0;36mpandas._libs.hashtable.PyObjectHashTable.get_item\u001b[1;34m()\u001b[0m\n",
      "\u001b[1;32mpandas\\_libs\\hashtable_class_helper.pxi\u001b[0m in \u001b[0;36mpandas._libs.hashtable.PyObjectHashTable.get_item\u001b[1;34m()\u001b[0m\n",
      "\u001b[1;31mKeyError\u001b[0m: 'speed_0'",
      "\nThe above exception was the direct cause of the following exception:\n",
      "\u001b[1;31mKeyError\u001b[0m                                  Traceback (most recent call last)",
      "\u001b[1;32m<ipython-input-2-788fb58b9d10>\u001b[0m in \u001b[0;36m<module>\u001b[1;34m\u001b[0m\n\u001b[0;32m    109\u001b[0m \u001b[0msim\u001b[0m \u001b[1;33m=\u001b[0m \u001b[0mSimulation\u001b[0m\u001b[1;33m(\u001b[0m\u001b[0mname\u001b[0m\u001b[1;33m,\u001b[0m \u001b[0mstations_path\u001b[0m\u001b[1;33m,\u001b[0m \u001b[0mdistances_path\u001b[0m\u001b[1;33m,\u001b[0m \u001b[0msimulation_length\u001b[0m\u001b[1;33m,\u001b[0m \u001b[0mbattery_interval\u001b[0m\u001b[1;33m,\u001b[0m \u001b[0mkm_per_percent\u001b[0m\u001b[1;33m)\u001b[0m\u001b[1;33m\u001b[0m\u001b[1;33m\u001b[0m\u001b[0m\n\u001b[0;32m    110\u001b[0m \u001b[0msim\u001b[0m\u001b[1;33m.\u001b[0m\u001b[0madd_demand_nodes\u001b[0m\u001b[1;33m(\u001b[0m\u001b[1;33m)\u001b[0m\u001b[1;33m\u001b[0m\u001b[1;33m\u001b[0m\u001b[0m\n\u001b[1;32m--> 111\u001b[1;33m \u001b[0msim\u001b[0m\u001b[1;33m.\u001b[0m\u001b[0mrun\u001b[0m\u001b[1;33m(\u001b[0m\u001b[1;33m)\u001b[0m\u001b[1;33m\u001b[0m\u001b[1;33m\u001b[0m\u001b[0m\n\u001b[0m\u001b[0;32m    112\u001b[0m \u001b[1;33m\u001b[0m\u001b[0m\n\u001b[0;32m    113\u001b[0m \u001b[1;33m\u001b[0m\u001b[0m\n",
      "\u001b[1;32m~\\Desktop\\MIT\\1.013\\GitHub Directory\\i5_freight_simulation\\simulation.py\u001b[0m in \u001b[0;36mrun\u001b[1;34m(self)\u001b[0m\n\u001b[0;32m    345\u001b[0m         \u001b[1;34m''' Run the simulation; return the statistics '''\u001b[0m\u001b[1;33m\u001b[0m\u001b[1;33m\u001b[0m\u001b[0m\n\u001b[0;32m    346\u001b[0m         \u001b[1;32mfor\u001b[0m \u001b[0mh_step\u001b[0m \u001b[1;32min\u001b[0m \u001b[0mtqdm\u001b[0m\u001b[1;33m(\u001b[0m\u001b[0mrange\u001b[0m\u001b[1;33m(\u001b[0m\u001b[0mself\u001b[0m\u001b[1;33m.\u001b[0m\u001b[0msimulation_length\u001b[0m\u001b[1;33m)\u001b[0m\u001b[1;33m)\u001b[0m\u001b[1;33m:\u001b[0m \u001b[1;31m# go for simulation_length in hours\u001b[0m\u001b[1;33m\u001b[0m\u001b[1;33m\u001b[0m\u001b[0m\n\u001b[1;32m--> 347\u001b[1;33m             \u001b[0mself\u001b[0m\u001b[1;33m.\u001b[0m\u001b[0mupdate_hourly_road_time\u001b[0m\u001b[1;33m(\u001b[0m\u001b[0mh_step\u001b[0m\u001b[1;33m)\u001b[0m\u001b[1;33m\u001b[0m\u001b[1;33m\u001b[0m\u001b[0m\n\u001b[0m\u001b[0;32m    348\u001b[0m             \u001b[1;32mfor\u001b[0m \u001b[0mi_step\u001b[0m \u001b[1;32min\u001b[0m \u001b[0mrange\u001b[0m\u001b[1;33m(\u001b[0m\u001b[0mint\u001b[0m\u001b[1;33m(\u001b[0m\u001b[1;36m1\u001b[0m\u001b[1;33m/\u001b[0m\u001b[0mself\u001b[0m\u001b[1;33m.\u001b[0m\u001b[0mtime_interval\u001b[0m\u001b[1;33m)\u001b[0m\u001b[1;33m)\u001b[0m\u001b[1;33m:\u001b[0m \u001b[1;31m# go in interval segments\u001b[0m\u001b[1;33m\u001b[0m\u001b[1;33m\u001b[0m\u001b[0m\n\u001b[0;32m    349\u001b[0m                 \u001b[0mself\u001b[0m\u001b[1;33m.\u001b[0m\u001b[0mstep\u001b[0m\u001b[1;33m(\u001b[0m\u001b[0mh_step\u001b[0m\u001b[1;33m,\u001b[0m\u001b[0mi_step\u001b[0m\u001b[1;33m)\u001b[0m\u001b[1;33m\u001b[0m\u001b[1;33m\u001b[0m\u001b[0m\n",
      "\u001b[1;32m~\\Desktop\\MIT\\1.013\\GitHub Directory\\i5_freight_simulation\\simulation.py\u001b[0m in \u001b[0;36mupdate_hourly_road_time\u001b[1;34m(self, h_index)\u001b[0m\n\u001b[0;32m    306\u001b[0m          \u001b[1;34m''' For each _out to _in edge in the graph update edge time '''\u001b[0m\u001b[1;33m\u001b[0m\u001b[1;33m\u001b[0m\u001b[0m\n\u001b[0;32m    307\u001b[0m          \u001b[1;32mfor\u001b[0m \u001b[0medge\u001b[0m \u001b[1;32min\u001b[0m \u001b[0mself\u001b[0m\u001b[1;33m.\u001b[0m\u001b[0mstation_g\u001b[0m\u001b[1;33m.\u001b[0m\u001b[0medges\u001b[0m\u001b[1;33m:\u001b[0m\u001b[1;33m\u001b[0m\u001b[1;33m\u001b[0m\u001b[0m\n\u001b[1;32m--> 308\u001b[1;33m             \u001b[0mself\u001b[0m\u001b[1;33m.\u001b[0m\u001b[0mchange_hourly_road_time\u001b[0m\u001b[1;33m(\u001b[0m\u001b[0medge\u001b[0m\u001b[1;33m[\u001b[0m\u001b[1;36m0\u001b[0m\u001b[1;33m]\u001b[0m\u001b[1;33m,\u001b[0m \u001b[0medge\u001b[0m\u001b[1;33m[\u001b[0m\u001b[1;36m1\u001b[0m\u001b[1;33m]\u001b[0m\u001b[1;33m,\u001b[0m \u001b[0mh_index\u001b[0m\u001b[1;33m)\u001b[0m\u001b[1;33m\u001b[0m\u001b[1;33m\u001b[0m\u001b[0m\n\u001b[0m\u001b[0;32m    309\u001b[0m \u001b[1;33m\u001b[0m\u001b[0m\n\u001b[0;32m    310\u001b[0m     \u001b[1;32mdef\u001b[0m \u001b[0mupdate_charging_times\u001b[0m\u001b[1;33m(\u001b[0m\u001b[0mself\u001b[0m\u001b[1;33m)\u001b[0m\u001b[1;33m:\u001b[0m\u001b[1;33m\u001b[0m\u001b[1;33m\u001b[0m\u001b[0m\n",
      "\u001b[1;32m~\\Desktop\\MIT\\1.013\\GitHub Directory\\i5_freight_simulation\\simulation.py\u001b[0m in \u001b[0;36mchange_hourly_road_time\u001b[1;34m(self, src, dst, h_index)\u001b[0m\n\u001b[0;32m    284\u001b[0m         \u001b[1;32mif\u001b[0m \u001b[0mlen\u001b[0m\u001b[1;33m(\u001b[0m\u001b[0msrc_dest_df\u001b[0m\u001b[1;33m)\u001b[0m\u001b[1;33m==\u001b[0m\u001b[1;36m0\u001b[0m\u001b[1;33m:\u001b[0m\u001b[1;33m\u001b[0m\u001b[1;33m\u001b[0m\u001b[0m\n\u001b[0;32m    285\u001b[0m             \u001b[0mprint\u001b[0m\u001b[1;33m(\u001b[0m\u001b[0msrc\u001b[0m\u001b[1;33m,\u001b[0m \u001b[0mdst\u001b[0m\u001b[1;33m,\u001b[0m \u001b[0mh_index\u001b[0m\u001b[1;33m)\u001b[0m\u001b[1;33m\u001b[0m\u001b[1;33m\u001b[0m\u001b[0m\n\u001b[1;32m--> 286\u001b[1;33m         \u001b[0mavg_speed\u001b[0m \u001b[1;33m=\u001b[0m \u001b[0msrc_dest_df\u001b[0m\u001b[1;33m.\u001b[0m\u001b[0miloc\u001b[0m\u001b[1;33m[\u001b[0m\u001b[1;36m0\u001b[0m\u001b[1;33m]\u001b[0m\u001b[1;33m[\u001b[0m\u001b[1;34m\"speed_\"\u001b[0m\u001b[1;33m+\u001b[0m\u001b[0mstr\u001b[0m\u001b[1;33m(\u001b[0m\u001b[0mh_index\u001b[0m\u001b[1;33m)\u001b[0m\u001b[1;33m]\u001b[0m \u001b[1;31m# Get speed at time-of-day = h_index (use \"speed_\"+h_index)\u001b[0m\u001b[1;33m\u001b[0m\u001b[1;33m\u001b[0m\u001b[0m\n\u001b[0m\u001b[0;32m    287\u001b[0m         \u001b[0mtime\u001b[0m \u001b[1;33m=\u001b[0m \u001b[0msrc_dest_df\u001b[0m\u001b[1;33m.\u001b[0m\u001b[0miloc\u001b[0m\u001b[1;33m[\u001b[0m\u001b[1;36m0\u001b[0m\u001b[1;33m]\u001b[0m\u001b[1;33m[\u001b[0m\u001b[1;34m\"Total_Kilometers\"\u001b[0m\u001b[1;33m]\u001b[0m\u001b[1;33m/\u001b[0m\u001b[0mavg_speed\u001b[0m \u001b[1;31m# Convert to time... d=rt t=d/r\u001b[0m\u001b[1;33m\u001b[0m\u001b[1;33m\u001b[0m\u001b[0m\n\u001b[0;32m    288\u001b[0m \u001b[1;33m\u001b[0m\u001b[0m\n",
      "\u001b[1;32m~\\.julia\\conda\\3\\lib\\site-packages\\pandas\\core\\series.py\u001b[0m in \u001b[0;36m__getitem__\u001b[1;34m(self, key)\u001b[0m\n\u001b[0;32m    851\u001b[0m \u001b[1;33m\u001b[0m\u001b[0m\n\u001b[0;32m    852\u001b[0m         \u001b[1;32melif\u001b[0m \u001b[0mkey_is_scalar\u001b[0m\u001b[1;33m:\u001b[0m\u001b[1;33m\u001b[0m\u001b[1;33m\u001b[0m\u001b[0m\n\u001b[1;32m--> 853\u001b[1;33m             \u001b[1;32mreturn\u001b[0m \u001b[0mself\u001b[0m\u001b[1;33m.\u001b[0m\u001b[0m_get_value\u001b[0m\u001b[1;33m(\u001b[0m\u001b[0mkey\u001b[0m\u001b[1;33m)\u001b[0m\u001b[1;33m\u001b[0m\u001b[1;33m\u001b[0m\u001b[0m\n\u001b[0m\u001b[0;32m    854\u001b[0m \u001b[1;33m\u001b[0m\u001b[0m\n\u001b[0;32m    855\u001b[0m         \u001b[1;32mif\u001b[0m \u001b[0mis_hashable\u001b[0m\u001b[1;33m(\u001b[0m\u001b[0mkey\u001b[0m\u001b[1;33m)\u001b[0m\u001b[1;33m:\u001b[0m\u001b[1;33m\u001b[0m\u001b[1;33m\u001b[0m\u001b[0m\n",
      "\u001b[1;32m~\\.julia\\conda\\3\\lib\\site-packages\\pandas\\core\\series.py\u001b[0m in \u001b[0;36m_get_value\u001b[1;34m(self, label, takeable)\u001b[0m\n\u001b[0;32m    959\u001b[0m \u001b[1;33m\u001b[0m\u001b[0m\n\u001b[0;32m    960\u001b[0m         \u001b[1;31m# Similar to Index.get_value, but we do not fall back to positional\u001b[0m\u001b[1;33m\u001b[0m\u001b[1;33m\u001b[0m\u001b[1;33m\u001b[0m\u001b[0m\n\u001b[1;32m--> 961\u001b[1;33m         \u001b[0mloc\u001b[0m \u001b[1;33m=\u001b[0m \u001b[0mself\u001b[0m\u001b[1;33m.\u001b[0m\u001b[0mindex\u001b[0m\u001b[1;33m.\u001b[0m\u001b[0mget_loc\u001b[0m\u001b[1;33m(\u001b[0m\u001b[0mlabel\u001b[0m\u001b[1;33m)\u001b[0m\u001b[1;33m\u001b[0m\u001b[1;33m\u001b[0m\u001b[0m\n\u001b[0m\u001b[0;32m    962\u001b[0m         \u001b[1;32mreturn\u001b[0m \u001b[0mself\u001b[0m\u001b[1;33m.\u001b[0m\u001b[0mindex\u001b[0m\u001b[1;33m.\u001b[0m\u001b[0m_get_values_for_loc\u001b[0m\u001b[1;33m(\u001b[0m\u001b[0mself\u001b[0m\u001b[1;33m,\u001b[0m \u001b[0mloc\u001b[0m\u001b[1;33m,\u001b[0m \u001b[0mlabel\u001b[0m\u001b[1;33m)\u001b[0m\u001b[1;33m\u001b[0m\u001b[1;33m\u001b[0m\u001b[0m\n\u001b[0;32m    963\u001b[0m \u001b[1;33m\u001b[0m\u001b[0m\n",
      "\u001b[1;32m~\\.julia\\conda\\3\\lib\\site-packages\\pandas\\core\\indexes\\base.py\u001b[0m in \u001b[0;36mget_loc\u001b[1;34m(self, key, method, tolerance)\u001b[0m\n\u001b[0;32m   3080\u001b[0m                 \u001b[1;32mreturn\u001b[0m \u001b[0mself\u001b[0m\u001b[1;33m.\u001b[0m\u001b[0m_engine\u001b[0m\u001b[1;33m.\u001b[0m\u001b[0mget_loc\u001b[0m\u001b[1;33m(\u001b[0m\u001b[0mcasted_key\u001b[0m\u001b[1;33m)\u001b[0m\u001b[1;33m\u001b[0m\u001b[1;33m\u001b[0m\u001b[0m\n\u001b[0;32m   3081\u001b[0m             \u001b[1;32mexcept\u001b[0m \u001b[0mKeyError\u001b[0m \u001b[1;32mas\u001b[0m \u001b[0merr\u001b[0m\u001b[1;33m:\u001b[0m\u001b[1;33m\u001b[0m\u001b[1;33m\u001b[0m\u001b[0m\n\u001b[1;32m-> 3082\u001b[1;33m                 \u001b[1;32mraise\u001b[0m \u001b[0mKeyError\u001b[0m\u001b[1;33m(\u001b[0m\u001b[0mkey\u001b[0m\u001b[1;33m)\u001b[0m \u001b[1;32mfrom\u001b[0m \u001b[0merr\u001b[0m\u001b[1;33m\u001b[0m\u001b[1;33m\u001b[0m\u001b[0m\n\u001b[0m\u001b[0;32m   3083\u001b[0m \u001b[1;33m\u001b[0m\u001b[0m\n\u001b[0;32m   3084\u001b[0m         \u001b[1;32mif\u001b[0m \u001b[0mtolerance\u001b[0m \u001b[1;32mis\u001b[0m \u001b[1;32mnot\u001b[0m \u001b[1;32mNone\u001b[0m\u001b[1;33m:\u001b[0m\u001b[1;33m\u001b[0m\u001b[1;33m\u001b[0m\u001b[0m\n",
      "\u001b[1;31mKeyError\u001b[0m: 'speed_0'"
     ]
    }
   ],
   "source": [
    "simulation_length = 12\n",
    "battery_interval = 20\n",
    "km_per_percent = 3.13\n",
    "stations_path = \"data/wcctci_stations-updated.csv\"\n",
    "distances_path = \"data/wcctci_coord_distances.csv\"\n",
    "name = \"wcctci\"\n",
    "\n",
    "number_of_iterations = 1\n",
    "\n",
    "\n",
    "for n in range(0, number_of_iterations):\n",
    "    \n",
    "    ### run the simulation\n",
    "    \n",
    "    sim = Simulation(name, stations_path, distances_path, simulation_length, battery_interval, km_per_percent)\n",
    "    sim.add_demand_nodes()\n",
    "    sim.run()\n",
    "    \n",
    "    \n",
    "    ### Print metrics\n",
    "    \n",
    "    #print name of this simulation\n",
    "    print(name)\n",
    "    print(\"station_utilization_disp_of_avg:  \", sim.metrics['station_utilization_disp_of_avg'])\n",
    "    print(\"station_utilization_avg_of_disp:  \", sim.metrics['station_utilization_avg_of_disp'])\n",
    "    print(\"electricity:  \", sim.metrics['electricity'])\n",
    "    print(\"percent_delay:  \", sim.metrics['percent_delay'])\n",
    "    print(\"hours_spent_in_queues:  \", sim.metrics['hours_spent_in_queues'])\n",
    "    print(\"hours_spent_charging:  \", sim.metrics['hours_spent_charging'])\n",
    "    print('____________________')\n",
    "    \n",
    "    \n",
    "    ### get station utilization\n",
    "    \n",
    "    #get the station ids in order \n",
    "    current_stations = [int(j) for j in sim.station_g.nodes]\n",
    "\n",
    "    #get the utilization rate of the stations\n",
    "    utilization = sim.metrics['station_utilization']\n",
    "\n",
    "    #get the station that has the highest utilization.\n",
    "    h_st = current_stations[np.argmax(utilization)]\n",
    "\n",
    "    #get the station that has the lowest utilization.\n",
    "    l_st = current_stations[np.argmin(utilization)]\n",
    "    \n",
    "    \n",
    "    ### Find the unused location that is closest to the highly utilized station\n",
    "    \n",
    "    #get the map of all parking areas and stations\n",
    "    full_map_dist = pd.read_csv(\"data/charging_parking_distances.csv\")\n",
    "    full_map_loc = pd.read_csv(\"data/charging_parking_stations.csv\")\n",
    "    \n",
    "    #keep only the roads that start or end with the high utilization station\n",
    "    h_map = full_map_dist[(full_map_dist.loc[:, 'OriginID'] == h_st) | (full_map_dist.loc[:, 'DestinationID'] == h_st)]\n",
    "\n",
    "    #then we eliminate all of the stations that are already being used.\n",
    "    using_st = current_stations.copy()\n",
    "    using_st.remove(h_st)\n",
    "    h_map = h_map[(~ h_map.loc[:, 'OriginID'].isin(using_st)) & (~ h_map.loc[:, 'DestinationID'].isin(using_st))]\n",
    "\n",
    "    #then we remove the case where we go from h_st to h_st\n",
    "    h_map = h_map[~ ((h_map.loc[:, 'OriginID'] == h_st) & (h_map.loc[:, 'DestinationID'] == h_st))]\n",
    "\n",
    "    #find the shortest edge. If there is more than one, we choose the first one that comes up (hence the 'reset_index' and [0] bellow)\n",
    "\n",
    "    new_origin = h_map[h_map.Total_TravelTime==h_map.Total_TravelTime.min()].reset_index()['OriginID'][0]\n",
    "    new_destination = h_map[h_map.Total_TravelTime==h_map.Total_TravelTime.min()].reset_index()['DestinationID'][0]\n",
    "\n",
    "    #one of the two will be h_st and the other will be the new station location. \n",
    "    if new_origin == h_st:\n",
    "        new_station = new_destination\n",
    "    else:\n",
    "        new_station = new_origin\n",
    "      \n",
    "    \n",
    "    ### create the new maps with the locations and the distances of the stations that we will be using next\n",
    "    \n",
    "    new_stations_list = current_stations + [new_station]\n",
    "    new_stations_list.remove(l_st)\n",
    "\n",
    "    #now we reduce these to the new set of stations. All origins and destinations should be in this list.\n",
    "    new_map_dist = full_map_dist[(full_map_dist.loc[:, 'OriginID'].isin(new_stations_list)) & (full_map_dist.loc[:, 'DestinationID'].isin(new_stations_list))]\n",
    "    new_map_loc = full_map_loc[full_map_loc.loc[:, 'OID_'].isin(new_stations_list)]\n",
    "   \n",
    "    #we add the charging rates and capacity- assuming that they are the same as the others (set to 45 and 8)\n",
    "    #TO DO: check this\n",
    "    new_map_loc['charging_rate'] = 45\n",
    "    new_map_loc['physical_capacity'] = 8\n",
    "    \n",
    "    #we change the snapX and snapY columns to lon and lat\n",
    "    new_map_loc = new_map_loc.rename(columns = {'SnapX': 'longitude', 'SnapY': 'latitude'})\n",
    "    \n",
    "    #now we save them. \n",
    "    new_map_loc.to_csv(\"data/algorithm_\"+str(n+1)+\"_stations.csv\") \n",
    "    new_map_dist.to_csv(\"data/algorithm_\"+str(n+1)+\"_distances.csv\")\n",
    "    \n",
    "\n",
    "    #reset the variables for the next iteration\n",
    "    stations_path = \"data/algorithm_\"+str(n+1)+\"_stations.csv\"\n",
    "    distances_path = \"data/algorithm_\"+str(n+1)+\"_distances.csv\"\n",
    "    name = \"algorithm_\"+str(n+1)\n",
    "    \n",
    "\n",
    "#we run the simulation for the final alocation\n",
    "\n",
    "### run the simulation\n",
    "\n",
    "sim = Simulation(name, stations_path, distances_path, simulation_length, battery_interval, km_per_percent)\n",
    "sim.add_demand_nodes()\n",
    "sim.run()\n",
    "\n",
    "\n",
    "### Print metrics\n",
    "\n",
    "#print name of this simulation\n",
    "print(name)\n",
    "print(\"station_utilization_disp_of_avg:  \", sim.metrics['station_utilization_disp_of_avg'])\n",
    "print(\"station_utilization_avg_of_disp:  \", sim.metrics['station_utilization_avg_of_disp'])\n",
    "print(\"electricity:  \", sim.metrics['electricity'])\n",
    "print(\"percent_delay:  \", sim.metrics['percent_delay'])\n",
    "print(\"hours_spent_in_queues:  \", sim.metrics['hours_spent_in_queues'])\n",
    "print(\"hours_spent_charging:  \", sim.metrics['hours_spent_charging'])"
   ]
  },
  {
   "cell_type": "markdown",
   "id": "green-button",
   "metadata": {},
   "source": [
    "## Bellow this is  just code I used to think about/ build the algorithm above.\n",
    "### I was thinking about just one iteration, starting from the wcctci pickle."
   ]
  },
  {
   "cell_type": "code",
   "execution_count": 2,
   "id": "constitutional-quick",
   "metadata": {},
   "outputs": [],
   "source": [
    "#open the pickle\n",
    "with open('trials/wcctci_04_04_2022_12_15_28.pkl', 'rb') as inp:\n",
    "    res = pickle.load(inp)"
   ]
  },
  {
   "cell_type": "markdown",
   "id": "ecological-adoption",
   "metadata": {},
   "source": [
    "Get the highest and lowest utilized stations:"
   ]
  },
  {
   "cell_type": "code",
   "execution_count": 7,
   "id": "occupied-employer",
   "metadata": {},
   "outputs": [],
   "source": [
    "#get station utilization\n",
    "\n",
    "#get the station ids in order \n",
    "current_stations = list(res.station_g.nodes)\n",
    "\n",
    "#get the utilization rate of the stations\n",
    "utilization = res.metrics['station_utilization']\n",
    "\n",
    "#get the station that has the highest utilization.\n",
    "h_st = current_stations[np.argmax(utilization)]\n",
    "\n",
    "#get the station that has the lowest utilization.\n",
    "l_st = current_stations[np.argmin(utilization)]"
   ]
  },
  {
   "cell_type": "markdown",
   "id": "arbitrary-grocery",
   "metadata": {},
   "source": [
    "Find the unused location that is closest to the highly utilized station:"
   ]
  },
  {
   "cell_type": "code",
   "execution_count": 41,
   "id": "shaped-logging",
   "metadata": {},
   "outputs": [],
   "source": [
    "#get the map of all parking areas and stations\n",
    "full_map_dist = pd.read_csv(\"data/charging_parking_distances.csv\")\n",
    "\n",
    "#keep only the roads that start or end with the high utilization station\n",
    "h_map = full_map_dist[(full_map_dist.loc[:, 'OriginID'] == h_st) | (full_map_dist.loc[:, 'DestinationID'] == h_st)]\n",
    "\n",
    "#then we eliminate all of the stations that are already being used.\n",
    "using_st = current_stations.copy()\n",
    "using_st.remove(h_st)\n",
    "h_map = h_map[(~ h_map.loc[:, 'OriginID'].isin(using_st)) & (~ h_map.loc[:, 'DestinationID'].isin(using_st))]\n",
    "\n",
    "#then we remove the case where we go from h_st to h_st\n",
    "h_map = h_map[~ ((h_map.loc[:, 'OriginID'] == h_st) & (h_map.loc[:, 'DestinationID'] == h_st))]\n",
    "\n",
    "#find the shortest edge. If there is more than one, we choose the first one that comes up (hence the 'reset_index' and [0] bellow)\n",
    "\n",
    "new_origin = h_map[h_map.Total_TravelTime==h_map.Total_TravelTime.min()].reset_index()['OriginID'][0]\n",
    "new_destination = h_map[h_map.Total_TravelTime==h_map.Total_TravelTime.min()].reset_index()['DestinationID'][0]\n",
    "\n",
    "#one of the two will be h_st and the other will be the new station location. \n",
    "if new_origin == h_st:\n",
    "    new_station = new_destination\n",
    "else:\n",
    "    new_station = new_origin"
   ]
  },
  {
   "cell_type": "markdown",
   "id": "capital-programmer",
   "metadata": {},
   "source": [
    "Now we start to think about re-runing the simulation with this swap (taking out l_st and adding new_station). To do this, we need to create a new map with the locations and the distances of the stations that we will be using next."
   ]
  },
  {
   "cell_type": "code",
   "execution_count": null,
   "id": "environmental-demographic",
   "metadata": {},
   "outputs": [],
   "source": [
    "new_stations_list = current_stations + [new_station]"
   ]
  },
  {
   "cell_type": "code",
   "execution_count": null,
   "id": "danish-musician",
   "metadata": {},
   "outputs": [],
   "source": [
    "#we have \"full_map_dist\" (distances map)\n",
    "#and we need the locations map\n",
    "full_map_loc = pd.read_csv(\"data/charging_parking_stations.csv\")\n",
    "\n",
    "#now we reduce these to the new set of stations. All origins and destinations should be in this list.\n",
    "new_map_dist = full_map_dist[(full_map_dist.loc[:, 'OriginID'].isin(new_stations_list)) & (full_map_dist.loc[:, 'DestinationID'].isin(new_stations_list))]\n",
    "new_map_loc = full_map_loc[(full_map_loc.loc[:, 'OriginID'].isin(new_stations_list)) & (full_map_loc.loc[:, 'DestinationID'].isin(new_stations_list))]"
   ]
  },
  {
   "cell_type": "code",
   "execution_count": null,
   "id": "plain-hampton",
   "metadata": {},
   "outputs": [],
   "source": [
    "#now we save them. \n",
    "new_map_loc.to_csv(\"data/algorithm_\"+str(1)+\"_stations.csv\") ########change the 1\n",
    "new_map_dist.to_csv(\"data/algorithm_\"+str(1)+\"_distances.csv\")"
   ]
  },
  {
   "cell_type": "markdown",
   "id": "operating-hotel",
   "metadata": {},
   "source": [
    "Now we can run the next simulation"
   ]
  },
  {
   "cell_type": "code",
   "execution_count": null,
   "id": "monthly-width",
   "metadata": {},
   "outputs": [],
   "source": [
    "simulation_length = 12\n",
    "battery_interval = 20\n",
    "km_per_percent = 3.13\n",
    "\n",
    "sim = Simulation(\"data/algorithm_\"+str(1)+\"_stations.csv\", \"data/algorithm_\"+str(1)+\"_distances.csv\", simulation_length, battery_interval, km_per_percent)"
   ]
  }
 ],
 "metadata": {
  "kernelspec": {
   "display_name": "Python 3",
   "language": "python",
   "name": "python3"
  },
  "language_info": {
   "codemirror_mode": {
    "name": "ipython",
    "version": 3
   },
   "file_extension": ".py",
   "mimetype": "text/x-python",
   "name": "python",
   "nbconvert_exporter": "python",
   "pygments_lexer": "ipython3",
   "version": "3.8.5"
  }
 },
 "nbformat": 4,
 "nbformat_minor": 5
}
