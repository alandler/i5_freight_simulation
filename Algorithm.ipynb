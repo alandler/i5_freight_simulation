{
 "cells": [
  {
   "cell_type": "code",
   "execution_count": 1,
   "id": "6f1d6415",
   "metadata": {},
   "outputs": [],
   "source": [
    "from multiprocessing.sharedctypes import Value\n",
    "import networkx as nx\n",
    "import numpy as np\n",
    "import random\n",
    "import pandas as pd\n",
    "\n",
    "from tqdm import tqdm\n",
    "from datetime import datetime\n",
    "import pickle\n",
    "\n",
    "# File imports\n",
    "import data\n",
    "from data import select_dataset, get_station_g, ingest_electricity_data, set_random_speed_columns, ingest_pems\n",
    "from replicate_graph import layer_graph\n",
    "from vehicle import Vehicle\n",
    "from simulation import Simulation\n",
    "from visualization import set_draw_attributes\n",
    "from vehicle_list_data import get_utilization"
   ]
  },
  {
   "cell_type": "markdown",
   "id": "f100ce1c",
   "metadata": {},
   "source": [
    "## Ingest pems for the whole graph (all charging and parking stops)\n",
    "### commented out because it only needs to be done once. Csv already saved."
   ]
  },
  {
   "cell_type": "code",
   "execution_count": 2,
   "id": "318684ca",
   "metadata": {},
   "outputs": [],
   "source": [
    "# all_graph = ingest_pems(\"data/charging_parking_stations_lonlat.csv\", \"data/charging_parking_distances.csv\")"
   ]
  },
  {
   "cell_type": "code",
   "execution_count": 3,
   "id": "fa4c69ed",
   "metadata": {},
   "outputs": [],
   "source": [
    "# #save the new csv with all the speeds (from pems ingest above), which will be used for the algorithm\n",
    "# all_graph[1].to_csv(\"data/charging_parking_distances_pemsingested.csv\")"
   ]
  },
  {
   "cell_type": "markdown",
   "id": "d1816bfc",
   "metadata": {},
   "source": [
    "## Run the algorithm"
   ]
  },
  {
   "cell_type": "code",
   "execution_count": 4,
   "id": "880c81e9",
   "metadata": {
    "scrolled": false
   },
   "outputs": [
    {
     "name": "stdout",
     "output_type": "stream",
     "text": [
      "------- SCENARIO 0 -------\n",
      "Strongly connected components: 147\n",
      "Weakly connected components: 44\n",
      "Weakly connected?: False\n"
     ]
    },
    {
     "name": "stderr",
     "output_type": "stream",
     "text": [
      "100%|██████████| 12/12 [01:35<00:00,  7.98s/it]\n"
     ]
    },
    {
     "name": "stdout",
     "output_type": "stream",
     "text": [
      "name:  anna_reverse_debugged_scenario0_wcctci\n",
      "success:  True\n",
      "station_utilization_disp_of_avg:   4.7125\n",
      "station_utilization_avg_of_disp:   5.209635416666667\n",
      "electricity:   0\n",
      "percent_delay:   (1.0, 1.0, 1.49150552377569, 1.0112326078099392, 0.05032649267273029)\n",
      "hours_spent_in_queues:   (0.0, 0.0, 2.8, 0.03707465718638903, 0.22694735981425304)\n",
      "hours_spent_charging:   (0, 0.0, 11, 0.5063484002031488, 1.7014573631022256)\n",
      "________________________________________\n",
      "Highest: 33\n",
      "Lowest: 1\n",
      "New Station: 212\n"
     ]
    },
    {
     "name": "stderr",
     "output_type": "stream",
     "text": [
      "/Users/alandler/.local/lib/python3.7/site-packages/ipykernel_launcher.py:132: SettingWithCopyWarning: \n",
      "A value is trying to be set on a copy of a slice from a DataFrame.\n",
      "Try using .loc[row_indexer,col_indexer] = value instead\n",
      "\n",
      "See the caveats in the documentation: https://pandas.pydata.org/pandas-docs/stable/user_guide/indexing.html#returning-a-view-versus-a-copy\n",
      "/Users/alandler/.local/lib/python3.7/site-packages/ipykernel_launcher.py:133: SettingWithCopyWarning: \n",
      "A value is trying to be set on a copy of a slice from a DataFrame.\n",
      "Try using .loc[row_indexer,col_indexer] = value instead\n",
      "\n",
      "See the caveats in the documentation: https://pandas.pydata.org/pandas-docs/stable/user_guide/indexing.html#returning-a-view-versus-a-copy\n"
     ]
    },
    {
     "name": "stdout",
     "output_type": "stream",
     "text": [
      "Strongly connected components: 147\n",
      "Weakly connected components: 44\n",
      "Weakly connected?: False\n"
     ]
    },
    {
     "name": "stderr",
     "output_type": "stream",
     "text": [
      "100%|██████████| 12/12 [01:41<00:00,  8.46s/it]\n"
     ]
    },
    {
     "name": "stdout",
     "output_type": "stream",
     "text": [
      "name:  anna_reverse_debugged_scenario0_algorithm_1\n",
      "success:  True\n",
      "station_utilization_disp_of_avg:   0.8015625\n",
      "station_utilization_avg_of_disp:   0.9200520833333333\n",
      "electricity:   0\n",
      "percent_delay:   (1.0, 1.2754746876427756, 1.6636023153227844, 1.2692659916683902, 0.1537134472788285)\n",
      "hours_spent_in_queues:   (0.0, 0.0, 0.6, 0.005789909015715468, 0.04380072398654203)\n",
      "hours_spent_charging:   (0, 0.0, 4, 0.16377171215880892, 0.5820397101109465)\n",
      "________________________________________\n",
      "Highest: 3\n",
      "Lowest: 2\n",
      "New Station: 216\n",
      "Strongly connected components: 147\n",
      "Weakly connected components: 44\n",
      "Weakly connected?: False\n"
     ]
    },
    {
     "name": "stderr",
     "output_type": "stream",
     "text": [
      "100%|██████████| 12/12 [01:36<00:00,  8.07s/it]\n"
     ]
    },
    {
     "name": "stdout",
     "output_type": "stream",
     "text": [
      "name:  anna_reverse_debugged_scenario0_algorithm_2\n",
      "success:  True\n",
      "station_utilization_disp_of_avg:   1.25234375\n",
      "station_utilization_avg_of_disp:   1.40234375\n",
      "electricity:   0\n",
      "percent_delay:   (1.0, 1.2754746876427756, 1.6636023153227844, 1.2680319818646963, 0.151252274234286)\n",
      "hours_spent_in_queues:   (0.0, 0.0, 0.6, 0.011022364217252396, 0.06620649378520664)\n",
      "hours_spent_charging:   (0, 0.0, 4, 0.1365814696485623, 0.5506636779143854)\n",
      "________________________________________\n",
      "Highest: 216\n",
      "Lowest: 3\n",
      "New Station: 273\n",
      "Strongly connected components: 147\n",
      "Weakly connected components: 44\n",
      "Weakly connected?: False\n"
     ]
    },
    {
     "name": "stderr",
     "output_type": "stream",
     "text": [
      "100%|██████████| 12/12 [01:34<00:00,  7.87s/it]\n"
     ]
    },
    {
     "name": "stdout",
     "output_type": "stream",
     "text": [
      "name:  anna_reverse_debugged_scenario0_algorithm_3\n",
      "success:  True\n",
      "station_utilization_disp_of_avg:   1.30546875\n",
      "station_utilization_avg_of_disp:   1.3966145833333334\n",
      "electricity:   0\n",
      "percent_delay:   (1.0, 1.2940535242590467, 1.6636023153227844, 1.2799399383790475, 0.1407727408958472)\n",
      "hours_spent_in_queues:   (0.0, 0.0, 0.6, 0.002037351443123939, 0.027255789505644088)\n",
      "hours_spent_charging:   (0, 0.0, 4, 0.15619694397283532, 0.6134179911294214)\n",
      "________________________________________\n",
      "Highest: 216\n",
      "Lowest: 4\n",
      "New Station: 3\n",
      "Strongly connected components: 147\n",
      "Weakly connected components: 44\n",
      "Weakly connected?: False\n"
     ]
    },
    {
     "name": "stderr",
     "output_type": "stream",
     "text": [
      "100%|██████████| 12/12 [01:40<00:00,  8.41s/it]\n"
     ]
    },
    {
     "name": "stdout",
     "output_type": "stream",
     "text": [
      "name:  anna_reverse_debugged_scenario0_algorithm_4\n",
      "success:  True\n",
      "station_utilization_disp_of_avg:   1.38046875\n",
      "station_utilization_avg_of_disp:   1.4953125\n",
      "electricity:   0\n",
      "percent_delay:   (1.0, 1.2016211296691148, 1.6182071916656473, 1.256669714919542, 0.1612016826444944)\n",
      "hours_spent_in_queues:   (0.0, 0.0, 1.0, 0.005559968228752979, 0.05693439379236556)\n",
      "hours_spent_charging:   (0, 0.0, 4, 0.15250198570293885, 0.5753195187422194)\n",
      "________________________________________\n",
      "Highest: 9\n",
      "Lowest: 3\n",
      "New Station: 46\n",
      "Strongly connected components: 147\n",
      "Weakly connected components: 44\n",
      "Weakly connected?: False\n"
     ]
    },
    {
     "name": "stderr",
     "output_type": "stream",
     "text": [
      "100%|██████████| 12/12 [01:41<00:00,  8.43s/it]\n"
     ]
    },
    {
     "name": "stdout",
     "output_type": "stream",
     "text": [
      "name:  anna_reverse_debugged_scenario0_algorithm_5\n",
      "success:  True\n",
      "station_utilization_disp_of_avg:   1.1713541666666667\n",
      "station_utilization_avg_of_disp:   1.3333333333333333\n",
      "electricity:   0\n",
      "percent_delay:   (1.0, 1.2940535242590467, 1.6661138715843953, 1.2829282134849773, 0.15620603797189186)\n",
      "hours_spent_in_queues:   (0.0, 0.0, 0.8, 0.014568487727632619, 0.08371775067544768)\n",
      "hours_spent_charging:   (0, 0.0, 4, 0.16547901821060965, 0.5958519089357766)\n",
      "________________________________________\n",
      "------- SCENARIO 1 -------\n",
      "Strongly connected components: 195\n",
      "Weakly connected components: 44\n",
      "Weakly connected?: False\n"
     ]
    },
    {
     "name": "stderr",
     "output_type": "stream",
     "text": [
      "100%|██████████| 12/12 [01:15<00:00,  6.32s/it]\n"
     ]
    },
    {
     "name": "stdout",
     "output_type": "stream",
     "text": [
      "name:  anna_reverse_debugged_scenario1_wcctci\n",
      "success:  True\n",
      "station_utilization_disp_of_avg:   10.984375\n",
      "station_utilization_avg_of_disp:   12.2953125\n",
      "electricity:   0\n",
      "percent_delay:   (1.0, 1.0, 2.781356578195068, 1.0556465691957448, 0.19418315081882973)\n",
      "hours_spent_in_queues:   (0.0, 0.0, 4.6, 0.10114068441064639, 0.44895170586633487)\n",
      "hours_spent_charging:   (0, 0.0, 21, 0.6825095057034221, 2.3653788864631418)\n",
      "________________________________________\n",
      "Highest: 2\n",
      "Lowest: 1\n",
      "New Station: 230\n",
      "Strongly connected components: 195\n",
      "Weakly connected components: 44\n",
      "Weakly connected?: False\n"
     ]
    },
    {
     "name": "stderr",
     "output_type": "stream",
     "text": [
      "100%|██████████| 12/12 [01:28<00:00,  7.38s/it]\n"
     ]
    },
    {
     "name": "stdout",
     "output_type": "stream",
     "text": [
      "name:  anna_reverse_debugged_scenario1_algorithm_1\n",
      "success:  True\n",
      "station_utilization_disp_of_avg:   7.638020833333333\n",
      "station_utilization_avg_of_disp:   9.225520833333333\n",
      "electricity:   0\n",
      "percent_delay:   (1.0, 1.2016211296691148, 2.9800248918492245, 1.2747902369922703, 0.2759042871917429)\n",
      "hours_spent_in_queues:   (0.0, 0.0, 3.8, 0.09953379953379954, 0.386997005704211)\n",
      "hours_spent_charging:   (0, 0.0, 12, 0.5909090909090909, 1.8217185880681899)\n",
      "________________________________________\n",
      "Highest: 34\n",
      "Lowest: 2\n",
      "New Station: 102\n",
      "Strongly connected components: 194\n",
      "Weakly connected components: 44\n",
      "Weakly connected?: False\n"
     ]
    },
    {
     "name": "stderr",
     "output_type": "stream",
     "text": [
      "100%|██████████| 12/12 [01:27<00:00,  7.27s/it]\n"
     ]
    },
    {
     "name": "stdout",
     "output_type": "stream",
     "text": [
      "name:  anna_reverse_debugged_scenario1_algorithm_2\n",
      "success:  True\n",
      "station_utilization_disp_of_avg:   7.643489583333333\n",
      "station_utilization_avg_of_disp:   8.824479166666666\n",
      "electricity:   0\n",
      "percent_delay:   (1.0, 1.2016211296691148, 2.7294761109788572, 1.237552342647351, 0.2295776999959381)\n",
      "hours_spent_in_queues:   (0.0, 0.0, 3.2, 0.05418138987043581, 0.29711541357237764)\n",
      "hours_spent_charging:   (0, 0.0, 13, 0.46996466431095407, 1.7254022930772799)\n",
      "________________________________________\n",
      "Highest: 34\n",
      "Lowest: 3\n",
      "New Station: 211\n",
      "Strongly connected components: 192\n",
      "Weakly connected components: 44\n",
      "Weakly connected?: False\n"
     ]
    },
    {
     "name": "stderr",
     "output_type": "stream",
     "text": [
      "100%|██████████| 12/12 [01:25<00:00,  7.15s/it]\n"
     ]
    },
    {
     "name": "stdout",
     "output_type": "stream",
     "text": [
      "name:  anna_reverse_debugged_scenario1_algorithm_3\n",
      "success:  True\n",
      "station_utilization_disp_of_avg:   6.467708333333333\n",
      "station_utilization_avg_of_disp:   8.007291666666667\n",
      "electricity:   0\n",
      "percent_delay:   (1.0, 1.2016211296691148, 2.4923835757512958, 1.2290130183225794, 0.25681965521365036)\n",
      "hours_spent_in_queues:   (0.0, 0.0, 2.8, 0.08705302096177558, 0.36514959304676464)\n",
      "hours_spent_charging:   (0, 0.0, 12, 0.46979038224414305, 1.739513185143622)\n",
      "________________________________________\n",
      "Highest: 230\n",
      "Lowest: 4\n",
      "New Station: 238\n",
      "Strongly connected components: 190\n",
      "Weakly connected components: 44\n",
      "Weakly connected?: False\n"
     ]
    },
    {
     "name": "stderr",
     "output_type": "stream",
     "text": [
      "100%|██████████| 12/12 [01:24<00:00,  7.01s/it]\n"
     ]
    },
    {
     "name": "stdout",
     "output_type": "stream",
     "text": [
      "name:  anna_reverse_debugged_scenario1_algorithm_4\n",
      "success:  True\n",
      "station_utilization_disp_of_avg:   7.2046875\n",
      "station_utilization_avg_of_disp:   8.952864583333334\n",
      "electricity:   0\n",
      "percent_delay:   (1.0, 1.2016211296691148, 2.7294761109788572, 1.2422166305560907, 0.2431051778355722)\n",
      "hours_spent_in_queues:   (0.0, 0.0, 3.0, 0.06582857142857142, 0.31373924438837386)\n",
      "hours_spent_charging:   (0, 0.0, 15, 0.5428571428571428, 2.053886311262587)\n",
      "________________________________________\n",
      "Highest: 34\n",
      "Lowest: 5\n",
      "New Station: 139\n",
      "Strongly connected components: 193\n",
      "Weakly connected components: 44\n",
      "Weakly connected?: False\n"
     ]
    },
    {
     "name": "stderr",
     "output_type": "stream",
     "text": [
      "100%|██████████| 12/12 [01:23<00:00,  6.93s/it]\n"
     ]
    },
    {
     "name": "stdout",
     "output_type": "stream",
     "text": [
      "name:  anna_reverse_debugged_scenario1_algorithm_5\n",
      "success:  True\n",
      "station_utilization_disp_of_avg:   5.797135416666666\n",
      "station_utilization_avg_of_disp:   7.162239583333333\n",
      "electricity:   0\n",
      "percent_delay:   (1.0, 1.2016211296691148, 2.9483372997372066, 1.2500347208623563, 0.259242199866145)\n",
      "hours_spent_in_queues:   (0.0, 0.0, 4.0, 0.07528868360277137, 0.3667017619956196)\n",
      "hours_spent_charging:   (0, 0.0, 17, 0.6224018475750578, 2.0528596075500816)\n",
      "________________________________________\n",
      "------- SCENARIO 2 -------\n",
      "Strongly connected components: 195\n",
      "Weakly connected components: 44\n",
      "Weakly connected?: False\n"
     ]
    },
    {
     "name": "stderr",
     "output_type": "stream",
     "text": [
      "100%|██████████| 12/12 [01:31<00:00,  7.65s/it]\n"
     ]
    },
    {
     "name": "stdout",
     "output_type": "stream",
     "text": [
      "name:  anna_reverse_debugged_scenario2_wcctci\n",
      "success:  True\n",
      "station_utilization_disp_of_avg:   11.605208333333334\n",
      "station_utilization_avg_of_disp:   13.1390625\n",
      "electricity:   0\n",
      "percent_delay:   (1.0, 1.0, 2.4502426998385123, 1.0460041374242088, 0.18546345190196487)\n",
      "hours_spent_in_queues:   (0.0, 0.0, 4.6, 0.09388942774005818, 0.4703750318692278)\n",
      "hours_spent_charging:   (0, 0.0, 19, 0.5984481086323957, 2.2974192743145645)\n",
      "________________________________________\n",
      "Highest: 10\n",
      "Lowest: 1\n",
      "New Station: 54\n",
      "Strongly connected components: 195\n",
      "Weakly connected components: 44\n",
      "Weakly connected?: False\n"
     ]
    },
    {
     "name": "stderr",
     "output_type": "stream",
     "text": [
      "100%|██████████| 12/12 [01:22<00:00,  6.88s/it]\n"
     ]
    },
    {
     "name": "stdout",
     "output_type": "stream",
     "text": [
      "name:  anna_reverse_debugged_scenario2_algorithm_1\n",
      "success:  True\n",
      "station_utilization_disp_of_avg:   7.305208333333333\n",
      "station_utilization_avg_of_disp:   8.739322916666667\n",
      "electricity:   0\n",
      "percent_delay:   (1.0, 1.2016211296691148, 2.438049672493207, 1.2331678967808122, 0.23023156530178776)\n",
      "hours_spent_in_queues:   (0.0, 0.0, 1.8, 0.044859813084112146, 0.2173474950825444)\n",
      "hours_spent_charging:   (0, 0.0, 12, 0.5116822429906542, 1.778599147381969)\n",
      "________________________________________\n",
      "Highest: 34\n",
      "Lowest: 2\n",
      "New Station: 102\n",
      "Strongly connected components: 190\n",
      "Weakly connected components: 44\n",
      "Weakly connected?: False\n"
     ]
    },
    {
     "name": "stderr",
     "output_type": "stream",
     "text": [
      "100%|██████████| 12/12 [01:42<00:00,  8.50s/it]\n"
     ]
    },
    {
     "name": "stdout",
     "output_type": "stream",
     "text": [
      "name:  anna_reverse_debugged_scenario2_algorithm_2\n",
      "success:  True\n",
      "station_utilization_disp_of_avg:   9.518489583333334\n",
      "station_utilization_avg_of_disp:   10.3046875\n",
      "electricity:   0\n",
      "percent_delay:   (1.0, 1.2754746876427756, 2.3920487352763535, 1.2645913923739174, 0.24856229538603036)\n",
      "hours_spent_in_queues:   (0.0, 0.0, 2.2, 0.07505773672055427, 0.3080918834953446)\n",
      "hours_spent_charging:   (0, 0.0, 12, 0.49653579676674364, 1.7918501693275177)\n",
      "________________________________________\n",
      "Highest: 54\n",
      "Lowest: 3\n",
      "New Station: 163\n",
      "Strongly connected components: 188\n",
      "Weakly connected components: 44\n",
      "Weakly connected?: False\n"
     ]
    },
    {
     "name": "stderr",
     "output_type": "stream",
     "text": [
      "100%|██████████| 12/12 [01:30<00:00,  7.51s/it]\n"
     ]
    },
    {
     "name": "stdout",
     "output_type": "stream",
     "text": [
      "name:  anna_reverse_debugged_scenario2_algorithm_3\n",
      "success:  True\n",
      "station_utilization_disp_of_avg:   7.857291666666667\n",
      "station_utilization_avg_of_disp:   8.86796875\n",
      "electricity:   0\n",
      "percent_delay:   (1.0, 1.2016211296691148, 2.7294761109788572, 1.254231454560546, 0.2650467723673826)\n",
      "hours_spent_in_queues:   (0.0, 0.0, 3.2, 0.08057553956834532, 0.41161978064004334)\n",
      "hours_spent_charging:   (0, 0.0, 13, 0.5275779376498801, 1.9079116194213097)\n",
      "________________________________________\n",
      "Highest: 10\n",
      "Lowest: 4\n",
      "New Station: 185\n",
      "Strongly connected components: 188\n",
      "Weakly connected components: 44\n",
      "Weakly connected?: False\n"
     ]
    },
    {
     "name": "stderr",
     "output_type": "stream",
     "text": [
      "100%|██████████| 12/12 [01:34<00:00,  7.87s/it]\n"
     ]
    },
    {
     "name": "stdout",
     "output_type": "stream",
     "text": [
      "name:  anna_reverse_debugged_scenario2_algorithm_4\n",
      "success:  True\n",
      "station_utilization_disp_of_avg:   8.333072916666667\n",
      "station_utilization_avg_of_disp:   9.372916666666667\n",
      "electricity:   0\n",
      "percent_delay:   (1.0, 1.2016211296691148, 2.9349728030705498, 1.2295712993182555, 0.2668345749338473)\n",
      "hours_spent_in_queues:   (0.0, 0.0, 4.2, 0.08963795255930088, 0.4580858984893655)\n",
      "hours_spent_charging:   (0, 0.0, 12, 0.40324594257178525, 1.6725557232503254)\n",
      "________________________________________\n",
      "Highest: 13\n",
      "Lowest: 5\n",
      "New Station: 138\n",
      "Strongly connected components: 192\n",
      "Weakly connected components: 44\n",
      "Weakly connected?: False\n"
     ]
    },
    {
     "name": "stderr",
     "output_type": "stream",
     "text": [
      "100%|██████████| 12/12 [01:23<00:00,  6.97s/it]\n"
     ]
    },
    {
     "name": "stdout",
     "output_type": "stream",
     "text": [
      "name:  anna_reverse_debugged_scenario2_algorithm_5\n",
      "success:  True\n",
      "station_utilization_disp_of_avg:   7.276041666666666\n",
      "station_utilization_avg_of_disp:   8.678125\n",
      "electricity:   0\n",
      "percent_delay:   (1.0, 1.2016211296691148, 3.12638407283602, 1.2357336586625165, 0.2643184728728904)\n",
      "hours_spent_in_queues:   (0.0, 0.0, 4.8, 0.08144690781796968, 0.41796725100240617)\n",
      "hours_spent_charging:   (0, 0.0, 15, 0.5414235705950992, 1.9482150713183262)\n",
      "________________________________________\n",
      "------- SCENARIO 3 -------\n",
      "Strongly connected components: 294\n",
      "Weakly connected components: 44\n",
      "Weakly connected?: False\n"
     ]
    },
    {
     "name": "stderr",
     "output_type": "stream",
     "text": [
      "100%|██████████| 12/12 [01:16<00:00,  6.36s/it]\n"
     ]
    },
    {
     "name": "stdout",
     "output_type": "stream",
     "text": [
      "name:  anna_reverse_debugged_scenario3_wcctci\n",
      "success:  True\n",
      "station_utilization_disp_of_avg:   24.20520833333333\n",
      "station_utilization_avg_of_disp:   24.39140625\n",
      "electricity:   0\n",
      "percent_delay:   (1.0, 1.0, 4.529187227438623, 1.5438197253894252, 0.9705640834854347)\n",
      "hours_spent_in_queues:   (0.0, 0.0, 7.2, 0.9394871794871794, 1.9081014173954178)\n",
      "hours_spent_charging:   (0, 0.0, 20, 2.2666666666666666, 4.559652108486715)\n",
      "________________________________________\n",
      "Highest: 8\n",
      "Lowest: 1\n",
      "New Station: 246\n",
      "Strongly connected components: 290\n",
      "Weakly connected components: 44\n",
      "Weakly connected?: False\n"
     ]
    },
    {
     "name": "stderr",
     "output_type": "stream",
     "text": [
      "100%|██████████| 12/12 [01:18<00:00,  6.55s/it]\n"
     ]
    },
    {
     "name": "stdout",
     "output_type": "stream",
     "text": [
      "name:  anna_reverse_debugged_scenario3_algorithm_1\n",
      "success:  True\n",
      "station_utilization_disp_of_avg:   16.972916666666666\n",
      "station_utilization_avg_of_disp:   17.168489583333333\n",
      "electricity:   0\n",
      "percent_delay:   (1.0, 1.178656224377259, 3.046247667223652, 1.4741576901600553, 0.5065462326322847)\n",
      "hours_spent_in_queues:   (0.0, 0.0, 3.4, 0.42388059701492536, 0.7453516754333389)\n",
      "hours_spent_charging:   (0, 0.0, 11, 1.585820895522388, 2.4211645460328306)\n",
      "________________________________________\n",
      "Highest: 10\n",
      "Lowest: 2\n",
      "New Station: 54\n",
      "Strongly connected components: 282\n",
      "Weakly connected components: 45\n",
      "Weakly connected?: False\n"
     ]
    },
    {
     "name": "stderr",
     "output_type": "stream",
     "text": [
      "100%|██████████| 12/12 [01:07<00:00,  5.59s/it]\n"
     ]
    },
    {
     "name": "stdout",
     "output_type": "stream",
     "text": [
      "name:  anna_reverse_debugged_scenario3_algorithm_2\n",
      "success:  True\n",
      "station_utilization_disp_of_avg:   16.747916666666665\n",
      "station_utilization_avg_of_disp:   17.40625\n",
      "electricity:   0\n",
      "percent_delay:   (1.0, 1.3864859188489786, 3.7897281781872088, 1.8071817241687793, 0.8188003895820414)\n",
      "hours_spent_in_queues:   (0.0, 0.0, 5.0, 1.1211009174311926, 1.4663987839211394)\n",
      "hours_spent_charging:   (0, 2.0, 10, 1.7559633027522936, 2.21361223296208)\n",
      "________________________________________\n",
      "Highest: 8\n",
      "Lowest: 3\n",
      "New Station: 247\n",
      "Strongly connected components: 276\n",
      "Weakly connected components: 45\n",
      "Weakly connected?: False\n"
     ]
    },
    {
     "name": "stderr",
     "output_type": "stream",
     "text": [
      "100%|██████████| 12/12 [00:58<00:00,  4.89s/it]\n"
     ]
    },
    {
     "name": "stdout",
     "output_type": "stream",
     "text": [
      "name:  anna_reverse_debugged_scenario3_algorithm_3\n",
      "success:  True\n",
      "station_utilization_disp_of_avg:   14.671614583333332\n",
      "station_utilization_avg_of_disp:   15.446614583333334\n",
      "electricity:   0\n",
      "percent_delay:   (1.0, 1.4576853573060293, 3.642252645593497, 1.6316341265182595, 0.6199388994582407)\n",
      "hours_spent_in_queues:   (0.0, 0.4, 4.2, 0.7492537313432835, 1.0147234215231111)\n",
      "hours_spent_charging:   (0, 2.0, 10, 1.8791044776119403, 2.0937745187467263)\n",
      "________________________________________\n",
      "Highest: 37\n",
      "Lowest: 4\n",
      "New Station: 292\n",
      "Strongly connected components: 271\n",
      "Weakly connected components: 45\n",
      "Weakly connected?: False\n"
     ]
    },
    {
     "name": "stderr",
     "output_type": "stream",
     "text": [
      "100%|██████████| 12/12 [01:05<00:00,  5.47s/it]\n"
     ]
    },
    {
     "name": "stdout",
     "output_type": "stream",
     "text": [
      "name:  anna_reverse_debugged_scenario3_algorithm_4\n",
      "success:  True\n",
      "station_utilization_disp_of_avg:   15.314583333333331\n",
      "station_utilization_avg_of_disp:   15.948958333333334\n",
      "electricity:   0\n",
      "percent_delay:   (1.0, 1.4789183134389106, 3.7897281781872088, 1.7031392823638605, 0.6874100986564291)\n",
      "hours_spent_in_queues:   (0.0, 0.2, 4.8, 0.8516746411483254, 1.1997911445219773)\n",
      "hours_spent_charging:   (0, 2.0, 10, 1.937799043062201, 2.0381427275336064)\n",
      "________________________________________\n",
      "Highest: 246\n",
      "Lowest: 5\n",
      "New Station: 62\n",
      "Strongly connected components: 273\n",
      "Weakly connected components: 45\n",
      "Weakly connected?: False\n"
     ]
    },
    {
     "name": "stderr",
     "output_type": "stream",
     "text": [
      "100%|██████████| 12/12 [01:00<00:00,  5.08s/it]\n"
     ]
    },
    {
     "name": "stdout",
     "output_type": "stream",
     "text": [
      "name:  anna_reverse_debugged_scenario3_algorithm_5\n",
      "success:  True\n",
      "station_utilization_disp_of_avg:   13.63671875\n",
      "station_utilization_avg_of_disp:   14.573697916666667\n",
      "electricity:   0\n",
      "percent_delay:   (1.0, 1.4789183134389106, 3.1427014160576854, 1.6101922906159312, 0.533224175248924)\n",
      "hours_spent_in_queues:   (0.0, 0.4, 3.8, 0.670414201183432, 0.8776045631523243)\n",
      "hours_spent_charging:   (0, 2.0, 10, 2.0044378698224854, 1.8908791850072515)\n",
      "________________________________________\n",
      "------- SCENARIO 4 -------\n",
      "Strongly connected components: 294\n",
      "Weakly connected components: 44\n",
      "Weakly connected?: False\n"
     ]
    },
    {
     "name": "stderr",
     "output_type": "stream",
     "text": [
      "100%|██████████| 12/12 [01:09<00:00,  5.78s/it]\n"
     ]
    },
    {
     "name": "stdout",
     "output_type": "stream",
     "text": [
      "name:  anna_reverse_debugged_scenario4_wcctci\n",
      "success:  True\n",
      "station_utilization_disp_of_avg:   24.270052083333333\n",
      "station_utilization_avg_of_disp:   24.4484375\n",
      "electricity:   0\n",
      "percent_delay:   (1.0, 1.0, 4.2518900502485035, 1.509552239436353, 0.9193352106857977)\n",
      "hours_spent_in_queues:   (0.0, 0.0, 6.4, 0.9084112149532709, 1.7856709776014323)\n",
      "hours_spent_charging:   (0, 0.0, 21, 2.107476635514019, 4.542904520579203)\n",
      "________________________________________\n",
      "Highest: 8\n",
      "Lowest: 1\n",
      "New Station: 246\n",
      "Strongly connected components: 290\n",
      "Weakly connected components: 44\n",
      "Weakly connected?: False\n"
     ]
    },
    {
     "name": "stderr",
     "output_type": "stream",
     "text": [
      "100%|██████████| 12/12 [01:15<00:00,  6.27s/it]\n"
     ]
    },
    {
     "name": "stdout",
     "output_type": "stream",
     "text": [
      "name:  anna_reverse_debugged_scenario4_algorithm_1\n",
      "success:  True\n",
      "station_utilization_disp_of_avg:   19.518749999999997\n",
      "station_utilization_avg_of_disp:   19.747395833333332\n",
      "electricity:   0\n",
      "percent_delay:   (1.0, 1.178656224377259, 4.847859672938905, 1.6682216267257282, 0.9738186229924467)\n",
      "hours_spent_in_queues:   (0.0, 0.0, 6.2, 0.7175824175824177, 1.426907314777517)\n",
      "hours_spent_charging:   (0, 0.0, 19, 2.087912087912088, 3.6544368687167523)\n",
      "________________________________________\n",
      "Highest: 37\n",
      "Lowest: 2\n",
      "New Station: 292\n",
      "Strongly connected components: 281\n",
      "Weakly connected components: 45\n",
      "Weakly connected?: False\n"
     ]
    },
    {
     "name": "stderr",
     "output_type": "stream",
     "text": [
      "100%|██████████| 12/12 [01:08<00:00,  5.74s/it]\n"
     ]
    },
    {
     "name": "stdout",
     "output_type": "stream",
     "text": [
      "name:  anna_reverse_debugged_scenario4_algorithm_2\n",
      "success:  True\n",
      "station_utilization_disp_of_avg:   16.87109375\n",
      "station_utilization_avg_of_disp:   17.34921875\n",
      "electricity:   0\n",
      "percent_delay:   (1.0, 1.178656224377259, 4.529187334906664, 1.788774065446587, 0.9602100683689428)\n",
      "hours_spent_in_queues:   (0.0, 0.0, 6.2, 0.9880208333333335, 1.6454363148516684)\n",
      "hours_spent_charging:   (0, 0.0, 20, 2.1302083333333335, 2.6207751633051664)\n",
      "________________________________________\n",
      "Highest: 246\n",
      "Lowest: 3\n",
      "New Station: 247\n",
      "Strongly connected components: 275\n",
      "Weakly connected components: 45\n",
      "Weakly connected?: False\n"
     ]
    },
    {
     "name": "stderr",
     "output_type": "stream",
     "text": [
      "100%|██████████| 12/12 [00:58<00:00,  4.88s/it]\n"
     ]
    },
    {
     "name": "stdout",
     "output_type": "stream",
     "text": [
      "name:  anna_reverse_debugged_scenario4_algorithm_3\n",
      "success:  True\n",
      "station_utilization_disp_of_avg:   15.959114583333333\n",
      "station_utilization_avg_of_disp:   16.57265625\n",
      "electricity:   0\n",
      "percent_delay:   (1.0, 1.4576853573060293, 3.88216057277714, 1.780828985677216, 0.8494049051935947)\n",
      "hours_spent_in_queues:   (0.0, 0.0, 5.0, 0.9399568034557236, 1.3214060833108603)\n",
      "hours_spent_charging:   (0, 4.0, 17, 2.587473002159827, 3.2605394296621024)\n",
      "________________________________________\n",
      "Highest: 247\n",
      "Lowest: 4\n",
      "New Station: 62\n",
      "Strongly connected components: 274\n",
      "Weakly connected components: 45\n",
      "Weakly connected?: False\n"
     ]
    },
    {
     "name": "stderr",
     "output_type": "stream",
     "text": [
      "100%|██████████| 12/12 [01:22<00:00,  6.91s/it]\n"
     ]
    },
    {
     "name": "stdout",
     "output_type": "stream",
     "text": [
      "name:  anna_reverse_debugged_scenario4_algorithm_4\n",
      "success:  True\n",
      "station_utilization_disp_of_avg:   16.592968749999997\n",
      "station_utilization_avg_of_disp:   17.341666666666665\n",
      "electricity:   0\n",
      "percent_delay:   (1.0, 1.5713507080288427, 3.88216057277714, 1.7648939510782897, 0.7139559180310854)\n",
      "hours_spent_in_queues:   (0.0, 0.0, 4.4, 0.8272340425531916, 1.1263681083184347)\n",
      "hours_spent_charging:   (0, 4.0, 16, 2.676595744680851, 2.647697736650229)\n",
      "________________________________________\n",
      "Highest: 247\n",
      "Lowest: 5\n",
      "New Station: 69\n",
      "Strongly connected components: 272\n",
      "Weakly connected components: 45\n",
      "Weakly connected?: False\n"
     ]
    },
    {
     "name": "stderr",
     "output_type": "stream",
     "text": [
      "100%|██████████| 12/12 [01:07<00:00,  5.62s/it]\n"
     ]
    },
    {
     "name": "stdout",
     "output_type": "stream",
     "text": [
      "name:  anna_reverse_debugged_scenario4_algorithm_5\n",
      "success:  True\n",
      "station_utilization_disp_of_avg:   16.257291666666667\n",
      "station_utilization_avg_of_disp:   17.411458333333332\n",
      "electricity:   0\n",
      "percent_delay:   (1.0, 1.6106330948671457, 4.0398830607824205, 1.8417655945172926, 0.8100369901937212)\n",
      "hours_spent_in_queues:   (0.0, 0.4, 4.6, 1.0601018675721563, 1.2924177431851274)\n",
      "hours_spent_charging:   (0, 2.0, 16, 2.2275042444821733, 2.4031368970737104)\n",
      "________________________________________\n"
     ]
    }
   ],
   "source": [
    "number_of_iterations = 5\n",
    "kwh_per_km = 1.9\n",
    "\n",
    "#scenario list: each list inside has three params : charging rate, kwh per km, and battery capacity.\n",
    "# scenario_list = [[45,1.9,215],[90,1.9,215],[45,0.95,215],[45,1.9,430],[90,0.95,430]] \n",
    "scenario_list = [[90,0.95,430], [45,1.9,430], [45,0.95,215], [90,1.9,215], [45,1.9,215]] \n",
    "\n",
    "columns = [\"scenario_number\", \"iteration\", \"charging_rate\", \"km_per_kwh\", \"battery_capacity\", \"success\",\n",
    "           \"station_utilization_disp_of_avg\", \"station_utilization_avg_of_disp\", \"electricity\",\n",
    "           \"percent_delay\", \"hours_spent_in_queues\", \"hours_spent_charging\"]\n",
    "results = [columns]\n",
    "\n",
    "def print_and_record_results(sim, scenario, s, n, success=True):\n",
    "    print(\"name: \", sim.name)\n",
    "    print(\"success: \", success)\n",
    "    \n",
    "    if success==True:\n",
    "        result = [s, n, scenario[0], scenario[1], scenario[2], True,\n",
    "           sim.metrics['station_utilization_disp_of_avg'], sim.metrics['station_utilization_avg_of_disp'], \n",
    "           sim.metrics['electricity'], sim.metrics['percent_delay'],\n",
    "           sim.metrics['hours_spent_in_queues'], sim.metrics['hours_spent_charging']]\n",
    "        print(\"station_utilization_disp_of_avg:  \", sim.metrics['station_utilization_disp_of_avg'])\n",
    "        print(\"station_utilization_avg_of_disp:  \", sim.metrics['station_utilization_avg_of_disp'])\n",
    "        print(\"electricity:  \", sim.metrics['electricity'])\n",
    "        print(\"percent_delay:  \", sim.metrics['percent_delay'])\n",
    "        print(\"hours_spent_in_queues:  \", sim.metrics['hours_spent_in_queues'])\n",
    "        print(\"hours_spent_charging:  \", sim.metrics['hours_spent_charging'])\n",
    "        print(\"________________________________________\")\n",
    "        results.append(result)\n",
    "    else:\n",
    "        result = [s, n, scenario[0], scenario[1], scenario[2], False, None, None, None, None, None, None]\n",
    "        results.append(result)\n",
    "\n",
    "for scenario, s in zip(scenario_list, range(0,len(scenario_list))):\n",
    "    \n",
    "    print('------- SCENARIO '+str(s)+' -------')\n",
    "    #initialize for wcctici\n",
    "    simulation_length = 12\n",
    "    battery_interval = 20\n",
    "    kwh_per_km = scenario[1]\n",
    "    battery_capacity = scenario[2]\n",
    "    stations_path = \"data/wcctci_stations-updated.csv\"\n",
    "    distances_path = \"data/wcctci_coord_distances.csv\"\n",
    "    name = \"anna_reverse_debugged_scenario\"+str(s)+\"_wcctci\" \n",
    "    \n",
    "    for n in range(0, number_of_iterations):\n",
    "        \n",
    "        ### Print metrics\n",
    "        sim = Simulation(name, stations_path, distances_path, simulation_length, battery_interval, kwh_per_km, battery_capacity)\n",
    "        sim.add_demand_nodes()\n",
    "        try:\n",
    "            sim.run()\n",
    "            print_and_record_results(sim, scenario, s, n, True)\n",
    "        except Exception as e: \n",
    "            print(e)\n",
    "            print_and_record_results(sim, scenario, s, n, False)\n",
    "            continue\n",
    "\n",
    "        ### get station utilization\n",
    "\n",
    "        #get the station ids in order \n",
    "        current_stations = [int(j) for j in sim.station_g.nodes]\n",
    "\n",
    "#         #get the utilization rate of the stations\n",
    "#         utilization = sim.metrics['station_utilization']\n",
    "        \n",
    "        # Alternative utilization calculation \n",
    "        utilization = get_utilization(sim)\n",
    "        \n",
    "        avg_utilization = {}\n",
    "        for node in current_stations:\n",
    "            avg_utilization[node] = 0\n",
    "            for i in range(len(utilization)):\n",
    "                use_i = utilization[i]\n",
    "                try:\n",
    "                    avg_utilization[node] += use_i[str(node)]\n",
    "                except:\n",
    "                    avg_utilization[node] += 0\n",
    "\n",
    "            avg_utilization[node] = avg_utilization[node]/len(utilization)\n",
    "\n",
    "        utilization = [i for i in avg_utilization.values()]\n",
    "\n",
    "        #get the station that has the highest utilization.\n",
    "        h_st = current_stations[np.argmax(utilization)]\n",
    "\n",
    "        #get the station that has the lowest utilization.\n",
    "        l_st = current_stations[np.argmin(utilization)]\n",
    "\n",
    "        print(\"Highest:\", h_st)\n",
    "        print(\"Lowest:\", l_st)\n",
    "        ### Find the unused location that is closest to the highly utilized station\n",
    "\n",
    "        #get the map of all parking areas and stations\n",
    "        full_map_dist = pd.read_csv(\"data/charging_parking_distances_pemsingested.csv\")\n",
    "        full_map_loc = pd.read_csv(\"data/charging_parking_stations.csv\")\n",
    "\n",
    "        #keep only the roads that start or end with the high utilization station\n",
    "        h_map = full_map_dist[(full_map_dist.loc[:, 'OriginID'] == h_st) | (full_map_dist.loc[:, 'DestinationID'] == h_st)]\n",
    "\n",
    "        #then we eliminate all of the stations that are already being used.\n",
    "        using_st = current_stations.copy()\n",
    "        using_st.remove(h_st)\n",
    "        h_map = h_map[(~ h_map.loc[:, 'OriginID'].isin(using_st)) & (~ h_map.loc[:, 'DestinationID'].isin(using_st))]\n",
    "\n",
    "        #then we remove the case where we go from h_st to h_st\n",
    "        h_map = h_map[~ ((h_map.loc[:, 'OriginID'] == h_st) & (h_map.loc[:, 'DestinationID'] == h_st))]\n",
    "\n",
    "        #find the shortest edge. If there is more than one, we choose the first one that comes up (hence the 'reset_index' and [0] bellow)\n",
    "\n",
    "        new_origin = h_map[h_map.Total_TravelTime==h_map.Total_TravelTime.min()].reset_index()['OriginID'][0]\n",
    "        new_destination = h_map[h_map.Total_TravelTime==h_map.Total_TravelTime.min()].reset_index()['DestinationID'][0]\n",
    "\n",
    "        #one of the two will be h_st and the other will be the new station location. \n",
    "        if new_origin == h_st:\n",
    "            new_station = new_destination\n",
    "        else:\n",
    "            new_station = new_origin\n",
    "\n",
    "        print(\"New Station:\", new_station)\n",
    "        ### create the new maps with the locations and the distances of the stations that we will be using next\n",
    "\n",
    "        new_stations_list = current_stations + [new_station]\n",
    "        new_stations_list.remove(l_st)\n",
    "\n",
    "        #now we reduce these to the new set of stations. All origins and destinations should be in this list.\n",
    "        new_map_dist = full_map_dist[(full_map_dist.loc[:, 'OriginID'].isin(new_stations_list)) & (full_map_dist.loc[:, 'DestinationID'].isin(new_stations_list))]\n",
    "        new_map_loc = full_map_loc[full_map_loc.loc[:, 'OID_'].isin(new_stations_list)]\n",
    "\n",
    "        #we add the charging rates and capacity- assuming that they are the same as the others (set to 45 and 8)\n",
    "        #TO DO: check this\n",
    "        new_map_loc['charging_rate'] = scenario[0]\n",
    "        new_map_loc['physical_capacity'] = 8\n",
    "\n",
    "        #we change the snapX and snapY columns to lon and lat \n",
    "        new_map_loc = new_map_loc.rename(columns = {'SnapX': 'longitude', 'SnapY': 'latitude'})\n",
    "\n",
    "        #now we save them. \n",
    "        new_map_loc.to_csv(\"data/algorithm_\"+str(n+1)+\"_stations.csv\") \n",
    "        new_map_dist.to_csv(\"data/algorithm_\"+str(n+1)+\"_distances.csv\")\n",
    "\n",
    "\n",
    "        #reset the variables for the next iteration\n",
    "        stations_path = \"data/algorithm_\"+str(n+1)+\"_stations.csv\"\n",
    "        distances_path = \"data/algorithm_\"+str(n+1)+\"_distances.csv\"\n",
    "        name = \"anna_reverse_debugged_scenario\"+str(s)+\"_algorithm_\"+str(n+1)\n",
    "\n",
    "    #we run the simulation for the final alocation\n",
    "\n",
    "    ### run the simulation\n",
    "\n",
    "    sim = Simulation(name, stations_path, distances_path, simulation_length, battery_interval, kwh_per_km, battery_capacity)\n",
    "    sim.add_demand_nodes()\n",
    "    \n",
    "    try:\n",
    "        sim.run()\n",
    "        print_and_record_results(sim, scenario, s, n, True)\n",
    "    except:\n",
    "        print_and_record_results(sim, scenario, s, n, False)\n",
    "        \n",
    "\n",
    "pd.DataFrame(results).to_csv(\"algorithm_run_reverse_trial.csv\")"
   ]
  },
  {
   "cell_type": "code",
   "execution_count": 5,
   "id": "c605678f",
   "metadata": {
    "scrolled": true
   },
   "outputs": [
    {
     "data": {
      "text/plain": [
       "[0.0,\n",
       " 1.94375,\n",
       " 0.0,\n",
       " 13.085416666666667,\n",
       " 0.0,\n",
       " 0.0,\n",
       " 0.0,\n",
       " 0.0,\n",
       " 5.039583333333334,\n",
       " 6.00625,\n",
       " 0.9229166666666667,\n",
       " 15.78125,\n",
       " 0.0,\n",
       " 0.0,\n",
       " 0.0,\n",
       " 0.0,\n",
       " 0.0,\n",
       " 0.0,\n",
       " 0.0,\n",
       " 0.0,\n",
       " 0.0,\n",
       " 0.0,\n",
       " 0.0,\n",
       " 0.0,\n",
       " 0.0,\n",
       " 0.0,\n",
       " 0.0,\n",
       " 0.0,\n",
       " 0.0,\n",
       " 22.81875,\n",
       " 7.945833333333334,\n",
       " 5.8,\n",
       " 11.91875,\n",
       " 0.0,\n",
       " 4.81875,\n",
       " 0.0,\n",
       " 0.0,\n",
       " 0.0,\n",
       " 7.627083333333333,\n",
       " 13.739583333333334,\n",
       " 15.964583333333334,\n",
       " 24.13125,\n",
       " 14.497916666666667]"
      ]
     },
     "execution_count": 5,
     "metadata": {},
     "output_type": "execute_result"
    }
   ],
   "source": [
    "utilization"
   ]
  },
  {
   "cell_type": "code",
   "execution_count": 6,
   "id": "59ae31df",
   "metadata": {},
   "outputs": [],
   "source": [
    "# avg_utilization = {}\n",
    "# for node in current_stations:\n",
    "#     avg_utilization[node] = 0\n",
    "#     for i in range(len(utilization)):\n",
    "#         use_i = utilization[i]\n",
    "#         try:\n",
    "#             avg_utilization[node] += use_i[str(node)]\n",
    "#         except:\n",
    "#             avg_utilization[node] += 0\n",
    "    \n",
    "#     avg_utilization[node] = avg_utilization[node]/len(utilization)\n",
    "\n",
    "# utilization_list = [i for i in avg_utilization.values()]"
   ]
  },
  {
   "cell_type": "markdown",
   "id": "d8e445d9",
   "metadata": {},
   "source": [
    "## Bellow this is  just code I used to think about/ build the algorithm above (Just ignore).\n",
    "### I was thinking about just one iteration, starting from the wcctci pickle."
   ]
  },
  {
   "cell_type": "code",
   "execution_count": 7,
   "id": "ecc00961",
   "metadata": {},
   "outputs": [],
   "source": [
    "#open the pickle\n",
    "with open('trials/wcctci_04_04_2022_12_15_28.pkl', 'rb') as inp:\n",
    "    res = pickle.load(inp)"
   ]
  },
  {
   "cell_type": "markdown",
   "id": "91560706",
   "metadata": {},
   "source": [
    "Get the highest and lowest utilized stations:"
   ]
  },
  {
   "cell_type": "code",
   "execution_count": 8,
   "id": "2887bbae",
   "metadata": {},
   "outputs": [
    {
     "ename": "TypeError",
     "evalue": "'NoneType' object is not subscriptable",
     "output_type": "error",
     "traceback": [
      "\u001b[0;31m---------------------------------------------------------------------------\u001b[0m",
      "\u001b[0;31mTypeError\u001b[0m                                 Traceback (most recent call last)",
      "\u001b[0;32m<ipython-input-8-0e98f0a31bbc>\u001b[0m in \u001b[0;36m<module>\u001b[0;34m\u001b[0m\n\u001b[1;32m      5\u001b[0m \u001b[0;34m\u001b[0m\u001b[0m\n\u001b[1;32m      6\u001b[0m \u001b[0;31m#get the utilization rate of the stations\u001b[0m\u001b[0;34m\u001b[0m\u001b[0;34m\u001b[0m\u001b[0;34m\u001b[0m\u001b[0m\n\u001b[0;32m----> 7\u001b[0;31m \u001b[0mutilization\u001b[0m \u001b[0;34m=\u001b[0m \u001b[0mres\u001b[0m\u001b[0;34m.\u001b[0m\u001b[0mmetrics\u001b[0m\u001b[0;34m[\u001b[0m\u001b[0;34m'station_utilization'\u001b[0m\u001b[0;34m]\u001b[0m\u001b[0;34m\u001b[0m\u001b[0;34m\u001b[0m\u001b[0m\n\u001b[0m\u001b[1;32m      8\u001b[0m \u001b[0;34m\u001b[0m\u001b[0m\n\u001b[1;32m      9\u001b[0m \u001b[0;31m#get the station that has the highest utilization.\u001b[0m\u001b[0;34m\u001b[0m\u001b[0;34m\u001b[0m\u001b[0;34m\u001b[0m\u001b[0m\n",
      "\u001b[0;31mTypeError\u001b[0m: 'NoneType' object is not subscriptable"
     ]
    }
   ],
   "source": [
    "#get station utilization\n",
    "\n",
    "#get the station ids in order \n",
    "current_stations = list(res.station_g.nodes)\n",
    "\n",
    "#get the utilization rate of the stations\n",
    "utilization = res.metrics['station_utilization']\n",
    "\n",
    "#get the station that has the highest utilization.\n",
    "h_st = current_stations[np.argmax(utilization)]\n",
    "\n",
    "#get the station that has the lowest utilization.\n",
    "l_st = current_stations[np.argmin(utilization)]"
   ]
  },
  {
   "cell_type": "markdown",
   "id": "42b52f0a",
   "metadata": {},
   "source": [
    "Find the unused location that is closest to the highly utilized station:"
   ]
  },
  {
   "cell_type": "code",
   "execution_count": null,
   "id": "634f88f5",
   "metadata": {},
   "outputs": [],
   "source": [
    "#get the map of all parking areas and stations\n",
    "full_map_dist = pd.read_csv(\"data/charging_parking_distances.csv\")\n",
    "\n",
    "#keep only the roads that start or end with the high utilization station\n",
    "h_map = full_map_dist[(full_map_dist.loc[:, 'OriginID'] == h_st) | (full_map_dist.loc[:, 'DestinationID'] == h_st)]\n",
    "\n",
    "#then we eliminate all of the stations that are already being used.\n",
    "using_st = current_stations.copy()\n",
    "using_st.remove(h_st)\n",
    "h_map = h_map[(~ h_map.loc[:, 'OriginID'].isin(using_st)) & (~ h_map.loc[:, 'DestinationID'].isin(using_st))]\n",
    "\n",
    "#then we remove the case where we go from h_st to h_st\n",
    "h_map = h_map[~ ((h_map.loc[:, 'OriginID'] == h_st) & (h_map.loc[:, 'DestinationID'] == h_st))]\n",
    "\n",
    "#find the shortest edge. If there is more than one, we choose the first one that comes up (hence the 'reset_index' and [0] bellow)\n",
    "\n",
    "new_origin = h_map[h_map.Total_TravelTime==h_map.Total_TravelTime.min()].reset_index()['OriginID'][0]\n",
    "new_destination = h_map[h_map.Total_TravelTime==h_map.Total_TravelTime.min()].reset_index()['DestinationID'][0]\n",
    "\n",
    "#one of the two will be h_st and the other will be the new station location. \n",
    "if new_origin == h_st:\n",
    "    new_station = new_destination\n",
    "else:\n",
    "    new_station = new_origin"
   ]
  },
  {
   "cell_type": "markdown",
   "id": "135323d6",
   "metadata": {},
   "source": [
    "Now we start to think about re-runing the simulation with this swap (taking out l_st and adding new_station). To do this, we need to create a new map with the locations and the distances of the stations that we will be using next."
   ]
  },
  {
   "cell_type": "code",
   "execution_count": null,
   "id": "ac180c97",
   "metadata": {},
   "outputs": [],
   "source": [
    "new_stations_list = current_stations + [new_station]"
   ]
  },
  {
   "cell_type": "code",
   "execution_count": null,
   "id": "e3446cb6",
   "metadata": {},
   "outputs": [],
   "source": [
    "#we have \"full_map_dist\" (distances map)\n",
    "#and we need the locations map\n",
    "full_map_loc = pd.read_csv(\"data/charging_parking_stations.csv\")\n",
    "\n",
    "#now we reduce these to the new set of stations. All origins and destinations should be in this list.\n",
    "new_map_dist = full_map_dist[(full_map_dist.loc[:, 'OriginID'].isin(new_stations_list)) & (full_map_dist.loc[:, 'DestinationID'].isin(new_stations_list))]\n",
    "new_map_loc = full_map_loc[(full_map_loc.loc[:, 'OriginID'].isin(new_stations_list)) & (full_map_loc.loc[:, 'DestinationID'].isin(new_stations_list))]"
   ]
  },
  {
   "cell_type": "code",
   "execution_count": null,
   "id": "df54e7f5",
   "metadata": {},
   "outputs": [],
   "source": [
    "#now we save them. \n",
    "new_map_loc.to_csv(\"data/algorithm_\"+str(1)+\"_stations.csv\") ########change the 1\n",
    "new_map_dist.to_csv(\"data/algorithm_\"+str(1)+\"_distances.csv\")"
   ]
  },
  {
   "cell_type": "markdown",
   "id": "e5aaee2b",
   "metadata": {},
   "source": [
    "Now we can run the next simulation"
   ]
  },
  {
   "cell_type": "code",
   "execution_count": null,
   "id": "99c13442",
   "metadata": {},
   "outputs": [],
   "source": [
    "simulation_length = 12\n",
    "battery_interval = 20\n",
    "km_per_percent = 3.13\n",
    "\n",
    "sim = Simulation(\"data/algorithm_\"+str(1)+\"_stations.csv\", \"data/algorithm_\"+str(1)+\"_distances.csv\", simulation_length, battery_interval, km_per_percent)"
   ]
  },
  {
   "cell_type": "markdown",
   "id": "08db5eeb",
   "metadata": {},
   "source": [
    "# Anna"
   ]
  },
  {
   "cell_type": "code",
   "execution_count": null,
   "id": "aa713156",
   "metadata": {},
   "outputs": [],
   "source": [
    "stations_path = \"data/wcctci_stations-updated.csv\"\n",
    "distances_path = \"data/wcctci_coord_distances.csv\"\n",
    "# stations_df, distances_df = select_dataset(stations_csv_path, distances_csv_path)\n",
    "# station_g = get_station_g(stations_df, distances_df)\n",
    "# battery_g = layer_graph(station_g, 20, km_per_percent= 1.9)\n",
    "simulation_length = 24\n",
    "battery_interval = 20\n",
    "kwh_per_km = 1.9\n",
    "battery_capacity = 215\n",
    "name = 'hi'\n",
    "sim = Simulation(name, stations_path, distances_path, simulation_length, battery_interval, kwh_per_km, battery_capacity)\n",
    "sim.add_demand_nodes()"
   ]
  },
  {
   "cell_type": "code",
   "execution_count": null,
   "id": "171b8748",
   "metadata": {},
   "outputs": [],
   "source": [
    "sim.battery_g.nodes"
   ]
  },
  {
   "cell_type": "code",
   "execution_count": null,
   "id": "00638c0d",
   "metadata": {},
   "outputs": [],
   "source": [
    "nx.shortest_path(sim.battery_g, \"Long Beach\", \"Reno\")"
   ]
  },
  {
   "cell_type": "code",
   "execution_count": null,
   "id": "10798fad",
   "metadata": {},
   "outputs": [],
   "source": []
  }
 ],
 "metadata": {
  "kernelspec": {
   "display_name": "Python 3 (ipykernel)",
   "language": "python",
   "name": "python3"
  },
  "language_info": {
   "codemirror_mode": {
    "name": "ipython",
    "version": 3
   },
   "file_extension": ".py",
   "mimetype": "text/x-python",
   "name": "python",
   "nbconvert_exporter": "python",
   "pygments_lexer": "ipython3",
   "version": "3.7.4"
  }
 },
 "nbformat": 4,
 "nbformat_minor": 5
}
