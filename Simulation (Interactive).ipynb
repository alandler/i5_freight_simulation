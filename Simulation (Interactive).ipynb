{
 "cells": [
  {
   "cell_type": "markdown",
   "metadata": {},
   "source": [
    "# Import"
   ]
  },
  {
   "cell_type": "code",
   "execution_count": 49,
   "metadata": {},
   "outputs": [],
   "source": [
    "import networkx as nx\n",
    "import numpy as np\n",
    "import pandas as pd\n",
    "import matplotlib.pyplot as plt\n",
    "\n",
    "import random\n",
    "import copy\n",
    "\n",
    "import pickle\n",
    "from datetime import datetime\n",
    "\n",
    "import scipy.stats as ss\n",
    "from scipy.stats import norm\n",
    "from scipy.stats import poisson\n",
    "from scipy import spatial\n",
    "\n",
    "# import code\n",
    "from simulation import Simulation\n",
    "from replicate_graph import layer_graph\n",
    "import data\n",
    "from data import select_dataset, get_station_g, set_random_speed_columns\n",
    "from visualization import set_draw_attributes\n",
    "\n",
    "import os\n",
    "\n",
    "import re\n",
    "from tqdm import tqdm"
   ]
  },
  {
   "cell_type": "markdown",
   "metadata": {},
   "source": [
    "# Simulation"
   ]
  },
  {
   "cell_type": "markdown",
   "metadata": {},
   "source": [
    "Intialize the simulation with basic parameters."
   ]
  },
  {
   "cell_type": "code",
   "execution_count": 3,
   "metadata": {},
   "outputs": [],
   "source": [
    "simulation_length = 12\n",
    "battery_interval = 20\n",
    "km_per_percent = 3.13\n",
    "stations_path = \"data/wcctci_stations-updated.csv\"\n",
    "distances_path = \"data/wcctci_coord_distances.csv\"\n",
    "sim = Simulation(\"wcctci\", stations_path, distances_path, simulation_length, battery_interval, km_per_percent)\n",
    "sim.add_demand_nodes()"
   ]
  },
  {
   "cell_type": "code",
   "execution_count": null,
   "metadata": {},
   "outputs": [],
   "source": [
    "sim.run()"
   ]
  },
  {
   "cell_type": "code",
   "execution_count": null,
   "metadata": {},
   "outputs": [],
   "source": [
    "for v in sim.vehicle_list:\n",
    "    print(v.path)"
   ]
  },
  {
   "cell_type": "code",
   "execution_count": null,
   "metadata": {},
   "outputs": [],
   "source": [
    "for v in sim.vehicle_list:\n",
    "    print(v.location, \":\", v.distance_along_segment)"
   ]
  },
  {
   "cell_type": "code",
   "execution_count": null,
   "metadata": {},
   "outputs": [],
   "source": [
    "sim.battery_G\n",
    "labels = {node:node[-2:] if \"in\" in node else node[-3:] for node in list(sim.battery_G.nodes)}\n",
    "pos, edge_colors = set_draw_attributes(sim.battery_G, station_G)\n",
    "edge_labels = nx.get_edge_attributes(sim.battery_G,'weight')\n",
    "nx.draw(sim.battery_G, pos = pos, labels = labels, edge_color = list(edge_colors.values()), \n",
    "        font_size = 8, font_color=\"white\", node_color=\"black\")\n",
    "nx.draw_networkx_edge_labels(sim.battery_G, pos, edge_labels=edge_labels)"
   ]
  },
  {
   "cell_type": "markdown",
   "metadata": {},
   "source": [
    "# Animation\n",
    "TODO"
   ]
  },
  {
   "cell_type": "markdown",
   "metadata": {},
   "source": [
    "# Visualize general data structure"
   ]
  },
  {
   "cell_type": "code",
   "execution_count": null,
   "metadata": {},
   "outputs": [],
   "source": [
    "# print(list(stations_df[\"OID_\"]))\n",
    "# print(station_G.nodes)\n",
    "stations_df.head(1)"
   ]
  },
  {
   "cell_type": "code",
   "execution_count": null,
   "metadata": {},
   "outputs": [],
   "source": [
    "# Set colors\n",
    "for node in station_G.nodes:\n",
    "    station_G.nodes[node][\"color\"] = \"green\"\n",
    "    station_G.nodes[node][\"node_size\"] = 400\n",
    "    \n",
    "station_G.nodes[\"465\"][\"color\"] = \"blue\" \n",
    "station_G.nodes[\"1\"][\"color\"] = \"blue\" \n",
    "station_G.nodes[\"465\"][\"node_size\"] = 400 \n",
    "station_G.nodes[\"1\"][\"node_size\"] = 400 "
   ]
  },
  {
   "cell_type": "code",
   "execution_count": null,
   "metadata": {},
   "outputs": [],
   "source": [
    "pos=nx.get_node_attributes(station_G,'pos')\n",
    "color = nx.get_node_attributes(station_G,'color').values()\n",
    "node_size = list(nx.get_node_attributes(station_G,'node_size').values())\n",
    "labels = {node:node for node in list(station_G.nodes)}\n",
    "nx.draw(station_G, pos = pos, node_size=node_size, width=.5, node_color=color, labels = labels, \n",
    "        font_color = \"white\", font_size = 10)"
   ]
  },
  {
   "cell_type": "code",
   "execution_count": null,
   "metadata": {},
   "outputs": [],
   "source": [
    "labels = {node:node[-2:] if \"in\" in node else node[-3:] for node in list(G.nodes)}\n",
    "pos, edge_colors = set_draw_attributes(G, station_G)\n",
    "edge_labels = nx.get_edge_attributes(G,'weight')\n",
    "nx.draw(G, pos = pos, labels = labels, edge_color = list(edge_colors.values()), \n",
    "        font_size = 8, font_color=\"white\", node_color=\"black\")\n",
    "nx.draw_networkx_edge_labels(G, pos, edge_labels=edge_labels)"
   ]
  },
  {
   "cell_type": "markdown",
   "metadata": {},
   "source": [
    " # Results analysis "
   ]
  },
  {
   "cell_type": "code",
   "execution_count": 122,
   "metadata": {},
   "outputs": [],
   "source": [
    "with open('trials/wcctci_updated_paths_04_14_2022_10_34_09.pkl', 'rb') as inp:\n",
    "    res = pickle.load(inp)\n",
    "    \n",
    "locations = np.full((len(res.vehicle_list),int(res.simulation_length/res.time_interval+1)), fill_value=\"\").tolist()\n",
    "for row, vehicle in enumerate(res.vehicle_list):\n",
    "    i = vehicle.start_time\n",
    "    j = vehicle.start_time + len(vehicle.locations)+1\n",
    "    str_locations = [loc[0]+\":\"+loc[1] for loc in vehicle.locations]\n",
    "    locations[row][i:j] = str_locations"
   ]
  },
  {
   "cell_type": "code",
   "execution_count": 126,
   "metadata": {},
   "outputs": [],
   "source": [
    "np_locations = np.array(locations)"
   ]
  },
  {
   "cell_type": "code",
   "execution_count": 144,
   "metadata": {},
   "outputs": [],
   "source": [
    "def get_edge_totals(arr):\n",
    "    edges={}\n",
    "    for entry in arr:\n",
    "        loc = entry.split(\":\")\n",
    "        src = loc[0].split(\"_\")[0]\n",
    "        try:\n",
    "            dst = loc[1].split(\"_\")[0]\n",
    "        except:\n",
    "            dst = src\n",
    "        if (src, dst) in edges:\n",
    "            edges[(src, dst)]+=1\n",
    "        else:\n",
    "            edges[(src, dst)]=0\n",
    "    return edges\n",
    "\n",
    "edge_totals = np.apply_along_axis(get_edge_totals, 1, np_locations.T)"
   ]
  },
  {
   "cell_type": "code",
   "execution_count": 199,
   "metadata": {},
   "outputs": [
    {
     "data": {
      "image/png": "[encoded data removed]",
      "text/plain": [
       "<Figure size 432x288 with 1 Axes>"
      ]
     },
     "metadata": {},
     "output_type": "display_data"
    }
   ],
   "source": [
    "G = res.station_demand_g\n",
    "sim_index = 50\n",
    "#colors\n",
    "for node in G.nodes:\n",
    "    G.nodes[node][\"color\"] = \"blue\"\n",
    "    G.nodes[node][\"size\"] = 3\n",
    "for node in nx.get_node_attributes(G,'demand'):\n",
    "    G.nodes[node][\"color\"] = \"green\"\n",
    "    G.nodes[node][\"size\"] = 20\n",
    "node_color = nx.get_node_attributes(G,'color').values() \n",
    "node_size = {node: edge_totals[sim_index][(node, node)] if (node, node) in edge_totals[sim_index] else G.nodes[node][\"size\"] for node in G.nodes}\n",
    "widths = {edge:edge_totals[sim_index][edge]/100 if edge in edge_totals[sim_index] else .002 for edge in G.edges}\n",
    "pos = nx.get_node_attributes(G,'pos')\n",
    "nx.draw(G, pos = pos, node_size = list(node_size.values()), width= list(widths.values()), node_color=node_color, arrows=False)"
   ]
  },
  {
   "cell_type": "code",
   "execution_count": null,
   "metadata": {},
   "outputs": [],
   "source": []
  }
 ],
 "metadata": {
  "kernelspec": {
   "display_name": "Python 3",
   "language": "python",
   "name": "python3"
  },
  "language_info": {
   "codemirror_mode": {
    "name": "ipython",
    "version": 3
   },
   "file_extension": ".py",
   "mimetype": "text/x-python",
   "name": "python",
   "nbconvert_exporter": "python",
   "pygments_lexer": "ipython3",
   "version": "3.8.5"
  }
 },
 "nbformat": 4,
 "nbformat_minor": 4
}
