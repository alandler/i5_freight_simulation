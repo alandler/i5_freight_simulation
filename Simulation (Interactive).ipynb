{
 "cells": [
  {
   "cell_type": "markdown",
   "metadata": {},
   "source": [
    "# Import"
   ]
  },
  {
   "cell_type": "code",
   "execution_count": 2,
   "metadata": {},
   "outputs": [],
   "source": [
    "import networkx as nx\n",
    "import numpy as np\n",
    "import pandas as pd\n",
    "import matplotlib.pyplot as plt\n",
    "\n",
    "import random\n",
    "import copy\n",
    "\n",
    "import pickle\n",
    "from datetime import datetime\n",
    "\n",
    "import scipy.stats as ss\n",
    "from scipy.stats import norm\n",
    "from scipy.stats import poisson\n",
    "from scipy import spatial\n",
    "\n",
    "# import code\n",
    "from simulation import Simulation\n",
    "from replicate_graph import layer_graph\n",
    "import data\n",
    "from data import select_dataset, get_station_g, set_random_speed_columns\n",
    "from visualization import set_draw_attributes\n",
    "\n",
    "import os\n",
    "\n",
    "import re\n",
    "from tqdm import tqdm"
   ]
  },
  {
   "cell_type": "markdown",
   "metadata": {},
   "source": [
    "# Simulation"
   ]
  },
  {
   "cell_type": "markdown",
   "metadata": {},
   "source": [
    "Intialize the simulation with basic parameters."
   ]
  },
  {
   "cell_type": "code",
   "execution_count": 3,
   "metadata": {},
   "outputs": [],
   "source": [
    "simulation_length = 12\n",
    "battery_interval = 20\n",
    "km_per_percent = 3.13\n",
    "stations_path = \"data/wcctci_stations-updated.csv\"\n",
    "distances_path = \"data/wcctci_coord_distances.csv\"\n",
    "sim = Simulation(\"wcctci\", stations_path, distances_path, simulation_length, battery_interval, km_per_percent)\n",
    "sim.add_demand_nodes()"
   ]
  },
  {
   "cell_type": "code",
   "execution_count": null,
   "metadata": {},
   "outputs": [],
   "source": [
    "sim.run()"
   ]
  },
  {
   "cell_type": "code",
   "execution_count": null,
   "metadata": {},
   "outputs": [],
   "source": [
    "for v in sim.vehicle_list:\n",
    "    print(v.path)"
   ]
  },
  {
   "cell_type": "code",
   "execution_count": null,
   "metadata": {},
   "outputs": [],
   "source": [
    "for v in sim.vehicle_list:\n",
    "    print(v.location, \":\", v.distance_along_segment)"
   ]
  },
  {
   "cell_type": "code",
   "execution_count": null,
   "metadata": {},
   "outputs": [],
   "source": [
    "sim.battery_G\n",
    "labels = {node:node[-2:] if \"in\" in node else node[-3:] for node in list(sim.battery_G.nodes)}\n",
    "pos, edge_colors = set_draw_attributes(sim.battery_G, station_G)\n",
    "edge_labels = nx.get_edge_attributes(sim.battery_G,'weight')\n",
    "nx.draw(sim.battery_G, pos = pos, labels = labels, edge_color = list(edge_colors.values()), \n",
    "        font_size = 8, font_color=\"white\", node_color=\"black\")\n",
    "nx.draw_networkx_edge_labels(sim.battery_G, pos, edge_labels=edge_labels)"
   ]
  },
  {
   "cell_type": "markdown",
   "metadata": {},
   "source": [
    "# Animation\n",
    "TODO"
   ]
  },
  {
   "cell_type": "markdown",
   "metadata": {},
   "source": [
    "# Visualize general data structure"
   ]
  },
  {
   "cell_type": "code",
   "execution_count": null,
   "metadata": {},
   "outputs": [],
   "source": [
    "# print(list(stations_df[\"OID_\"]))\n",
    "# print(station_G.nodes)\n",
    "stations_df.head(1)"
   ]
  },
  {
   "cell_type": "code",
   "execution_count": null,
   "metadata": {},
   "outputs": [],
   "source": [
    "# Set colors\n",
    "for node in station_G.nodes:\n",
    "    station_G.nodes[node][\"color\"] = \"green\"\n",
    "    station_G.nodes[node][\"node_size\"] = 400\n",
    "    \n",
    "station_G.nodes[\"465\"][\"color\"] = \"blue\" \n",
    "station_G.nodes[\"1\"][\"color\"] = \"blue\" \n",
    "station_G.nodes[\"465\"][\"node_size\"] = 400 \n",
    "station_G.nodes[\"1\"][\"node_size\"] = 400 "
   ]
  },
  {
   "cell_type": "code",
   "execution_count": null,
   "metadata": {},
   "outputs": [],
   "source": [
    "pos=nx.get_node_attributes(station_G,'pos')\n",
    "color = nx.get_node_attributes(station_G,'color').values()\n",
    "node_size = list(nx.get_node_attributes(station_G,'node_size').values())\n",
    "labels = {node:node for node in list(station_G.nodes)}\n",
    "nx.draw(station_G, pos = pos, node_size=node_size, width=.5, node_color=color, labels = labels, \n",
    "        font_color = \"white\", font_size = 10)"
   ]
  },
  {
   "cell_type": "code",
   "execution_count": null,
   "metadata": {},
   "outputs": [],
   "source": [
    "labels = {node:node[-2:] if \"in\" in node else node[-3:] for node in list(G.nodes)}\n",
    "pos, edge_colors = set_draw_attributes(G, station_G)\n",
    "edge_labels = nx.get_edge_attributes(G,'weight')\n",
    "nx.draw(G, pos = pos, labels = labels, edge_color = list(edge_colors.values()), \n",
    "        font_size = 8, font_color=\"white\", node_color=\"black\")\n",
    "nx.draw_networkx_edge_labels(G, pos, edge_labels=edge_labels)"
   ]
  },
  {
   "cell_type": "markdown",
   "metadata": {},
   "source": [
    " # Results analysis "
   ]
  },
  {
   "cell_type": "code",
   "execution_count": null,
   "metadata": {},
   "outputs": [],
   "source": [
    "with open('trials/wcctci_04_04_2022_12_15_28.pkl', 'rb') as inp:\n",
    "    res = pickle.load(inp)"
   ]
  }
 ],
 "metadata": {
  "kernelspec": {
   "display_name": "Python 3 (ipykernel)",
   "language": "python",
   "name": "python3"
  },
  "language_info": {
   "codemirror_mode": {
    "name": "ipython",
    "version": 3
   },
   "file_extension": ".py",
   "mimetype": "text/x-python",
   "name": "python",
   "nbconvert_exporter": "python",
   "pygments_lexer": "ipython3",
   "version": "3.7.4"
  }
 },
 "nbformat": 4,
 "nbformat_minor": 4
}
