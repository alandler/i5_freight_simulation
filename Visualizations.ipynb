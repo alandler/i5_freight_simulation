{
 "cells": [
  {
   "cell_type": "code",
   "execution_count": 1,
   "metadata": {},
   "outputs": [],
   "source": [
    "import pandas as pd\n",
    "import matplotlib.pyplot as plt\n",
    "import datetime\n",
    "from vehicle_list_data import get_vehicles_charging, get_node_totals\n",
    "import vehicle_list_data\n",
    "import pickle\n",
    "import numpy as np"
   ]
  },
  {
   "cell_type": "markdown",
   "metadata": {},
   "source": [
    "# Electricity Data"
   ]
  },
  {
   "cell_type": "code",
   "execution_count": 2,
   "metadata": {},
   "outputs": [],
   "source": [
    "elec_df = pd.read_csv(\"data_test/Demand_for_California_(region)_hourly_-_UTC_time.csv\", skiprows=5, names=[\"time\", \"MWH\"])\n",
    "elec_df[\"utc_time\"] = pd.to_datetime(elec_df[\"time\"])\n",
    "elec_df[\"local_time\"] = elec_df[\"utc_time\"] + pd.Timedelta(hours=-8)"
   ]
  },
  {
   "cell_type": "code",
   "execution_count": null,
   "metadata": {},
   "outputs": [],
   "source": [
    "# uncomment the vis you want\n",
    "# plt.plot(elec_df[\"MWH\"]) # plot entire series\n",
    "# plt.plot(elec_df[elec_df[\"local_time\"].dt.year==2021][\"MWH\"]) # plot specific year\n",
    "\n",
    "\n",
    "# summer_months = [6,7] \n",
    "# plt.plot(elec_df[elec_df[\"local_time\"].dt.month.isin(summer_months) & \n",
    "#                  elec_df[\"local_time\"].dt.year.isin([2021])][\"MWH\"]) # plot specific months and years\n",
    "\n",
    "# elec_df.groupby([elec_df['local_time'].dt.hour, elec_df['local_time'].dt.month]).mean().loc[0] #groupby hours, months\n",
    "\n",
    "# plot all hourly distributions over months in 2021\n",
    "elec_df_2021 = elec_df[elec_df['local_time'].dt.year==2021]\n",
    "fig, axs = plt.subplots(3, 4, sharey=True, figsize=(15,10))\n",
    "for r in range(3):\n",
    "    for c in range(4):\n",
    "        axs[r][c].set_ylabel(\"MWH\")\n",
    "        axs[r][c].set_xlabel(\"hour of day\")\n",
    "        axs[r][c].set_title(\"Hourly distribution: \" + datetime.datetime.strptime(str(r*4+c+1), \"%m\").strftime(\"%b\"))\n",
    "        axs[r][c].plot(elec_df_2021.groupby([elec_df_2021['local_time'].dt.month, elec_df_2021['local_time'].dt.hour]).mean().loc[r*4+c+1][\"MWH\"])\n",
    "fig.tight_layout()"
   ]
  },
  {
   "cell_type": "markdown",
   "metadata": {},
   "source": [
    "# Volume GIF"
   ]
  },
  {
   "cell_type": "code",
   "execution_count": null,
   "metadata": {},
   "outputs": [],
   "source": [
    "import numpy as np\n",
    "import matplotlib.pyplot as plt\n",
    "import networkx as nx\n",
    "from matplotlib.animation import FuncAnimation\n",
    "import pickle\n",
    "\n",
    "from vehicle_list_data import get_index_edge_totals"
   ]
  },
  {
   "cell_type": "code",
   "execution_count": null,
   "metadata": {},
   "outputs": [],
   "source": [
    "############## SET THESE PARAMETERS FIRST ##############\n",
    "file = \"trials/full_day_results/full_day_scenario4_algorithm_7_05_03_2022_22_09_07.pkl\"\n",
    "with open(file, 'rb') as inp:\n",
    "    sim = pickle.load(inp)\n",
    "name = \"animation_full_day_scenario_4_alg_7\""
   ]
  },
  {
   "cell_type": "code",
   "execution_count": null,
   "metadata": {},
   "outputs": [],
   "source": [
    "G = sim.station_demand_g\n",
    "edge_totals = get_index_edge_totals(sim)"
   ]
  },
  {
   "cell_type": "code",
   "execution_count": null,
   "metadata": {},
   "outputs": [],
   "source": [
    "def set_visual_node_attributes(G):\n",
    "    for node in G.nodes:\n",
    "        G.nodes[node][\"color\"] = \"blue\"\n",
    "        G.nodes[node][\"size\"] = 5\n",
    "    for node in nx.get_node_attributes(G,'demand'):\n",
    "        G.nodes[node][\"color\"] = \"green\"\n",
    "        G.nodes[node][\"size\"] = 20\n",
    "    return G\n",
    "G = set_visual_node_attributes(G)"
   ]
  },
  {
   "cell_type": "code",
   "execution_count": null,
   "metadata": {},
   "outputs": [],
   "source": [
    "def animate(sim_index):\n",
    "    node_color = nx.get_node_attributes(G,'color').values() \n",
    "    node_size = {node: edge_totals[sim_index][(node, node)] if (node, node) in edge_totals[sim_index] else G.nodes[node][\"size\"] for node in G.nodes}\n",
    "    widths = {edge:edge_totals[sim_index][edge]/50 if edge in edge_totals[sim_index] else .002 for edge in G.edges}\n",
    "    pos = nx.get_node_attributes(G,'pos')\n",
    "    graph_viz = nx.draw(G, pos = pos, node_size = list(node_size.values()), width= list(widths.values()), node_color=node_color, arrows=False)"
   ]
  },
  {
   "cell_type": "code",
   "execution_count": null,
   "metadata": {},
   "outputs": [],
   "source": [
    "fig = plt.figure(dpi=200)\n",
    "node_color = nx.get_node_attributes(G,'color').values() \n",
    "node_size = {node: edge_totals[sim_index][(node, node)] if (node, node) in edge_totals[sim_index] else G.nodes[node][\"size\"] for node in G.nodes}\n",
    "widths = {edge:edge_totals[sim_index][edge]/50 if edge in edge_totals[sim_index] else .002 for edge in G.edges}\n",
    "pos = nx.get_node_attributes(G,'pos')\n",
    "graph_viz = nx.draw(G, pos = pos, node_size = list(node_size.values()), width= list(widths.values()), node_color=node_color, arrows=False)\n",
    "\n",
    "# Animator call\n",
    "anim = animation.FuncAnimation(fig, animate, frames=24, interval=100, blit=False)\n",
    "# anim.save('/tmp/animation.gif', writer='imagemagick', fps=30)\n",
    "anim.save(\"gifs/\" + name + \".gif\", fps=5, writer=\"avconv\", codec=\"libx264\")"
   ]
  },
  {
   "cell_type": "markdown",
   "metadata": {},
   "source": [
    "# Electricity Metric"
   ]
  },
  {
   "cell_type": "code",
   "execution_count": 3,
   "metadata": {},
   "outputs": [],
   "source": [
    "############## SET THESE PARAMETERS FIRST ##############\n",
    "file = \"trials/wednesday_debug_2/wednesday_debug_2_scenario0_algorithm_2_05_04_2022_17_51_26.pkl\"\n",
    "with open(file, 'rb') as inp:\n",
    "    sim = pickle.load(inp)"
   ]
  },
  {
   "cell_type": "code",
   "execution_count": 30,
   "metadata": {},
   "outputs": [
    {
     "data": {
      "text/plain": [
       "0.08333333333333333"
      ]
     },
     "execution_count": 30,
     "metadata": {},
     "output_type": "execute_result"
    }
   ],
   "source": [
    "vehicle_list_data.get_electricity_metric(sim)"
   ]
  },
  {
   "cell_type": "code",
   "execution_count": null,
   "metadata": {},
   "outputs": [],
   "source": []
  }
 ],
 "metadata": {
  "kernelspec": {
   "display_name": "Python 3 (ipykernel)",
   "language": "python",
   "name": "python3"
  },
  "language_info": {
   "codemirror_mode": {
    "name": "ipython",
    "version": 3
   },
   "file_extension": ".py",
   "mimetype": "text/x-python",
   "name": "python",
   "nbconvert_exporter": "python",
   "pygments_lexer": "ipython3",
   "version": "3.7.4"
  }
 },
 "nbformat": 4,
 "nbformat_minor": 4
}
