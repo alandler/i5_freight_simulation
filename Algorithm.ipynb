{
 "cells": [
  {
   "cell_type": "code",
   "execution_count": 1,
   "id": "6f1d6415",
   "metadata": {},
   "outputs": [],
   "source": [
    "from multiprocessing.sharedctypes import Value\n",
    "import networkx as nx\n",
    "import numpy as np\n",
    "import random\n",
    "import pandas as pd\n",
    "\n",
    "from tqdm import tqdm\n",
    "from datetime import datetime\n",
    "import pickle\n",
    "\n",
    "# File imports\n",
    "import data\n",
    "from data import select_dataset, get_station_g, ingest_electricity_data, set_random_speed_columns, ingest_pems\n",
    "from replicate_graph import layer_graph\n",
    "from vehicle import Vehicle\n",
    "from simulation import Simulation\n",
    "from visualization import set_draw_attributes\n",
    "from vehicle_list_data import get_utilization"
   ]
  },
  {
   "cell_type": "markdown",
   "id": "f100ce1c",
   "metadata": {},
   "source": [
    "## Ingest pems for the whole graph (all charging and parking stops)\n",
    "### commented out because it only needs to be done once. Csv already saved."
   ]
  },
  {
   "cell_type": "code",
   "execution_count": 2,
   "id": "318684ca",
   "metadata": {},
   "outputs": [],
   "source": [
    "# all_graph = ingest_pems(\"data/charging_parking_stations_lonlat.csv\", \"data/charging_parking_distances.csv\")"
   ]
  },
  {
   "cell_type": "code",
   "execution_count": 3,
   "id": "fa4c69ed",
   "metadata": {},
   "outputs": [],
   "source": [
    "# #save the new csv with all the speeds (from pems ingest above), which will be used for the algorithm\n",
    "# all_graph[1].to_csv(\"data/charging_parking_distances_pemsingested.csv\")"
   ]
  },
  {
   "cell_type": "markdown",
   "id": "d1816bfc",
   "metadata": {},
   "source": [
    "## Run the algorithm"
   ]
  },
  {
   "cell_type": "code",
   "execution_count": 4,
   "id": "880c81e9",
   "metadata": {
    "scrolled": false
   },
   "outputs": [
    {
     "name": "stdout",
     "output_type": "stream",
     "text": [
      "------- SCENARIO 0 -------\n"
     ]
    },
    {
     "name": "stderr",
     "output_type": "stream",
     "text": [
      "100%|██████████| 12/12 [00:35<00:00,  2.96s/it]\n"
     ]
    },
    {
     "name": "stdout",
     "output_type": "stream",
     "text": [
      "True : name:  low_volume_noreverse_scenario0_algorithm_0\n",
      "station_utilization_disp_of_avg:   6.553906250000001\n",
      "station_utilization_avg_of_disp:   6.635416666666667\n",
      "electricity:   0\n",
      "percent_delay:   (1.0, 2.4598439829250043, 4.2518900502485035, 2.3816753800055364, 1.125694086286723)\n",
      "hours_spent_in_queues:   (0.0, 0.1, 5.4, 1.5304347826086957, 1.7679353673531157)\n",
      "hours_spent_charging:   (0, 9.0, 36, 9.695652173913043, 11.098118848073915)\n",
      "Highest: 8\n",
      "Lowest: 1\n",
      "________________________________________\n",
      "New Station: 246\n"
     ]
    },
    {
     "name": "stderr",
     "output_type": "stream",
     "text": [
      "/Users/alandler/.local/lib/python3.7/site-packages/ipykernel_launcher.py:157: SettingWithCopyWarning: \n",
      "A value is trying to be set on a copy of a slice from a DataFrame.\n",
      "Try using .loc[row_indexer,col_indexer] = value instead\n",
      "\n",
      "See the caveats in the documentation: https://pandas.pydata.org/pandas-docs/stable/user_guide/indexing.html#returning-a-view-versus-a-copy\n",
      "/Users/alandler/.local/lib/python3.7/site-packages/ipykernel_launcher.py:158: SettingWithCopyWarning: \n",
      "A value is trying to be set on a copy of a slice from a DataFrame.\n",
      "Try using .loc[row_indexer,col_indexer] = value instead\n",
      "\n",
      "See the caveats in the documentation: https://pandas.pydata.org/pandas-docs/stable/user_guide/indexing.html#returning-a-view-versus-a-copy\n",
      "100%|██████████| 12/12 [00:37<00:00,  3.10s/it]\n"
     ]
    },
    {
     "name": "stdout",
     "output_type": "stream",
     "text": [
      "True : name:  low_volume_noreverse_scenario0_algorithm_1\n",
      "station_utilization_disp_of_avg:   5.055989583333333\n",
      "station_utilization_avg_of_disp:   5.187760416666666\n",
      "electricity:   0\n",
      "percent_delay:   (1.0, 2.125945075568434, 3.9636855689403414, 1.906201112178289, 0.8607302587321378)\n",
      "hours_spent_in_queues:   (0.0, 0.0, 3.4, 0.32727272727272727, 0.6981676134918647)\n",
      "hours_spent_charging:   (0, 9.0, 35, 6.931818181818182, 7.750066648607047)\n",
      "Highest: 16\n",
      "Lowest: 2\n",
      "________________________________________\n",
      "New Station: 210\n"
     ]
    },
    {
     "name": "stderr",
     "output_type": "stream",
     "text": [
      "100%|██████████| 12/12 [00:36<00:00,  3.04s/it]\n"
     ]
    },
    {
     "name": "stdout",
     "output_type": "stream",
     "text": [
      "True : name:  low_volume_noreverse_scenario0_algorithm_2\n",
      "station_utilization_disp_of_avg:   5.956510416666667\n",
      "station_utilization_avg_of_disp:   6.250520833333334\n",
      "electricity:   0\n",
      "percent_delay:   (1.0, 2.00431736629579, 4.067025361957004, 2.1129732990366312, 1.1318756453079544)\n",
      "hours_spent_in_queues:   (0.0, 0.0, 4.4, 0.9802197802197803, 1.5182566477377768)\n",
      "hours_spent_charging:   (0, 9.0, 38, 6.010989010989011, 7.018804421365062)\n",
      "Highest: 37\n",
      "Lowest: 3\n",
      "________________________________________\n",
      "New Station: 292\n"
     ]
    },
    {
     "name": "stderr",
     "output_type": "stream",
     "text": [
      "100%|██████████| 12/12 [00:37<00:00,  3.11s/it]\n"
     ]
    },
    {
     "name": "stdout",
     "output_type": "stream",
     "text": [
      "True : name:  low_volume_noreverse_scenario0_algorithm_3\n",
      "station_utilization_disp_of_avg:   4.846614583333333\n",
      "station_utilization_avg_of_disp:   5.03828125\n",
      "electricity:   0\n",
      "percent_delay:   (1.0, 2.00431736629579, 4.159457756546936, 1.8819040410915489, 0.9421461177254686)\n",
      "hours_spent_in_queues:   (0.0, 0.0, 4.4, 0.5230769230769231, 1.024435188589938)\n",
      "hours_spent_charging:   (0, 9.0, 20, 5.495726495726496, 5.744747034404385)\n",
      "Highest: 37\n",
      "Lowest: 4\n",
      "________________________________________\n",
      "New Station: 293\n"
     ]
    },
    {
     "name": "stderr",
     "output_type": "stream",
     "text": [
      "100%|██████████| 12/12 [00:34<00:00,  2.86s/it]\n"
     ]
    },
    {
     "name": "stdout",
     "output_type": "stream",
     "text": [
      "True : name:  low_volume_noreverse_scenario0_algorithm_4\n",
      "station_utilization_disp_of_avg:   5.229947916666667\n",
      "station_utilization_avg_of_disp:   5.659895833333334\n",
      "electricity:   0\n",
      "percent_delay:   (1.0, 2.00431736629579, 4.203478398914967, 1.9167945908838953, 0.8978221641101145)\n",
      "hours_spent_in_queues:   (0.0, 0.0, 4.4, 0.6534653465346535, 1.1327321178369294)\n",
      "hours_spent_charging:   (0, 9.0, 11, 5.415841584158416, 4.883326505271035)\n",
      "Highest: 210\n",
      "Lowest: 5\n",
      "________________________________________\n",
      "------- SCENARIO 1 -------\n"
     ]
    },
    {
     "name": "stderr",
     "output_type": "stream",
     "text": [
      "100%|██████████| 12/12 [00:35<00:00,  2.95s/it]\n"
     ]
    },
    {
     "name": "stdout",
     "output_type": "stream",
     "text": [
      "True : name:  low_volume_noreverse_scenario1_algorithm_0\n",
      "station_utilization_disp_of_avg:   7.5234375\n",
      "station_utilization_avg_of_disp:   7.6140625\n",
      "electricity:   0\n",
      "percent_delay:   (1.0, 1.081176268014861, 4.555266635046304, 1.9773419355678385, 1.1916055563500072)\n",
      "hours_spent_in_queues:   (0.0, 0.0, 6.6, 0.8754716981132076, 1.735849056603774)\n",
      "hours_spent_charging:   (0, 0.0, 41, 8.566037735849056, 13.383331556295907)\n",
      "Highest: 8\n",
      "Lowest: 1\n",
      "________________________________________\n",
      "New Station: 246\n"
     ]
    },
    {
     "name": "stderr",
     "output_type": "stream",
     "text": [
      "100%|██████████| 12/12 [00:38<00:00,  3.21s/it]\n"
     ]
    },
    {
     "name": "stdout",
     "output_type": "stream",
     "text": [
      "True : name:  low_volume_noreverse_scenario1_algorithm_1\n",
      "station_utilization_disp_of_avg:   4.482291666666667\n",
      "station_utilization_avg_of_disp:   4.590104166666666\n",
      "electricity:   0\n",
      "percent_delay:   (1.0, 1.8179473773520891, 3.127816512829208, 1.8601826465287428, 0.6670787646780787)\n",
      "hours_spent_in_queues:   (0.0, 0.0, 3.0, 0.4842105263157895, 0.6827677095120672)\n",
      "hours_spent_charging:   (0, 4.0, 25, 5.968421052631579, 6.812453969449815)\n",
      "Highest: 37\n",
      "Lowest: 2\n",
      "________________________________________\n",
      "New Station: 292\n"
     ]
    },
    {
     "name": "stderr",
     "output_type": "stream",
     "text": [
      "100%|██████████| 12/12 [00:36<00:00,  3.04s/it]\n"
     ]
    },
    {
     "name": "stdout",
     "output_type": "stream",
     "text": [
      "True : name:  low_volume_noreverse_scenario1_algorithm_2\n",
      "station_utilization_disp_of_avg:   3.948177083333333\n",
      "station_utilization_avg_of_disp:   4.239583333333333\n",
      "electricity:   0\n",
      "percent_delay:   (1.0, 1.8221066966325363, 3.6368141255439412, 1.9952746825360048, 0.8393656008045828)\n",
      "hours_spent_in_queues:   (0.0, 0.0, 3.6, 0.6993464052287581, 0.956607344749956)\n",
      "hours_spent_charging:   (0, 5.0, 25, 6.908496732026144, 7.222296157903869)\n",
      "Highest: 16\n",
      "Lowest: 3\n",
      "________________________________________\n",
      "New Station: 210\n"
     ]
    },
    {
     "name": "stderr",
     "output_type": "stream",
     "text": [
      "100%|██████████| 12/12 [00:34<00:00,  2.89s/it]\n"
     ]
    },
    {
     "name": "stdout",
     "output_type": "stream",
     "text": [
      "True : name:  low_volume_noreverse_scenario1_algorithm_3\n",
      "station_utilization_disp_of_avg:   3.291666666666667\n",
      "station_utilization_avg_of_disp:   3.7565104166666665\n",
      "electricity:   0\n",
      "percent_delay:   (1.0, 1.7310013618009097, 3.559368561721379, 1.9241606603259913, 0.7035566276719956)\n",
      "hours_spent_in_queues:   (0.0, 0.0, 3.0, 0.4748603351955307, 0.7435265189650986)\n",
      "hours_spent_charging:   (0, 5.0, 26, 6.648044692737431, 6.260109953004091)\n",
      "Highest: 210\n",
      "Lowest: 4\n",
      "________________________________________\n",
      "New Station: 321\n"
     ]
    },
    {
     "name": "stderr",
     "output_type": "stream",
     "text": [
      "100%|██████████| 12/12 [00:32<00:00,  2.74s/it]\n"
     ]
    },
    {
     "name": "stdout",
     "output_type": "stream",
     "text": [
      "True : name:  low_volume_noreverse_scenario1_algorithm_4\n",
      "station_utilization_disp_of_avg:   4.446875\n",
      "station_utilization_avg_of_disp:   4.7515625\n",
      "electricity:   0\n",
      "percent_delay:   (1.0, 1.8179473773520891, 3.838534723425016, 1.9908385426709039, 0.8132622642063309)\n",
      "hours_spent_in_queues:   (0.0, 0.0, 3.6, 0.7146198830409357, 1.028464620390093)\n",
      "hours_spent_charging:   (0, 5.0, 26, 6.43859649122807, 6.625356776516118)\n",
      "Highest: 34\n",
      "Lowest: 5\n",
      "________________________________________\n",
      "------- SCENARIO 2 -------\n"
     ]
    },
    {
     "name": "stderr",
     "output_type": "stream",
     "text": [
      "100%|██████████| 12/12 [00:38<00:00,  3.22s/it]\n"
     ]
    },
    {
     "name": "stdout",
     "output_type": "stream",
     "text": [
      "True : name:  low_volume_noreverse_scenario2_algorithm_0\n",
      "station_utilization_disp_of_avg:   2.8606770833333335\n",
      "station_utilization_avg_of_disp:   3.30625\n",
      "electricity:   0\n",
      "percent_delay:   (1.0, 1.0, 2.104163193540165, 1.1934767563867341, 0.2622248702305928)\n",
      "hours_spent_in_queues:   (0.0, 0.0, 2.0, 0.06133333333333334, 0.27254846663789295)\n",
      "hours_spent_charging:   (0, 0.0, 24, 3.631111111111111, 5.394804999965645)\n",
      "Highest: 16\n",
      "Lowest: 1\n",
      "________________________________________\n",
      "New Station: 210\n"
     ]
    },
    {
     "name": "stderr",
     "output_type": "stream",
     "text": [
      "100%|██████████| 12/12 [00:38<00:00,  3.24s/it]\n"
     ]
    },
    {
     "name": "stdout",
     "output_type": "stream",
     "text": [
      "True : name:  low_volume_noreverse_scenario2_algorithm_1\n",
      "station_utilization_disp_of_avg:   2.4984374999999996\n",
      "station_utilization_avg_of_disp:   2.9643229166666667\n",
      "electricity:   0\n",
      "percent_delay:   (1.0, 1.2016211296691148, 2.913802116474798, 1.4136685859730955, 0.40516313907654666)\n",
      "hours_spent_in_queues:   (0.0, 0.0, 2.2, 0.08055555555555555, 0.3294097789518942)\n",
      "hours_spent_charging:   (0, 0.0, 24, 2.4166666666666665, 3.9314143152965344)\n",
      "Highest: 15\n",
      "Lowest: 2\n",
      "________________________________________\n",
      "New Station: 221\n"
     ]
    },
    {
     "name": "stderr",
     "output_type": "stream",
     "text": [
      "100%|██████████| 12/12 [00:42<00:00,  3.50s/it]\n"
     ]
    },
    {
     "name": "stdout",
     "output_type": "stream",
     "text": [
      "True : name:  low_volume_noreverse_scenario2_algorithm_2\n",
      "station_utilization_disp_of_avg:   2.790885416666667\n",
      "station_utilization_avg_of_disp:   3.175520833333333\n",
      "electricity:   0\n",
      "percent_delay:   (1.0, 1.3397710086143444, 2.5995010580751017, 1.526415799483843, 0.44115792838769613)\n",
      "hours_spent_in_queues:   (0.0, 0.0, 1.8, 0.1411111111111111, 0.38912849761270496)\n",
      "hours_spent_charging:   (0, 0.0, 20, 3.188888888888889, 4.142984550738069)\n",
      "Highest: 10\n",
      "Lowest: 3\n",
      "________________________________________\n",
      "New Station: 54\n"
     ]
    },
    {
     "name": "stderr",
     "output_type": "stream",
     "text": [
      "100%|██████████| 12/12 [00:40<00:00,  3.39s/it]\n"
     ]
    },
    {
     "name": "stdout",
     "output_type": "stream",
     "text": [
      "True : name:  low_volume_noreverse_scenario2_algorithm_3\n",
      "station_utilization_disp_of_avg:   2.663802083333333\n",
      "station_utilization_avg_of_disp:   3.169791666666667\n",
      "electricity:   0\n",
      "percent_delay:   (1.0, 1.2940535242590467, 2.456591571688912, 1.4792106023774514, 0.389546586062132)\n",
      "hours_spent_in_queues:   (0.0, 0.0, 1.8, 0.08411214953271028, 0.28289211731560276)\n",
      "hours_spent_charging:   (0, 0.0, 20, 2.953271028037383, 4.336075958852235)\n",
      "Highest: 54\n",
      "Lowest: 4\n",
      "________________________________________\n",
      "New Station: 163\n"
     ]
    },
    {
     "name": "stderr",
     "output_type": "stream",
     "text": [
      "100%|██████████| 12/12 [00:40<00:00,  3.36s/it]\n"
     ]
    },
    {
     "name": "stdout",
     "output_type": "stream",
     "text": [
      "True : name:  low_volume_noreverse_scenario2_algorithm_4\n",
      "station_utilization_disp_of_avg:   3.156770833333333\n",
      "station_utilization_avg_of_disp:   3.398697916666667\n",
      "electricity:   0\n",
      "percent_delay:   (1.0, 1.2940535242590467, 3.112470442598079, 1.4787789076713593, 0.4606545639765552)\n",
      "hours_spent_in_queues:   (0.0, 0.0, 3.0, 0.13401015228426394, 0.44597541520012174)\n",
      "hours_spent_charging:   (0, 0.0, 26, 3.035532994923858, 4.8347049469474594)\n",
      "Highest: 34\n",
      "Lowest: 5\n",
      "________________________________________\n",
      "------- SCENARIO 3 -------\n"
     ]
    },
    {
     "name": "stderr",
     "output_type": "stream",
     "text": [
      "100%|██████████| 12/12 [00:39<00:00,  3.29s/it]\n"
     ]
    },
    {
     "name": "stdout",
     "output_type": "stream",
     "text": [
      "True : name:  low_volume_noreverse_scenario3_algorithm_0\n",
      "station_utilization_disp_of_avg:   3.6317708333333334\n",
      "station_utilization_avg_of_disp:   4.344270833333334\n",
      "electricity:   0\n",
      "percent_delay:   (1.0, 1.0, 3.0625803347395526, 1.3167342773057937, 0.5021295465038998)\n",
      "hours_spent_in_queues:   (0.0, 0.0, 3.6, 0.17339901477832514, 0.58003038259051)\n",
      "hours_spent_charging:   (0, 0.0, 29, 4.522167487684729, 6.828169069299833)\n",
      "Highest: 16\n",
      "Lowest: 1\n",
      "________________________________________\n",
      "New Station: 210\n"
     ]
    },
    {
     "name": "stderr",
     "output_type": "stream",
     "text": [
      "100%|██████████| 12/12 [00:38<00:00,  3.21s/it]\n"
     ]
    },
    {
     "name": "stdout",
     "output_type": "stream",
     "text": [
      "True : name:  low_volume_noreverse_scenario3_algorithm_1\n",
      "station_utilization_disp_of_avg:   2.6140625\n",
      "station_utilization_avg_of_disp:   3.1361979166666667\n",
      "electricity:   0\n",
      "percent_delay:   (1.0, 1.2016211296691148, 3.253991586013001, 1.4826570763738598, 0.5373467105810598)\n",
      "hours_spent_in_queues:   (0.0, 0.0, 2.2, 0.0345679012345679, 0.24603547562488945)\n",
      "hours_spent_charging:   (0, 0.0, 28, 3.8950617283950617, 6.614245778500511)\n",
      "Highest: 210\n",
      "Lowest: 2\n",
      "________________________________________\n",
      "New Station: 321\n"
     ]
    },
    {
     "name": "stderr",
     "output_type": "stream",
     "text": [
      "100%|██████████| 12/12 [00:40<00:00,  3.34s/it]\n"
     ]
    },
    {
     "name": "stdout",
     "output_type": "stream",
     "text": [
      "True : name:  low_volume_noreverse_scenario3_algorithm_2\n",
      "station_utilization_disp_of_avg:   3.0984375\n",
      "station_utilization_avg_of_disp:   3.60546875\n",
      "electricity:   0\n",
      "percent_delay:   (1.0, 1.2119649182347263, 2.8475793411003703, 1.515951528056974, 0.5577868448224003)\n",
      "hours_spent_in_queues:   (0.0, 0.0, 2.4, 0.06289308176100629, 0.3002207697363205)\n",
      "hours_spent_charging:   (0, 0.0, 28, 3.842767295597484, 6.676283558492392)\n",
      "Highest: 10\n",
      "Lowest: 3\n",
      "________________________________________\n",
      "New Station: 54\n"
     ]
    },
    {
     "name": "stderr",
     "output_type": "stream",
     "text": [
      "100%|██████████| 12/12 [00:39<00:00,  3.32s/it]\n"
     ]
    },
    {
     "name": "stdout",
     "output_type": "stream",
     "text": [
      "True : name:  low_volume_noreverse_scenario3_algorithm_3\n",
      "station_utilization_disp_of_avg:   3.000260416666667\n",
      "station_utilization_avg_of_disp:   3.3723958333333335\n",
      "electricity:   0\n",
      "percent_delay:   (1.0, 1.2016211296691148, 2.9349728030705498, 1.41630259304586, 0.4982577168669326)\n",
      "hours_spent_in_queues:   (0.0, 0.0, 1.0, 0.010457516339869282, 0.09369914215664013)\n",
      "hours_spent_charging:   (0, 0.0, 20, 3.1241830065359477, 5.63523028907897)\n",
      "Highest: 15\n",
      "Lowest: 4\n",
      "________________________________________\n",
      "New Station: 221\n"
     ]
    },
    {
     "name": "stderr",
     "output_type": "stream",
     "text": [
      "100%|██████████| 12/12 [00:39<00:00,  3.27s/it]\n"
     ]
    },
    {
     "name": "stdout",
     "output_type": "stream",
     "text": [
      "True : name:  low_volume_noreverse_scenario3_algorithm_4\n",
      "station_utilization_disp_of_avg:   3.1755208333333336\n",
      "station_utilization_avg_of_disp:   3.601822916666667\n",
      "electricity:   0\n",
      "percent_delay:   (1.0, 1.2016211296691148, 2.781356565725943, 1.3940156987726988, 0.46184982704233407)\n",
      "hours_spent_in_queues:   (0.0, 0.0, 1.2, 0.013414634146341465, 0.12123570584282345)\n",
      "hours_spent_charging:   (0, 0.0, 28, 2.7560975609756095, 5.258120260455126)\n",
      "Highest: 221\n",
      "Lowest: 5\n",
      "________________________________________\n",
      "------- SCENARIO 4 -------\n"
     ]
    },
    {
     "name": "stderr",
     "output_type": "stream",
     "text": [
      "100%|██████████| 12/12 [00:42<00:00,  3.57s/it]\n"
     ]
    },
    {
     "name": "stdout",
     "output_type": "stream",
     "text": [
      "True : name:  low_volume_noreverse_scenario4_algorithm_0\n",
      "station_utilization_disp_of_avg:   2.13203125\n",
      "station_utilization_avg_of_disp:   2.349739583333333\n",
      "electricity:   0\n",
      "percent_delay:   (1.0, 1.0, 1.8174499668723525, 1.0224564464791959, 0.0856902777348089)\n",
      "hours_spent_in_queues:   (0.0, 0.0, 1.6, 0.008368200836820083, 0.08923814217083366)\n",
      "hours_spent_charging:   (0, 0.0, 20, 0.8263598326359832, 3.246687357814233)\n",
      "Highest: 39\n",
      "Lowest: 1\n",
      "________________________________________\n",
      "New Station: 77\n"
     ]
    },
    {
     "name": "stderr",
     "output_type": "stream",
     "text": [
      "100%|██████████| 12/12 [00:40<00:00,  3.41s/it]\n"
     ]
    },
    {
     "name": "stdout",
     "output_type": "stream",
     "text": [
      "True : name:  low_volume_noreverse_scenario4_algorithm_1\n",
      "station_utilization_disp_of_avg:   0.5984375\n",
      "station_utilization_avg_of_disp:   0.7260416666666667\n",
      "electricity:   0\n",
      "percent_delay:   (1.0, 1.3326426349293854, 1.783793496206447, 1.3410809640590062, 0.15939120869535486)\n",
      "hours_spent_in_queues:   (0.0, 0.0, 0.8, 0.002346041055718475, 0.04325885962366164)\n",
      "hours_spent_charging:   (0, 0.0, 10, 0.34310850439882695, 1.553405402033064)\n",
      "Highest: 11\n",
      "Lowest: 2\n",
      "________________________________________\n",
      "New Station: 267\n"
     ]
    },
    {
     "name": "stderr",
     "output_type": "stream",
     "text": [
      "100%|██████████| 12/12 [00:42<00:00,  3.56s/it]\n"
     ]
    },
    {
     "name": "stdout",
     "output_type": "stream",
     "text": [
      "True : name:  low_volume_noreverse_scenario4_algorithm_2\n",
      "station_utilization_disp_of_avg:   0.9580729166666666\n",
      "station_utilization_avg_of_disp:   1.0302083333333334\n",
      "electricity:   0\n",
      "percent_delay:   (1.0, 1.3260392680922783, 1.7065733517254975, 1.3379089918047327, 0.16459460042111498)\n",
      "hours_spent_in_queues:   (0.0, 0.0, 0.6, 0.00949868073878628, 0.0720195801091889)\n",
      "hours_spent_charging:   (0, 0.0, 10, 0.31398416886543534, 1.391299656169946)\n",
      "Highest: 11\n",
      "Lowest: 3\n",
      "________________________________________\n",
      "New Station: 268\n"
     ]
    },
    {
     "name": "stderr",
     "output_type": "stream",
     "text": [
      "100%|██████████| 12/12 [00:41<00:00,  3.42s/it]\n"
     ]
    },
    {
     "name": "stdout",
     "output_type": "stream",
     "text": [
      "True : name:  low_volume_noreverse_scenario4_algorithm_3\n",
      "station_utilization_disp_of_avg:   0.84296875\n",
      "station_utilization_avg_of_disp:   0.9013020833333333\n",
      "electricity:   0\n",
      "percent_delay:   (1.0, 1.3034975686512595, 1.7501370151459477, 1.3082743098150493, 0.16700829780709273)\n",
      "hours_spent_in_queues:   (0.0, 0.0, 0.0, 0.0, 0.0)\n",
      "hours_spent_charging:   (0, 0.0, 10, 0.27371273712737126, 1.4458191417500237)\n",
      "Highest: 11\n",
      "Lowest: 4\n",
      "________________________________________\n",
      "New Station: 191\n"
     ]
    },
    {
     "name": "stderr",
     "output_type": "stream",
     "text": [
      "100%|██████████| 12/12 [00:41<00:00,  3.49s/it]\n"
     ]
    },
    {
     "name": "stdout",
     "output_type": "stream",
     "text": [
      "True : name:  low_volume_noreverse_scenario4_algorithm_4\n",
      "station_utilization_disp_of_avg:   0.6002604166666667\n",
      "station_utilization_avg_of_disp:   0.6958333333333333\n",
      "electricity:   0\n",
      "percent_delay:   (1.0, 1.3034975686512595, 1.7501370151459477, 1.3476606750827613, 0.15302853940044475)\n",
      "hours_spent_in_queues:   (0.0, 0.0, 0.8, 0.0021917808219178085, 0.04181651293882503)\n",
      "hours_spent_charging:   (0, 0.0, 10, 0.4383561643835616, 1.843064016532617)\n",
      "Highest: 12\n",
      "Lowest: 5\n",
      "________________________________________\n"
     ]
    }
   ],
   "source": [
    "number_of_iterations = 5\n",
    "kwh_per_km = 1.9\n",
    "\n",
    "#scenario list: each list inside has three params : charging rate, kwh per km, and battery capacity.\n",
    "scenario_list = [[45,1.9,215],[90,1.9,215],[45,0.95,215],[45,1.9,430],[90,0.95,430]] \n",
    "# scenario_list = [[90,0.95,430], [45,1.9,430], [45,0.95,215], [90,1.9,215], [45,1.9,215]] \n",
    "# scenario_list = [[45,1.9,215]] #single iteration\n",
    "\n",
    "columns = [\"scenario_number\", \"iteration\", \"charging_rate\", \"km_per_kwh\", \"battery_capacity\", \"success\",\n",
    "           \"station_utilization_disp_of_avg\", \"station_utilization_avg_of_disp\", \"electricity\",\n",
    "           \"percent_delay\", \"hours_spent_in_queues\", \"hours_spent_charging\", \n",
    "           \"most_utilized_node\", \"least_utilized_node\",\n",
    "          \"strongly_connected_components\", \"weakly_connected_components\"]\n",
    "results = [columns]\n",
    "\n",
    "basename = \"low_volume_noreverse\"\n",
    "saving_path = \"trials/\"+basename+\"/\"\n",
    "\n",
    "def print_results(sim, scenario, s, n, success=True):\n",
    "    print(success, \": name: \", sim.name)\n",
    "    \n",
    "    if success==True:\n",
    "        print(\"station_utilization_disp_of_avg:  \", sim.metrics['station_utilization_disp_of_avg'])\n",
    "        print(\"station_utilization_avg_of_disp:  \", sim.metrics['station_utilization_avg_of_disp'])\n",
    "        print(\"electricity:  \", sim.metrics['electricity'])\n",
    "        print(\"percent_delay:  \", sim.metrics['percent_delay'])\n",
    "        print(\"hours_spent_in_queues:  \", sim.metrics['hours_spent_in_queues'])\n",
    "        print(\"hours_spent_charging:  \", sim.metrics['hours_spent_charging'])\n",
    "        \n",
    "\n",
    "for scenario, s in zip(scenario_list, range(0,len(scenario_list))):\n",
    "    \n",
    "    print('------- SCENARIO '+str(s)+' -------')\n",
    "    #initialize for wcctici\n",
    "    simulation_length = 12\n",
    "    battery_interval = 20\n",
    "    kwh_per_km = scenario[1]\n",
    "    battery_capacity = scenario[2]\n",
    "    stations_path = \"data/wcctci_stations-updated.csv\"\n",
    "    distances_path = \"data/wcctci_coord_distances.csv\"\n",
    "    \n",
    "    for n in range(0, number_of_iterations):\n",
    "        \n",
    "        #reset the variables for the next iteration\n",
    "        if n==0:\n",
    "            stations_path = \"data/wcctci_stations-updated.csv\"\n",
    "            distances_path = \"data/wcctci_coord_distances.csv\"\n",
    "        else:\n",
    "            stations_path = \"data/algorithm_\"+str(n)+\"_stations.csv\"\n",
    "            distances_path = \"data/algorithm_\"+str(n)+\"_distances.csv\"\n",
    "        name = basename+\"_scenario\"+str(s)+\"_algorithm_\"+str(n)\n",
    "        \n",
    "        ### run and print metrics\n",
    "        sim = Simulation(name, stations_path, distances_path, simulation_length, battery_interval, kwh_per_km, battery_capacity, saving_path)\n",
    "        sim.add_demand_nodes()\n",
    "        success = True\n",
    "        try:\n",
    "            sim.run()\n",
    "            print_results(sim, scenario, s, n, success)\n",
    "        except Exception as e: \n",
    "            print(e)\n",
    "            success = False\n",
    "            print_results(sim, scenario, s, n, success)\n",
    "            continue # don't attempt data analysis on failed iteration, but continue loop\n",
    "\n",
    "        ### get station utilization\n",
    "\n",
    "        #get the station ids in order \n",
    "        current_stations = [int(j) for j in sim.station_g.nodes]\n",
    "\n",
    "#         #get the utilization rate of the stations\n",
    "#         utilization = sim.metrics['station_utilization']\n",
    "        \n",
    "        # Alternative utilization calculation \n",
    "        utilization = get_utilization(sim)\n",
    "        \n",
    "        avg_utilization = {}\n",
    "        for node in current_stations:\n",
    "            avg_utilization[node] = 0\n",
    "            for i in range(len(utilization)):\n",
    "                use_i = utilization[i]\n",
    "                try:\n",
    "                    avg_utilization[node] += use_i[str(node)]\n",
    "                except:\n",
    "                    avg_utilization[node] += 0\n",
    "\n",
    "            avg_utilization[node] = avg_utilization[node]/len(utilization)\n",
    "\n",
    "        utilization = [i for i in avg_utilization.values()]\n",
    "\n",
    "        #get the station that has the highest utilization.\n",
    "        h_st = current_stations[np.argmax(utilization)]\n",
    "\n",
    "        #get the station that has the lowest utilization.\n",
    "        l_st = current_stations[np.argmin(utilization)]\n",
    "\n",
    "        print(\"Highest:\", h_st)\n",
    "        print(\"Lowest:\", l_st)\n",
    "        print(\"________________________________________\")\n",
    "        \n",
    "        # record the results (including highest + lowest utilized nodes)\n",
    "        if success == True:\n",
    "            result = [s, n, scenario[0], scenario[1], scenario[2], True,\n",
    "            sim.metrics['station_utilization_disp_of_avg'], sim.metrics['station_utilization_avg_of_disp'], \n",
    "            sim.metrics['electricity'], sim.metrics['percent_delay'],\n",
    "            sim.metrics['hours_spent_in_queues'], sim.metrics['hours_spent_charging'],\n",
    "            h_st, l_st, \n",
    "           nx.number_strongly_connected_components(sim.battery_g), nx.number_weakly_connected_components(sim.battery_g)]\n",
    "        else:\n",
    "            result = [s, n, scenario[0], scenario[1], scenario[2], False, None, None, None, None, None, None, None, None, None, None]\n",
    "        results.append(result)\n",
    "        \n",
    "        # If that was the last iteration, do not do prep for next iteration\n",
    "        if n==number_of_iterations-1:\n",
    "            break\n",
    "        \n",
    "        ### Find the unused location that is closest to the highly utilized station\n",
    "\n",
    "        #get the map of all parking areas and stations\n",
    "        full_map_dist = pd.read_csv(\"data/charging_parking_distances_pemsingested.csv\")\n",
    "        full_map_loc = pd.read_csv(\"data/charging_parking_stations.csv\")\n",
    "\n",
    "        #keep only the roads that start or end with the high utilization station\n",
    "        h_map = full_map_dist[(full_map_dist.loc[:, 'OriginID'] == h_st) | (full_map_dist.loc[:, 'DestinationID'] == h_st)]\n",
    "\n",
    "        #then we eliminate all of the stations that are already being used.\n",
    "        using_st = current_stations.copy()\n",
    "        using_st.remove(h_st)\n",
    "        h_map = h_map[(~ h_map.loc[:, 'OriginID'].isin(using_st)) & (~ h_map.loc[:, 'DestinationID'].isin(using_st))]\n",
    "\n",
    "        #then we remove the case where we go from h_st to h_st\n",
    "        h_map = h_map[~ ((h_map.loc[:, 'OriginID'] == h_st) & (h_map.loc[:, 'DestinationID'] == h_st))]\n",
    "\n",
    "        #find the shortest edge. If there is more than one, we choose the first one that comes up (hence the 'reset_index' and [0] bellow)\n",
    "\n",
    "        new_origin = h_map[h_map.Total_TravelTime==h_map.Total_TravelTime.min()].reset_index()['OriginID'][0]\n",
    "        new_destination = h_map[h_map.Total_TravelTime==h_map.Total_TravelTime.min()].reset_index()['DestinationID'][0]\n",
    "\n",
    "        #one of the two will be h_st and the other will be the new station location. \n",
    "        if new_origin == h_st:\n",
    "            new_station = new_destination\n",
    "        else:\n",
    "            new_station = new_origin\n",
    "\n",
    "        print(\"New Station:\", new_station)\n",
    "        ### create the new maps with the locations and the distances of the stations that we will be using next\n",
    "\n",
    "        new_stations_list = current_stations + [new_station]\n",
    "        new_stations_list.remove(l_st)\n",
    "\n",
    "        #now we reduce these to the new set of stations. All origins and destinations should be in this list.\n",
    "        new_map_dist = full_map_dist[(full_map_dist.loc[:, 'OriginID'].isin(new_stations_list)) & (full_map_dist.loc[:, 'DestinationID'].isin(new_stations_list))]\n",
    "        new_map_loc = full_map_loc[full_map_loc.loc[:, 'OID_'].isin(new_stations_list)]\n",
    "\n",
    "        #we add the charging rates and capacity- assuming that they are the same as the others (set to 45 and 8)\n",
    "        #TO DO: check this\n",
    "        new_map_loc['charging_rate'] = scenario[0]\n",
    "        new_map_loc['physical_capacity'] = 8\n",
    "\n",
    "        #we change the snapX and snapY columns to lon and lat \n",
    "        new_map_loc = new_map_loc.rename(columns = {'SnapX': 'longitude', 'SnapY': 'latitude'})\n",
    "\n",
    "        #now we save them. \n",
    "        new_map_loc.to_csv(\"data/algorithm_\"+str(n+1)+\"_stations.csv\") \n",
    "        new_map_dist.to_csv(\"data/algorithm_\"+str(n+1)+\"_distances.csv\")\n",
    "        \n",
    "\n",
    "pd.DataFrame(results).to_csv(saving_path+basename+\".csv\")"
   ]
  },
  {
   "cell_type": "code",
   "execution_count": 5,
   "id": "c605678f",
   "metadata": {
    "scrolled": true
   },
   "outputs": [
    {
     "data": {
      "text/plain": [
       "[0.0,\n",
       " 0.7458333333333333,\n",
       " 0.0,\n",
       " 0.0,\n",
       " 0.25416666666666665,\n",
       " 0.03958333333333333,\n",
       " 0.75,\n",
       " 0.96875,\n",
       " 0.29375,\n",
       " 0.39375,\n",
       " 0.0,\n",
       " 0.03958333333333333,\n",
       " 0.0,\n",
       " 0.0,\n",
       " 0.0,\n",
       " 0.0,\n",
       " 0.0875,\n",
       " 0.0,\n",
       " 0.19583333333333333,\n",
       " 0.0,\n",
       " 0.0,\n",
       " 0.17291666666666666,\n",
       " 0.0875,\n",
       " 0.07916666666666666,\n",
       " 0.27708333333333335,\n",
       " 0.0,\n",
       " 0.3416666666666667,\n",
       " 0.35625,\n",
       " 0.03333333333333333,\n",
       " 0.0,\n",
       " 0.05,\n",
       " 0.0,\n",
       " 0.016666666666666666,\n",
       " 0.0,\n",
       " 0.26875,\n",
       " 0.23333333333333334,\n",
       " 0.0,\n",
       " 0.0,\n",
       " 0.225,\n",
       " 0.07291666666666667,\n",
       " 0.46458333333333335,\n",
       " 0.0,\n",
       " 0.10833333333333334]"
      ]
     },
     "execution_count": 5,
     "metadata": {},
     "output_type": "execute_result"
    }
   ],
   "source": [
    "utilization"
   ]
  },
  {
   "cell_type": "code",
   "execution_count": null,
   "id": "59ae31df",
   "metadata": {},
   "outputs": [],
   "source": [
    "# avg_utilization = {}\n",
    "# for node in current_stations:\n",
    "#     avg_utilization[node] = 0\n",
    "#     for i in range(len(utilization)):\n",
    "#         use_i = utilization[i]\n",
    "#         try:\n",
    "#             avg_utilization[node] += use_i[str(node)]\n",
    "#         except:\n",
    "#             avg_utilization[node] += 0\n",
    "    \n",
    "#     avg_utilization[node] = avg_utilization[node]/len(utilization)\n",
    "\n",
    "# utilization_list = [i for i in avg_utilization.values()]"
   ]
  },
  {
   "cell_type": "markdown",
   "id": "d8e445d9",
   "metadata": {},
   "source": [
    "## Bellow this is  just code I used to think about/ build the algorithm above (Just ignore).\n",
    "### I was thinking about just one iteration, starting from the wcctci pickle."
   ]
  },
  {
   "cell_type": "code",
   "execution_count": null,
   "id": "ecc00961",
   "metadata": {},
   "outputs": [],
   "source": [
    "#open the pickle\n",
    "with open('trials/wcctci_04_04_2022_12_15_28.pkl', 'rb') as inp:\n",
    "    res = pickle.load(inp)"
   ]
  },
  {
   "cell_type": "markdown",
   "id": "91560706",
   "metadata": {},
   "source": [
    "Get the highest and lowest utilized stations:"
   ]
  },
  {
   "cell_type": "code",
   "execution_count": null,
   "id": "2887bbae",
   "metadata": {},
   "outputs": [],
   "source": [
    "#get station utilization\n",
    "\n",
    "#get the station ids in order \n",
    "current_stations = list(res.station_g.nodes)\n",
    "\n",
    "#get the utilization rate of the stations\n",
    "utilization = res.metrics['station_utilization']\n",
    "\n",
    "#get the station that has the highest utilization.\n",
    "h_st = current_stations[np.argmax(utilization)]\n",
    "\n",
    "#get the station that has the lowest utilization.\n",
    "l_st = current_stations[np.argmin(utilization)]"
   ]
  },
  {
   "cell_type": "markdown",
   "id": "42b52f0a",
   "metadata": {},
   "source": [
    "Find the unused location that is closest to the highly utilized station:"
   ]
  },
  {
   "cell_type": "code",
   "execution_count": null,
   "id": "634f88f5",
   "metadata": {},
   "outputs": [],
   "source": [
    "#get the map of all parking areas and stations\n",
    "full_map_dist = pd.read_csv(\"data/charging_parking_distances.csv\")\n",
    "\n",
    "#keep only the roads that start or end with the high utilization station\n",
    "h_map = full_map_dist[(full_map_dist.loc[:, 'OriginID'] == h_st) | (full_map_dist.loc[:, 'DestinationID'] == h_st)]\n",
    "\n",
    "#then we eliminate all of the stations that are already being used.\n",
    "using_st = current_stations.copy()\n",
    "using_st.remove(h_st)\n",
    "h_map = h_map[(~ h_map.loc[:, 'OriginID'].isin(using_st)) & (~ h_map.loc[:, 'DestinationID'].isin(using_st))]\n",
    "\n",
    "#then we remove the case where we go from h_st to h_st\n",
    "h_map = h_map[~ ((h_map.loc[:, 'OriginID'] == h_st) & (h_map.loc[:, 'DestinationID'] == h_st))]\n",
    "\n",
    "#find the shortest edge. If there is more than one, we choose the first one that comes up (hence the 'reset_index' and [0] bellow)\n",
    "\n",
    "new_origin = h_map[h_map.Total_TravelTime==h_map.Total_TravelTime.min()].reset_index()['OriginID'][0]\n",
    "new_destination = h_map[h_map.Total_TravelTime==h_map.Total_TravelTime.min()].reset_index()['DestinationID'][0]\n",
    "\n",
    "#one of the two will be h_st and the other will be the new station location. \n",
    "if new_origin == h_st:\n",
    "    new_station = new_destination\n",
    "else:\n",
    "    new_station = new_origin"
   ]
  },
  {
   "cell_type": "markdown",
   "id": "135323d6",
   "metadata": {},
   "source": [
    "Now we start to think about re-runing the simulation with this swap (taking out l_st and adding new_station). To do this, we need to create a new map with the locations and the distances of the stations that we will be using next."
   ]
  },
  {
   "cell_type": "code",
   "execution_count": null,
   "id": "ac180c97",
   "metadata": {},
   "outputs": [],
   "source": [
    "new_stations_list = current_stations + [new_station]"
   ]
  },
  {
   "cell_type": "code",
   "execution_count": null,
   "id": "e3446cb6",
   "metadata": {},
   "outputs": [],
   "source": [
    "#we have \"full_map_dist\" (distances map)\n",
    "#and we need the locations map\n",
    "full_map_loc = pd.read_csv(\"data/charging_parking_stations.csv\")\n",
    "\n",
    "#now we reduce these to the new set of stations. All origins and destinations should be in this list.\n",
    "new_map_dist = full_map_dist[(full_map_dist.loc[:, 'OriginID'].isin(new_stations_list)) & (full_map_dist.loc[:, 'DestinationID'].isin(new_stations_list))]\n",
    "new_map_loc = full_map_loc[(full_map_loc.loc[:, 'OriginID'].isin(new_stations_list)) & (full_map_loc.loc[:, 'DestinationID'].isin(new_stations_list))]"
   ]
  },
  {
   "cell_type": "code",
   "execution_count": null,
   "id": "df54e7f5",
   "metadata": {},
   "outputs": [],
   "source": [
    "#now we save them. \n",
    "new_map_loc.to_csv(\"data/algorithm_\"+str(1)+\"_stations.csv\") ########change the 1\n",
    "new_map_dist.to_csv(\"data/algorithm_\"+str(1)+\"_distances.csv\")"
   ]
  },
  {
   "cell_type": "markdown",
   "id": "e5aaee2b",
   "metadata": {},
   "source": [
    "Now we can run the next simulation"
   ]
  },
  {
   "cell_type": "code",
   "execution_count": null,
   "id": "99c13442",
   "metadata": {},
   "outputs": [],
   "source": [
    "simulation_length = 12\n",
    "battery_interval = 20\n",
    "km_per_percent = 3.13\n",
    "\n",
    "sim = Simulation(\"data/algorithm_\"+str(1)+\"_stations.csv\", \"data/algorithm_\"+str(1)+\"_distances.csv\", simulation_length, battery_interval, km_per_percent)"
   ]
  },
  {
   "cell_type": "markdown",
   "id": "08db5eeb",
   "metadata": {},
   "source": [
    "# Anna"
   ]
  },
  {
   "cell_type": "code",
   "execution_count": null,
   "id": "aa713156",
   "metadata": {},
   "outputs": [],
   "source": [
    "stations_path = \"data/wcctci_stations-updated.csv\"\n",
    "distances_path = \"data/wcctci_coord_distances.csv\"\n",
    "# stations_df, distances_df = select_dataset(stations_csv_path, distances_csv_path)\n",
    "# station_g = get_station_g(stations_df, distances_df)\n",
    "# battery_g = layer_graph(station_g, 20, km_per_percent= 1.9)\n",
    "simulation_length = 24\n",
    "battery_interval = 20\n",
    "kwh_per_km = 1.9\n",
    "battery_capacity = 215\n",
    "name = 'hi'\n",
    "sim = Simulation(name, stations_path, distances_path, simulation_length, battery_interval, kwh_per_km, battery_capacity)\n",
    "sim.add_demand_nodes()"
   ]
  },
  {
   "cell_type": "code",
   "execution_count": null,
   "id": "171b8748",
   "metadata": {},
   "outputs": [],
   "source": [
    "sim.battery_g.nodes"
   ]
  },
  {
   "cell_type": "code",
   "execution_count": null,
   "id": "00638c0d",
   "metadata": {},
   "outputs": [],
   "source": [
    "nx.shortest_path(sim.battery_g, \"Long Beach\", \"Reno\")"
   ]
  },
  {
   "cell_type": "code",
   "execution_count": null,
   "id": "10798fad",
   "metadata": {},
   "outputs": [],
   "source": []
  }
 ],
 "metadata": {
  "kernelspec": {
   "display_name": "Python 3 (ipykernel)",
   "language": "python",
   "name": "python3"
  },
  "language_info": {
   "codemirror_mode": {
    "name": "ipython",
    "version": 3
   },
   "file_extension": ".py",
   "mimetype": "text/x-python",
   "name": "python",
   "nbconvert_exporter": "python",
   "pygments_lexer": "ipython3",
   "version": "3.8.8"
  }
 },
 "nbformat": 4,
 "nbformat_minor": 5
}
