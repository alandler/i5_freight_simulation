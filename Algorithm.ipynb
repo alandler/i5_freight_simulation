{
 "cells": [
  {
   "cell_type": "code",
   "execution_count": 1,
   "metadata": {},
   "outputs": [],
   "source": [
    "from multiprocessing.sharedctypes import Value\n",
    "import networkx as nx\n",
    "import numpy as np\n",
    "import random\n",
    "import pandas as pd\n",
    "\n",
    "from tqdm import tqdm\n",
    "from datetime import datetime\n",
    "import pickle\n",
    "\n",
    "# File imports\n",
    "import data\n",
    "from data import select_dataset, get_station_g, ingest_electricity_data, set_random_speed_columns, ingest_pems\n",
    "from replicate_graph import layer_graph\n",
    "from vehicle import Vehicle\n",
    "from simulation import Simulation\n",
    "from visualization import set_draw_attributes"
   ]
  },
  {
   "cell_type": "markdown",
   "metadata": {},
   "source": [
    "## Ingest pems for the whole graph (all charging and parking stops)\n",
    "### commented out because it only needs to be done once. Csv already saved."
   ]
  },
  {
   "cell_type": "code",
   "execution_count": 2,
   "metadata": {},
   "outputs": [],
   "source": [
    "# all_graph = ingest_pems(\"data/charging_parking_stations_lonlat.csv\", \"data/charging_parking_distances.csv\")"
   ]
  },
  {
   "cell_type": "code",
   "execution_count": 3,
   "metadata": {},
   "outputs": [],
   "source": [
    "# #save the new csv with all the speeds (from pems ingest above), which will be used for the algorithm\n",
    "# all_graph[1].to_csv(\"data/charging_parking_distances_pemsingested.csv\")"
   ]
  },
  {
   "cell_type": "markdown",
   "metadata": {},
   "source": [
    "## Run the algorithm"
   ]
  },
  {
   "cell_type": "code",
   "execution_count": 4,
   "metadata": {
    "scrolled": false
   },
   "outputs": [
    {
     "name": "stdout",
     "output_type": "stream",
     "text": [
      "------- SCENARIO 0 -------\n",
      "km_per_percent get_station_g:  4.526315789473684\n",
      "Strongly connected components: 3\n",
      "Weakly connected components: 1\n",
      "Weakly connected?: True\n"
     ]
    },
    {
     "name": "stderr",
     "output_type": "stream",
     "text": [
      "100%|██████████| 12/12 [00:34<00:00,  2.85s/it]\n"
     ]
    },
    {
     "name": "stdout",
     "output_type": "stream",
     "text": [
      "name:  scenario0_wcctci\n",
      "success:  True\n",
      "station_utilization_disp_of_avg:   4.2078125\n",
      "station_utilization_avg_of_disp:   4.2421875\n",
      "electricity:   0\n",
      "percent_delay:   (1.0, 1.0, 1.4710974478242813, 1.0599016205399288, 0.0891474093331351)\n",
      "hours_spent_in_queues:   (0.0, 0.0, 1.8, 0.014065934065934068, 0.12640400972547103)\n",
      "hours_spent_charging:   (0, 0.0, 14, 0.4717948717948718, 2.0131734834350308)\n",
      "________________________________________\n"
     ]
    },
    {
     "name": "stderr",
     "output_type": "stream",
     "text": [
      "/Users/alandler/.local/lib/python3.7/site-packages/ipykernel_launcher.py:112: SettingWithCopyWarning: \n",
      "A value is trying to be set on a copy of a slice from a DataFrame.\n",
      "Try using .loc[row_indexer,col_indexer] = value instead\n",
      "\n",
      "See the caveats in the documentation: https://pandas.pydata.org/pandas-docs/stable/user_guide/indexing.html#returning-a-view-versus-a-copy\n",
      "/Users/alandler/.local/lib/python3.7/site-packages/ipykernel_launcher.py:113: SettingWithCopyWarning: \n",
      "A value is trying to be set on a copy of a slice from a DataFrame.\n",
      "Try using .loc[row_indexer,col_indexer] = value instead\n",
      "\n",
      "See the caveats in the documentation: https://pandas.pydata.org/pandas-docs/stable/user_guide/indexing.html#returning-a-view-versus-a-copy\n"
     ]
    },
    {
     "name": "stdout",
     "output_type": "stream",
     "text": [
      "km_per_percent get_station_g:  4.526315789473684\n",
      "Strongly connected components: 2\n",
      "Weakly connected components: 1\n",
      "Weakly connected?: True\n"
     ]
    },
    {
     "name": "stderr",
     "output_type": "stream",
     "text": [
      "100%|██████████| 12/12 [00:33<00:00,  2.78s/it]\n"
     ]
    },
    {
     "name": "stdout",
     "output_type": "stream",
     "text": [
      "name:  anna_reverse_scenario_0_algorithm_1\n",
      "success:  True\n",
      "station_utilization_disp_of_avg:   1.6414062500000002\n",
      "station_utilization_avg_of_disp:   1.6643229166666667\n",
      "electricity:   0\n",
      "percent_delay:   (1.002158683147895, 1.5145416477224547, 2.0078987166815576, 1.4716589191379865, 0.2260874535757049)\n",
      "hours_spent_in_queues:   (0.0, 0.0, 0.2, 0.00020222446916076846, 0.0063564140123363805)\n",
      "hours_spent_charging:   (0, 0.0, 5, 0.13751263902932254, 0.6873832513000725)\n",
      "________________________________________\n",
      "km_per_percent get_station_g:  4.526315789473684\n",
      "Strongly connected components: 2\n",
      "Weakly connected components: 1\n",
      "Weakly connected?: True\n"
     ]
    },
    {
     "name": "stderr",
     "output_type": "stream",
     "text": [
      "100%|██████████| 12/12 [00:34<00:00,  2.90s/it]\n"
     ]
    },
    {
     "name": "stdout",
     "output_type": "stream",
     "text": [
      "name:  anna_reverse_scenario_0_algorithm_2\n",
      "success:  True\n",
      "station_utilization_disp_of_avg:   1.4354166666666666\n",
      "station_utilization_avg_of_disp:   1.4713541666666667\n",
      "electricity:   0\n",
      "percent_delay:   (1.002158683147895, 1.4872320022505214, 1.853444969244515, 1.4723268100179099, 0.2436885133777327)\n",
      "hours_spent_in_queues:   (0.0, 0.0, 0.2, 0.0004153686396677051, 0.00910500943583924)\n",
      "hours_spent_charging:   (0, 0.0, 5, 0.142263759086189, 0.7100450200030589)\n",
      "________________________________________\n",
      "km_per_percent get_station_g:  4.526315789473684\n",
      "Strongly connected components: 2\n",
      "Weakly connected components: 1\n",
      "Weakly connected?: True\n"
     ]
    },
    {
     "name": "stderr",
     "output_type": "stream",
     "text": [
      "100%|██████████| 12/12 [00:33<00:00,  2.78s/it]\n"
     ]
    },
    {
     "name": "stdout",
     "output_type": "stream",
     "text": [
      "name:  anna_reverse_scenario_0_algorithm_3\n",
      "success:  True\n",
      "station_utilization_disp_of_avg:   1.509375\n",
      "station_utilization_avg_of_disp:   1.5197916666666667\n",
      "electricity:   0\n",
      "percent_delay:   (1.002158683147895, 1.5149561477934077, 1.853444969244515, 1.465053520801235, 0.22500373452643085)\n",
      "hours_spent_in_queues:   (0.0, 0.0, 0.4, 0.0016684045881126175, 0.022310038156940694)\n",
      "hours_spent_charging:   (0, 0.0, 5, 0.12408759124087591, 0.6682378244560225)\n",
      "________________________________________\n",
      "km_per_percent get_station_g:  4.526315789473684\n",
      "Strongly connected components: 3\n",
      "Weakly connected components: 1\n",
      "Weakly connected?: True\n"
     ]
    },
    {
     "name": "stderr",
     "output_type": "stream",
     "text": [
      "100%|██████████| 12/12 [00:35<00:00,  2.94s/it]\n"
     ]
    },
    {
     "name": "stdout",
     "output_type": "stream",
     "text": [
      "name:  anna_reverse_scenario_0_algorithm_4\n",
      "success:  True\n",
      "station_utilization_disp_of_avg:   1.53125\n",
      "station_utilization_avg_of_disp:   1.5390625\n",
      "electricity:   0\n",
      "percent_delay:   (1.002158683147895, 1.4386600249171801, 1.9937192309169136, 1.4118310079936842, 0.24615116725015398)\n",
      "hours_spent_in_queues:   (0.0, 0.0, 1.0, 0.0028629856850715747, 0.04945493952102686)\n",
      "hours_spent_charging:   (0, 0.0, 5, 0.11860940695296524, 0.623534116361998)\n",
      "________________________________________\n",
      "km_per_percent get_station_g:  4.526315789473684\n",
      "Strongly connected components: 3\n",
      "Weakly connected components: 1\n",
      "Weakly connected?: True\n"
     ]
    },
    {
     "name": "stderr",
     "output_type": "stream",
     "text": [
      "100%|██████████| 12/12 [00:36<00:00,  3.02s/it]\n"
     ]
    },
    {
     "name": "stdout",
     "output_type": "stream",
     "text": [
      "name:  anna_reverse_scenario_0_algorithm_5\n",
      "success:  True\n",
      "station_utilization_disp_of_avg:   1.3432291666666667\n",
      "station_utilization_avg_of_disp:   1.3432291666666667\n",
      "electricity:   0\n",
      "percent_delay:   (1.002158683147895, 1.4773033527667483, 2.1623524641186007, 1.4810040462362861, 0.33445740975126964)\n",
      "hours_spent_in_queues:   (0.0, 0.0, 0.6, 0.0012725344644750796, 0.027602560292874473)\n",
      "hours_spent_charging:   (0, 0.0, 4, 0.11240721102863202, 0.6196540919498269)\n",
      "________________________________________\n",
      "------- SCENARIO 1 -------\n",
      "km_per_percent get_station_g:  2.263157894736842\n",
      "Strongly connected components: 27\n",
      "Weakly connected components: 1\n",
      "Weakly connected?: True\n"
     ]
    },
    {
     "name": "stderr",
     "output_type": "stream",
     "text": [
      "100%|██████████| 12/12 [00:38<00:00,  3.19s/it]\n"
     ]
    },
    {
     "name": "stdout",
     "output_type": "stream",
     "text": [
      "name:  scenario1_wcctci\n",
      "success:  True\n",
      "station_utilization_disp_of_avg:   10.174479166666666\n",
      "station_utilization_avg_of_disp:   10.22734375\n",
      "electricity:   0\n",
      "percent_delay:   (1.0, 1.1091887087604793, 2.909801761339571, 1.1785974589290338, 0.2377156580405061)\n",
      "hours_spent_in_queues:   (0.0, 0.0, 4.4, 0.07370838117106775, 0.33051454497769245)\n",
      "hours_spent_charging:   (0, 0.0, 28, 0.9104477611940298, 2.8556980574592847)\n",
      "________________________________________\n",
      "km_per_percent get_station_g:  2.263157894736842\n",
      "Strongly connected components: 27\n",
      "Weakly connected components: 1\n",
      "Weakly connected?: True\n"
     ]
    },
    {
     "name": "stderr",
     "output_type": "stream",
     "text": [
      "100%|██████████| 12/12 [00:38<00:00,  3.19s/it]\n"
     ]
    },
    {
     "name": "stdout",
     "output_type": "stream",
     "text": [
      "name:  anna_reverse_scenario_1_algorithm_1\n",
      "success:  True\n",
      "station_utilization_disp_of_avg:   7.013541666666667\n",
      "station_utilization_avg_of_disp:   7.04375\n",
      "electricity:   0\n",
      "percent_delay:   (1.002158683147895, 1.5713507080288427, 3.3624375703055263, 1.5736983183728874, 0.4036269731303389)\n",
      "hours_spent_in_queues:   (0.0, 0.0, 4.2, 0.05037481259370315, 0.3332350321499098)\n",
      "hours_spent_charging:   (0, 0.0, 15, 0.800599700149925, 2.4070360879753134)\n",
      "________________________________________\n",
      "km_per_percent get_station_g:  2.263157894736842\n",
      "Strongly connected components: 27\n",
      "Weakly connected components: 1\n",
      "Weakly connected?: True\n"
     ]
    },
    {
     "name": "stderr",
     "output_type": "stream",
     "text": [
      "100%|██████████| 12/12 [00:34<00:00,  2.92s/it]\n"
     ]
    },
    {
     "name": "stdout",
     "output_type": "stream",
     "text": [
      "name:  anna_reverse_scenario_1_algorithm_2\n",
      "success:  True\n",
      "station_utilization_disp_of_avg:   6.774479166666667\n",
      "station_utilization_avg_of_disp:   6.808333333333334\n",
      "electricity:   0\n",
      "percent_delay:   (1.002158683147895, 1.6159532243129682, 2.5237265609765283, 1.5952922932814766, 0.3819889096167845)\n",
      "hours_spent_in_queues:   (0.0, 0.0, 2.2, 0.07387140902872777, 0.3012308174011865)\n",
      "hours_spent_charging:   (0, 0.0, 15, 0.9316005471956225, 2.56157548865465)\n",
      "________________________________________\n",
      "km_per_percent get_station_g:  2.263157894736842\n",
      "Strongly connected components: 28\n",
      "Weakly connected components: 1\n",
      "Weakly connected?: True\n"
     ]
    },
    {
     "name": "stderr",
     "output_type": "stream",
     "text": [
      "100%|██████████| 12/12 [00:35<00:00,  2.99s/it]\n"
     ]
    },
    {
     "name": "stdout",
     "output_type": "stream",
     "text": [
      "name:  anna_reverse_scenario_1_algorithm_3\n",
      "success:  True\n",
      "station_utilization_disp_of_avg:   7.018229166666666\n",
      "station_utilization_avg_of_disp:   7.080729166666667\n",
      "electricity:   0\n",
      "percent_delay:   (1.002158683147895, 1.5713507080288427, 2.585280867341809, 1.5742786060378686, 0.40163965358928255)\n",
      "hours_spent_in_queues:   (0.0, 0.0, 2.6, 0.05278219395866455, 0.2603887003981309)\n",
      "hours_spent_charging:   (0, 0.0, 15, 0.6820349761526232, 2.1826046615167396)\n",
      "________________________________________\n",
      "km_per_percent get_station_g:  2.263157894736842\n",
      "Strongly connected components: 28\n",
      "Weakly connected components: 1\n",
      "Weakly connected?: True\n"
     ]
    },
    {
     "name": "stderr",
     "output_type": "stream",
     "text": [
      "100%|██████████| 12/12 [00:36<00:00,  3.05s/it]\n"
     ]
    },
    {
     "name": "stdout",
     "output_type": "stream",
     "text": [
      "name:  anna_reverse_scenario_1_algorithm_4\n",
      "success:  True\n",
      "station_utilization_disp_of_avg:   7.439583333333333\n",
      "station_utilization_avg_of_disp:   7.489322916666667\n",
      "electricity:   0\n",
      "percent_delay:   (1.002158683147895, 1.5713507080288427, 2.521828177729145, 1.615880663327052, 0.3995670041012008)\n",
      "hours_spent_in_queues:   (0.0, 0.0, 2.2, 0.05602409638554217, 0.25927349730991794)\n",
      "hours_spent_charging:   (0, 0.0, 19, 0.7048192771084337, 2.1870871652826405)\n",
      "________________________________________\n",
      "km_per_percent get_station_g:  2.263157894736842\n",
      "Strongly connected components: 26\n",
      "Weakly connected components: 1\n",
      "Weakly connected?: True\n"
     ]
    },
    {
     "name": "stderr",
     "output_type": "stream",
     "text": [
      "100%|██████████| 12/12 [00:35<00:00,  2.93s/it]\n"
     ]
    },
    {
     "name": "stdout",
     "output_type": "stream",
     "text": [
      "name:  anna_reverse_scenario_1_algorithm_5\n",
      "success:  True\n",
      "station_utilization_disp_of_avg:   7.782552083333333\n",
      "station_utilization_avg_of_disp:   7.81796875\n",
      "electricity:   0\n",
      "percent_delay:   (1.002158683147895, 1.5713507080288427, 2.8454051548803583, 1.6045383488710403, 0.4001452472863465)\n",
      "hours_spent_in_queues:   (0.0, 0.0, 4.0, 0.07717842323651453, 0.38887261953400626)\n",
      "hours_spent_charging:   (0, 0.0, 15, 0.8547717842323651, 2.4914101494896026)\n",
      "________________________________________\n",
      "------- SCENARIO 2 -------\n",
      "km_per_percent get_station_g:  2.263157894736842\n",
      "Strongly connected components: 27\n",
      "Weakly connected components: 1\n",
      "Weakly connected?: True\n"
     ]
    },
    {
     "name": "stderr",
     "output_type": "stream",
     "text": [
      "100%|██████████| 12/12 [00:35<00:00,  2.92s/it]\n"
     ]
    },
    {
     "name": "stdout",
     "output_type": "stream",
     "text": [
      "name:  scenario2_wcctci\n",
      "success:  True\n",
      "station_utilization_disp_of_avg:   11.009114583333332\n",
      "station_utilization_avg_of_disp:   11.052604166666667\n",
      "electricity:   0\n",
      "percent_delay:   (1.0, 1.1091887087604793, 2.909801761339571, 1.2074996321215663, 0.2755616890986382)\n",
      "hours_spent_in_queues:   (0.0, 0.0, 4.6, 0.12049830124575311, 0.4699569638226024)\n",
      "hours_spent_charging:   (0, 0.0, 28, 1.0532276330690826, 3.1325020123829064)\n",
      "________________________________________\n",
      "km_per_percent get_station_g:  2.263157894736842\n",
      "Strongly connected components: 27\n",
      "Weakly connected components: 1\n",
      "Weakly connected?: True\n"
     ]
    },
    {
     "name": "stderr",
     "output_type": "stream",
     "text": [
      "100%|██████████| 12/12 [00:35<00:00,  3.00s/it]\n"
     ]
    },
    {
     "name": "stdout",
     "output_type": "stream",
     "text": [
      "name:  anna_reverse_scenario_2_algorithm_1\n",
      "success:  True\n",
      "station_utilization_disp_of_avg:   7.104947916666666\n",
      "station_utilization_avg_of_disp:   7.1921875\n",
      "electricity:   0\n",
      "percent_delay:   (1.002158683147895, 1.5713507080288427, 3.2977753093381126, 1.6014484715482484, 0.41951610076876444)\n",
      "hours_spent_in_queues:   (0.0, 0.0, 4.0, 0.04311377245508982, 0.24990514174422207)\n",
      "hours_spent_charging:   (0, 0.0, 19, 0.9805389221556886, 2.751903806433341)\n",
      "________________________________________\n",
      "km_per_percent get_station_g:  2.263157894736842\n",
      "Strongly connected components: 27\n",
      "Weakly connected components: 1\n",
      "Weakly connected?: True\n"
     ]
    },
    {
     "name": "stderr",
     "output_type": "stream",
     "text": [
      "100%|██████████| 12/12 [00:35<00:00,  2.95s/it]\n"
     ]
    },
    {
     "name": "stdout",
     "output_type": "stream",
     "text": [
      "name:  anna_reverse_scenario_2_algorithm_2\n",
      "success:  True\n",
      "station_utilization_disp_of_avg:   6.8640625\n",
      "station_utilization_avg_of_disp:   6.885677083333333\n",
      "electricity:   0\n",
      "percent_delay:   (1.002158683147895, 1.6159532243129682, 2.5864904386965586, 1.5752268274576489, 0.386284061566045)\n",
      "hours_spent_in_queues:   (0.0, 0.0, 2.4, 0.048484848484848485, 0.231348731011037)\n",
      "hours_spent_charging:   (0, 0.0, 15, 0.8556998556998557, 2.35811514771534)\n",
      "________________________________________\n",
      "km_per_percent get_station_g:  2.263157894736842\n",
      "Strongly connected components: 28\n",
      "Weakly connected components: 1\n",
      "Weakly connected?: True\n"
     ]
    },
    {
     "name": "stderr",
     "output_type": "stream",
     "text": [
      "100%|██████████| 12/12 [00:40<00:00,  3.39s/it]\n"
     ]
    },
    {
     "name": "stdout",
     "output_type": "stream",
     "text": [
      "name:  anna_reverse_scenario_2_algorithm_3\n",
      "success:  True\n",
      "station_utilization_disp_of_avg:   7.40390625\n",
      "station_utilization_avg_of_disp:   7.461458333333334\n",
      "electricity:   0\n",
      "percent_delay:   (1.002158683147895, 1.5713507080288427, 2.893052399168215, 1.6132390007337802, 0.4179119764813956)\n",
      "hours_spent_in_queues:   (0.0, 0.0, 3.4, 0.08650306748466258, 0.389590840493877)\n",
      "hours_spent_charging:   (0, 0.0, 14, 0.7484662576687117, 2.228079473096058)\n",
      "________________________________________\n",
      "km_per_percent get_station_g:  2.263157894736842\n",
      "Strongly connected components: 30\n",
      "Weakly connected components: 1\n",
      "Weakly connected?: True\n"
     ]
    },
    {
     "name": "stderr",
     "output_type": "stream",
     "text": [
      "100%|██████████| 12/12 [00:36<00:00,  3.02s/it]\n"
     ]
    },
    {
     "name": "stdout",
     "output_type": "stream",
     "text": [
      "name:  anna_reverse_scenario_2_algorithm_4\n",
      "success:  True\n",
      "station_utilization_disp_of_avg:   6.7140625\n",
      "station_utilization_avg_of_disp:   6.770572916666667\n",
      "electricity:   0\n",
      "percent_delay:   (1.002158683147895, 1.6159532243129682, 2.633578667615252, 1.6174442321862859, 0.42771319930202956)\n",
      "hours_spent_in_queues:   (0.0, 0.0, 2.8, 0.11732522796352582, 0.44473019108105377)\n",
      "hours_spent_charging:   (0, 0.0, 20, 0.7066869300911854, 2.137517869068948)\n",
      "________________________________________\n",
      "km_per_percent get_station_g:  2.263157894736842\n",
      "Strongly connected components: 29\n",
      "Weakly connected components: 1\n",
      "Weakly connected?: True\n"
     ]
    },
    {
     "name": "stderr",
     "output_type": "stream",
     "text": [
      "100%|██████████| 12/12 [00:39<00:00,  3.26s/it]\n"
     ]
    },
    {
     "name": "stdout",
     "output_type": "stream",
     "text": [
      "name:  anna_reverse_scenario_2_algorithm_5\n",
      "success:  True\n",
      "station_utilization_disp_of_avg:   7.319791666666667\n",
      "station_utilization_avg_of_disp:   7.349739583333333\n",
      "electricity:   0\n",
      "percent_delay:   (1.002158683147895, 1.5713507080288427, 2.9546067055334966, 1.5998439014075718, 0.4151773555289541)\n",
      "hours_spent_in_queues:   (0.0, 0.0, 4.0, 0.07810320781032078, 0.42715728694016647)\n",
      "hours_spent_charging:   (0, 0.0, 14, 0.8423988842398884, 2.517218549199473)\n",
      "________________________________________\n",
      "------- SCENARIO 3 -------\n",
      "km_per_percent get_station_g:  1.131578947368421\n",
      "Strongly connected components: 77\n",
      "Weakly connected components: 1\n",
      "Weakly connected?: True\n"
     ]
    },
    {
     "name": "stderr",
     "output_type": "stream",
     "text": [
      "100%|██████████| 12/12 [00:38<00:00,  3.17s/it]\n"
     ]
    },
    {
     "name": "stdout",
     "output_type": "stream",
     "text": [
      "name:  scenario3_wcctci\n",
      "success:  True\n",
      "station_utilization_disp_of_avg:   17.591666666666665\n",
      "station_utilization_avg_of_disp:   17.599739583333335\n",
      "electricity:   0\n",
      "percent_delay:   (1.0, 1.081176268014861, 4.984957577176104, 1.3430827771758733, 0.6820918025042746)\n",
      "hours_spent_in_queues:   (0.0, 0.0, 7.8, 0.3203647416413374, 0.9398207748544579)\n",
      "hours_spent_charging:   (0, 0.0, 26, 2.480243161094225, 6.2008239428363074)\n",
      "________________________________________\n",
      "km_per_percent get_station_g:  1.131578947368421\n",
      "Strongly connected components: 76\n",
      "Weakly connected components: 1\n",
      "Weakly connected?: True\n"
     ]
    },
    {
     "name": "stderr",
     "output_type": "stream",
     "text": [
      "100%|██████████| 12/12 [00:38<00:00,  3.25s/it]\n"
     ]
    },
    {
     "name": "stdout",
     "output_type": "stream",
     "text": [
      "name:  anna_reverse_scenario_3_algorithm_1\n",
      "success:  True\n",
      "station_utilization_disp_of_avg:   13.486979166666668\n",
      "station_utilization_avg_of_disp:   13.5421875\n",
      "electricity:   0\n",
      "percent_delay:   (1.178656224377259, 1.5445374743704288, 3.90977064103651, 1.778051897610798, 0.5500920413914795)\n",
      "hours_spent_in_queues:   (0.0, 0.0, 5.2, 0.561290322580645, 1.136296696543191)\n",
      "hours_spent_charging:   (0, 0.0, 22, 1.7038123167155426, 3.574545494963909)\n",
      "________________________________________\n",
      "km_per_percent get_station_g:  1.131578947368421\n",
      "Strongly connected components: 74\n",
      "Weakly connected components: 1\n",
      "Weakly connected?: True\n"
     ]
    },
    {
     "name": "stderr",
     "output_type": "stream",
     "text": [
      "100%|██████████| 12/12 [00:39<00:00,  3.29s/it]\n"
     ]
    },
    {
     "name": "stdout",
     "output_type": "stream",
     "text": [
      "name:  anna_reverse_scenario_3_algorithm_2\n",
      "success:  True\n",
      "station_utilization_disp_of_avg:   13.831770833333334\n",
      "station_utilization_avg_of_disp:   13.854427083333333\n",
      "electricity:   0\n",
      "percent_delay:   (1.2166331243308481, 1.5445374743704288, 4.43598408948142, 1.7074539653596872, 0.6313089712546929)\n",
      "hours_spent_in_queues:   (0.0, 0.0, 4.4, 0.41682847896440134, 1.008687974612298)\n",
      "hours_spent_charging:   (0, 0.0, 21, 1.7378640776699028, 3.8464740254065237)\n",
      "________________________________________\n",
      "km_per_percent get_station_g:  1.131578947368421\n",
      "Strongly connected components: 75\n",
      "Weakly connected components: 1\n",
      "Weakly connected?: True\n"
     ]
    },
    {
     "name": "stderr",
     "output_type": "stream",
     "text": [
      "100%|██████████| 12/12 [00:42<00:00,  3.58s/it]\n"
     ]
    },
    {
     "name": "stdout",
     "output_type": "stream",
     "text": [
      "name:  anna_reverse_scenario_3_algorithm_3\n",
      "success:  True\n",
      "station_utilization_disp_of_avg:   14.438020833333333\n",
      "station_utilization_avg_of_disp:   14.475260416666666\n",
      "electricity:   0\n",
      "percent_delay:   (1.2166331243308481, 1.5445374743704288, 4.7021431348503056, 1.724398341069482, 0.7387586477879936)\n",
      "hours_spent_in_queues:   (0.0, 0.0, 4.8, 0.4902439024390243, 1.120715119705267)\n",
      "hours_spent_charging:   (0, 0.0, 20, 1.600609756097561, 3.4210074994253272)\n",
      "________________________________________\n",
      "km_per_percent get_station_g:  1.131578947368421\n",
      "Strongly connected components: 70\n",
      "Weakly connected components: 1\n",
      "Weakly connected?: True\n"
     ]
    },
    {
     "name": "stderr",
     "output_type": "stream",
     "text": [
      "100%|██████████| 12/12 [00:38<00:00,  3.20s/it]\n"
     ]
    },
    {
     "name": "stdout",
     "output_type": "stream",
     "text": [
      "name:  anna_reverse_scenario_3_algorithm_4\n",
      "success:  True\n",
      "station_utilization_disp_of_avg:   14.152604166666666\n",
      "station_utilization_avg_of_disp:   14.189322916666667\n",
      "electricity:   0\n",
      "percent_delay:   (1.2166331243308481, 1.5445374743704288, 4.879582498429562, 1.663691119328469, 0.61135720075556)\n",
      "hours_spent_in_queues:   (0.0, 0.0, 5.0, 0.3771428571428571, 0.9216882862726173)\n",
      "hours_spent_charging:   (0, 0.0, 20, 1.9174603174603175, 3.874152838580231)\n",
      "________________________________________\n",
      "km_per_percent get_station_g:  1.131578947368421\n",
      "Strongly connected components: 70\n",
      "Weakly connected components: 2\n",
      "Weakly connected?: False\n"
     ]
    },
    {
     "name": "stderr",
     "output_type": "stream",
     "text": [
      "  0%|          | 0/12 [00:02<?, ?it/s]\n"
     ]
    },
    {
     "name": "stdout",
     "output_type": "stream",
     "text": [
      "name:  anna_reverse_scenario_3_algorithm_5\n",
      "success:  False\n",
      "------- SCENARIO 4 -------\n",
      "km_per_percent get_station_g:  1.131578947368421\n",
      "Strongly connected components: 77\n",
      "Weakly connected components: 1\n",
      "Weakly connected?: True\n"
     ]
    },
    {
     "name": "stderr",
     "output_type": "stream",
     "text": [
      "100%|██████████| 12/12 [00:39<00:00,  3.31s/it]\n"
     ]
    },
    {
     "name": "stdout",
     "output_type": "stream",
     "text": [
      "name:  scenario4_wcctci\n",
      "success:  True\n",
      "station_utilization_disp_of_avg:   18.265885416666666\n",
      "station_utilization_avg_of_disp:   18.280729166666667\n",
      "electricity:   0\n",
      "percent_delay:   (1.0, 1.081176268014861, 4.691724778518687, 1.450131222047899, 0.90540591407843)\n",
      "hours_spent_in_queues:   (0.0, 0.0, 7.2, 0.5522292993630573, 1.489884618593388)\n",
      "hours_spent_charging:   (0, 0.0, 26, 2.4936305732484074, 5.928041765678258)\n",
      "________________________________________\n",
      "km_per_percent get_station_g:  1.131578947368421\n",
      "Strongly connected components: 74\n",
      "Weakly connected components: 1\n",
      "Weakly connected?: True\n"
     ]
    },
    {
     "name": "stderr",
     "output_type": "stream",
     "text": [
      "100%|██████████| 12/12 [00:42<00:00,  3.50s/it]\n"
     ]
    },
    {
     "name": "stdout",
     "output_type": "stream",
     "text": [
      "name:  anna_reverse_scenario_4_algorithm_1\n",
      "success:  True\n",
      "station_utilization_disp_of_avg:   14.17578125\n",
      "station_utilization_avg_of_disp:   14.190364583333333\n",
      "electricity:   0\n",
      "percent_delay:   (1.178656224377259, 1.5730789851367193, 3.90977064103651, 1.7213943095521569, 0.5720431083867997)\n",
      "hours_spent_in_queues:   (0.0, 0.0, 4.8, 0.33639575971731445, 0.9307755869153251)\n",
      "hours_spent_charging:   (0, 0.0, 25, 1.8339222614840989, 4.809881740165839)\n",
      "________________________________________\n",
      "km_per_percent get_station_g:  1.131578947368421\n",
      "Strongly connected components: 72\n",
      "Weakly connected components: 1\n",
      "Weakly connected?: True\n"
     ]
    },
    {
     "name": "stderr",
     "output_type": "stream",
     "text": [
      "100%|██████████| 12/12 [00:37<00:00,  3.15s/it]\n"
     ]
    },
    {
     "name": "stdout",
     "output_type": "stream",
     "text": [
      "name:  anna_reverse_scenario_4_algorithm_2\n",
      "success:  True\n",
      "station_utilization_disp_of_avg:   15.285416666666666\n",
      "station_utilization_avg_of_disp:   15.29453125\n",
      "electricity:   0\n",
      "percent_delay:   (1.2166331243308481, 1.5730789851367193, 4.300747705140162, 1.5196762769899532, 0.49966276097080414)\n",
      "hours_spent_in_queues:   (0.0, 0.0, 5.6, 0.11693548387096774, 0.6476037436124771)\n",
      "hours_spent_charging:   (0, 0.0, 24, 0.9919354838709677, 3.8864860315273275)\n",
      "________________________________________\n",
      "km_per_percent get_station_g:  1.131578947368421\n",
      "Strongly connected components: 70\n",
      "Weakly connected components: 1\n",
      "Weakly connected?: True\n"
     ]
    },
    {
     "name": "stderr",
     "output_type": "stream",
     "text": [
      "100%|██████████| 12/12 [00:40<00:00,  3.34s/it]\n"
     ]
    },
    {
     "name": "stdout",
     "output_type": "stream",
     "text": [
      "name:  anna_reverse_scenario_4_algorithm_3\n",
      "success:  True\n",
      "station_utilization_disp_of_avg:   15.930989583333332\n",
      "station_utilization_avg_of_disp:   15.932552083333333\n",
      "electricity:   0\n",
      "percent_delay:   (1.2166331243308481, 1.5730789851367193, 5.352845055536708, 1.593142604108585, 0.6756084874205582)\n",
      "hours_spent_in_queues:   (0.0, 0.0, 6.0, 0.2559055118110236, 1.0018214547974378)\n",
      "hours_spent_charging:   (0, 0.0, 25, 1.1377952755905512, 4.107884278972144)\n",
      "________________________________________\n",
      "km_per_percent get_station_g:  1.131578947368421\n",
      "Strongly connected components: 69\n",
      "Weakly connected components: 1\n",
      "Weakly connected?: True\n"
     ]
    },
    {
     "name": "stderr",
     "output_type": "stream",
     "text": [
      "100%|██████████| 12/12 [00:37<00:00,  3.11s/it]\n"
     ]
    },
    {
     "name": "stdout",
     "output_type": "stream",
     "text": [
      "name:  anna_reverse_scenario_4_algorithm_4\n",
      "success:  True\n",
      "station_utilization_disp_of_avg:   15.029166666666667\n",
      "station_utilization_avg_of_disp:   15.04375\n",
      "electricity:   0\n",
      "percent_delay:   (1.2166331243308481, 1.4157710866230475, 5.082701833347463, 1.640312833288326, 0.7869534696573417)\n",
      "hours_spent_in_queues:   (0.0, 0.0, 7.2, 0.3910569105691057, 1.26237021421483)\n",
      "hours_spent_charging:   (0, 0.0, 26, 1.1666666666666667, 3.4817565575851592)\n",
      "________________________________________\n",
      "km_per_percent get_station_g:  1.131578947368421\n",
      "Strongly connected components: 69\n",
      "Weakly connected components: 2\n",
      "Weakly connected?: False\n"
     ]
    },
    {
     "name": "stderr",
     "output_type": "stream",
     "text": [
      "  0%|          | 0/12 [00:02<?, ?it/s]"
     ]
    },
    {
     "name": "stdout",
     "output_type": "stream",
     "text": [
      "name:  anna_reverse_scenario_4_algorithm_5\n",
      "success:  False\n"
     ]
    },
    {
     "name": "stderr",
     "output_type": "stream",
     "text": [
      "\n"
     ]
    }
   ],
   "source": [
    "number_of_iterations = 5\n",
    "kwh_per_km = 1.9\n",
    "\n",
    "#scenario list: each list inside has three params : charging rate, kwh per km, and battery capacity.\n",
    "# scenario_list = [[45,1.9,215],[90,1.9,215],[45,0.95,215],[45,1.9,430],[90,0.95,430]] \n",
    "scenario_list = [[90,0.95,430], [45,1.9,430], [45,0.95,215], [90,1.9,215], [45,1.9,215]] \n",
    "\n",
    "columns = [\"scenario_number\", \"iteration\", \"charging_rate\", \"km_per_kwh\", \"battery_capacity\", \"success\",\n",
    "           \"station_utilization_disp_of_avg\", \"station_utilization_avg_of_disp\", \"electricity\",\n",
    "           \"percent_delay\", \"hours_spent_in_queues\", \"hours_spent_charging\"]\n",
    "results = [columns]\n",
    "\n",
    "def print_and_record_results(sim, scenario, s, n, success=True):\n",
    "    print(\"name: \", sim.name)\n",
    "    print(\"success: \", success)\n",
    "    \n",
    "    if success==True:\n",
    "        result = [s, n, scenario[0], scenario[1], scenario[2], True,\n",
    "           sim.metrics['station_utilization_disp_of_avg'], sim.metrics['station_utilization_avg_of_disp'], \n",
    "           sim.metrics['electricity'], sim.metrics['percent_delay'],\n",
    "           sim.metrics['hours_spent_in_queues'], sim.metrics['hours_spent_charging']]\n",
    "        print(\"station_utilization_disp_of_avg:  \", sim.metrics['station_utilization_disp_of_avg'])\n",
    "        print(\"station_utilization_avg_of_disp:  \", sim.metrics['station_utilization_avg_of_disp'])\n",
    "        print(\"electricity:  \", sim.metrics['electricity'])\n",
    "        print(\"percent_delay:  \", sim.metrics['percent_delay'])\n",
    "        print(\"hours_spent_in_queues:  \", sim.metrics['hours_spent_in_queues'])\n",
    "        print(\"hours_spent_charging:  \", sim.metrics['hours_spent_charging'])\n",
    "        print(\"________________________________________\")\n",
    "        results.append(result)\n",
    "    else:\n",
    "        result = [s, n, scenario[0], scenario[1], scenario[2], False, None, None, None, None, None, None]\n",
    "        results.append(result)\n",
    "\n",
    "for scenario, s in zip(scenario_list, range(0,len(scenario_list))):\n",
    "    \n",
    "    print('------- SCENARIO '+str(s)+' -------')\n",
    "    #initialize for wcctici\n",
    "    simulation_length = 12\n",
    "    battery_interval = 20\n",
    "    kwh_per_km = scenario[1]\n",
    "    battery_capacity = scenario[2]\n",
    "    stations_path = \"data/wcctci_stations-updated.csv\"\n",
    "    distances_path = \"data/wcctci_coord_distances.csv\"\n",
    "    name = \"scenario\"+str(s)+\"_wcctci\" \n",
    "    \n",
    "    for n in range(0, number_of_iterations):\n",
    "        \n",
    "        ### Print metrics\n",
    "        sim = Simulation(name, stations_path, distances_path, simulation_length, battery_interval, kwh_per_km, battery_capacity)\n",
    "        sim.add_demand_nodes()\n",
    "        try:\n",
    "            sim.run()\n",
    "            print_and_record_results(sim, scenario, s, n, True)\n",
    "        except:\n",
    "            print_and_record_results(sim, scenario, s, n, False)\n",
    "            continue\n",
    "\n",
    "        ### get station utilization\n",
    "\n",
    "        #get the station ids in order \n",
    "        current_stations = [int(j) for j in sim.station_g.nodes]\n",
    "\n",
    "        #get the utilization rate of the stations\n",
    "        utilization = sim.metrics['station_utilization']\n",
    "\n",
    "        #get the station that has the highest utilization.\n",
    "        h_st = current_stations[np.argmax(utilization)]\n",
    "\n",
    "        #get the station that has the lowest utilization.\n",
    "        l_st = current_stations[np.argmin(utilization)]\n",
    "\n",
    "\n",
    "        ### Find the unused location that is closest to the highly utilized station\n",
    "\n",
    "        #get the map of all parking areas and stations\n",
    "        full_map_dist = pd.read_csv(\"data/charging_parking_distances_pemsingested.csv\")\n",
    "        full_map_loc = pd.read_csv(\"data/charging_parking_stations.csv\")\n",
    "\n",
    "        #keep only the roads that start or end with the high utilization station\n",
    "        h_map = full_map_dist[(full_map_dist.loc[:, 'OriginID'] == h_st) | (full_map_dist.loc[:, 'DestinationID'] == h_st)]\n",
    "\n",
    "        #then we eliminate all of the stations that are already being used.\n",
    "        using_st = current_stations.copy()\n",
    "        using_st.remove(h_st)\n",
    "        h_map = h_map[(~ h_map.loc[:, 'OriginID'].isin(using_st)) & (~ h_map.loc[:, 'DestinationID'].isin(using_st))]\n",
    "\n",
    "        #then we remove the case where we go from h_st to h_st\n",
    "        h_map = h_map[~ ((h_map.loc[:, 'OriginID'] == h_st) & (h_map.loc[:, 'DestinationID'] == h_st))]\n",
    "\n",
    "        #find the shortest edge. If there is more than one, we choose the first one that comes up (hence the 'reset_index' and [0] bellow)\n",
    "\n",
    "        new_origin = h_map[h_map.Total_TravelTime==h_map.Total_TravelTime.min()].reset_index()['OriginID'][0]\n",
    "        new_destination = h_map[h_map.Total_TravelTime==h_map.Total_TravelTime.min()].reset_index()['DestinationID'][0]\n",
    "\n",
    "        #one of the two will be h_st and the other will be the new station location. \n",
    "        if new_origin == h_st:\n",
    "            new_station = new_destination\n",
    "        else:\n",
    "            new_station = new_origin\n",
    "\n",
    "\n",
    "        ### create the new maps with the locations and the distances of the stations that we will be using next\n",
    "\n",
    "        new_stations_list = current_stations + [new_station]\n",
    "        new_stations_list.remove(l_st)\n",
    "\n",
    "        #now we reduce these to the new set of stations. All origins and destinations should be in this list.\n",
    "        new_map_dist = full_map_dist[(full_map_dist.loc[:, 'OriginID'].isin(new_stations_list)) & (full_map_dist.loc[:, 'DestinationID'].isin(new_stations_list))]\n",
    "        new_map_loc = full_map_loc[full_map_loc.loc[:, 'OID_'].isin(new_stations_list)]\n",
    "\n",
    "        #we add the charging rates and capacity- assuming that they are the same as the others (set to 45 and 8)\n",
    "        #TO DO: check this\n",
    "        new_map_loc['charging_rate'] = scenario[0]\n",
    "        new_map_loc['physical_capacity'] = 8\n",
    "\n",
    "        #we change the snapX and snapY columns to lon and lat \n",
    "        new_map_loc = new_map_loc.rename(columns = {'SnapX': 'longitude', 'SnapY': 'latitude'})\n",
    "\n",
    "        #now we save them. \n",
    "        new_map_loc.to_csv(\"data/algorithm_\"+str(n+1)+\"_stations.csv\") \n",
    "        new_map_dist.to_csv(\"data/algorithm_\"+str(n+1)+\"_distances.csv\")\n",
    "\n",
    "\n",
    "        #reset the variables for the next iteration\n",
    "        stations_path = \"data/algorithm_\"+str(n+1)+\"_stations.csv\"\n",
    "        distances_path = \"data/algorithm_\"+str(n+1)+\"_distances.csv\"\n",
    "        name = \"anna_reverse_scenario_\"+str(s)+\"_algorithm_\"+str(n+1)\n",
    "\n",
    "    #we run the simulation for the final alocation\n",
    "\n",
    "    ### run the simulation\n",
    "\n",
    "    sim = Simulation(name, stations_path, distances_path, simulation_length, battery_interval, kwh_per_km, battery_capacity)\n",
    "    sim.add_demand_nodes()\n",
    "    \n",
    "    try:\n",
    "        sim.run()\n",
    "        print_and_record_results(sim, scenario, s, n, True)\n",
    "    except:\n",
    "        print_and_record_results(sim, scenario, s, n, False)\n",
    "\n",
    "pd.DataFrame(results).to_csv(\"algorithm_run_reverse_trial.csv\")"
   ]
  },
  {
   "cell_type": "markdown",
   "metadata": {},
   "source": [
    "## Bellow this is  just code I used to think about/ build the algorithm above (Just ignore).\n",
    "### I was thinking about just one iteration, starting from the wcctci pickle."
   ]
  },
  {
   "cell_type": "code",
   "execution_count": null,
   "metadata": {},
   "outputs": [],
   "source": [
    "#open the pickle\n",
    "with open('trials/wcctci_04_04_2022_12_15_28.pkl', 'rb') as inp:\n",
    "    res = pickle.load(inp)"
   ]
  },
  {
   "cell_type": "markdown",
   "metadata": {},
   "source": [
    "Get the highest and lowest utilized stations:"
   ]
  },
  {
   "cell_type": "code",
   "execution_count": null,
   "metadata": {},
   "outputs": [],
   "source": [
    "#get station utilization\n",
    "\n",
    "#get the station ids in order \n",
    "current_stations = list(res.station_g.nodes)\n",
    "\n",
    "#get the utilization rate of the stations\n",
    "utilization = res.metrics['station_utilization']\n",
    "\n",
    "#get the station that has the highest utilization.\n",
    "h_st = current_stations[np.argmax(utilization)]\n",
    "\n",
    "#get the station that has the lowest utilization.\n",
    "l_st = current_stations[np.argmin(utilization)]"
   ]
  },
  {
   "cell_type": "markdown",
   "metadata": {},
   "source": [
    "Find the unused location that is closest to the highly utilized station:"
   ]
  },
  {
   "cell_type": "code",
   "execution_count": null,
   "metadata": {},
   "outputs": [],
   "source": [
    "#get the map of all parking areas and stations\n",
    "full_map_dist = pd.read_csv(\"data/charging_parking_distances.csv\")\n",
    "\n",
    "#keep only the roads that start or end with the high utilization station\n",
    "h_map = full_map_dist[(full_map_dist.loc[:, 'OriginID'] == h_st) | (full_map_dist.loc[:, 'DestinationID'] == h_st)]\n",
    "\n",
    "#then we eliminate all of the stations that are already being used.\n",
    "using_st = current_stations.copy()\n",
    "using_st.remove(h_st)\n",
    "h_map = h_map[(~ h_map.loc[:, 'OriginID'].isin(using_st)) & (~ h_map.loc[:, 'DestinationID'].isin(using_st))]\n",
    "\n",
    "#then we remove the case where we go from h_st to h_st\n",
    "h_map = h_map[~ ((h_map.loc[:, 'OriginID'] == h_st) & (h_map.loc[:, 'DestinationID'] == h_st))]\n",
    "\n",
    "#find the shortest edge. If there is more than one, we choose the first one that comes up (hence the 'reset_index' and [0] bellow)\n",
    "\n",
    "new_origin = h_map[h_map.Total_TravelTime==h_map.Total_TravelTime.min()].reset_index()['OriginID'][0]\n",
    "new_destination = h_map[h_map.Total_TravelTime==h_map.Total_TravelTime.min()].reset_index()['DestinationID'][0]\n",
    "\n",
    "#one of the two will be h_st and the other will be the new station location. \n",
    "if new_origin == h_st:\n",
    "    new_station = new_destination\n",
    "else:\n",
    "    new_station = new_origin"
   ]
  },
  {
   "cell_type": "markdown",
   "metadata": {},
   "source": [
    "Now we start to think about re-runing the simulation with this swap (taking out l_st and adding new_station). To do this, we need to create a new map with the locations and the distances of the stations that we will be using next."
   ]
  },
  {
   "cell_type": "code",
   "execution_count": null,
   "metadata": {},
   "outputs": [],
   "source": [
    "new_stations_list = current_stations + [new_station]"
   ]
  },
  {
   "cell_type": "code",
   "execution_count": null,
   "metadata": {},
   "outputs": [],
   "source": [
    "#we have \"full_map_dist\" (distances map)\n",
    "#and we need the locations map\n",
    "full_map_loc = pd.read_csv(\"data/charging_parking_stations.csv\")\n",
    "\n",
    "#now we reduce these to the new set of stations. All origins and destinations should be in this list.\n",
    "new_map_dist = full_map_dist[(full_map_dist.loc[:, 'OriginID'].isin(new_stations_list)) & (full_map_dist.loc[:, 'DestinationID'].isin(new_stations_list))]\n",
    "new_map_loc = full_map_loc[(full_map_loc.loc[:, 'OriginID'].isin(new_stations_list)) & (full_map_loc.loc[:, 'DestinationID'].isin(new_stations_list))]"
   ]
  },
  {
   "cell_type": "code",
   "execution_count": null,
   "metadata": {},
   "outputs": [],
   "source": [
    "#now we save them. \n",
    "new_map_loc.to_csv(\"data/algorithm_\"+str(1)+\"_stations.csv\") ########change the 1\n",
    "new_map_dist.to_csv(\"data/algorithm_\"+str(1)+\"_distances.csv\")"
   ]
  },
  {
   "cell_type": "markdown",
   "metadata": {},
   "source": [
    "Now we can run the next simulation"
   ]
  },
  {
   "cell_type": "code",
   "execution_count": null,
   "metadata": {},
   "outputs": [],
   "source": [
    "simulation_length = 12\n",
    "battery_interval = 20\n",
    "km_per_percent = 3.13\n",
    "\n",
    "sim = Simulation(\"data/algorithm_\"+str(1)+\"_stations.csv\", \"data/algorithm_\"+str(1)+\"_distances.csv\", simulation_length, battery_interval, km_per_percent)"
   ]
  },
  {
   "cell_type": "markdown",
   "metadata": {},
   "source": [
    "# Anna"
   ]
  },
  {
   "cell_type": "code",
   "execution_count": null,
   "metadata": {},
   "outputs": [],
   "source": [
    "stations_path = \"data/wcctci_stations-updated.csv\"\n",
    "distances_path = \"data/wcctci_coord_distances.csv\"\n",
    "# stations_df, distances_df = select_dataset(stations_csv_path, distances_csv_path)\n",
    "# station_g = get_station_g(stations_df, distances_df)\n",
    "# battery_g = layer_graph(station_g, 20, km_per_percent= 1.9)\n",
    "simulation_length = 24\n",
    "battery_interval = 20\n",
    "kwh_per_km = 1.9\n",
    "battery_capacity = 215\n",
    "name = 'hi'\n",
    "sim = Simulation(name, stations_path, distances_path, simulation_length, battery_interval, kwh_per_km, battery_capacity)\n",
    "sim.add_demand_nodes()"
   ]
  },
  {
   "cell_type": "code",
   "execution_count": null,
   "metadata": {},
   "outputs": [],
   "source": [
    "sim.battery_g.nodes"
   ]
  },
  {
   "cell_type": "code",
   "execution_count": null,
   "metadata": {},
   "outputs": [],
   "source": [
    "nx.shortest_path(sim.battery_g, \"Long Beach\", \"Reno\")"
   ]
  },
  {
   "cell_type": "code",
   "execution_count": null,
   "metadata": {},
   "outputs": [],
   "source": []
  }
 ],
 "metadata": {
  "kernelspec": {
   "display_name": "Python 3 (ipykernel)",
   "language": "python",
   "name": "python3"
  },
  "language_info": {
   "codemirror_mode": {
    "name": "ipython",
    "version": 3
   },
   "file_extension": ".py",
   "mimetype": "text/x-python",
   "name": "python",
   "nbconvert_exporter": "python",
   "pygments_lexer": "ipython3",
   "version": "3.7.4"
  }
 },
 "nbformat": 4,
 "nbformat_minor": 5
}
