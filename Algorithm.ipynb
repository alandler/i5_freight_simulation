{
 "cells": [
  {
   "cell_type": "code",
   "execution_count": 1,
   "id": "6f1d6415",
   "metadata": {},
   "outputs": [],
   "source": [
    "from multiprocessing.sharedctypes import Value\n",
    "import networkx as nx\n",
    "import numpy as np\n",
    "import random\n",
    "import pandas as pd\n",
    "\n",
    "from tqdm import tqdm\n",
    "from datetime import datetime\n",
    "import pickle\n",
    "\n",
    "# File imports\n",
    "import data\n",
    "from data import select_dataset, get_station_g, ingest_electricity_data, set_random_speed_columns, ingest_pems\n",
    "from replicate_graph import layer_graph\n",
    "from vehicle import Vehicle\n",
    "from simulation import Simulation\n",
    "from visualization import set_draw_attributes\n",
    "from vehicle_list_data import get_utilization"
   ]
  },
  {
   "cell_type": "markdown",
   "id": "f100ce1c",
   "metadata": {},
   "source": [
    "## Ingest pems for the whole graph (all charging and parking stops)\n",
    "### commented out because it only needs to be done once. Csv already saved."
   ]
  },
  {
   "cell_type": "code",
   "execution_count": 2,
   "id": "318684ca",
   "metadata": {},
   "outputs": [],
   "source": [
    "# all_graph = ingest_pems(\"data/charging_parking_stations_lonlat.csv\", \"data/charging_parking_distances.csv\")"
   ]
  },
  {
   "cell_type": "code",
   "execution_count": 3,
   "id": "fa4c69ed",
   "metadata": {},
   "outputs": [],
   "source": [
    "# #save the new csv with all the speeds (from pems ingest above), which will be used for the algorithm\n",
    "# all_graph[1].to_csv(\"data/charging_parking_distances_pemsingested.csv\")"
   ]
  },
  {
   "cell_type": "markdown",
   "id": "d1816bfc",
   "metadata": {},
   "source": [
    "## Run the algorithm"
   ]
  },
  {
   "cell_type": "code",
   "execution_count": 27,
   "id": "880c81e9",
   "metadata": {
    "scrolled": false
   },
   "outputs": [
    {
     "name": "stdout",
     "output_type": "stream",
     "text": [
      "------- SCENARIO 0 -------\n",
      "Strongly connected components: 3\n",
      "Weakly connected components: 1\n",
      "Weakly connected?: True\n"
     ]
    },
    {
     "name": "stderr",
     "output_type": "stream",
     "text": [
      "100%|███████████████████████████████████████████| 12/12 [00:24<00:00,  2.01s/it]\n"
     ]
    },
    {
     "name": "stdout",
     "output_type": "stream",
     "text": [
      "name:  scenario0_wcctci\n",
      "success:  True\n",
      "station_utilization_disp_of_avg:   4.410677083333334\n",
      "station_utilization_avg_of_disp:   4.433072916666666\n",
      "electricity:   0\n",
      "percent_delay:   (1.0, 1.0, 1.5875912366144163, 1.0651423310186012, 0.09479421672237355)\n",
      "hours_spent_in_queues:   (0.0, 0.0, 1.6, 0.020148148148148148, 0.15684852416777048)\n",
      "hours_spent_charging:   (0, 0.0, 14, 0.5303703703703704, 2.2158109985610928)\n",
      "________________________________________\n",
      "Highest: 31\n",
      "Lowest: 1\n",
      "New Station: 232\n"
     ]
    },
    {
     "name": "stderr",
     "output_type": "stream",
     "text": [
      "/var/folders/_f/6t2tndbx7734ljm1cntkplyr0000gn/T/ipykernel_82313/2490304343.py:131: SettingWithCopyWarning: \n",
      "A value is trying to be set on a copy of a slice from a DataFrame.\n",
      "Try using .loc[row_indexer,col_indexer] = value instead\n",
      "\n",
      "See the caveats in the documentation: https://pandas.pydata.org/pandas-docs/stable/user_guide/indexing.html#returning-a-view-versus-a-copy\n",
      "  new_map_loc['charging_rate'] = scenario[0]\n",
      "/var/folders/_f/6t2tndbx7734ljm1cntkplyr0000gn/T/ipykernel_82313/2490304343.py:132: SettingWithCopyWarning: \n",
      "A value is trying to be set on a copy of a slice from a DataFrame.\n",
      "Try using .loc[row_indexer,col_indexer] = value instead\n",
      "\n",
      "See the caveats in the documentation: https://pandas.pydata.org/pandas-docs/stable/user_guide/indexing.html#returning-a-view-versus-a-copy\n",
      "  new_map_loc['physical_capacity'] = 8\n"
     ]
    },
    {
     "name": "stdout",
     "output_type": "stream",
     "text": [
      "Strongly connected components: 3\n",
      "Weakly connected components: 1\n",
      "Weakly connected?: True\n"
     ]
    },
    {
     "name": "stderr",
     "output_type": "stream",
     "text": [
      "100%|███████████████████████████████████████████| 12/12 [00:28<00:00,  2.37s/it]\n"
     ]
    },
    {
     "name": "stdout",
     "output_type": "stream",
     "text": [
      "name:  natalie_updated_0_algorithm_1\n",
      "success:  True\n",
      "station_utilization_disp_of_avg:   1.5367187500000001\n",
      "station_utilization_avg_of_disp:   1.5796875\n",
      "electricity:   0\n",
      "percent_delay:   (1.002158683147895, 1.5132328852775723, 1.853444969244515, 1.4781556975395809, 0.23968433677641934)\n",
      "hours_spent_in_queues:   (0.0, 0.0, 0.0, 0.0, 0.0)\n",
      "hours_spent_charging:   (0, 0.0, 5, 0.13538461538461538, 0.701740861491185)\n",
      "________________________________________\n",
      "Highest: 232\n",
      "Lowest: 2\n",
      "New Station: 55\n"
     ]
    },
    {
     "name": "stderr",
     "output_type": "stream",
     "text": [
      "/var/folders/_f/6t2tndbx7734ljm1cntkplyr0000gn/T/ipykernel_82313/2490304343.py:131: SettingWithCopyWarning: \n",
      "A value is trying to be set on a copy of a slice from a DataFrame.\n",
      "Try using .loc[row_indexer,col_indexer] = value instead\n",
      "\n",
      "See the caveats in the documentation: https://pandas.pydata.org/pandas-docs/stable/user_guide/indexing.html#returning-a-view-versus-a-copy\n",
      "  new_map_loc['charging_rate'] = scenario[0]\n",
      "/var/folders/_f/6t2tndbx7734ljm1cntkplyr0000gn/T/ipykernel_82313/2490304343.py:132: SettingWithCopyWarning: \n",
      "A value is trying to be set on a copy of a slice from a DataFrame.\n",
      "Try using .loc[row_indexer,col_indexer] = value instead\n",
      "\n",
      "See the caveats in the documentation: https://pandas.pydata.org/pandas-docs/stable/user_guide/indexing.html#returning-a-view-versus-a-copy\n",
      "  new_map_loc['physical_capacity'] = 8\n"
     ]
    },
    {
     "name": "stdout",
     "output_type": "stream",
     "text": [
      "Strongly connected components: 3\n",
      "Weakly connected components: 1\n",
      "Weakly connected?: True\n"
     ]
    },
    {
     "name": "stderr",
     "output_type": "stream",
     "text": [
      "100%|███████████████████████████████████████████| 12/12 [00:23<00:00,  1.97s/it]\n"
     ]
    },
    {
     "name": "stdout",
     "output_type": "stream",
     "text": [
      "name:  natalie_updated_0_algorithm_2\n",
      "success:  True\n",
      "station_utilization_disp_of_avg:   1.5135416666666666\n",
      "station_utilization_avg_of_disp:   1.5515625\n",
      "electricity:   0\n",
      "percent_delay:   (1.002158683147895, 1.5180309281561475, 1.853444969244515, 1.4689354771410057, 0.2483393910690229)\n",
      "hours_spent_in_queues:   (0.0, 0.0, 0.2, 0.00041884816753926706, 0.00914298636772485)\n",
      "hours_spent_charging:   (0, 0.0, 5, 0.1130890052356021, 0.6645759088884631)\n",
      "________________________________________\n",
      "Highest: 12\n",
      "Lowest: 3\n",
      "New Station: 130\n"
     ]
    },
    {
     "name": "stderr",
     "output_type": "stream",
     "text": [
      "/var/folders/_f/6t2tndbx7734ljm1cntkplyr0000gn/T/ipykernel_82313/2490304343.py:131: SettingWithCopyWarning: \n",
      "A value is trying to be set on a copy of a slice from a DataFrame.\n",
      "Try using .loc[row_indexer,col_indexer] = value instead\n",
      "\n",
      "See the caveats in the documentation: https://pandas.pydata.org/pandas-docs/stable/user_guide/indexing.html#returning-a-view-versus-a-copy\n",
      "  new_map_loc['charging_rate'] = scenario[0]\n",
      "/var/folders/_f/6t2tndbx7734ljm1cntkplyr0000gn/T/ipykernel_82313/2490304343.py:132: SettingWithCopyWarning: \n",
      "A value is trying to be set on a copy of a slice from a DataFrame.\n",
      "Try using .loc[row_indexer,col_indexer] = value instead\n",
      "\n",
      "See the caveats in the documentation: https://pandas.pydata.org/pandas-docs/stable/user_guide/indexing.html#returning-a-view-versus-a-copy\n",
      "  new_map_loc['physical_capacity'] = 8\n"
     ]
    },
    {
     "name": "stdout",
     "output_type": "stream",
     "text": [
      "Strongly connected components: 3\n",
      "Weakly connected components: 1\n",
      "Weakly connected?: True\n"
     ]
    },
    {
     "name": "stderr",
     "output_type": "stream",
     "text": [
      "100%|███████████████████████████████████████████| 12/12 [00:23<00:00,  1.99s/it]\n"
     ]
    },
    {
     "name": "stdout",
     "output_type": "stream",
     "text": [
      "name:  natalie_updated_0_algorithm_3\n",
      "success:  True\n",
      "station_utilization_disp_of_avg:   1.56484375\n",
      "station_utilization_avg_of_disp:   1.5903645833333333\n",
      "electricity:   0\n",
      "percent_delay:   (1.002158683147895, 1.5577397348445596, 2.030639957415375, 1.5129926070225992, 0.23269314332399837)\n",
      "hours_spent_in_queues:   (0.0, 0.0, 1.4, 0.004640883977900552, 0.07114306096929245)\n",
      "hours_spent_charging:   (0, 0.0, 5, 0.16132596685082873, 0.7855366669173242)\n",
      "________________________________________\n",
      "Highest: 130\n",
      "Lowest: 4\n",
      "New Station: 277\n"
     ]
    },
    {
     "name": "stderr",
     "output_type": "stream",
     "text": [
      "/var/folders/_f/6t2tndbx7734ljm1cntkplyr0000gn/T/ipykernel_82313/2490304343.py:131: SettingWithCopyWarning: \n",
      "A value is trying to be set on a copy of a slice from a DataFrame.\n",
      "Try using .loc[row_indexer,col_indexer] = value instead\n",
      "\n",
      "See the caveats in the documentation: https://pandas.pydata.org/pandas-docs/stable/user_guide/indexing.html#returning-a-view-versus-a-copy\n",
      "  new_map_loc['charging_rate'] = scenario[0]\n",
      "/var/folders/_f/6t2tndbx7734ljm1cntkplyr0000gn/T/ipykernel_82313/2490304343.py:132: SettingWithCopyWarning: \n",
      "A value is trying to be set on a copy of a slice from a DataFrame.\n",
      "Try using .loc[row_indexer,col_indexer] = value instead\n",
      "\n",
      "See the caveats in the documentation: https://pandas.pydata.org/pandas-docs/stable/user_guide/indexing.html#returning-a-view-versus-a-copy\n",
      "  new_map_loc['physical_capacity'] = 8\n"
     ]
    },
    {
     "name": "stdout",
     "output_type": "stream",
     "text": [
      "Strongly connected components: 3\n",
      "Weakly connected components: 1\n",
      "Weakly connected?: True\n"
     ]
    },
    {
     "name": "stderr",
     "output_type": "stream",
     "text": [
      "100%|███████████████████████████████████████████| 12/12 [00:23<00:00,  1.94s/it]\n"
     ]
    },
    {
     "name": "stdout",
     "output_type": "stream",
     "text": [
      "name:  natalie_updated_0_algorithm_4\n",
      "success:  True\n",
      "station_utilization_disp_of_avg:   1.5638020833333335\n",
      "station_utilization_avg_of_disp:   1.5888020833333334\n",
      "electricity:   0\n",
      "percent_delay:   (1.002158683147895, 1.5207256867161636, 1.9198777779199907, 1.4861985935038011, 0.23318556762545573)\n",
      "hours_spent_in_queues:   (0.0, 0.0, 0.8, 0.002745512143611405, 0.039437192502885146)\n",
      "hours_spent_charging:   (0, 0.0, 5, 0.12038014783526928, 0.6880152677104802)\n",
      "________________________________________\n",
      "Highest: 130\n",
      "Lowest: 5\n",
      "New Station: 278\n"
     ]
    },
    {
     "name": "stderr",
     "output_type": "stream",
     "text": [
      "/var/folders/_f/6t2tndbx7734ljm1cntkplyr0000gn/T/ipykernel_82313/2490304343.py:131: SettingWithCopyWarning: \n",
      "A value is trying to be set on a copy of a slice from a DataFrame.\n",
      "Try using .loc[row_indexer,col_indexer] = value instead\n",
      "\n",
      "See the caveats in the documentation: https://pandas.pydata.org/pandas-docs/stable/user_guide/indexing.html#returning-a-view-versus-a-copy\n",
      "  new_map_loc['charging_rate'] = scenario[0]\n",
      "/var/folders/_f/6t2tndbx7734ljm1cntkplyr0000gn/T/ipykernel_82313/2490304343.py:132: SettingWithCopyWarning: \n",
      "A value is trying to be set on a copy of a slice from a DataFrame.\n",
      "Try using .loc[row_indexer,col_indexer] = value instead\n",
      "\n",
      "See the caveats in the documentation: https://pandas.pydata.org/pandas-docs/stable/user_guide/indexing.html#returning-a-view-versus-a-copy\n",
      "  new_map_loc['physical_capacity'] = 8\n"
     ]
    },
    {
     "name": "stdout",
     "output_type": "stream",
     "text": [
      "Strongly connected components: 3\n",
      "Weakly connected components: 1\n",
      "Weakly connected?: True\n"
     ]
    },
    {
     "name": "stderr",
     "output_type": "stream",
     "text": [
      "100%|███████████████████████████████████████████| 12/12 [00:23<00:00,  1.94s/it]\n"
     ]
    },
    {
     "name": "stdout",
     "output_type": "stream",
     "text": [
      "name:  natalie_updated_0_algorithm_5\n",
      "success:  True\n",
      "station_utilization_disp_of_avg:   1.4994791666666665\n",
      "station_utilization_avg_of_disp:   1.53203125\n",
      "electricity:   0\n",
      "percent_delay:   (1.002158683147895, 1.5138872665000136, 2.1623524641186007, 1.5172814998662638, 0.31913739024721915)\n",
      "hours_spent_in_queues:   (0.0, 0.0, 0.0, 0.0, 0.0)\n",
      "hours_spent_charging:   (0, 0.0, 5, 0.12164948453608247, 0.6716999213602787)\n",
      "________________________________________\n",
      "------- SCENARIO 1 -------\n",
      "Strongly connected components: 27\n",
      "Weakly connected components: 1\n",
      "Weakly connected?: True\n"
     ]
    },
    {
     "name": "stderr",
     "output_type": "stream",
     "text": [
      "100%|███████████████████████████████████████████| 12/12 [00:27<00:00,  2.27s/it]\n"
     ]
    },
    {
     "name": "stdout",
     "output_type": "stream",
     "text": [
      "name:  scenario1_wcctci\n",
      "success:  True\n",
      "station_utilization_disp_of_avg:   11.282812499999999\n",
      "station_utilization_avg_of_disp:   11.337239583333334\n",
      "electricity:   0\n",
      "percent_delay:   (1.0, 1.1091887087604793, 2.9138021295376904, 1.1826703959513805, 0.2538987771935697)\n",
      "hours_spent_in_queues:   (0.0, 0.0, 4.4, 0.09554285714285714, 0.4229050783640727)\n",
      "hours_spent_charging:   (0, 0.0, 22, 0.9622857142857143, 2.883996320301086)\n",
      "________________________________________\n",
      "Highest: 4\n",
      "Lowest: 1\n",
      "New Station: 142\n"
     ]
    },
    {
     "name": "stderr",
     "output_type": "stream",
     "text": [
      "/var/folders/_f/6t2tndbx7734ljm1cntkplyr0000gn/T/ipykernel_82313/2490304343.py:131: SettingWithCopyWarning: \n",
      "A value is trying to be set on a copy of a slice from a DataFrame.\n",
      "Try using .loc[row_indexer,col_indexer] = value instead\n",
      "\n",
      "See the caveats in the documentation: https://pandas.pydata.org/pandas-docs/stable/user_guide/indexing.html#returning-a-view-versus-a-copy\n",
      "  new_map_loc['charging_rate'] = scenario[0]\n",
      "/var/folders/_f/6t2tndbx7734ljm1cntkplyr0000gn/T/ipykernel_82313/2490304343.py:132: SettingWithCopyWarning: \n",
      "A value is trying to be set on a copy of a slice from a DataFrame.\n",
      "Try using .loc[row_indexer,col_indexer] = value instead\n",
      "\n",
      "See the caveats in the documentation: https://pandas.pydata.org/pandas-docs/stable/user_guide/indexing.html#returning-a-view-versus-a-copy\n",
      "  new_map_loc['physical_capacity'] = 8\n"
     ]
    },
    {
     "name": "stdout",
     "output_type": "stream",
     "text": [
      "Strongly connected components: 27\n",
      "Weakly connected components: 1\n",
      "Weakly connected?: True\n"
     ]
    },
    {
     "name": "stderr",
     "output_type": "stream",
     "text": [
      "100%|███████████████████████████████████████████| 12/12 [00:26<00:00,  2.21s/it]\n"
     ]
    },
    {
     "name": "stdout",
     "output_type": "stream",
     "text": [
      "name:  natalie_updated_1_algorithm_1\n",
      "success:  True\n",
      "station_utilization_disp_of_avg:   7.744010416666667\n",
      "station_utilization_avg_of_disp:   7.7796875\n",
      "electricity:   0\n",
      "percent_delay:   (1.002158683147895, 1.5713507080288427, 3.3624375703055263, 1.568278426180188, 0.3990946343819949)\n",
      "hours_spent_in_queues:   (0.0, 0.0, 4.2, 0.06302521008403361, 0.3163248904832524)\n",
      "hours_spent_charging:   (0, 0.0, 16, 0.8403361344537815, 2.453431347564001)\n",
      "________________________________________\n",
      "Highest: 4\n",
      "Lowest: 2\n",
      "New Station: 229\n"
     ]
    },
    {
     "name": "stderr",
     "output_type": "stream",
     "text": [
      "/var/folders/_f/6t2tndbx7734ljm1cntkplyr0000gn/T/ipykernel_82313/2490304343.py:131: SettingWithCopyWarning: \n",
      "A value is trying to be set on a copy of a slice from a DataFrame.\n",
      "Try using .loc[row_indexer,col_indexer] = value instead\n",
      "\n",
      "See the caveats in the documentation: https://pandas.pydata.org/pandas-docs/stable/user_guide/indexing.html#returning-a-view-versus-a-copy\n",
      "  new_map_loc['charging_rate'] = scenario[0]\n",
      "/var/folders/_f/6t2tndbx7734ljm1cntkplyr0000gn/T/ipykernel_82313/2490304343.py:132: SettingWithCopyWarning: \n",
      "A value is trying to be set on a copy of a slice from a DataFrame.\n",
      "Try using .loc[row_indexer,col_indexer] = value instead\n",
      "\n",
      "See the caveats in the documentation: https://pandas.pydata.org/pandas-docs/stable/user_guide/indexing.html#returning-a-view-versus-a-copy\n",
      "  new_map_loc['physical_capacity'] = 8\n"
     ]
    },
    {
     "name": "stdout",
     "output_type": "stream",
     "text": [
      "Strongly connected components: 26\n",
      "Weakly connected components: 1\n",
      "Weakly connected?: True\n"
     ]
    },
    {
     "name": "stderr",
     "output_type": "stream",
     "text": [
      "100%|███████████████████████████████████████████| 12/12 [00:25<00:00,  2.09s/it]\n"
     ]
    },
    {
     "name": "stdout",
     "output_type": "stream",
     "text": [
      "name:  natalie_updated_1_algorithm_2\n",
      "success:  True\n",
      "station_utilization_disp_of_avg:   8.684635416666667\n",
      "station_utilization_avg_of_disp:   8.702083333333333\n",
      "electricity:   0\n",
      "percent_delay:   (1.002158683147895, 1.5713507080288427, 3.4917620922403545, 1.5862523364903383, 0.43748086973124545)\n",
      "hours_spent_in_queues:   (0.0, 0.0, 4.6, 0.07849927849927851, 0.46370370330454974)\n",
      "hours_spent_charging:   (0, 0.0, 15, 0.8066378066378066, 2.3789873390053713)\n",
      "________________________________________\n",
      "Highest: 10\n",
      "Lowest: 3\n",
      "New Station: 54\n"
     ]
    },
    {
     "name": "stderr",
     "output_type": "stream",
     "text": [
      "/var/folders/_f/6t2tndbx7734ljm1cntkplyr0000gn/T/ipykernel_82313/2490304343.py:131: SettingWithCopyWarning: \n",
      "A value is trying to be set on a copy of a slice from a DataFrame.\n",
      "Try using .loc[row_indexer,col_indexer] = value instead\n",
      "\n",
      "See the caveats in the documentation: https://pandas.pydata.org/pandas-docs/stable/user_guide/indexing.html#returning-a-view-versus-a-copy\n",
      "  new_map_loc['charging_rate'] = scenario[0]\n",
      "/var/folders/_f/6t2tndbx7734ljm1cntkplyr0000gn/T/ipykernel_82313/2490304343.py:132: SettingWithCopyWarning: \n",
      "A value is trying to be set on a copy of a slice from a DataFrame.\n",
      "Try using .loc[row_indexer,col_indexer] = value instead\n",
      "\n",
      "See the caveats in the documentation: https://pandas.pydata.org/pandas-docs/stable/user_guide/indexing.html#returning-a-view-versus-a-copy\n",
      "  new_map_loc['physical_capacity'] = 8\n"
     ]
    },
    {
     "name": "stdout",
     "output_type": "stream",
     "text": [
      "Strongly connected components: 24\n",
      "Weakly connected components: 1\n",
      "Weakly connected?: True\n"
     ]
    },
    {
     "name": "stderr",
     "output_type": "stream",
     "text": [
      "100%|███████████████████████████████████████████| 12/12 [00:24<00:00,  2.06s/it]\n"
     ]
    },
    {
     "name": "stdout",
     "output_type": "stream",
     "text": [
      "name:  natalie_updated_1_algorithm_3\n",
      "success:  True\n",
      "station_utilization_disp_of_avg:   8.8359375\n",
      "station_utilization_avg_of_disp:   8.897916666666667\n",
      "electricity:   0\n",
      "percent_delay:   (1.002158683147895, 1.5713507080288427, 2.715133790351516, 1.5831852144111014, 0.4085128886788232)\n",
      "hours_spent_in_queues:   (0.0, 0.0, 1.8, 0.053352353780313846, 0.24974915223529506)\n",
      "hours_spent_charging:   (0, 0.0, 14, 0.6462196861626248, 1.9864959515986984)\n",
      "________________________________________\n",
      "Highest: 54\n",
      "Lowest: 4\n",
      "New Station: 163\n"
     ]
    },
    {
     "name": "stderr",
     "output_type": "stream",
     "text": [
      "/var/folders/_f/6t2tndbx7734ljm1cntkplyr0000gn/T/ipykernel_82313/2490304343.py:131: SettingWithCopyWarning: \n",
      "A value is trying to be set on a copy of a slice from a DataFrame.\n",
      "Try using .loc[row_indexer,col_indexer] = value instead\n",
      "\n",
      "See the caveats in the documentation: https://pandas.pydata.org/pandas-docs/stable/user_guide/indexing.html#returning-a-view-versus-a-copy\n",
      "  new_map_loc['charging_rate'] = scenario[0]\n",
      "/var/folders/_f/6t2tndbx7734ljm1cntkplyr0000gn/T/ipykernel_82313/2490304343.py:132: SettingWithCopyWarning: \n",
      "A value is trying to be set on a copy of a slice from a DataFrame.\n",
      "Try using .loc[row_indexer,col_indexer] = value instead\n",
      "\n",
      "See the caveats in the documentation: https://pandas.pydata.org/pandas-docs/stable/user_guide/indexing.html#returning-a-view-versus-a-copy\n",
      "  new_map_loc['physical_capacity'] = 8\n"
     ]
    },
    {
     "name": "stdout",
     "output_type": "stream",
     "text": [
      "Strongly connected components: 24\n",
      "Weakly connected components: 1\n",
      "Weakly connected?: True\n"
     ]
    },
    {
     "name": "stderr",
     "output_type": "stream",
     "text": [
      "100%|███████████████████████████████████████████| 12/12 [00:25<00:00,  2.16s/it]\n"
     ]
    },
    {
     "name": "stdout",
     "output_type": "stream",
     "text": [
      "name:  natalie_updated_1_algorithm_4\n",
      "success:  True\n",
      "station_utilization_disp_of_avg:   10.531770833333333\n",
      "station_utilization_avg_of_disp:   10.550260416666667\n",
      "electricity:   0\n",
      "percent_delay:   (1.002158683147895, 1.5713507080288427, 3.443584319470215, 1.611532406757497, 0.46916060564129947)\n",
      "hours_spent_in_queues:   (0.0, 0.0, 5.0, 0.12838801711840228, 0.5831258657125172)\n",
      "hours_spent_charging:   (0, 0.0, 16, 0.7803138373751783, 2.501402839206086)\n",
      "________________________________________\n",
      "Highest: 13\n",
      "Lowest: 5\n",
      "New Station: 138\n"
     ]
    },
    {
     "name": "stderr",
     "output_type": "stream",
     "text": [
      "/var/folders/_f/6t2tndbx7734ljm1cntkplyr0000gn/T/ipykernel_82313/2490304343.py:131: SettingWithCopyWarning: \n",
      "A value is trying to be set on a copy of a slice from a DataFrame.\n",
      "Try using .loc[row_indexer,col_indexer] = value instead\n",
      "\n",
      "See the caveats in the documentation: https://pandas.pydata.org/pandas-docs/stable/user_guide/indexing.html#returning-a-view-versus-a-copy\n",
      "  new_map_loc['charging_rate'] = scenario[0]\n",
      "/var/folders/_f/6t2tndbx7734ljm1cntkplyr0000gn/T/ipykernel_82313/2490304343.py:132: SettingWithCopyWarning: \n",
      "A value is trying to be set on a copy of a slice from a DataFrame.\n",
      "Try using .loc[row_indexer,col_indexer] = value instead\n",
      "\n",
      "See the caveats in the documentation: https://pandas.pydata.org/pandas-docs/stable/user_guide/indexing.html#returning-a-view-versus-a-copy\n",
      "  new_map_loc['physical_capacity'] = 8\n"
     ]
    },
    {
     "name": "stdout",
     "output_type": "stream",
     "text": [
      "Strongly connected components: 26\n",
      "Weakly connected components: 1\n",
      "Weakly connected?: True\n"
     ]
    },
    {
     "name": "stderr",
     "output_type": "stream",
     "text": [
      "100%|███████████████████████████████████████████| 12/12 [00:25<00:00,  2.12s/it]\n"
     ]
    },
    {
     "name": "stdout",
     "output_type": "stream",
     "text": [
      "name:  natalie_updated_1_algorithm_5\n",
      "success:  True\n",
      "station_utilization_disp_of_avg:   9.06484375\n",
      "station_utilization_avg_of_disp:   9.085677083333334\n",
      "electricity:   0\n",
      "percent_delay:   (1.002158683147895, 1.5713507080288427, 2.651152699663973, 1.5878399800152485, 0.38319867051035805)\n",
      "hours_spent_in_queues:   (0.0, 0.0, 2.8, 0.042349304482225646, 0.2797648301914227)\n",
      "hours_spent_charging:   (0, 0.0, 14, 0.5857805255023184, 1.9021622695211446)\n",
      "________________________________________\n",
      "------- SCENARIO 2 -------\n",
      "Strongly connected components: 27\n",
      "Weakly connected components: 1\n",
      "Weakly connected?: True\n"
     ]
    },
    {
     "name": "stderr",
     "output_type": "stream",
     "text": [
      "100%|███████████████████████████████████████████| 12/12 [00:24<00:00,  2.07s/it]\n"
     ]
    },
    {
     "name": "stdout",
     "output_type": "stream",
     "text": [
      "name:  scenario2_wcctci\n",
      "success:  True\n",
      "station_utilization_disp_of_avg:   10.453385416666666\n",
      "station_utilization_avg_of_disp:   10.508854166666667\n",
      "electricity:   0\n",
      "percent_delay:   (1.0, 1.0313242290463502, 2.5218281931609616, 1.184159210340171, 0.24509406072566528)\n",
      "hours_spent_in_queues:   (0.0, 0.0, 3.2, 0.07856315179606026, 0.3429701538457831)\n",
      "hours_spent_charging:   (0, 0.0, 28, 0.9339513325608343, 2.9611691706862855)\n",
      "________________________________________\n",
      "Highest: 4\n",
      "Lowest: 1\n",
      "New Station: 142\n"
     ]
    },
    {
     "name": "stderr",
     "output_type": "stream",
     "text": [
      "/var/folders/_f/6t2tndbx7734ljm1cntkplyr0000gn/T/ipykernel_82313/2490304343.py:131: SettingWithCopyWarning: \n",
      "A value is trying to be set on a copy of a slice from a DataFrame.\n",
      "Try using .loc[row_indexer,col_indexer] = value instead\n",
      "\n",
      "See the caveats in the documentation: https://pandas.pydata.org/pandas-docs/stable/user_guide/indexing.html#returning-a-view-versus-a-copy\n",
      "  new_map_loc['charging_rate'] = scenario[0]\n",
      "/var/folders/_f/6t2tndbx7734ljm1cntkplyr0000gn/T/ipykernel_82313/2490304343.py:132: SettingWithCopyWarning: \n",
      "A value is trying to be set on a copy of a slice from a DataFrame.\n",
      "Try using .loc[row_indexer,col_indexer] = value instead\n",
      "\n",
      "See the caveats in the documentation: https://pandas.pydata.org/pandas-docs/stable/user_guide/indexing.html#returning-a-view-versus-a-copy\n",
      "  new_map_loc['physical_capacity'] = 8\n"
     ]
    },
    {
     "name": "stdout",
     "output_type": "stream",
     "text": [
      "Strongly connected components: 27\n",
      "Weakly connected components: 1\n",
      "Weakly connected?: True\n"
     ]
    },
    {
     "name": "stderr",
     "output_type": "stream",
     "text": [
      "100%|███████████████████████████████████████████| 12/12 [00:25<00:00,  2.12s/it]\n"
     ]
    },
    {
     "name": "stdout",
     "output_type": "stream",
     "text": [
      "name:  natalie_updated_2_algorithm_1\n",
      "success:  True\n",
      "station_utilization_disp_of_avg:   7.970833333333333\n",
      "station_utilization_avg_of_disp:   8.015885416666666\n",
      "electricity:   0\n",
      "percent_delay:   (1.002158683147895, 1.5713507080288427, 2.974464004501043, 1.5554628325597577, 0.3915745132075851)\n",
      "hours_spent_in_queues:   (0.0, 0.0, 3.0, 0.0377906976744186, 0.1987513414481025)\n",
      "hours_spent_charging:   (0, 0.0, 15, 0.623546511627907, 2.0415376054210452)\n",
      "________________________________________\n",
      "Highest: 4\n",
      "Lowest: 2\n",
      "New Station: 229\n"
     ]
    },
    {
     "name": "stderr",
     "output_type": "stream",
     "text": [
      "/var/folders/_f/6t2tndbx7734ljm1cntkplyr0000gn/T/ipykernel_82313/2490304343.py:131: SettingWithCopyWarning: \n",
      "A value is trying to be set on a copy of a slice from a DataFrame.\n",
      "Try using .loc[row_indexer,col_indexer] = value instead\n",
      "\n",
      "See the caveats in the documentation: https://pandas.pydata.org/pandas-docs/stable/user_guide/indexing.html#returning-a-view-versus-a-copy\n",
      "  new_map_loc['charging_rate'] = scenario[0]\n",
      "/var/folders/_f/6t2tndbx7734ljm1cntkplyr0000gn/T/ipykernel_82313/2490304343.py:132: SettingWithCopyWarning: \n",
      "A value is trying to be set on a copy of a slice from a DataFrame.\n",
      "Try using .loc[row_indexer,col_indexer] = value instead\n",
      "\n",
      "See the caveats in the documentation: https://pandas.pydata.org/pandas-docs/stable/user_guide/indexing.html#returning-a-view-versus-a-copy\n",
      "  new_map_loc['physical_capacity'] = 8\n"
     ]
    },
    {
     "name": "stdout",
     "output_type": "stream",
     "text": [
      "Strongly connected components: 26\n",
      "Weakly connected components: 1\n",
      "Weakly connected?: True\n"
     ]
    },
    {
     "name": "stderr",
     "output_type": "stream",
     "text": [
      "100%|███████████████████████████████████████████| 12/12 [00:26<00:00,  2.23s/it]\n"
     ]
    },
    {
     "name": "stdout",
     "output_type": "stream",
     "text": [
      "name:  natalie_updated_2_algorithm_2\n",
      "success:  True\n",
      "station_utilization_disp_of_avg:   10.202864583333334\n",
      "station_utilization_avg_of_disp:   10.219791666666667\n",
      "electricity:   0\n",
      "percent_delay:   (1.002158683147895, 1.5713507080288427, 2.8451394825662146, 1.5249165675386611, 0.3660460246245122)\n",
      "hours_spent_in_queues:   (0.0, 0.0, 2.6, 0.038850889192886456, 0.20770597295123638)\n",
      "hours_spent_charging:   (0, 0.0, 14, 0.5882352941176471, 1.9022122708299538)\n",
      "________________________________________\n",
      "Highest: 4\n",
      "Lowest: 3\n",
      "New Station: 190\n"
     ]
    },
    {
     "name": "stderr",
     "output_type": "stream",
     "text": [
      "/var/folders/_f/6t2tndbx7734ljm1cntkplyr0000gn/T/ipykernel_82313/2490304343.py:131: SettingWithCopyWarning: \n",
      "A value is trying to be set on a copy of a slice from a DataFrame.\n",
      "Try using .loc[row_indexer,col_indexer] = value instead\n",
      "\n",
      "See the caveats in the documentation: https://pandas.pydata.org/pandas-docs/stable/user_guide/indexing.html#returning-a-view-versus-a-copy\n",
      "  new_map_loc['charging_rate'] = scenario[0]\n",
      "/var/folders/_f/6t2tndbx7734ljm1cntkplyr0000gn/T/ipykernel_82313/2490304343.py:132: SettingWithCopyWarning: \n",
      "A value is trying to be set on a copy of a slice from a DataFrame.\n",
      "Try using .loc[row_indexer,col_indexer] = value instead\n",
      "\n",
      "See the caveats in the documentation: https://pandas.pydata.org/pandas-docs/stable/user_guide/indexing.html#returning-a-view-versus-a-copy\n",
      "  new_map_loc['physical_capacity'] = 8\n"
     ]
    },
    {
     "name": "stdout",
     "output_type": "stream",
     "text": [
      "Strongly connected components: 25\n",
      "Weakly connected components: 1\n",
      "Weakly connected?: True\n"
     ]
    },
    {
     "name": "stderr",
     "output_type": "stream",
     "text": [
      "100%|███████████████████████████████████████████| 12/12 [00:26<00:00,  2.24s/it]\n"
     ]
    },
    {
     "name": "stdout",
     "output_type": "stream",
     "text": [
      "name:  natalie_updated_2_algorithm_3\n",
      "success:  True\n",
      "station_utilization_disp_of_avg:   9.467447916666666\n",
      "station_utilization_avg_of_disp:   9.4875\n",
      "electricity:   0\n",
      "percent_delay:   (1.002158683147895, 1.5713507080288427, 3.046247667223652, 1.5473792762028213, 0.4035096752391513)\n",
      "hours_spent_in_queues:   (0.0, 0.0, 2.6, 0.039612188365650974, 0.23521985770357895)\n",
      "hours_spent_charging:   (0, 0.0, 19, 0.6939058171745153, 2.2933582247019904)\n",
      "________________________________________\n",
      "Highest: 10\n",
      "Lowest: 4\n",
      "New Station: 54\n"
     ]
    },
    {
     "name": "stderr",
     "output_type": "stream",
     "text": [
      "/var/folders/_f/6t2tndbx7734ljm1cntkplyr0000gn/T/ipykernel_82313/2490304343.py:131: SettingWithCopyWarning: \n",
      "A value is trying to be set on a copy of a slice from a DataFrame.\n",
      "Try using .loc[row_indexer,col_indexer] = value instead\n",
      "\n",
      "See the caveats in the documentation: https://pandas.pydata.org/pandas-docs/stable/user_guide/indexing.html#returning-a-view-versus-a-copy\n",
      "  new_map_loc['charging_rate'] = scenario[0]\n",
      "/var/folders/_f/6t2tndbx7734ljm1cntkplyr0000gn/T/ipykernel_82313/2490304343.py:132: SettingWithCopyWarning: \n",
      "A value is trying to be set on a copy of a slice from a DataFrame.\n",
      "Try using .loc[row_indexer,col_indexer] = value instead\n",
      "\n",
      "See the caveats in the documentation: https://pandas.pydata.org/pandas-docs/stable/user_guide/indexing.html#returning-a-view-versus-a-copy\n",
      "  new_map_loc['physical_capacity'] = 8\n"
     ]
    },
    {
     "name": "stdout",
     "output_type": "stream",
     "text": [
      "Strongly connected components: 24\n",
      "Weakly connected components: 1\n",
      "Weakly connected?: True\n"
     ]
    },
    {
     "name": "stderr",
     "output_type": "stream",
     "text": [
      "100%|███████████████████████████████████████████| 12/12 [00:27<00:00,  2.31s/it]\n"
     ]
    },
    {
     "name": "stdout",
     "output_type": "stream",
     "text": [
      "name:  natalie_updated_2_algorithm_4\n",
      "success:  True\n",
      "station_utilization_disp_of_avg:   9.594791666666667\n",
      "station_utilization_avg_of_disp:   9.6265625\n",
      "electricity:   0\n",
      "percent_delay:   (1.002158683147895, 1.5713507080288427, 3.3624375703055263, 1.5616423071271697, 0.41476725824750965)\n",
      "hours_spent_in_queues:   (0.0, 0.0, 5.0, 0.12307692307692308, 0.4687247960458345)\n",
      "hours_spent_charging:   (0, 0.0, 17, 0.6562009419152276, 2.094962188648579)\n",
      "________________________________________\n",
      "Highest: 54\n",
      "Lowest: 5\n",
      "New Station: 163\n"
     ]
    },
    {
     "name": "stderr",
     "output_type": "stream",
     "text": [
      "/var/folders/_f/6t2tndbx7734ljm1cntkplyr0000gn/T/ipykernel_82313/2490304343.py:131: SettingWithCopyWarning: \n",
      "A value is trying to be set on a copy of a slice from a DataFrame.\n",
      "Try using .loc[row_indexer,col_indexer] = value instead\n",
      "\n",
      "See the caveats in the documentation: https://pandas.pydata.org/pandas-docs/stable/user_guide/indexing.html#returning-a-view-versus-a-copy\n",
      "  new_map_loc['charging_rate'] = scenario[0]\n",
      "/var/folders/_f/6t2tndbx7734ljm1cntkplyr0000gn/T/ipykernel_82313/2490304343.py:132: SettingWithCopyWarning: \n",
      "A value is trying to be set on a copy of a slice from a DataFrame.\n",
      "Try using .loc[row_indexer,col_indexer] = value instead\n",
      "\n",
      "See the caveats in the documentation: https://pandas.pydata.org/pandas-docs/stable/user_guide/indexing.html#returning-a-view-versus-a-copy\n",
      "  new_map_loc['physical_capacity'] = 8\n"
     ]
    },
    {
     "name": "stdout",
     "output_type": "stream",
     "text": [
      "Strongly connected components: 26\n",
      "Weakly connected components: 1\n",
      "Weakly connected?: True\n"
     ]
    },
    {
     "name": "stderr",
     "output_type": "stream",
     "text": [
      "100%|███████████████████████████████████████████| 12/12 [00:25<00:00,  2.09s/it]\n"
     ]
    },
    {
     "name": "stdout",
     "output_type": "stream",
     "text": [
      "name:  natalie_updated_2_algorithm_5\n",
      "success:  True\n",
      "station_utilization_disp_of_avg:   9.643229166666668\n",
      "station_utilization_avg_of_disp:   9.6765625\n",
      "electricity:   0\n",
      "percent_delay:   (1.002158683147895, 1.5713507080288427, 2.974464004501043, 1.5865594283700857, 0.409000216786264)\n",
      "hours_spent_in_queues:   (0.0, 0.0, 3.6, 0.0569640062597809, 0.3515370011537819)\n",
      "hours_spent_charging:   (0, 0.0, 14, 0.4694835680751174, 1.7599059805488528)\n",
      "________________________________________\n",
      "------- SCENARIO 3 -------\n",
      "Strongly connected components: 77\n",
      "Weakly connected components: 1\n",
      "Weakly connected?: True\n"
     ]
    },
    {
     "name": "stderr",
     "output_type": "stream",
     "text": [
      "100%|███████████████████████████████████████████| 12/12 [00:24<00:00,  2.06s/it]\n"
     ]
    },
    {
     "name": "stdout",
     "output_type": "stream",
     "text": [
      "name:  scenario3_wcctci\n",
      "success:  True\n",
      "station_utilization_disp_of_avg:   17.822916666666664\n",
      "station_utilization_avg_of_disp:   17.84140625\n",
      "electricity:   0\n",
      "percent_delay:   (1.0, 1.081176268014861, 4.34432244264521, 1.2900291539769166, 0.6653399962349117)\n",
      "hours_spent_in_queues:   (0.0, 0.0, 5.8, 0.310126582278481, 0.9743670372182308)\n",
      "hours_spent_charging:   (0, 0.0, 26, 1.7373417721518987, 5.056390669708065)\n",
      "________________________________________\n",
      "Highest: 8\n",
      "Lowest: 1\n",
      "New Station: 246\n"
     ]
    },
    {
     "name": "stderr",
     "output_type": "stream",
     "text": [
      "/var/folders/_f/6t2tndbx7734ljm1cntkplyr0000gn/T/ipykernel_82313/2490304343.py:131: SettingWithCopyWarning: \n",
      "A value is trying to be set on a copy of a slice from a DataFrame.\n",
      "Try using .loc[row_indexer,col_indexer] = value instead\n",
      "\n",
      "See the caveats in the documentation: https://pandas.pydata.org/pandas-docs/stable/user_guide/indexing.html#returning-a-view-versus-a-copy\n",
      "  new_map_loc['charging_rate'] = scenario[0]\n",
      "/var/folders/_f/6t2tndbx7734ljm1cntkplyr0000gn/T/ipykernel_82313/2490304343.py:132: SettingWithCopyWarning: \n",
      "A value is trying to be set on a copy of a slice from a DataFrame.\n",
      "Try using .loc[row_indexer,col_indexer] = value instead\n",
      "\n",
      "See the caveats in the documentation: https://pandas.pydata.org/pandas-docs/stable/user_guide/indexing.html#returning-a-view-versus-a-copy\n",
      "  new_map_loc['physical_capacity'] = 8\n"
     ]
    },
    {
     "name": "stdout",
     "output_type": "stream",
     "text": [
      "Strongly connected components: 75\n",
      "Weakly connected components: 1\n",
      "Weakly connected?: True\n"
     ]
    },
    {
     "name": "stderr",
     "output_type": "stream",
     "text": [
      "100%|███████████████████████████████████████████| 12/12 [00:25<00:00,  2.12s/it]\n"
     ]
    },
    {
     "name": "stdout",
     "output_type": "stream",
     "text": [
      "name:  natalie_updated_3_algorithm_1\n",
      "success:  True\n",
      "station_utilization_disp_of_avg:   13.34765625\n",
      "station_utilization_avg_of_disp:   13.448958333333334\n",
      "electricity:   0\n",
      "percent_delay:   (1.2754746876427756, 1.5445374743704288, 3.93888598426286, 1.7351854589226143, 0.5438723948689048)\n",
      "hours_spent_in_queues:   (0.0, 0.0, 4.4, 0.4803418803418803, 0.9469314048002813)\n",
      "hours_spent_charging:   (0, 0.0, 13, 1.7777777777777777, 3.3693213983916728)\n",
      "________________________________________\n",
      "Highest: 37\n",
      "Lowest: 2\n",
      "New Station: 292\n"
     ]
    },
    {
     "name": "stderr",
     "output_type": "stream",
     "text": [
      "/var/folders/_f/6t2tndbx7734ljm1cntkplyr0000gn/T/ipykernel_82313/2490304343.py:131: SettingWithCopyWarning: \n",
      "A value is trying to be set on a copy of a slice from a DataFrame.\n",
      "Try using .loc[row_indexer,col_indexer] = value instead\n",
      "\n",
      "See the caveats in the documentation: https://pandas.pydata.org/pandas-docs/stable/user_guide/indexing.html#returning-a-view-versus-a-copy\n",
      "  new_map_loc['charging_rate'] = scenario[0]\n",
      "/var/folders/_f/6t2tndbx7734ljm1cntkplyr0000gn/T/ipykernel_82313/2490304343.py:132: SettingWithCopyWarning: \n",
      "A value is trying to be set on a copy of a slice from a DataFrame.\n",
      "Try using .loc[row_indexer,col_indexer] = value instead\n",
      "\n",
      "See the caveats in the documentation: https://pandas.pydata.org/pandas-docs/stable/user_guide/indexing.html#returning-a-view-versus-a-copy\n",
      "  new_map_loc['physical_capacity'] = 8\n"
     ]
    },
    {
     "name": "stdout",
     "output_type": "stream",
     "text": [
      "Strongly connected components: 71\n",
      "Weakly connected components: 2\n",
      "Weakly connected?: False\n"
     ]
    },
    {
     "name": "stderr",
     "output_type": "stream",
     "text": [
      "  0%|                                                    | 0/12 [00:01<?, ?it/s]\n"
     ]
    },
    {
     "name": "stdout",
     "output_type": "stream",
     "text": [
      "name:  natalie_updated_3_algorithm_2\n",
      "success:  False\n",
      "Strongly connected components: 71\n",
      "Weakly connected components: 2\n",
      "Weakly connected?: False\n"
     ]
    },
    {
     "name": "stderr",
     "output_type": "stream",
     "text": [
      "  0%|                                                    | 0/12 [00:01<?, ?it/s]\n"
     ]
    },
    {
     "name": "stdout",
     "output_type": "stream",
     "text": [
      "name:  natalie_updated_3_algorithm_2\n",
      "success:  False\n",
      "Strongly connected components: 71\n",
      "Weakly connected components: 2\n",
      "Weakly connected?: False\n"
     ]
    },
    {
     "name": "stderr",
     "output_type": "stream",
     "text": [
      "  0%|                                                    | 0/12 [00:01<?, ?it/s]\n"
     ]
    },
    {
     "name": "stdout",
     "output_type": "stream",
     "text": [
      "name:  natalie_updated_3_algorithm_2\n",
      "success:  False\n",
      "Strongly connected components: 71\n",
      "Weakly connected components: 2\n",
      "Weakly connected?: False\n"
     ]
    },
    {
     "name": "stderr",
     "output_type": "stream",
     "text": [
      "  0%|                                                    | 0/12 [00:01<?, ?it/s]\n"
     ]
    },
    {
     "name": "stdout",
     "output_type": "stream",
     "text": [
      "name:  natalie_updated_3_algorithm_2\n",
      "success:  False\n",
      "------- SCENARIO 4 -------\n",
      "Strongly connected components: 77\n",
      "Weakly connected components: 1\n",
      "Weakly connected?: True\n"
     ]
    },
    {
     "name": "stderr",
     "output_type": "stream",
     "text": [
      "100%|███████████████████████████████████████████| 12/12 [00:24<00:00,  2.05s/it]\n"
     ]
    },
    {
     "name": "stdout",
     "output_type": "stream",
     "text": [
      "name:  scenario4_wcctci\n",
      "success:  True\n",
      "station_utilization_disp_of_avg:   18.067447916666666\n",
      "station_utilization_avg_of_disp:   18.08828125\n",
      "electricity:   0\n",
      "percent_delay:   (1.0, 1.081176268014861, 4.746862606115501, 1.2640261965397055, 0.6272033148042826)\n",
      "hours_spent_in_queues:   (0.0, 0.0, 6.0, 0.24096385542168675, 0.9064741896628358)\n",
      "hours_spent_charging:   (0, 0.0, 26, 1.7439759036144578, 5.271895806729277)\n",
      "________________________________________\n",
      "Highest: 8\n",
      "Lowest: 1\n",
      "New Station: 246\n"
     ]
    },
    {
     "name": "stderr",
     "output_type": "stream",
     "text": [
      "/var/folders/_f/6t2tndbx7734ljm1cntkplyr0000gn/T/ipykernel_82313/2490304343.py:131: SettingWithCopyWarning: \n",
      "A value is trying to be set on a copy of a slice from a DataFrame.\n",
      "Try using .loc[row_indexer,col_indexer] = value instead\n",
      "\n",
      "See the caveats in the documentation: https://pandas.pydata.org/pandas-docs/stable/user_guide/indexing.html#returning-a-view-versus-a-copy\n",
      "  new_map_loc['charging_rate'] = scenario[0]\n",
      "/var/folders/_f/6t2tndbx7734ljm1cntkplyr0000gn/T/ipykernel_82313/2490304343.py:132: SettingWithCopyWarning: \n",
      "A value is trying to be set on a copy of a slice from a DataFrame.\n",
      "Try using .loc[row_indexer,col_indexer] = value instead\n",
      "\n",
      "See the caveats in the documentation: https://pandas.pydata.org/pandas-docs/stable/user_guide/indexing.html#returning-a-view-versus-a-copy\n",
      "  new_map_loc['physical_capacity'] = 8\n"
     ]
    },
    {
     "name": "stdout",
     "output_type": "stream",
     "text": [
      "Strongly connected components: 75\n",
      "Weakly connected components: 1\n",
      "Weakly connected?: True\n"
     ]
    },
    {
     "name": "stderr",
     "output_type": "stream",
     "text": [
      "100%|███████████████████████████████████████████| 12/12 [00:25<00:00,  2.09s/it]\n"
     ]
    },
    {
     "name": "stdout",
     "output_type": "stream",
     "text": [
      "name:  natalie_updated_4_algorithm_1\n",
      "success:  True\n",
      "station_utilization_disp_of_avg:   15.456770833333334\n",
      "station_utilization_avg_of_disp:   15.488020833333334\n",
      "electricity:   0\n",
      "percent_delay:   (1.3259882524244162, 1.5445374743704288, 4.4962362371919875, 1.6776638207961714, 0.6295400153898025)\n",
      "hours_spent_in_queues:   (0.0, 0.0, 6.0, 0.37702702702702706, 1.135906269603084)\n",
      "hours_spent_charging:   (0, 0.0, 23, 1.2567567567567568, 3.898408583175096)\n",
      "________________________________________\n",
      "Highest: 8\n",
      "Lowest: 2\n",
      "New Station: 247\n"
     ]
    },
    {
     "name": "stderr",
     "output_type": "stream",
     "text": [
      "/var/folders/_f/6t2tndbx7734ljm1cntkplyr0000gn/T/ipykernel_82313/2490304343.py:131: SettingWithCopyWarning: \n",
      "A value is trying to be set on a copy of a slice from a DataFrame.\n",
      "Try using .loc[row_indexer,col_indexer] = value instead\n",
      "\n",
      "See the caveats in the documentation: https://pandas.pydata.org/pandas-docs/stable/user_guide/indexing.html#returning-a-view-versus-a-copy\n",
      "  new_map_loc['charging_rate'] = scenario[0]\n",
      "/var/folders/_f/6t2tndbx7734ljm1cntkplyr0000gn/T/ipykernel_82313/2490304343.py:132: SettingWithCopyWarning: \n",
      "A value is trying to be set on a copy of a slice from a DataFrame.\n",
      "Try using .loc[row_indexer,col_indexer] = value instead\n",
      "\n",
      "See the caveats in the documentation: https://pandas.pydata.org/pandas-docs/stable/user_guide/indexing.html#returning-a-view-versus-a-copy\n",
      "  new_map_loc['physical_capacity'] = 8\n"
     ]
    },
    {
     "name": "stdout",
     "output_type": "stream",
     "text": [
      "Strongly connected components: 73\n",
      "Weakly connected components: 2\n",
      "Weakly connected?: False\n"
     ]
    },
    {
     "name": "stderr",
     "output_type": "stream",
     "text": [
      "  0%|                                                    | 0/12 [00:01<?, ?it/s]\n"
     ]
    },
    {
     "name": "stdout",
     "output_type": "stream",
     "text": [
      "name:  natalie_updated_4_algorithm_2\n",
      "success:  False\n",
      "Strongly connected components: 73\n",
      "Weakly connected components: 2\n",
      "Weakly connected?: False\n"
     ]
    },
    {
     "name": "stderr",
     "output_type": "stream",
     "text": [
      "  0%|                                                    | 0/12 [00:01<?, ?it/s]\n"
     ]
    },
    {
     "name": "stdout",
     "output_type": "stream",
     "text": [
      "name:  natalie_updated_4_algorithm_2\n",
      "success:  False\n",
      "Strongly connected components: 73\n",
      "Weakly connected components: 2\n",
      "Weakly connected?: False\n"
     ]
    },
    {
     "name": "stderr",
     "output_type": "stream",
     "text": [
      "  0%|                                                    | 0/12 [00:01<?, ?it/s]\n"
     ]
    },
    {
     "name": "stdout",
     "output_type": "stream",
     "text": [
      "name:  natalie_updated_4_algorithm_2\n",
      "success:  False\n",
      "Strongly connected components: 73\n",
      "Weakly connected components: 2\n",
      "Weakly connected?: False\n"
     ]
    },
    {
     "name": "stderr",
     "output_type": "stream",
     "text": [
      "  0%|                                                    | 0/12 [00:01<?, ?it/s]"
     ]
    },
    {
     "name": "stdout",
     "output_type": "stream",
     "text": [
      "name:  natalie_updated_4_algorithm_2\n",
      "success:  False\n"
     ]
    },
    {
     "name": "stderr",
     "output_type": "stream",
     "text": [
      "\n"
     ]
    }
   ],
   "source": [
    "number_of_iterations = 5\n",
    "kwh_per_km = 1.9\n",
    "\n",
    "#scenario list: each list inside has three params : charging rate, kwh per km, and battery capacity.\n",
    "# scenario_list = [[45,1.9,215],[90,1.9,215],[45,0.95,215],[45,1.9,430],[90,0.95,430]] \n",
    "scenario_list = [[90,0.95,430], [45,1.9,430], [45,0.95,215], [90,1.9,215], [45,1.9,215]] \n",
    "\n",
    "columns = [\"scenario_number\", \"iteration\", \"charging_rate\", \"km_per_kwh\", \"battery_capacity\", \"success\",\n",
    "           \"station_utilization_disp_of_avg\", \"station_utilization_avg_of_disp\", \"electricity\",\n",
    "           \"percent_delay\", \"hours_spent_in_queues\", \"hours_spent_charging\"]\n",
    "results = [columns]\n",
    "\n",
    "def print_and_record_results(sim, scenario, s, n, success=True):\n",
    "    print(\"name: \", sim.name)\n",
    "    print(\"success: \", success)\n",
    "    \n",
    "    if success==True:\n",
    "        result = [s, n, scenario[0], scenario[1], scenario[2], True,\n",
    "           sim.metrics['station_utilization_disp_of_avg'], sim.metrics['station_utilization_avg_of_disp'], \n",
    "           sim.metrics['electricity'], sim.metrics['percent_delay'],\n",
    "           sim.metrics['hours_spent_in_queues'], sim.metrics['hours_spent_charging']]\n",
    "        print(\"station_utilization_disp_of_avg:  \", sim.metrics['station_utilization_disp_of_avg'])\n",
    "        print(\"station_utilization_avg_of_disp:  \", sim.metrics['station_utilization_avg_of_disp'])\n",
    "        print(\"electricity:  \", sim.metrics['electricity'])\n",
    "        print(\"percent_delay:  \", sim.metrics['percent_delay'])\n",
    "        print(\"hours_spent_in_queues:  \", sim.metrics['hours_spent_in_queues'])\n",
    "        print(\"hours_spent_charging:  \", sim.metrics['hours_spent_charging'])\n",
    "        print(\"________________________________________\")\n",
    "        results.append(result)\n",
    "    else:\n",
    "        result = [s, n, scenario[0], scenario[1], scenario[2], False, None, None, None, None, None, None]\n",
    "        results.append(result)\n",
    "\n",
    "for scenario, s in zip(scenario_list, range(0,len(scenario_list))):\n",
    "    \n",
    "    print('------- SCENARIO '+str(s)+' -------')\n",
    "    #initialize for wcctici\n",
    "    simulation_length = 12\n",
    "    battery_interval = 20\n",
    "    kwh_per_km = scenario[1]\n",
    "    battery_capacity = scenario[2]\n",
    "    stations_path = \"data/wcctci_stations-updated.csv\"\n",
    "    distances_path = \"data/wcctci_coord_distances.csv\"\n",
    "    name = \"scenario\"+str(s)+\"_wcctci\" \n",
    "    \n",
    "    for n in range(0, number_of_iterations):\n",
    "        \n",
    "        ### Print metrics\n",
    "        sim = Simulation(name, stations_path, distances_path, simulation_length, battery_interval, kwh_per_km, battery_capacity)\n",
    "        sim.add_demand_nodes()\n",
    "        try:\n",
    "            sim.run()\n",
    "            print_and_record_results(sim, scenario, s, n, True)\n",
    "        except:\n",
    "            print_and_record_results(sim, scenario, s, n, False)\n",
    "            continue\n",
    "\n",
    "        ### get station utilization\n",
    "\n",
    "        #get the station ids in order \n",
    "        current_stations = [int(j) for j in sim.station_g.nodes]\n",
    "\n",
    "#         #get the utilization rate of the stations\n",
    "#         utilization = sim.metrics['station_utilization']\n",
    "        \n",
    "        # Alternative utilization calculation \n",
    "        utilization = get_utilization(sim)\n",
    "        \n",
    "        avg_utilization = {}\n",
    "        for node in current_stations:\n",
    "            avg_utilization[node] = 0\n",
    "            for i in range(len(utilization)):\n",
    "                use_i = utilization[i]\n",
    "                try:\n",
    "                    avg_utilization[node] += use_i[str(node)]\n",
    "                except:\n",
    "                    avg_utilization[node] += 0\n",
    "\n",
    "            avg_utilization[node] = avg_utilization[node]/len(utilization)\n",
    "\n",
    "        utilization = [i for i in avg_utilization.values()]\n",
    "\n",
    "        #get the station that has the highest utilization.\n",
    "        h_st = current_stations[np.argmax(utilization)]\n",
    "\n",
    "        #get the station that has the lowest utilization.\n",
    "        l_st = current_stations[np.argmin(utilization)]\n",
    "\n",
    "        print(\"Highest:\", h_st)\n",
    "        print(\"Lowest:\", l_st)\n",
    "        ### Find the unused location that is closest to the highly utilized station\n",
    "\n",
    "        #get the map of all parking areas and stations\n",
    "        full_map_dist = pd.read_csv(\"data/charging_parking_distances_pemsingested.csv\")\n",
    "        full_map_loc = pd.read_csv(\"data/charging_parking_stations.csv\")\n",
    "\n",
    "        #keep only the roads that start or end with the high utilization station\n",
    "        h_map = full_map_dist[(full_map_dist.loc[:, 'OriginID'] == h_st) | (full_map_dist.loc[:, 'DestinationID'] == h_st)]\n",
    "\n",
    "        #then we eliminate all of the stations that are already being used.\n",
    "        using_st = current_stations.copy()\n",
    "        using_st.remove(h_st)\n",
    "        h_map = h_map[(~ h_map.loc[:, 'OriginID'].isin(using_st)) & (~ h_map.loc[:, 'DestinationID'].isin(using_st))]\n",
    "\n",
    "        #then we remove the case where we go from h_st to h_st\n",
    "        h_map = h_map[~ ((h_map.loc[:, 'OriginID'] == h_st) & (h_map.loc[:, 'DestinationID'] == h_st))]\n",
    "\n",
    "        #find the shortest edge. If there is more than one, we choose the first one that comes up (hence the 'reset_index' and [0] bellow)\n",
    "\n",
    "        new_origin = h_map[h_map.Total_TravelTime==h_map.Total_TravelTime.min()].reset_index()['OriginID'][0]\n",
    "        new_destination = h_map[h_map.Total_TravelTime==h_map.Total_TravelTime.min()].reset_index()['DestinationID'][0]\n",
    "\n",
    "        #one of the two will be h_st and the other will be the new station location. \n",
    "        if new_origin == h_st:\n",
    "            new_station = new_destination\n",
    "        else:\n",
    "            new_station = new_origin\n",
    "\n",
    "        print(\"New Station:\", new_station)\n",
    "        ### create the new maps with the locations and the distances of the stations that we will be using next\n",
    "\n",
    "        new_stations_list = current_stations + [new_station]\n",
    "        new_stations_list.remove(l_st)\n",
    "\n",
    "        #now we reduce these to the new set of stations. All origins and destinations should be in this list.\n",
    "        new_map_dist = full_map_dist[(full_map_dist.loc[:, 'OriginID'].isin(new_stations_list)) & (full_map_dist.loc[:, 'DestinationID'].isin(new_stations_list))]\n",
    "        new_map_loc = full_map_loc[full_map_loc.loc[:, 'OID_'].isin(new_stations_list)]\n",
    "\n",
    "        #we add the charging rates and capacity- assuming that they are the same as the others (set to 45 and 8)\n",
    "        #TO DO: check this\n",
    "        new_map_loc['charging_rate'] = scenario[0]\n",
    "        new_map_loc['physical_capacity'] = 8\n",
    "\n",
    "        #we change the snapX and snapY columns to lon and lat \n",
    "        new_map_loc = new_map_loc.rename(columns = {'SnapX': 'longitude', 'SnapY': 'latitude'})\n",
    "\n",
    "        #now we save them. \n",
    "        new_map_loc.to_csv(\"data/algorithm_\"+str(n+1)+\"_stations.csv\") \n",
    "        new_map_dist.to_csv(\"data/algorithm_\"+str(n+1)+\"_distances.csv\")\n",
    "\n",
    "\n",
    "        #reset the variables for the next iteration\n",
    "        stations_path = \"data/algorithm_\"+str(n+1)+\"_stations.csv\"\n",
    "        distances_path = \"data/algorithm_\"+str(n+1)+\"_distances.csv\"\n",
    "        name = \"natalie_updated_\"+str(s)+\"_algorithm_\"+str(n+1)\n",
    "\n",
    "    #we run the simulation for the final alocation\n",
    "\n",
    "    ### run the simulation\n",
    "\n",
    "    sim = Simulation(name, stations_path, distances_path, simulation_length, battery_interval, kwh_per_km, battery_capacity)\n",
    "    sim.add_demand_nodes()\n",
    "    \n",
    "    try:\n",
    "        sim.run()\n",
    "        print_and_record_results(sim, scenario, s, n, True)\n",
    "    except:\n",
    "        print_and_record_results(sim, scenario, s, n, False)\n",
    "        \n",
    "\n",
    "pd.DataFrame(results).to_csv(\"algorithm_run_reverse_trial.csv\")"
   ]
  },
  {
   "cell_type": "code",
   "execution_count": 26,
   "id": "c605678f",
   "metadata": {
    "scrolled": true
   },
   "outputs": [
    {
     "data": {
      "text/plain": [
       "[0.0,\n",
       " 0.03958333333333333,\n",
       " 0.0,\n",
       " 0.0,\n",
       " 1.3770833333333334,\n",
       " 0.0,\n",
       " 1.5770833333333334,\n",
       " 0.47291666666666665,\n",
       " 0.0,\n",
       " 0.0,\n",
       " 0.0,\n",
       " 0.49166666666666664,\n",
       " 0.0,\n",
       " 0.0,\n",
       " 0.0,\n",
       " 0.0,\n",
       " 0.0,\n",
       " 0.0,\n",
       " 0.0,\n",
       " 0.0,\n",
       " 0.0,\n",
       " 0.0,\n",
       " 0.0,\n",
       " 0.0,\n",
       " 0.0,\n",
       " 0.0,\n",
       " 0.4979166666666667,\n",
       " 0.0,\n",
       " 0.29791666666666666,\n",
       " 0.0,\n",
       " 0.0,\n",
       " 1.2770833333333333,\n",
       " 0.0,\n",
       " 0.0,\n",
       " 0.0,\n",
       " 0.0,\n",
       " 0.0,\n",
       " 0.0,\n",
       " 0.0,\n",
       " 2.59375,\n",
       " 4.314583333333333,\n",
       " 0.0,\n",
       " 0.0]"
      ]
     },
     "execution_count": 26,
     "metadata": {},
     "output_type": "execute_result"
    }
   ],
   "source": [
    "utilization"
   ]
  },
  {
   "cell_type": "code",
   "execution_count": 22,
   "id": "59ae31df",
   "metadata": {},
   "outputs": [],
   "source": [
    "# avg_utilization = {}\n",
    "# for node in current_stations:\n",
    "#     avg_utilization[node] = 0\n",
    "#     for i in range(len(utilization)):\n",
    "#         use_i = utilization[i]\n",
    "#         try:\n",
    "#             avg_utilization[node] += use_i[str(node)]\n",
    "#         except:\n",
    "#             avg_utilization[node] += 0\n",
    "    \n",
    "#     avg_utilization[node] = avg_utilization[node]/len(utilization)\n",
    "\n",
    "# utilization_list = [i for i in avg_utilization.values()]"
   ]
  },
  {
   "cell_type": "markdown",
   "id": "d8e445d9",
   "metadata": {},
   "source": [
    "## Bellow this is  just code I used to think about/ build the algorithm above (Just ignore).\n",
    "### I was thinking about just one iteration, starting from the wcctci pickle."
   ]
  },
  {
   "cell_type": "code",
   "execution_count": null,
   "id": "ecc00961",
   "metadata": {},
   "outputs": [],
   "source": [
    "#open the pickle\n",
    "with open('trials/wcctci_04_04_2022_12_15_28.pkl', 'rb') as inp:\n",
    "    res = pickle.load(inp)"
   ]
  },
  {
   "cell_type": "markdown",
   "id": "91560706",
   "metadata": {},
   "source": [
    "Get the highest and lowest utilized stations:"
   ]
  },
  {
   "cell_type": "code",
   "execution_count": null,
   "id": "2887bbae",
   "metadata": {},
   "outputs": [],
   "source": [
    "#get station utilization\n",
    "\n",
    "#get the station ids in order \n",
    "current_stations = list(res.station_g.nodes)\n",
    "\n",
    "#get the utilization rate of the stations\n",
    "utilization = res.metrics['station_utilization']\n",
    "\n",
    "#get the station that has the highest utilization.\n",
    "h_st = current_stations[np.argmax(utilization)]\n",
    "\n",
    "#get the station that has the lowest utilization.\n",
    "l_st = current_stations[np.argmin(utilization)]"
   ]
  },
  {
   "cell_type": "markdown",
   "id": "42b52f0a",
   "metadata": {},
   "source": [
    "Find the unused location that is closest to the highly utilized station:"
   ]
  },
  {
   "cell_type": "code",
   "execution_count": null,
   "id": "634f88f5",
   "metadata": {},
   "outputs": [],
   "source": [
    "#get the map of all parking areas and stations\n",
    "full_map_dist = pd.read_csv(\"data/charging_parking_distances.csv\")\n",
    "\n",
    "#keep only the roads that start or end with the high utilization station\n",
    "h_map = full_map_dist[(full_map_dist.loc[:, 'OriginID'] == h_st) | (full_map_dist.loc[:, 'DestinationID'] == h_st)]\n",
    "\n",
    "#then we eliminate all of the stations that are already being used.\n",
    "using_st = current_stations.copy()\n",
    "using_st.remove(h_st)\n",
    "h_map = h_map[(~ h_map.loc[:, 'OriginID'].isin(using_st)) & (~ h_map.loc[:, 'DestinationID'].isin(using_st))]\n",
    "\n",
    "#then we remove the case where we go from h_st to h_st\n",
    "h_map = h_map[~ ((h_map.loc[:, 'OriginID'] == h_st) & (h_map.loc[:, 'DestinationID'] == h_st))]\n",
    "\n",
    "#find the shortest edge. If there is more than one, we choose the first one that comes up (hence the 'reset_index' and [0] bellow)\n",
    "\n",
    "new_origin = h_map[h_map.Total_TravelTime==h_map.Total_TravelTime.min()].reset_index()['OriginID'][0]\n",
    "new_destination = h_map[h_map.Total_TravelTime==h_map.Total_TravelTime.min()].reset_index()['DestinationID'][0]\n",
    "\n",
    "#one of the two will be h_st and the other will be the new station location. \n",
    "if new_origin == h_st:\n",
    "    new_station = new_destination\n",
    "else:\n",
    "    new_station = new_origin"
   ]
  },
  {
   "cell_type": "markdown",
   "id": "135323d6",
   "metadata": {},
   "source": [
    "Now we start to think about re-runing the simulation with this swap (taking out l_st and adding new_station). To do this, we need to create a new map with the locations and the distances of the stations that we will be using next."
   ]
  },
  {
   "cell_type": "code",
   "execution_count": null,
   "id": "ac180c97",
   "metadata": {},
   "outputs": [],
   "source": [
    "new_stations_list = current_stations + [new_station]"
   ]
  },
  {
   "cell_type": "code",
   "execution_count": null,
   "id": "e3446cb6",
   "metadata": {},
   "outputs": [],
   "source": [
    "#we have \"full_map_dist\" (distances map)\n",
    "#and we need the locations map\n",
    "full_map_loc = pd.read_csv(\"data/charging_parking_stations.csv\")\n",
    "\n",
    "#now we reduce these to the new set of stations. All origins and destinations should be in this list.\n",
    "new_map_dist = full_map_dist[(full_map_dist.loc[:, 'OriginID'].isin(new_stations_list)) & (full_map_dist.loc[:, 'DestinationID'].isin(new_stations_list))]\n",
    "new_map_loc = full_map_loc[(full_map_loc.loc[:, 'OriginID'].isin(new_stations_list)) & (full_map_loc.loc[:, 'DestinationID'].isin(new_stations_list))]"
   ]
  },
  {
   "cell_type": "code",
   "execution_count": null,
   "id": "df54e7f5",
   "metadata": {},
   "outputs": [],
   "source": [
    "#now we save them. \n",
    "new_map_loc.to_csv(\"data/algorithm_\"+str(1)+\"_stations.csv\") ########change the 1\n",
    "new_map_dist.to_csv(\"data/algorithm_\"+str(1)+\"_distances.csv\")"
   ]
  },
  {
   "cell_type": "markdown",
   "id": "e5aaee2b",
   "metadata": {},
   "source": [
    "Now we can run the next simulation"
   ]
  },
  {
   "cell_type": "code",
   "execution_count": null,
   "id": "99c13442",
   "metadata": {},
   "outputs": [],
   "source": [
    "simulation_length = 12\n",
    "battery_interval = 20\n",
    "km_per_percent = 3.13\n",
    "\n",
    "sim = Simulation(\"data/algorithm_\"+str(1)+\"_stations.csv\", \"data/algorithm_\"+str(1)+\"_distances.csv\", simulation_length, battery_interval, km_per_percent)"
   ]
  },
  {
   "cell_type": "markdown",
   "id": "08db5eeb",
   "metadata": {},
   "source": [
    "# Anna"
   ]
  },
  {
   "cell_type": "code",
   "execution_count": null,
   "id": "aa713156",
   "metadata": {},
   "outputs": [],
   "source": [
    "stations_path = \"data/wcctci_stations-updated.csv\"\n",
    "distances_path = \"data/wcctci_coord_distances.csv\"\n",
    "# stations_df, distances_df = select_dataset(stations_csv_path, distances_csv_path)\n",
    "# station_g = get_station_g(stations_df, distances_df)\n",
    "# battery_g = layer_graph(station_g, 20, km_per_percent= 1.9)\n",
    "simulation_length = 24\n",
    "battery_interval = 20\n",
    "kwh_per_km = 1.9\n",
    "battery_capacity = 215\n",
    "name = 'hi'\n",
    "sim = Simulation(name, stations_path, distances_path, simulation_length, battery_interval, kwh_per_km, battery_capacity)\n",
    "sim.add_demand_nodes()"
   ]
  },
  {
   "cell_type": "code",
   "execution_count": null,
   "id": "171b8748",
   "metadata": {},
   "outputs": [],
   "source": [
    "sim.battery_g.nodes"
   ]
  },
  {
   "cell_type": "code",
   "execution_count": null,
   "id": "00638c0d",
   "metadata": {},
   "outputs": [],
   "source": [
    "nx.shortest_path(sim.battery_g, \"Long Beach\", \"Reno\")"
   ]
  },
  {
   "cell_type": "code",
   "execution_count": null,
   "id": "10798fad",
   "metadata": {},
   "outputs": [],
   "source": []
  }
 ],
 "metadata": {
  "kernelspec": {
   "display_name": "Python 3 (ipykernel)",
   "language": "python",
   "name": "python3"
  },
  "language_info": {
   "codemirror_mode": {
    "name": "ipython",
    "version": 3
   },
   "file_extension": ".py",
   "mimetype": "text/x-python",
   "name": "python",
   "nbconvert_exporter": "python",
   "pygments_lexer": "ipython3",
   "version": "3.8.8"
  }
 },
 "nbformat": 4,
 "nbformat_minor": 5
}
