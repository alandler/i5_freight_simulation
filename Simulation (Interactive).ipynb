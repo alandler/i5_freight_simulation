{
 "cells": [
  {
   "cell_type": "markdown",
   "metadata": {},
   "source": [
    "# Import"
   ]
  },
  {
   "cell_type": "code",
   "execution_count": 1,
   "metadata": {},
   "outputs": [],
   "source": [
    "import networkx as nx\n",
    "import numpy as np\n",
    "import pandas as pd\n",
    "import matplotlib.pyplot as plt\n",
    "\n",
    "import random\n",
    "import copy\n",
    "\n",
    "import scipy.stats as ss\n",
    "from scipy.stats import norm\n",
    "from scipy.stats import poisson\n",
    "from scipy import spatial\n",
    "\n",
    "# import code\n",
    "from simulation import Simulation\n",
    "from replicate_graph import layer_graph\n",
    "import data\n",
    "from data import select_dataset, get_station_g, set_random_speed_columns\n",
    "from visualization import set_draw_attributes\n",
    "\n",
    "import os\n",
    "\n",
    "import re\n",
    "from tqdm import tqdm"
   ]
  },
  {
   "cell_type": "markdown",
   "metadata": {},
   "source": [
    "# Simulation"
   ]
  },
  {
   "cell_type": "markdown",
   "metadata": {},
   "source": [
    "Select the appropriate dataset for the experiment you want to run. You will need to add random speed columns (assuming GIS free flow extraction) if not already present (uncomment ```set_random_speed_columns()```)"
   ]
  },
  {
   "cell_type": "code",
   "execution_count": 2,
   "metadata": {},
   "outputs": [
    {
     "data": {
      "text/html": [
       "<div>\n",
       "<style scoped>\n",
       "    .dataframe tbody tr th:only-of-type {\n",
       "        vertical-align: middle;\n",
       "    }\n",
       "\n",
       "    .dataframe tbody tr th {\n",
       "        vertical-align: top;\n",
       "    }\n",
       "\n",
       "    .dataframe thead th {\n",
       "        text-align: right;\n",
       "    }\n",
       "</style>\n",
       "<table border=\"1\" class=\"dataframe\">\n",
       "  <thead>\n",
       "    <tr style=\"text-align: right;\">\n",
       "      <th></th>\n",
       "      <th>Unnamed: 0</th>\n",
       "      <th>OID_</th>\n",
       "      <th>Name</th>\n",
       "      <th>TargetDestinationCount</th>\n",
       "      <th>SourceID</th>\n",
       "      <th>SourceOID</th>\n",
       "      <th>PosAlong</th>\n",
       "      <th>SideOfEdge</th>\n",
       "      <th>CurbApproach</th>\n",
       "      <th>Status</th>\n",
       "      <th>...</th>\n",
       "      <th>Cutoff_Minutes</th>\n",
       "      <th>Cutoff_TravelTime</th>\n",
       "      <th>Cutoff_Miles</th>\n",
       "      <th>Cutoff_Kilometers</th>\n",
       "      <th>Cutoff_TimeAt1KPH</th>\n",
       "      <th>Cutoff_WalkTime</th>\n",
       "      <th>Cutoff_TruckMinutes</th>\n",
       "      <th>Cutoff_TruckTravelTime</th>\n",
       "      <th>physical_capacity</th>\n",
       "      <th>charging_rate</th>\n",
       "    </tr>\n",
       "  </thead>\n",
       "  <tbody>\n",
       "    <tr>\n",
       "      <th>0</th>\n",
       "      <td>0</td>\n",
       "      <td>1</td>\n",
       "      <td>MD/HD-0</td>\n",
       "      <td>NaN</td>\n",
       "      <td>1</td>\n",
       "      <td>7856914</td>\n",
       "      <td>0.987926</td>\n",
       "      <td>1</td>\n",
       "      <td>0</td>\n",
       "      <td>0</td>\n",
       "      <td>...</td>\n",
       "      <td>NaN</td>\n",
       "      <td>NaN</td>\n",
       "      <td>NaN</td>\n",
       "      <td>NaN</td>\n",
       "      <td>NaN</td>\n",
       "      <td>NaN</td>\n",
       "      <td>NaN</td>\n",
       "      <td>NaN</td>\n",
       "      <td>8</td>\n",
       "      <td>45</td>\n",
       "    </tr>\n",
       "  </tbody>\n",
       "</table>\n",
       "<p>1 rows × 24 columns</p>\n",
       "</div>"
      ],
      "text/plain": [
       "   Unnamed: 0  OID_     Name  TargetDestinationCount  SourceID  SourceOID  \\\n",
       "0           0     1  MD/HD-0                     NaN         1    7856914   \n",
       "\n",
       "   PosAlong  SideOfEdge  CurbApproach  Status  ...  Cutoff_Minutes  \\\n",
       "0  0.987926           1             0       0  ...             NaN   \n",
       "\n",
       "   Cutoff_TravelTime  Cutoff_Miles  Cutoff_Kilometers  Cutoff_TimeAt1KPH  \\\n",
       "0                NaN           NaN                NaN                NaN   \n",
       "\n",
       "   Cutoff_WalkTime  Cutoff_TruckMinutes  Cutoff_TruckTravelTime  \\\n",
       "0              NaN                  NaN                     NaN   \n",
       "\n",
       "   physical_capacity  charging_rate  \n",
       "0                  8             45  \n",
       "\n",
       "[1 rows x 24 columns]"
      ]
     },
     "execution_count": 2,
     "metadata": {},
     "output_type": "execute_result"
    }
   ],
   "source": [
    "stations_df, distances_df = select_dataset(\"wcctci\")\n",
    "stations_df.head(1)"
   ]
  },
  {
   "cell_type": "markdown",
   "metadata": {},
   "source": [
    "Intialize the simulation with basic parameters."
   ]
  },
  {
   "cell_type": "code",
   "execution_count": 3,
   "metadata": {},
   "outputs": [],
   "source": [
    "simulation_length = 24\n",
    "battery_interval = 20\n",
    "km_per_percent = 10\n",
    "sim = Simulation(stations_df, distances_df, simulation_length, battery_interval, km_per_percent)"
   ]
  },
  {
   "cell_type": "markdown",
   "metadata": {},
   "source": [
    "Add source and destination nodes, with custom or random distributions."
   ]
  },
  {
   "cell_type": "code",
   "execution_count": 4,
   "metadata": {},
   "outputs": [],
   "source": [
    "# Run this cell for custom distributions\n",
    "\n",
    "# src_dstr = [10,20,30,40,50,60,50,40,30,20,30,40,50,60,50,40,30,20,10,5,0,0,0,0]\n",
    "# sim.add_src(\"0\",src_dstr)\n",
    "\n",
    "# sim.add_dst(\"0\",5)"
   ]
  },
  {
   "cell_type": "code",
   "execution_count": 5,
   "metadata": {},
   "outputs": [],
   "source": [
    "# Run this cell for random (you can set average source volumes and stdevs, else default)\n",
    "\n",
    "sim.random_srcs()\n",
    "sim.random_dsts()"
   ]
  },
  {
   "cell_type": "code",
   "execution_count": 6,
   "metadata": {},
   "outputs": [
    {
     "ename": "IndexError",
     "evalue": "list index out of range",
     "output_type": "error",
     "traceback": [
      "\u001b[0;31m---------------------------------------------------------------------------\u001b[0m",
      "\u001b[0;31mIndexError\u001b[0m                                Traceback (most recent call last)",
      "\u001b[0;32m<ipython-input-6-7c6cd8add6f4>\u001b[0m in \u001b[0;36m<module>\u001b[0;34m\u001b[0m\n\u001b[0;32m----> 1\u001b[0;31m \u001b[0msim\u001b[0m\u001b[0;34m.\u001b[0m\u001b[0mrun\u001b[0m\u001b[0;34m(\u001b[0m\u001b[0;34m)\u001b[0m\u001b[0;34m\u001b[0m\u001b[0;34m\u001b[0m\u001b[0m\n\u001b[0m",
      "\u001b[0;32m~/Library/CloudStorage/OneDrive-MassachusettsInstituteofTechnology/1.013/simulation/simulation.py\u001b[0m in \u001b[0;36mrun\u001b[0;34m(self)\u001b[0m\n\u001b[1;32m    229\u001b[0m         \u001b[0;32mfor\u001b[0m \u001b[0mh_step\u001b[0m \u001b[0;32min\u001b[0m \u001b[0mrange\u001b[0m\u001b[0;34m(\u001b[0m\u001b[0mself\u001b[0m\u001b[0;34m.\u001b[0m\u001b[0msimulation_length\u001b[0m\u001b[0;34m)\u001b[0m\u001b[0;34m:\u001b[0m \u001b[0;31m# go for simulation_length in hours\u001b[0m\u001b[0;34m\u001b[0m\u001b[0;34m\u001b[0m\u001b[0m\n\u001b[1;32m    230\u001b[0m             \u001b[0;32mfor\u001b[0m \u001b[0mi_step\u001b[0m \u001b[0;32min\u001b[0m \u001b[0mrange\u001b[0m\u001b[0;34m(\u001b[0m\u001b[0mint\u001b[0m\u001b[0;34m(\u001b[0m\u001b[0;36m1\u001b[0m\u001b[0;34m/\u001b[0m\u001b[0mself\u001b[0m\u001b[0;34m.\u001b[0m\u001b[0mtime_interval\u001b[0m\u001b[0;34m)\u001b[0m\u001b[0;34m)\u001b[0m\u001b[0;34m:\u001b[0m \u001b[0;31m# go in interval segments\u001b[0m\u001b[0;34m\u001b[0m\u001b[0;34m\u001b[0m\u001b[0m\n\u001b[0;32m--> 231\u001b[0;31m                 \u001b[0mself\u001b[0m\u001b[0;34m.\u001b[0m\u001b[0mstep\u001b[0m\u001b[0;34m(\u001b[0m\u001b[0mh_step\u001b[0m\u001b[0;34m,\u001b[0m\u001b[0mi_step\u001b[0m\u001b[0;34m)\u001b[0m\u001b[0;34m\u001b[0m\u001b[0;34m\u001b[0m\u001b[0m\n\u001b[0m\u001b[1;32m    232\u001b[0m                 \u001b[0mself\u001b[0m\u001b[0;34m.\u001b[0m\u001b[0msimulation_index\u001b[0m \u001b[0;34m+=\u001b[0m \u001b[0;36m1\u001b[0m\u001b[0;34m\u001b[0m\u001b[0;34m\u001b[0m\u001b[0m\n\u001b[1;32m    233\u001b[0m                 \u001b[0mself\u001b[0m\u001b[0;34m.\u001b[0m\u001b[0mrecord_data\u001b[0m\u001b[0;34m(\u001b[0m\u001b[0;34m)\u001b[0m\u001b[0;34m\u001b[0m\u001b[0;34m\u001b[0m\u001b[0m\n",
      "\u001b[0;32m~/Library/CloudStorage/OneDrive-MassachusettsInstituteofTechnology/1.013/simulation/simulation.py\u001b[0m in \u001b[0;36mstep\u001b[0;34m(self, h_step, i_step)\u001b[0m\n\u001b[1;32m    219\u001b[0m             \u001b[0mdestinations\u001b[0m \u001b[0;34m=\u001b[0m \u001b[0mself\u001b[0m\u001b[0;34m.\u001b[0m\u001b[0mget_random_destination\u001b[0m\u001b[0;34m(\u001b[0m\u001b[0mnum_trucks_released\u001b[0m\u001b[0;34m)\u001b[0m\u001b[0;34m\u001b[0m\u001b[0;34m\u001b[0m\u001b[0m\n\u001b[1;32m    220\u001b[0m             \u001b[0;32mfor\u001b[0m \u001b[0mtruck_i\u001b[0m \u001b[0;32min\u001b[0m \u001b[0mrange\u001b[0m\u001b[0;34m(\u001b[0m\u001b[0mnum_trucks_released\u001b[0m\u001b[0;34m)\u001b[0m\u001b[0;34m:\u001b[0m \u001b[0;31m# get shortest paths for each truck\u001b[0m\u001b[0;34m\u001b[0m\u001b[0;34m\u001b[0m\u001b[0m\n\u001b[0;32m--> 221\u001b[0;31m                 \u001b[0mtruck\u001b[0m \u001b[0;34m=\u001b[0m \u001b[0mVehicle\u001b[0m\u001b[0;34m(\u001b[0m\u001b[0mself\u001b[0m\u001b[0;34m,\u001b[0m \u001b[0msrc\u001b[0m\u001b[0;34m,\u001b[0m \u001b[0mdestinations\u001b[0m\u001b[0;34m[\u001b[0m\u001b[0mtruck_i\u001b[0m\u001b[0;34m]\u001b[0m\u001b[0;34m,\u001b[0m \u001b[0mself\u001b[0m\u001b[0;34m.\u001b[0m\u001b[0msimulation_index\u001b[0m\u001b[0;34m)\u001b[0m\u001b[0;34m\u001b[0m\u001b[0;34m\u001b[0m\u001b[0m\n\u001b[0m\u001b[1;32m    222\u001b[0m                 \u001b[0mself\u001b[0m\u001b[0;34m.\u001b[0m\u001b[0mvehicle_list\u001b[0m\u001b[0;34m.\u001b[0m\u001b[0mappend\u001b[0m\u001b[0;34m(\u001b[0m\u001b[0mtruck\u001b[0m\u001b[0;34m)\u001b[0m\u001b[0;34m\u001b[0m\u001b[0;34m\u001b[0m\u001b[0m\n\u001b[1;32m    223\u001b[0m                 \u001b[0mshortest_path\u001b[0m \u001b[0;34m=\u001b[0m \u001b[0mnx\u001b[0m\u001b[0;34m.\u001b[0m\u001b[0mshortest_path\u001b[0m\u001b[0;34m(\u001b[0m\u001b[0mself\u001b[0m\u001b[0;34m.\u001b[0m\u001b[0mbattery_g\u001b[0m\u001b[0;34m,\u001b[0m \u001b[0msrc\u001b[0m\u001b[0;34m,\u001b[0m \u001b[0mdestinations\u001b[0m\u001b[0;34m[\u001b[0m\u001b[0mtruck_i\u001b[0m\u001b[0;34m]\u001b[0m\u001b[0;34m)\u001b[0m\u001b[0;34m\u001b[0m\u001b[0;34m\u001b[0m\u001b[0m\n",
      "\u001b[0;32m~/Library/CloudStorage/OneDrive-MassachusettsInstituteofTechnology/1.013/simulation/vehicle.py\u001b[0m in \u001b[0;36m__init__\u001b[0;34m(self, simulation, src, dst, start_time)\u001b[0m\n\u001b[1;32m     21\u001b[0m         \u001b[0mself\u001b[0m\u001b[0;34m.\u001b[0m\u001b[0mlocations\u001b[0m \u001b[0;34m=\u001b[0m \u001b[0;34m[\u001b[0m\u001b[0;34m]\u001b[0m\u001b[0;34m\u001b[0m\u001b[0;34m\u001b[0m\u001b[0m\n\u001b[1;32m     22\u001b[0m         \u001b[0mself\u001b[0m\u001b[0;34m.\u001b[0m\u001b[0mpath_i\u001b[0m \u001b[0;34m=\u001b[0m \u001b[0;36m0\u001b[0m\u001b[0;34m\u001b[0m\u001b[0;34m\u001b[0m\u001b[0m\n\u001b[0;32m---> 23\u001b[0;31m         \u001b[0mself\u001b[0m\u001b[0;34m.\u001b[0m\u001b[0mlocation\u001b[0m \u001b[0;34m=\u001b[0m \u001b[0;34m(\u001b[0m\u001b[0mself\u001b[0m\u001b[0;34m.\u001b[0m\u001b[0mpath\u001b[0m\u001b[0;34m[\u001b[0m\u001b[0;36m0\u001b[0m\u001b[0;34m]\u001b[0m\u001b[0;34m,\u001b[0m\u001b[0mself\u001b[0m\u001b[0;34m.\u001b[0m\u001b[0mpath\u001b[0m\u001b[0;34m[\u001b[0m\u001b[0;36m1\u001b[0m\u001b[0;34m]\u001b[0m\u001b[0;34m)\u001b[0m \u001b[0;31m# (src, dst)\u001b[0m\u001b[0;34m\u001b[0m\u001b[0;34m\u001b[0m\u001b[0m\n\u001b[0m\u001b[1;32m     24\u001b[0m         \u001b[0mself\u001b[0m\u001b[0;34m.\u001b[0m\u001b[0mdistance_along_segment\u001b[0m \u001b[0;34m=\u001b[0m \u001b[0;36m0\u001b[0m \u001b[0;31m# km or battery % travelled so far\u001b[0m\u001b[0;34m\u001b[0m\u001b[0;34m\u001b[0m\u001b[0m\n\u001b[1;32m     25\u001b[0m         \u001b[0mself\u001b[0m\u001b[0;34m.\u001b[0m\u001b[0mtravel_time\u001b[0m \u001b[0;34m=\u001b[0m \u001b[0;36m0\u001b[0m \u001b[0;31m# total time in transit btw origin and destination\u001b[0m\u001b[0;34m\u001b[0m\u001b[0;34m\u001b[0m\u001b[0m\n",
      "\u001b[0;31mIndexError\u001b[0m: list index out of range"
     ]
    }
   ],
   "source": [
    "sim.run()"
   ]
  },
  {
   "cell_type": "code",
   "execution_count": null,
   "metadata": {},
   "outputs": [],
   "source": [
    "sim.data"
   ]
  },
  {
   "cell_type": "code",
   "execution_count": null,
   "metadata": {},
   "outputs": [],
   "source": [
    "for v in sim.vehicle_list:\n",
    "    print(v.path)"
   ]
  },
  {
   "cell_type": "code",
   "execution_count": null,
   "metadata": {},
   "outputs": [],
   "source": [
    "for v in sim.vehicle_list:\n",
    "    print(v.location, \":\", v.distance_along_segment)"
   ]
  },
  {
   "cell_type": "code",
   "execution_count": null,
   "metadata": {},
   "outputs": [],
   "source": [
    "sim.battery_G\n",
    "labels = {node:node[-2:] if \"in\" in node else node[-3:] for node in list(sim.battery_G.nodes)}\n",
    "pos, edge_colors = set_draw_attributes(sim.battery_G, station_G)\n",
    "edge_labels = nx.get_edge_attributes(sim.battery_G,'weight')\n",
    "nx.draw(sim.battery_G, pos = pos, labels = labels, edge_color = list(edge_colors.values()), \n",
    "        font_size = 8, font_color=\"white\", node_color=\"black\")\n",
    "nx.draw_networkx_edge_labels(sim.battery_G, pos, edge_labels=edge_labels)"
   ]
  },
  {
   "cell_type": "markdown",
   "metadata": {},
   "source": [
    "# Animation\n",
    "TODO"
   ]
  },
  {
   "cell_type": "markdown",
   "metadata": {},
   "source": [
    "# Create graphs from csv's"
   ]
  },
  {
   "cell_type": "code",
   "execution_count": null,
   "metadata": {},
   "outputs": [],
   "source": [
    "stations_df.set_index(\"OID_\").loc[228][\"st_prv_cod\"]"
   ]
  },
  {
   "cell_type": "code",
   "execution_count": null,
   "metadata": {},
   "outputs": [],
   "source": [
    "distances_df.head(2)"
   ]
  },
  {
   "cell_type": "code",
   "execution_count": null,
   "metadata": {},
   "outputs": [],
   "source": [
    "increment = 50\n",
    "station_G = get_station_G()\n",
    "G = layer_graph(station_G, increment)\n",
    "G.nodes;"
   ]
  },
  {
   "cell_type": "markdown",
   "metadata": {},
   "source": [
    "# Visualize general data structure"
   ]
  },
  {
   "cell_type": "code",
   "execution_count": null,
   "metadata": {},
   "outputs": [],
   "source": [
    "# print(list(stations_df[\"OID_\"]))\n",
    "# print(station_G.nodes)\n",
    "stations_df.head(1)"
   ]
  },
  {
   "cell_type": "code",
   "execution_count": null,
   "metadata": {},
   "outputs": [],
   "source": [
    "# Set colors\n",
    "for node in station_G.nodes:\n",
    "    station_G.nodes[node][\"color\"] = \"green\"\n",
    "    station_G.nodes[node][\"node_size\"] = 400\n",
    "    \n",
    "station_G.nodes[\"465\"][\"color\"] = \"blue\" \n",
    "station_G.nodes[\"1\"][\"color\"] = \"blue\" \n",
    "station_G.nodes[\"465\"][\"node_size\"] = 400 \n",
    "station_G.nodes[\"1\"][\"node_size\"] = 400 "
   ]
  },
  {
   "cell_type": "code",
   "execution_count": null,
   "metadata": {},
   "outputs": [],
   "source": [
    "pos=nx.get_node_attributes(station_G,'pos')\n",
    "color = nx.get_node_attributes(station_G,'color').values()\n",
    "node_size = list(nx.get_node_attributes(station_G,'node_size').values())\n",
    "labels = {node:node for node in list(station_G.nodes)}\n",
    "nx.draw(station_G, pos = pos, node_size=node_size, width=.5, node_color=color, labels = labels, \n",
    "        font_color = \"white\", font_size = 10)"
   ]
  },
  {
   "cell_type": "code",
   "execution_count": null,
   "metadata": {},
   "outputs": [],
   "source": [
    "labels = {node:node[-2:] if \"in\" in node else node[-3:] for node in list(G.nodes)}\n",
    "pos, edge_colors = set_draw_attributes(G, station_G)\n",
    "edge_labels = nx.get_edge_attributes(G,'weight')\n",
    "nx.draw(G, pos = pos, labels = labels, edge_color = list(edge_colors.values()), \n",
    "        font_size = 8, font_color=\"white\", node_color=\"black\")\n",
    "nx.draw_networkx_edge_labels(G, pos, edge_labels=edge_labels)"
   ]
  },
  {
   "cell_type": "markdown",
   "metadata": {},
   "source": [
    "# Experiments for Debugging"
   ]
  },
  {
   "cell_type": "code",
   "execution_count": null,
   "metadata": {},
   "outputs": [],
   "source": [
    "stations_df = pd.read_csv(\"data/wcctci_stations-updated.csv\")\n",
    "distances_df = pd.read_csv(\"data/wcctci_distances.csv\")\n",
    "stations_df.columns\n",
    "stations_df[\"longitude\"] = stations_df[\"SnapX\"]\n",
    "stations_df[\"latitude\"] = stations_df[\"SnapY\"]"
   ]
  },
  {
   "cell_type": "code",
   "execution_count": null,
   "metadata": {},
   "outputs": [],
   "source": [
    "columns = ['time', 'station', 'district', 'route', 'direction_of_travel', \n",
    "           'lane_type', 'station_length', 'samples', 'percent_observed', \n",
    "           'total_flow', 'avg_occupancy', 'avg_speed', 'delay_35', 'delay_40', \n",
    "           'delay_45', 'delay_50', 'delay_55', 'delay_60']\n",
    "meta_csvs = {'3': 'd03_text_meta_2022_03_05.txt',\n",
    " '4':'d04_text_meta_2022_03_25.txt',\n",
    " '5':'d05_text_meta_2021_03_26.txt',\n",
    " '6':'d06_text_meta_2022_03_08.txt',\n",
    " '7':'d07_text_meta_2022_03_12.txt',\n",
    " '8':'d08_text_meta_2022_03_25.txt',\n",
    " '10':'d10_text_meta_2022_02_24.txt',\n",
    " '11':'d11_text_meta_2022_03_16.txt',\n",
    " '12':'d12_text_meta_2021_05_18.txt'}\n",
    "\n",
    "df = pd.DataFrame()\n",
    "\n",
    "for i in ['3', '4', '5', '6', '7', '8', '10', '11', '12']:\n",
    "    num = i\n",
    "    if int(i) < 10:\n",
    "        num = \"0\" + i\n",
    "    speed_df = speed_df = pd.read_csv(\"pems_ingest/station_data/d\"+num+\"_text_station_hour_2022_02.txt\", sep = ',', header = None)\n",
    "    speed_df = speed_df.iloc[: , :len(columns)]\n",
    "    speed_df = speed_df.rename(columns = {i:columns[i] for i in range(len(columns))})\n",
    "    speed_df[\"time\"] = pd.to_datetime(speed_df['time'])\n",
    "    speed_df[\"hour\"] = speed_df[\"time\"].dt.hour\n",
    "    meta_df = pd.read_csv(\"pems_ingest/station_data/\" + meta_csvs[i], sep = \"\\t\")\n",
    "    meta_df = meta_df[[\"ID\", \"Latitude\", \"Longitude\"]]\n",
    "    meta_df = meta_df.set_index(\"ID\")\n",
    "    speed_df = speed_df.join(meta_df, on = \"station\")\n",
    "    df = pd.concat([df, speed_df])\n",
    "df = df.dropna(axis=\"index\", how=\"any\", subset=[\"Latitude\", \"Longitude\"])"
   ]
  },
  {
   "cell_type": "code",
   "execution_count": null,
   "metadata": {},
   "outputs": [],
   "source": [
    "coord_distances_df = distances_df.join(stations_df.set_index(\"OID_\")[[\"longitude\", \"latitude\"]], on= \"OriginID\", rsuffix=\"_origin\")\n",
    "coord_distances_df = coord_distances_df.join(stations_df.set_index(\"OID_\")[[\"longitude\", \"latitude\"]], on= \"DestinationID\", rsuffix=\"_dst\")"
   ]
  },
  {
   "cell_type": "code",
   "execution_count": null,
   "metadata": {},
   "outputs": [],
   "source": [
    "def nearest_speed(x):\n",
    "    lon = x[\"longitude\"]\n",
    "    lat = x[\"latitude\"]\n",
    "    d_lon = x[\"longitude_dst\"]\n",
    "    d_lat = x[\"latitude_dst\"]\n",
    "    src_res = tree.query([(lat,lon)])\n",
    "    dst_res = tree.query([(d_lat,d_lon)])\n",
    "    src_speed = df_h.iloc[src_res[1][0]][\"avg_speed\"]\n",
    "    dst_speed = df_h.iloc[dst_res[1][0]][\"avg_speed\"]\n",
    "    return (src_speed+dst_speed)/2\n",
    "\n",
    "for h in tqdm(range(24)):\n",
    "    df_h = df[df[\"hour\"]==h]\n",
    "    df_h = df_h.groupby(by=['station']).mean()\n",
    "    df_h = df_h.dropna(axis=\"index\", how=\"any\", subset=[\"avg_speed\", \"Latitude\", \"Longitude\"])\n",
    "    coords = df_h[[\"Latitude\", \"Longitude\"]].to_numpy()\n",
    "    tree = spatial.KDTree(coords)\n",
    "    coord_distances_df[\"speed_\" + str(h)] = coord_distances_df.apply(nearest_speed, 1)"
   ]
  },
  {
   "cell_type": "code",
   "execution_count": null,
   "metadata": {},
   "outputs": [],
   "source": [
    "coord_distances_df.to_csv(\"wcctci_coord_distances.csv\")"
   ]
  },
  {
   "cell_type": "code",
   "execution_count": null,
   "metadata": {},
   "outputs": [],
   "source": []
  }
 ],
 "metadata": {
  "kernelspec": {
   "display_name": "Python 3 (ipykernel)",
   "language": "python",
   "name": "python3"
  },
  "language_info": {
   "codemirror_mode": {
    "name": "ipython",
    "version": 3
   },
   "file_extension": ".py",
   "mimetype": "text/x-python",
   "name": "python",
   "nbconvert_exporter": "python",
   "pygments_lexer": "ipython3",
   "version": "3.7.4"
  }
 },
 "nbformat": 4,
 "nbformat_minor": 4
}
